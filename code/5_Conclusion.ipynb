{
 "cells": [
  {
   "cell_type": "code",
   "execution_count": 1,
   "id": "94abe77c-c50c-4284-bc65-4ce3e7df9288",
   "metadata": {},
   "outputs": [],
   "source": [
    "import pandas as pd"
   ]
  },
  {
   "cell_type": "code",
   "execution_count": 133,
   "id": "79dc5554-5f43-4680-98d8-370d102011d1",
   "metadata": {},
   "outputs": [],
   "source": [
    "df_log = pd.read_csv('../data/scores_LogisticRegression.csv')\n",
    "df_xgboost = pd.read_csv('../data/scores_XGBoost.csv')\n",
    "df_nb = pd.read_csv('../data/scores_MulinomialNaiveBayes.csv')\n",
    "df_rf = pd.read_csv('../data/scores_RandomForest.csv')"
   ]
  },
  {
   "cell_type": "markdown",
   "id": "fbd3cd08-5413-4d42-8e73-1ae9a2928cd4",
   "metadata": {
    "tags": []
   },
   "source": [
    "### Model Evaluation\n",
    "When evaluating our models performance, we specified balanced accuracy and recall as the two target metrics. Balanced accuracy is used as a check to see if the model is performing well generally, while recall is the primary target metric. It is important that the model performs well in both classes (balanced accuracy) but we are more interested in ensuring that the model picks up on as many positive cases as possible (recall). The precision and f1_score are listed, but were not used for determing the best model."
   ]
  },
  {
   "cell_type": "code",
   "execution_count": 134,
   "id": "8f765a0b-327b-4f44-b5ab-9007a4ece27f",
   "metadata": {},
   "outputs": [],
   "source": [
    "# This function is to set and name the index of the dataframe\n",
    "def fix_index(df):\n",
    "    df.set_index('Unnamed: 0',inplace = True)\n",
    "    df.index = df.index.rename('Type of Model')"
   ]
  },
  {
   "cell_type": "markdown",
   "id": "7ea04304-0231-4569-8ce1-d26e89a2e77e",
   "metadata": {
    "tags": []
   },
   "source": [
    "### Naive Bayes Evaluation"
   ]
  },
  {
   "cell_type": "code",
   "execution_count": 135,
   "id": "aa1d6dda-e30a-4a6b-afed-667bfed6aa67",
   "metadata": {},
   "outputs": [
    {
     "data": {
      "text/html": [
       "<div>\n",
       "<style scoped>\n",
       "    .dataframe tbody tr th:only-of-type {\n",
       "        vertical-align: middle;\n",
       "    }\n",
       "\n",
       "    .dataframe tbody tr th {\n",
       "        vertical-align: top;\n",
       "    }\n",
       "\n",
       "    .dataframe thead th {\n",
       "        text-align: right;\n",
       "    }\n",
       "</style>\n",
       "<table border=\"1\" class=\"dataframe\">\n",
       "  <thead>\n",
       "    <tr style=\"text-align: right;\">\n",
       "      <th></th>\n",
       "      <th>balanced_accuracy</th>\n",
       "      <th>recall</th>\n",
       "      <th>precision</th>\n",
       "      <th>f1_score</th>\n",
       "    </tr>\n",
       "    <tr>\n",
       "      <th>Type of Model</th>\n",
       "      <th></th>\n",
       "      <th></th>\n",
       "      <th></th>\n",
       "      <th></th>\n",
       "    </tr>\n",
       "  </thead>\n",
       "  <tbody>\n",
       "    <tr>\n",
       "      <th>impute with median</th>\n",
       "      <td>0.557551</td>\n",
       "      <td>0.828635</td>\n",
       "      <td>0.094165</td>\n",
       "      <td>0.169112</td>\n",
       "    </tr>\n",
       "    <tr>\n",
       "      <th>gridsearch over params</th>\n",
       "      <td>0.562204</td>\n",
       "      <td>0.812309</td>\n",
       "      <td>0.095597</td>\n",
       "      <td>0.171063</td>\n",
       "    </tr>\n",
       "    <tr>\n",
       "      <th>impute with median and group missing into one category</th>\n",
       "      <td>0.556652</td>\n",
       "      <td>0.828635</td>\n",
       "      <td>0.093950</td>\n",
       "      <td>0.168766</td>\n",
       "    </tr>\n",
       "    <tr>\n",
       "      <th>MinMax Scaler</th>\n",
       "      <td>0.686953</td>\n",
       "      <td>0.483322</td>\n",
       "      <td>0.283363</td>\n",
       "      <td>0.357267</td>\n",
       "    </tr>\n",
       "    <tr>\n",
       "      <th>TruncatedSVD</th>\n",
       "      <td>0.500000</td>\n",
       "      <td>0.000000</td>\n",
       "      <td>0.000000</td>\n",
       "      <td>0.000000</td>\n",
       "    </tr>\n",
       "    <tr>\n",
       "      <th>RandomOverSampler</th>\n",
       "      <td>0.555571</td>\n",
       "      <td>0.830867</td>\n",
       "      <td>0.093658</td>\n",
       "      <td>0.168340</td>\n",
       "    </tr>\n",
       "    <tr>\n",
       "      <th>ROS with MinMaxScaler</th>\n",
       "      <td>0.747664</td>\n",
       "      <td>0.736669</td>\n",
       "      <td>0.214596</td>\n",
       "      <td>0.332371</td>\n",
       "    </tr>\n",
       "    <tr>\n",
       "      <th>ROS w/ Polynomial feature w/ MMS</th>\n",
       "      <td>0.747568</td>\n",
       "      <td>0.726216</td>\n",
       "      <td>0.219551</td>\n",
       "      <td>0.337169</td>\n",
       "    </tr>\n",
       "    <tr>\n",
       "      <th>SMOTE</th>\n",
       "      <td>0.554508</td>\n",
       "      <td>0.830162</td>\n",
       "      <td>0.093419</td>\n",
       "      <td>0.167940</td>\n",
       "    </tr>\n",
       "    <tr>\n",
       "      <th>SMOTE w/ MinMax</th>\n",
       "      <td>0.751111</td>\n",
       "      <td>0.754287</td>\n",
       "      <td>0.211271</td>\n",
       "      <td>0.330087</td>\n",
       "    </tr>\n",
       "    <tr>\n",
       "      <th>SMOTE w/ Polynomial feature w/ MMS</th>\n",
       "      <td>0.751081</td>\n",
       "      <td>0.748414</td>\n",
       "      <td>0.213869</td>\n",
       "      <td>0.332672</td>\n",
       "    </tr>\n",
       "    <tr>\n",
       "      <th>ADYSON</th>\n",
       "      <td>0.554003</td>\n",
       "      <td>0.831454</td>\n",
       "      <td>0.093281</td>\n",
       "      <td>0.167743</td>\n",
       "    </tr>\n",
       "  </tbody>\n",
       "</table>\n",
       "</div>"
      ],
      "text/plain": [
       "                                                    balanced_accuracy  \\\n",
       "Type of Model                                                           \n",
       "impute with median                                           0.557551   \n",
       "gridsearch over params                                       0.562204   \n",
       "impute with median and group missing into one c...           0.556652   \n",
       "MinMax Scaler                                                0.686953   \n",
       "TruncatedSVD                                                 0.500000   \n",
       "RandomOverSampler                                            0.555571   \n",
       "ROS with MinMaxScaler                                        0.747664   \n",
       "ROS w/ Polynomial feature w/ MMS                             0.747568   \n",
       "SMOTE                                                        0.554508   \n",
       "SMOTE w/ MinMax                                              0.751111   \n",
       "SMOTE w/ Polynomial feature w/ MMS                           0.751081   \n",
       "ADYSON                                                       0.554003   \n",
       "\n",
       "                                                      recall  precision  \\\n",
       "Type of Model                                                             \n",
       "impute with median                                  0.828635   0.094165   \n",
       "gridsearch over params                              0.812309   0.095597   \n",
       "impute with median and group missing into one c...  0.828635   0.093950   \n",
       "MinMax Scaler                                       0.483322   0.283363   \n",
       "TruncatedSVD                                        0.000000   0.000000   \n",
       "RandomOverSampler                                   0.830867   0.093658   \n",
       "ROS with MinMaxScaler                               0.736669   0.214596   \n",
       "ROS w/ Polynomial feature w/ MMS                    0.726216   0.219551   \n",
       "SMOTE                                               0.830162   0.093419   \n",
       "SMOTE w/ MinMax                                     0.754287   0.211271   \n",
       "SMOTE w/ Polynomial feature w/ MMS                  0.748414   0.213869   \n",
       "ADYSON                                              0.831454   0.093281   \n",
       "\n",
       "                                                    f1_score  \n",
       "Type of Model                                                 \n",
       "impute with median                                  0.169112  \n",
       "gridsearch over params                              0.171063  \n",
       "impute with median and group missing into one c...  0.168766  \n",
       "MinMax Scaler                                       0.357267  \n",
       "TruncatedSVD                                        0.000000  \n",
       "RandomOverSampler                                   0.168340  \n",
       "ROS with MinMaxScaler                               0.332371  \n",
       "ROS w/ Polynomial feature w/ MMS                    0.337169  \n",
       "SMOTE                                               0.167940  \n",
       "SMOTE w/ MinMax                                     0.330087  \n",
       "SMOTE w/ Polynomial feature w/ MMS                  0.332672  \n",
       "ADYSON                                              0.167743  "
      ]
     },
     "execution_count": 135,
     "metadata": {},
     "output_type": "execute_result"
    }
   ],
   "source": [
    "fix_index(df_nb)\n",
    "df_nb"
   ]
  },
  {
   "cell_type": "markdown",
   "id": "f67bffb4-f27b-4a50-a3ae-d78c9a6770b8",
   "metadata": {},
   "source": [
    "Varous Methods of Multinomial Bayes Classification were attempted. The SMOTE with MinMax method is the preferred model, as it performed the best on average of our two target metrics."
   ]
  },
  {
   "cell_type": "code",
   "execution_count": 136,
   "id": "ea7280f5-cb26-40ec-9f63-f140f5ee0a16",
   "metadata": {},
   "outputs": [],
   "source": [
    "#saving this to a dataframe of the best models\n",
    "df_best_models = df_nb.loc[['SMOTE w/ MinMax']]\n",
    "df_best_models = df_best_models.rename(index={'SMOTE w/ MinMax': 'Best NB Model'})\n"
   ]
  },
  {
   "cell_type": "markdown",
   "id": "08fb5fc0-40c6-4201-bdc9-2bf5c503493c",
   "metadata": {},
   "source": [
    "### Logistic Regression Evaluation"
   ]
  },
  {
   "cell_type": "code",
   "execution_count": 137,
   "id": "9986b1bd-076b-4156-8479-cbfbfe76c6de",
   "metadata": {},
   "outputs": [
    {
     "data": {
      "text/html": [
       "<div>\n",
       "<style scoped>\n",
       "    .dataframe tbody tr th:only-of-type {\n",
       "        vertical-align: middle;\n",
       "    }\n",
       "\n",
       "    .dataframe tbody tr th {\n",
       "        vertical-align: top;\n",
       "    }\n",
       "\n",
       "    .dataframe thead th {\n",
       "        text-align: right;\n",
       "    }\n",
       "</style>\n",
       "<table border=\"1\" class=\"dataframe\">\n",
       "  <thead>\n",
       "    <tr style=\"text-align: right;\">\n",
       "      <th></th>\n",
       "      <th>balanced_accuracy</th>\n",
       "      <th>recall</th>\n",
       "      <th>precision</th>\n",
       "      <th>f1_score</th>\n",
       "    </tr>\n",
       "    <tr>\n",
       "      <th>Type of Model</th>\n",
       "      <th></th>\n",
       "      <th></th>\n",
       "      <th></th>\n",
       "      <th></th>\n",
       "    </tr>\n",
       "  </thead>\n",
       "  <tbody>\n",
       "    <tr>\n",
       "      <th>lgr</th>\n",
       "      <td>0.559662</td>\n",
       "      <td>0.129669</td>\n",
       "      <td>0.528736</td>\n",
       "      <td>0.208263</td>\n",
       "    </tr>\n",
       "    <tr>\n",
       "      <th>lgr_oversample</th>\n",
       "      <td>0.671484</td>\n",
       "      <td>0.402044</td>\n",
       "      <td>0.378567</td>\n",
       "      <td>0.389952</td>\n",
       "    </tr>\n",
       "    <tr>\n",
       "      <th>lgr_oversample_bac</th>\n",
       "      <td>0.776381</td>\n",
       "      <td>0.747592</td>\n",
       "      <td>0.255664</td>\n",
       "      <td>0.381024</td>\n",
       "    </tr>\n",
       "    <tr>\n",
       "      <th>lgr_smote_bac</th>\n",
       "      <td>0.778651</td>\n",
       "      <td>0.797393</td>\n",
       "      <td>0.229165</td>\n",
       "      <td>0.356014</td>\n",
       "    </tr>\n",
       "    <tr>\n",
       "      <th>lgr_adasyn_bac</th>\n",
       "      <td>0.778694</td>\n",
       "      <td>0.813249</td>\n",
       "      <td>0.221497</td>\n",
       "      <td>0.348167</td>\n",
       "    </tr>\n",
       "    <tr>\n",
       "      <th>lgr_weight_bac</th>\n",
       "      <td>0.784727</td>\n",
       "      <td>0.811017</td>\n",
       "      <td>0.231083</td>\n",
       "      <td>0.359682</td>\n",
       "    </tr>\n",
       "    <tr>\n",
       "      <th>lgr_weight_tune_bac</th>\n",
       "      <td>0.784668</td>\n",
       "      <td>0.810900</td>\n",
       "      <td>0.231058</td>\n",
       "      <td>0.359640</td>\n",
       "    </tr>\n",
       "  </tbody>\n",
       "</table>\n",
       "</div>"
      ],
      "text/plain": [
       "                     balanced_accuracy    recall  precision  f1_score\n",
       "Type of Model                                                        \n",
       "lgr                           0.559662  0.129669   0.528736  0.208263\n",
       "lgr_oversample                0.671484  0.402044   0.378567  0.389952\n",
       "lgr_oversample_bac            0.776381  0.747592   0.255664  0.381024\n",
       "lgr_smote_bac                 0.778651  0.797393   0.229165  0.356014\n",
       "lgr_adasyn_bac                0.778694  0.813249   0.221497  0.348167\n",
       "lgr_weight_bac                0.784727  0.811017   0.231083  0.359682\n",
       "lgr_weight_tune_bac           0.784668  0.810900   0.231058  0.359640"
      ]
     },
     "execution_count": 137,
     "metadata": {},
     "output_type": "execute_result"
    }
   ],
   "source": [
    "fix_index(df_log)\n",
    "df_log"
   ]
  },
  {
   "cell_type": "markdown",
   "id": "6bf14999-66c7-4077-8ce6-7ebe030ad603",
   "metadata": {},
   "source": [
    "In terms of recall, the ADASYN method had the highest score.  However, the overweight method runs much more quickly and has a higher balanced accuracy. Since the difference in recall between the two models is marginal, the overweight method is the top choice of the various logisitic regression models."
   ]
  },
  {
   "cell_type": "code",
   "execution_count": 138,
   "id": "a6954ffd-9db2-4a48-b6e8-66125757526c",
   "metadata": {},
   "outputs": [
    {
     "data": {
      "text/html": [
       "<div>\n",
       "<style scoped>\n",
       "    .dataframe tbody tr th:only-of-type {\n",
       "        vertical-align: middle;\n",
       "    }\n",
       "\n",
       "    .dataframe tbody tr th {\n",
       "        vertical-align: top;\n",
       "    }\n",
       "\n",
       "    .dataframe thead th {\n",
       "        text-align: right;\n",
       "    }\n",
       "</style>\n",
       "<table border=\"1\" class=\"dataframe\">\n",
       "  <thead>\n",
       "    <tr style=\"text-align: right;\">\n",
       "      <th></th>\n",
       "      <th>balanced_accuracy</th>\n",
       "      <th>recall</th>\n",
       "      <th>precision</th>\n",
       "      <th>f1_score</th>\n",
       "    </tr>\n",
       "    <tr>\n",
       "      <th>Type of Model</th>\n",
       "      <th></th>\n",
       "      <th></th>\n",
       "      <th></th>\n",
       "      <th></th>\n",
       "    </tr>\n",
       "  </thead>\n",
       "  <tbody>\n",
       "    <tr>\n",
       "      <th>Best NB Model</th>\n",
       "      <td>0.751111</td>\n",
       "      <td>0.754287</td>\n",
       "      <td>0.211271</td>\n",
       "      <td>0.330087</td>\n",
       "    </tr>\n",
       "    <tr>\n",
       "      <th>Best Logistic Model</th>\n",
       "      <td>0.784727</td>\n",
       "      <td>0.811017</td>\n",
       "      <td>0.231083</td>\n",
       "      <td>0.359682</td>\n",
       "    </tr>\n",
       "  </tbody>\n",
       "</table>\n",
       "</div>"
      ],
      "text/plain": [
       "                     balanced_accuracy    recall  precision  f1_score\n",
       "Type of Model                                                        \n",
       "Best NB Model                 0.751111  0.754287   0.211271  0.330087\n",
       "Best Logistic Model           0.784727  0.811017   0.231083  0.359682"
      ]
     },
     "execution_count": 138,
     "metadata": {},
     "output_type": "execute_result"
    }
   ],
   "source": [
    "new_row = df_log.loc[['lgr_weight_bac']]\n",
    "df_best_models = pd.concat([df_best_models, new_row])\n",
    "df_best_models = df_best_models.rename({'lgr_weight_bac': 'Best Logistic Model'})\n",
    "df_best_models"
   ]
  },
  {
   "cell_type": "markdown",
   "id": "6d42b1b9-7559-463d-8caf-5b20e080f7df",
   "metadata": {},
   "source": [
    "The Logsitic Regression Model with overweighting performed better than the Naive Bayes model on both recall and balanced_accuracy"
   ]
  },
  {
   "cell_type": "markdown",
   "id": "ee7f231b-77a3-40d1-afca-78d7af166119",
   "metadata": {},
   "source": [
    "### XGBoost Evaluation"
   ]
  },
  {
   "cell_type": "code",
   "execution_count": 139,
   "id": "c868901b-0df2-4f39-8fcf-a582ec416cc6",
   "metadata": {},
   "outputs": [
    {
     "data": {
      "text/html": [
       "<div>\n",
       "<style scoped>\n",
       "    .dataframe tbody tr th:only-of-type {\n",
       "        vertical-align: middle;\n",
       "    }\n",
       "\n",
       "    .dataframe tbody tr th {\n",
       "        vertical-align: top;\n",
       "    }\n",
       "\n",
       "    .dataframe thead th {\n",
       "        text-align: right;\n",
       "    }\n",
       "</style>\n",
       "<table border=\"1\" class=\"dataframe\">\n",
       "  <thead>\n",
       "    <tr style=\"text-align: right;\">\n",
       "      <th></th>\n",
       "      <th>balanced_accuracy</th>\n",
       "      <th>recall</th>\n",
       "      <th>precision</th>\n",
       "      <th>f1_score</th>\n",
       "    </tr>\n",
       "    <tr>\n",
       "      <th>Type of Model</th>\n",
       "      <th></th>\n",
       "      <th></th>\n",
       "      <th></th>\n",
       "      <th></th>\n",
       "    </tr>\n",
       "  </thead>\n",
       "  <tbody>\n",
       "    <tr>\n",
       "      <th>xgboost</th>\n",
       "      <td>0.786722</td>\n",
       "      <td>0.819591</td>\n",
       "      <td>0.229615</td>\n",
       "      <td>0.358729</td>\n",
       "    </tr>\n",
       "  </tbody>\n",
       "</table>\n",
       "</div>"
      ],
      "text/plain": [
       "               balanced_accuracy    recall  precision  f1_score\n",
       "Type of Model                                                  \n",
       "xgboost                 0.786722  0.819591   0.229615  0.358729"
      ]
     },
     "execution_count": 139,
     "metadata": {},
     "output_type": "execute_result"
    }
   ],
   "source": [
    "fix_index(df_xgboost)\n",
    "df_xgboost"
   ]
  },
  {
   "cell_type": "markdown",
   "id": "a56f0f1a-cde9-4ea6-819b-75fbb6c9df36",
   "metadata": {},
   "source": [
    "The XGBoost model had a higher balanced accuracy and recall than any of the logistic regression models."
   ]
  },
  {
   "cell_type": "code",
   "execution_count": 140,
   "id": "f239351b-39e5-4bf1-a033-469f017ab2d1",
   "metadata": {},
   "outputs": [
    {
     "data": {
      "text/html": [
       "<div>\n",
       "<style scoped>\n",
       "    .dataframe tbody tr th:only-of-type {\n",
       "        vertical-align: middle;\n",
       "    }\n",
       "\n",
       "    .dataframe tbody tr th {\n",
       "        vertical-align: top;\n",
       "    }\n",
       "\n",
       "    .dataframe thead th {\n",
       "        text-align: right;\n",
       "    }\n",
       "</style>\n",
       "<table border=\"1\" class=\"dataframe\">\n",
       "  <thead>\n",
       "    <tr style=\"text-align: right;\">\n",
       "      <th></th>\n",
       "      <th>balanced_accuracy</th>\n",
       "      <th>recall</th>\n",
       "      <th>precision</th>\n",
       "      <th>f1_score</th>\n",
       "    </tr>\n",
       "    <tr>\n",
       "      <th>Type of Model</th>\n",
       "      <th></th>\n",
       "      <th></th>\n",
       "      <th></th>\n",
       "      <th></th>\n",
       "    </tr>\n",
       "  </thead>\n",
       "  <tbody>\n",
       "    <tr>\n",
       "      <th>Best NB Model</th>\n",
       "      <td>0.751111</td>\n",
       "      <td>0.754287</td>\n",
       "      <td>0.211271</td>\n",
       "      <td>0.330087</td>\n",
       "    </tr>\n",
       "    <tr>\n",
       "      <th>Best Logistic Model</th>\n",
       "      <td>0.784727</td>\n",
       "      <td>0.811017</td>\n",
       "      <td>0.231083</td>\n",
       "      <td>0.359682</td>\n",
       "    </tr>\n",
       "    <tr>\n",
       "      <th>XGBoost Model</th>\n",
       "      <td>0.786722</td>\n",
       "      <td>0.819591</td>\n",
       "      <td>0.229615</td>\n",
       "      <td>0.358729</td>\n",
       "    </tr>\n",
       "  </tbody>\n",
       "</table>\n",
       "</div>"
      ],
      "text/plain": [
       "                     balanced_accuracy    recall  precision  f1_score\n",
       "Type of Model                                                        \n",
       "Best NB Model                 0.751111  0.754287   0.211271  0.330087\n",
       "Best Logistic Model           0.784727  0.811017   0.231083  0.359682\n",
       "XGBoost Model                 0.786722  0.819591   0.229615  0.358729"
      ]
     },
     "execution_count": 140,
     "metadata": {},
     "output_type": "execute_result"
    }
   ],
   "source": [
    "df_best_models = pd.concat([df_best_models, df_xgboost])\n",
    "df_best_models = df_best_models.rename({'xgboost': 'XGBoost Model'})\n",
    "df_best_models"
   ]
  },
  {
   "cell_type": "markdown",
   "id": "8205fda8-215a-4e77-82bf-39652166f267",
   "metadata": {},
   "source": [
    "The XGBoost model outperformed the logstic regression model on both recall and balanced accuracy"
   ]
  },
  {
   "cell_type": "markdown",
   "id": "6a968197-aa5f-4806-951d-4656ba94444e",
   "metadata": {},
   "source": [
    "### Random Forest Evaluation"
   ]
  },
  {
   "cell_type": "code",
   "execution_count": 141,
   "id": "8b99fd98-17c0-40f0-bdf3-24502a06b6db",
   "metadata": {},
   "outputs": [
    {
     "data": {
      "text/html": [
       "<div>\n",
       "<style scoped>\n",
       "    .dataframe tbody tr th:only-of-type {\n",
       "        vertical-align: middle;\n",
       "    }\n",
       "\n",
       "    .dataframe tbody tr th {\n",
       "        vertical-align: top;\n",
       "    }\n",
       "\n",
       "    .dataframe thead th {\n",
       "        text-align: right;\n",
       "    }\n",
       "</style>\n",
       "<table border=\"1\" class=\"dataframe\">\n",
       "  <thead>\n",
       "    <tr style=\"text-align: right;\">\n",
       "      <th></th>\n",
       "      <th>balanced_accuracy</th>\n",
       "      <th>recall</th>\n",
       "      <th>precision</th>\n",
       "      <th>f1_score</th>\n",
       "    </tr>\n",
       "    <tr>\n",
       "      <th>Type of Model</th>\n",
       "      <th></th>\n",
       "      <th></th>\n",
       "      <th></th>\n",
       "      <th></th>\n",
       "    </tr>\n",
       "  </thead>\n",
       "  <tbody>\n",
       "    <tr>\n",
       "      <th>imbalanced data</th>\n",
       "      <td>0.500526</td>\n",
       "      <td>0.001062</td>\n",
       "      <td>0.900000</td>\n",
       "      <td>0.002122</td>\n",
       "    </tr>\n",
       "    <tr>\n",
       "      <th>oversampling</th>\n",
       "      <td>0.772020</td>\n",
       "      <td>0.826056</td>\n",
       "      <td>0.206886</td>\n",
       "      <td>0.330899</td>\n",
       "    </tr>\n",
       "    <tr>\n",
       "      <th>SMOTE</th>\n",
       "      <td>0.701753</td>\n",
       "      <td>0.517111</td>\n",
       "      <td>0.288441</td>\n",
       "      <td>0.370320</td>\n",
       "    </tr>\n",
       "    <tr>\n",
       "      <th>ADASYN</th>\n",
       "      <td>0.705567</td>\n",
       "      <td>0.525844</td>\n",
       "      <td>0.289897</td>\n",
       "      <td>0.373747</td>\n",
       "    </tr>\n",
       "    <tr>\n",
       "      <th>Hypertuned Oversampling</th>\n",
       "      <td>0.776585</td>\n",
       "      <td>0.767170</td>\n",
       "      <td>0.241997</td>\n",
       "      <td>0.367933</td>\n",
       "    </tr>\n",
       "  </tbody>\n",
       "</table>\n",
       "</div>"
      ],
      "text/plain": [
       "                         balanced_accuracy    recall  precision  f1_score\n",
       "Type of Model                                                            \n",
       "imbalanced data                   0.500526  0.001062   0.900000  0.002122\n",
       "oversampling                      0.772020  0.826056   0.206886  0.330899\n",
       "SMOTE                             0.701753  0.517111   0.288441  0.370320\n",
       "ADASYN                            0.705567  0.525844   0.289897  0.373747\n",
       "Hypertuned Oversampling           0.776585  0.767170   0.241997  0.367933"
      ]
     },
     "execution_count": 141,
     "metadata": {},
     "output_type": "execute_result"
    }
   ],
   "source": [
    "fix_index(df_rf)\n",
    "df_rf"
   ]
  },
  {
   "cell_type": "markdown",
   "id": "6997ee85-329a-4bf3-bdae-7d2c054dd10e",
   "metadata": {},
   "source": [
    "The Oversampling method yielded the best results, with a high balanced accuracy and the highest recall of any of the previous models."
   ]
  },
  {
   "cell_type": "code",
   "execution_count": 142,
   "id": "fff41ec2-eeeb-4a1d-b67e-ec26668115a8",
   "metadata": {},
   "outputs": [
    {
     "data": {
      "text/html": [
       "<div>\n",
       "<style scoped>\n",
       "    .dataframe tbody tr th:only-of-type {\n",
       "        vertical-align: middle;\n",
       "    }\n",
       "\n",
       "    .dataframe tbody tr th {\n",
       "        vertical-align: top;\n",
       "    }\n",
       "\n",
       "    .dataframe thead th {\n",
       "        text-align: right;\n",
       "    }\n",
       "</style>\n",
       "<table border=\"1\" class=\"dataframe\">\n",
       "  <thead>\n",
       "    <tr style=\"text-align: right;\">\n",
       "      <th></th>\n",
       "      <th>balanced_accuracy</th>\n",
       "      <th>recall</th>\n",
       "      <th>precision</th>\n",
       "      <th>f1_score</th>\n",
       "    </tr>\n",
       "    <tr>\n",
       "      <th>Type of Model</th>\n",
       "      <th></th>\n",
       "      <th></th>\n",
       "      <th></th>\n",
       "      <th></th>\n",
       "    </tr>\n",
       "  </thead>\n",
       "  <tbody>\n",
       "    <tr>\n",
       "      <th>Best NB Model</th>\n",
       "      <td>0.751111</td>\n",
       "      <td>0.754287</td>\n",
       "      <td>0.211271</td>\n",
       "      <td>0.330087</td>\n",
       "    </tr>\n",
       "    <tr>\n",
       "      <th>Best Logistic Model</th>\n",
       "      <td>0.784727</td>\n",
       "      <td>0.811017</td>\n",
       "      <td>0.231083</td>\n",
       "      <td>0.359682</td>\n",
       "    </tr>\n",
       "    <tr>\n",
       "      <th>XGBoost Model</th>\n",
       "      <td>0.786722</td>\n",
       "      <td>0.819591</td>\n",
       "      <td>0.229615</td>\n",
       "      <td>0.358729</td>\n",
       "    </tr>\n",
       "    <tr>\n",
       "      <th>Best Random Forest Model</th>\n",
       "      <td>0.772020</td>\n",
       "      <td>0.826056</td>\n",
       "      <td>0.206886</td>\n",
       "      <td>0.330899</td>\n",
       "    </tr>\n",
       "  </tbody>\n",
       "</table>\n",
       "</div>"
      ],
      "text/plain": [
       "                          balanced_accuracy    recall  precision  f1_score\n",
       "Type of Model                                                             \n",
       "Best NB Model                      0.751111  0.754287   0.211271  0.330087\n",
       "Best Logistic Model                0.784727  0.811017   0.231083  0.359682\n",
       "XGBoost Model                      0.786722  0.819591   0.229615  0.358729\n",
       "Best Random Forest Model           0.772020  0.826056   0.206886  0.330899"
      ]
     },
     "execution_count": 142,
     "metadata": {},
     "output_type": "execute_result"
    }
   ],
   "source": [
    "new_row2= df_rf.loc[['oversampling']]\n",
    "df_best_models = pd.concat([df_best_models, new_row2])\n",
    "df_best_models = df_best_models.rename({'oversampling': 'Best Random Forest Model'})\n",
    "df_best_models"
   ]
  },
  {
   "cell_type": "markdown",
   "id": "d1efca09-6e11-415c-85c1-0ce4b298bdf3",
   "metadata": {},
   "source": [
    "We believe that the best model overall is the Random Forest Model with oversampling. Although it has a lower balanced accuracy, it has a higher recall score. This means that this model had the lowest number of false negatives. We chose this model as it had the highest true positive rate (recall) and only a marginally worse balanced accuracy."
   ]
  },
  {
   "cell_type": "markdown",
   "id": "64c212ca-f459-4582-bce0-1b1bf33afe4a",
   "metadata": {},
   "source": [
    "### Conclusion and Recommendations"
   ]
  },
  {
   "cell_type": "markdown",
   "id": "2a2749bf-03f2-4171-8dff-efa1cdde57b9",
   "metadata": {},
   "source": [
    "The Random Forest Model developed can be used by healthcare professionals to identify individuals at risk of having heart disease. This model had the highest recall score and a balanced accuracy that was only slightly lower than other models produced.\n",
    "We recommend using this model as an initial screening to determine patients that possibly have heart disease.\n",
    "\n",
    "\n",
    "Currently, the model predicts that an individual will have heart disease if the 'probability' is greater than 50%. The model can be tweaked to instead produce a probability that an individual has heart disease. This may be useful to healthcare professionals. An example of this can be seen in the random forest model notebook."
   ]
  },
  {
   "cell_type": "code",
   "execution_count": null,
   "id": "b5a31de4-846c-4674-999b-89658ae1e587",
   "metadata": {},
   "outputs": [],
   "source": []
  }
 ],
 "metadata": {
  "kernelspec": {
   "display_name": "Python 3 (ipykernel)",
   "language": "python",
   "name": "python3"
  },
  "language_info": {
   "codemirror_mode": {
    "name": "ipython",
    "version": 3
   },
   "file_extension": ".py",
   "mimetype": "text/x-python",
   "name": "python",
   "nbconvert_exporter": "python",
   "pygments_lexer": "ipython3",
   "version": "3.9.13"
  }
 },
 "nbformat": 4,
 "nbformat_minor": 5
}
