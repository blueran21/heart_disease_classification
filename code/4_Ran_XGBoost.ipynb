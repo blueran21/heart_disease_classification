{
 "cells": [
  {
   "cell_type": "markdown",
   "id": "96307257-7e56-4af3-b6df-9cda4fad2480",
   "metadata": {},
   "source": [
    "# XGBoost Model Building"
   ]
  },
  {
   "cell_type": "code",
   "execution_count": 1,
   "id": "ad22e633-b2f2-405a-8b13-76ec562482d1",
   "metadata": {},
   "outputs": [],
   "source": [
    "import pandas as pd\n",
    "import numpy as np\n",
    "import matplotlib.pyplot as plt\n",
    "import seaborn as sns\n",
    "\n",
    "import xgboost as xgb\n",
    "\n",
    "from sklearn.model_selection import train_test_split, GridSearchCV\n",
    "from sklearn.preprocessing import StandardScaler, OneHotEncoder\n",
    "from sklearn.pipeline import Pipeline\n",
    "from sklearn.compose import ColumnTransformer\n",
    "from sklearn.impute import SimpleImputer\n",
    "\n",
    "\n",
    "from sklearn.metrics import (confusion_matrix, ConfusionMatrixDisplay, make_scorer,\n",
    "    accuracy_score, roc_auc_score, recall_score, balanced_accuracy_score,\n",
    "    precision_score, f1_score, RocCurveDisplay)\n",
    "\n",
    "from imblearn.pipeline import Pipeline as ImbPipeline\n",
    "from imblearn.over_sampling import RandomOverSampler\n",
    "from imblearn.over_sampling import SMOTE\n",
    "from imblearn.over_sampling import ADASYN"
   ]
  },
  {
   "cell_type": "code",
   "execution_count": 2,
   "id": "469c62ad-ca8d-4a79-a0bf-e4d37eff19a5",
   "metadata": {},
   "outputs": [],
   "source": [
    "df = pd.read_csv('../data/cleaning_data_phase2.csv.zip')"
   ]
  },
  {
   "cell_type": "markdown",
   "id": "bc90c20e-0c64-4093-90ad-0bd1138e4e10",
   "metadata": {},
   "source": [
    "### Map target variable"
   ]
  },
  {
   "cell_type": "code",
   "execution_count": 3,
   "id": "93033471-9d17-4907-a779-fced9ade4ad0",
   "metadata": {},
   "outputs": [],
   "source": [
    "df['_michd'] = df['_michd'].apply(lambda x: 1 if x == 'Yes' else 0)"
   ]
  },
  {
   "cell_type": "code",
   "execution_count": 4,
   "id": "0f00e242-a94c-4dac-bfb7-ad89b3d8115f",
   "metadata": {},
   "outputs": [
    {
     "data": {
      "text/plain": [
       "0    380455\n",
       "1     34056\n",
       "Name: _michd, dtype: int64"
      ]
     },
     "execution_count": 4,
     "metadata": {},
     "output_type": "execute_result"
    }
   ],
   "source": [
    "df['_michd'].value_counts()"
   ]
  },
  {
   "cell_type": "markdown",
   "id": "a9600e3d-1afd-4f9a-bab6-af4615d29469",
   "metadata": {},
   "source": [
    "### Create X and y"
   ]
  },
  {
   "cell_type": "code",
   "execution_count": 5,
   "id": "9e50ddb3-70f9-4d16-ab98-ce90ffa727f3",
   "metadata": {},
   "outputs": [],
   "source": [
    "X = df.drop(columns = ['_michd', '_state'])\n",
    "y = df['_michd']"
   ]
  },
  {
   "cell_type": "markdown",
   "id": "f1eb6cda-55b0-4eb1-a98b-ae46436d39a7",
   "metadata": {},
   "source": [
    "### Split training and testing dataset"
   ]
  },
  {
   "cell_type": "code",
   "execution_count": 6,
   "id": "170d261d-cff5-4be5-b427-b483071948b9",
   "metadata": {},
   "outputs": [],
   "source": [
    "X_train, X_test, y_train, y_test = train_test_split(X, y, stratify=y, random_state = 42)"
   ]
  },
  {
   "cell_type": "markdown",
   "id": "81bcb153-79cb-443b-a9c7-1307fb17b96d",
   "metadata": {},
   "source": [
    "### Preprocess numerical and categorical variables seperately"
   ]
  },
  {
   "cell_type": "code",
   "execution_count": 7,
   "id": "c97dbbf6-b77e-4306-818d-ef3047457a11",
   "metadata": {},
   "outputs": [],
   "source": [
    "df_num = X.select_dtypes(include=['float', 'int'])\n",
    "df_cat = X.select_dtypes(include = ['O'])"
   ]
  },
  {
   "cell_type": "code",
   "execution_count": 8,
   "id": "3cc62a07-aa3c-4ff9-8134-7858e9059262",
   "metadata": {},
   "outputs": [],
   "source": [
    "num_transform = 'passthrough'\n",
    "\n",
    "cat_transform = Pipeline(steps = [\n",
    "    ('onehot', OneHotEncoder(handle_unknown = 'ignore'))\n",
    "    # ('scaler', StandardScaler(with_mean = False, with_std = False))\n",
    "])\n",
    "\n",
    "preprocessor = ColumnTransformer(transformers = [\n",
    "    ('num', num_transform, df_num.columns),\n",
    "    ('cat', cat_transform, df_cat.columns)\n",
    "])"
   ]
  },
  {
   "cell_type": "code",
   "execution_count": 9,
   "id": "e53057c5-4772-4e25-b54c-1a4e6f92586c",
   "metadata": {},
   "outputs": [],
   "source": [
    "pipe = Pipeline(steps = [\n",
    "    ('preprocessor', preprocessor),\n",
    "    # ('sampling', SMOTE(random_state = 42)),\n",
    "    ('model', xgb.XGBClassifier(random_state = 42, scale_pos_weight = float(np.sum(y_train == 0)) / np.sum(y_train == 1)))\n",
    "])"
   ]
  },
  {
   "cell_type": "code",
   "execution_count": 10,
   "id": "b122ee48-1b2f-4f3e-893b-969dd09b0a35",
   "metadata": {
    "scrolled": true,
    "tags": []
   },
   "outputs": [
    {
     "data": {
      "text/plain": [
       "{'memory': None,\n",
       " 'steps': [('preprocessor',\n",
       "   ColumnTransformer(transformers=[('num', 'passthrough',\n",
       "                                    Index(['physhlth', 'menthlth', 'children', 'htm4', 'wtkg3', '_bmi5',\n",
       "          '_drnkwk1', '_age80', 'ftjuda2_', 'frutda2_', 'grenda1_', 'frnchda_',\n",
       "          'potada1_', 'vegeda2_'],\n",
       "         dtype='object')),\n",
       "                                   ('cat',\n",
       "                                    Pipeline(steps=[('onehot',\n",
       "                                                     OneHotEncoder(handle_unknown='ignore'))]),\n",
       "                                    Index(['_sex', 'genhlth', 'addepev3', 'checkup1', '_totinda', '_rfhype6',\n",
       "          'cholmed3', '_rfchol3', 'cvdstrk3', '_asthms1', 'chcscncr', 'chcocncr',\n",
       "          'chccopd3', 'chckdny2', 'diabete4', '_drdxar3', 'marital', '_incomg1',\n",
       "          'employ1', 'decide', 'diffwalk', 'diffdres', '_smoker3', 'usenow3',\n",
       "          'ecignow1', '_metstat', '_imprace', '_educag'],\n",
       "         dtype='object'))])),\n",
       "  ('model',\n",
       "   XGBClassifier(base_score=None, booster=None, callbacks=None,\n",
       "                 colsample_bylevel=None, colsample_bynode=None,\n",
       "                 colsample_bytree=None, early_stopping_rounds=None,\n",
       "                 enable_categorical=False, eval_metric=None, feature_types=None,\n",
       "                 gamma=None, gpu_id=None, grow_policy=None, importance_type=None,\n",
       "                 interaction_constraints=None, learning_rate=None, max_bin=None,\n",
       "                 max_cat_threshold=None, max_cat_to_onehot=None,\n",
       "                 max_delta_step=None, max_depth=None, max_leaves=None,\n",
       "                 min_child_weight=None, missing=nan, monotone_constraints=None,\n",
       "                 n_estimators=100, n_jobs=None, num_parallel_tree=None,\n",
       "                 predictor=None, random_state=42, ...))],\n",
       " 'verbose': False,\n",
       " 'preprocessor': ColumnTransformer(transformers=[('num', 'passthrough',\n",
       "                                  Index(['physhlth', 'menthlth', 'children', 'htm4', 'wtkg3', '_bmi5',\n",
       "        '_drnkwk1', '_age80', 'ftjuda2_', 'frutda2_', 'grenda1_', 'frnchda_',\n",
       "        'potada1_', 'vegeda2_'],\n",
       "       dtype='object')),\n",
       "                                 ('cat',\n",
       "                                  Pipeline(steps=[('onehot',\n",
       "                                                   OneHotEncoder(handle_unknown='ignore'))]),\n",
       "                                  Index(['_sex', 'genhlth', 'addepev3', 'checkup1', '_totinda', '_rfhype6',\n",
       "        'cholmed3', '_rfchol3', 'cvdstrk3', '_asthms1', 'chcscncr', 'chcocncr',\n",
       "        'chccopd3', 'chckdny2', 'diabete4', '_drdxar3', 'marital', '_incomg1',\n",
       "        'employ1', 'decide', 'diffwalk', 'diffdres', '_smoker3', 'usenow3',\n",
       "        'ecignow1', '_metstat', '_imprace', '_educag'],\n",
       "       dtype='object'))]),\n",
       " 'model': XGBClassifier(base_score=None, booster=None, callbacks=None,\n",
       "               colsample_bylevel=None, colsample_bynode=None,\n",
       "               colsample_bytree=None, early_stopping_rounds=None,\n",
       "               enable_categorical=False, eval_metric=None, feature_types=None,\n",
       "               gamma=None, gpu_id=None, grow_policy=None, importance_type=None,\n",
       "               interaction_constraints=None, learning_rate=None, max_bin=None,\n",
       "               max_cat_threshold=None, max_cat_to_onehot=None,\n",
       "               max_delta_step=None, max_depth=None, max_leaves=None,\n",
       "               min_child_weight=None, missing=nan, monotone_constraints=None,\n",
       "               n_estimators=100, n_jobs=None, num_parallel_tree=None,\n",
       "               predictor=None, random_state=42, ...),\n",
       " 'preprocessor__n_jobs': None,\n",
       " 'preprocessor__remainder': 'drop',\n",
       " 'preprocessor__sparse_threshold': 0.3,\n",
       " 'preprocessor__transformer_weights': None,\n",
       " 'preprocessor__transformers': [('num',\n",
       "   'passthrough',\n",
       "   Index(['physhlth', 'menthlth', 'children', 'htm4', 'wtkg3', '_bmi5',\n",
       "          '_drnkwk1', '_age80', 'ftjuda2_', 'frutda2_', 'grenda1_', 'frnchda_',\n",
       "          'potada1_', 'vegeda2_'],\n",
       "         dtype='object')),\n",
       "  ('cat',\n",
       "   Pipeline(steps=[('onehot', OneHotEncoder(handle_unknown='ignore'))]),\n",
       "   Index(['_sex', 'genhlth', 'addepev3', 'checkup1', '_totinda', '_rfhype6',\n",
       "          'cholmed3', '_rfchol3', 'cvdstrk3', '_asthms1', 'chcscncr', 'chcocncr',\n",
       "          'chccopd3', 'chckdny2', 'diabete4', '_drdxar3', 'marital', '_incomg1',\n",
       "          'employ1', 'decide', 'diffwalk', 'diffdres', '_smoker3', 'usenow3',\n",
       "          'ecignow1', '_metstat', '_imprace', '_educag'],\n",
       "         dtype='object'))],\n",
       " 'preprocessor__verbose': False,\n",
       " 'preprocessor__verbose_feature_names_out': True,\n",
       " 'preprocessor__num': 'passthrough',\n",
       " 'preprocessor__cat': Pipeline(steps=[('onehot', OneHotEncoder(handle_unknown='ignore'))]),\n",
       " 'preprocessor__cat__memory': None,\n",
       " 'preprocessor__cat__steps': [('onehot',\n",
       "   OneHotEncoder(handle_unknown='ignore'))],\n",
       " 'preprocessor__cat__verbose': False,\n",
       " 'preprocessor__cat__onehot': OneHotEncoder(handle_unknown='ignore'),\n",
       " 'preprocessor__cat__onehot__categories': 'auto',\n",
       " 'preprocessor__cat__onehot__drop': None,\n",
       " 'preprocessor__cat__onehot__dtype': numpy.float64,\n",
       " 'preprocessor__cat__onehot__handle_unknown': 'ignore',\n",
       " 'preprocessor__cat__onehot__sparse': True,\n",
       " 'model__objective': 'binary:logistic',\n",
       " 'model__use_label_encoder': None,\n",
       " 'model__base_score': None,\n",
       " 'model__booster': None,\n",
       " 'model__callbacks': None,\n",
       " 'model__colsample_bylevel': None,\n",
       " 'model__colsample_bynode': None,\n",
       " 'model__colsample_bytree': None,\n",
       " 'model__early_stopping_rounds': None,\n",
       " 'model__enable_categorical': False,\n",
       " 'model__eval_metric': None,\n",
       " 'model__feature_types': None,\n",
       " 'model__gamma': None,\n",
       " 'model__gpu_id': None,\n",
       " 'model__grow_policy': None,\n",
       " 'model__importance_type': None,\n",
       " 'model__interaction_constraints': None,\n",
       " 'model__learning_rate': None,\n",
       " 'model__max_bin': None,\n",
       " 'model__max_cat_threshold': None,\n",
       " 'model__max_cat_to_onehot': None,\n",
       " 'model__max_delta_step': None,\n",
       " 'model__max_depth': None,\n",
       " 'model__max_leaves': None,\n",
       " 'model__min_child_weight': None,\n",
       " 'model__missing': nan,\n",
       " 'model__monotone_constraints': None,\n",
       " 'model__n_estimators': 100,\n",
       " 'model__n_jobs': None,\n",
       " 'model__num_parallel_tree': None,\n",
       " 'model__predictor': None,\n",
       " 'model__random_state': 42,\n",
       " 'model__reg_alpha': None,\n",
       " 'model__reg_lambda': None,\n",
       " 'model__sampling_method': None,\n",
       " 'model__scale_pos_weight': 11.171443113303578,\n",
       " 'model__subsample': None,\n",
       " 'model__tree_method': None,\n",
       " 'model__validate_parameters': None,\n",
       " 'model__verbosity': None}"
      ]
     },
     "execution_count": 10,
     "metadata": {},
     "output_type": "execute_result"
    }
   ],
   "source": [
    "pipe.get_params()"
   ]
  },
  {
   "cell_type": "code",
   "execution_count": 11,
   "id": "4a1c4f85-edbb-4ddb-9d5e-4ac452073eca",
   "metadata": {},
   "outputs": [],
   "source": [
    "params = {\n",
    "    'model__learning_rate': [0.01, 0.1, 0.2]\n",
    "}"
   ]
  },
  {
   "cell_type": "code",
   "execution_count": 12,
   "id": "59a0a11c-af2a-4860-9209-14ac7aad3113",
   "metadata": {},
   "outputs": [
    {
     "data": {
      "text/plain": [
       "GridSearchCV(cv=3,\n",
       "             estimator=Pipeline(steps=[('preprocessor',\n",
       "                                        ColumnTransformer(transformers=[('num',\n",
       "                                                                         'passthrough',\n",
       "                                                                         Index(['physhlth', 'menthlth', 'children', 'htm4', 'wtkg3', '_bmi5',\n",
       "       '_drnkwk1', '_age80', 'ftjuda2_', 'frutda2_', 'grenda1_', 'frnchda_',\n",
       "       'potada1_', 'vegeda2_'],\n",
       "      dtype='object')),\n",
       "                                                                        ('cat',\n",
       "                                                                         Pipeline(steps=[('onehot',\n",
       "                                                                                          OneHotEncoder(handle_unknown='ignore'...\n",
       "                                                      learning_rate=None,\n",
       "                                                      max_bin=None,\n",
       "                                                      max_cat_threshold=None,\n",
       "                                                      max_cat_to_onehot=None,\n",
       "                                                      max_delta_step=None,\n",
       "                                                      max_depth=None,\n",
       "                                                      max_leaves=None,\n",
       "                                                      min_child_weight=None,\n",
       "                                                      missing=nan,\n",
       "                                                      monotone_constraints=None,\n",
       "                                                      n_estimators=100,\n",
       "                                                      n_jobs=None,\n",
       "                                                      num_parallel_tree=None,\n",
       "                                                      predictor=None,\n",
       "                                                      random_state=42, ...))]),\n",
       "             param_grid={'model__learning_rate': [0.01, 0.1, 0.2]},\n",
       "             scoring='balanced_accuracy')"
      ]
     },
     "execution_count": 12,
     "metadata": {},
     "output_type": "execute_result"
    }
   ],
   "source": [
    "gs = GridSearchCV(pipe, param_grid=params, cv = 3, scoring='balanced_accuracy')\n",
    "gs.fit(X_train, y_train)"
   ]
  },
  {
   "cell_type": "code",
   "execution_count": 13,
   "id": "cee09d58-c0fd-4d69-8111-942b9266d4fc",
   "metadata": {},
   "outputs": [],
   "source": [
    "y_pred = gs.predict(X_test)"
   ]
  },
  {
   "cell_type": "code",
   "execution_count": 14,
   "id": "6d466ae9-9e35-4597-9d73-3f080f5623ee",
   "metadata": {},
   "outputs": [
    {
     "data": {
      "text/plain": [
       "(0.8063444929364149, 0.7867222661317972)"
      ]
     },
     "execution_count": 14,
     "metadata": {},
     "output_type": "execute_result"
    }
   ],
   "source": [
    "gs.score(X_train, y_train), gs.score(X_test, y_test)"
   ]
  },
  {
   "cell_type": "code",
   "execution_count": 15,
   "id": "408b2671-65e4-46df-a8a6-7732f3026058",
   "metadata": {},
   "outputs": [
    {
     "data": {
      "image/png": "[encoded data removed]",
      "text/plain": [
       "<Figure size 640x480 with 2 Axes>"
      ]
     },
     "metadata": {},
     "output_type": "display_data"
    }
   ],
   "source": [
    "ConfusionMatrixDisplay.from_estimator(gs, X_test, y_test);"
   ]
  },
  {
   "cell_type": "code",
   "execution_count": 16,
   "id": "e25bb9d5-0c89-4446-a889-67a2423fe105",
   "metadata": {},
   "outputs": [],
   "source": [
    "def evaluation(X_test, y_test, preds, model):\n",
    "    ConfusionMatrixDisplay.from_estimator(model, X_test, y_test, cmap='Blues')\n",
    "    \n",
    "    b_acc = balanced_accuracy_score(y_test, preds)\n",
    "    recall = recall_score(y_test, preds, pos_label = 1)\n",
    "    prec = precision_score(y_test, preds, pos_label = 1)\n",
    "    f1 = f1_score(y_test, preds, pos_label = 1)\n",
    "\n",
    "    print(f'balanced_accuracy: {b_acc}')\n",
    "    print(f'recall: {recall}')\n",
    "    print(f'precision: {prec}')\n",
    "    print(f'f1 score: {f1}')\n",
    "\n",
    "    return {\n",
    "        'balanced_accuracy': b_acc,\n",
    "        'recall': recall,\n",
    "        'precision': prec,\n",
    "        'f1_score': f1\n",
    "    }"
   ]
  },
  {
   "cell_type": "code",
   "execution_count": 17,
   "id": "b5fda335-1a93-4b08-b9a8-948f85e3c007",
   "metadata": {},
   "outputs": [],
   "source": [
    "scores = []"
   ]
  },
  {
   "cell_type": "code",
   "execution_count": 18,
   "id": "bb12d3be-d4ca-46e6-af8d-d44a53739532",
   "metadata": {},
   "outputs": [
    {
     "name": "stdout",
     "output_type": "stream",
     "text": [
      "balanced_accuracy: 0.7867222661317972\n",
      "recall: 0.8195912614517266\n",
      "precision: 0.22961500493583414\n",
      "f1 score: 0.3587291795188155\n"
     ]
    },
    {
     "data": {
      "image/png": "[encoded data removed]",
      "text/plain": [
       "<Figure size 640x480 with 2 Axes>"
      ]
     },
     "metadata": {},
     "output_type": "display_data"
    }
   ],
   "source": [
    "scores.append(evaluation(X_test, y_test, y_pred, gs))"
   ]
  },
  {
   "cell_type": "code",
   "execution_count": 22,
   "id": "ac98e0a2-1e32-4b64-9b04-58763425a99d",
   "metadata": {},
   "outputs": [],
   "source": [
    "evaluations = pd.DataFrame(scores, index = ['xgboost'])\n",
    "\n",
    "evaluations.to_csv('../data/scores_XGBoost.csv')"
   ]
  },
  {
   "cell_type": "code",
   "execution_count": 23,
   "id": "687f5a95-9da7-4fbd-a1b7-580391dab926",
   "metadata": {},
   "outputs": [
    {
     "data": {
      "text/html": [
       "<div>\n",
       "<style scoped>\n",
       "    .dataframe tbody tr th:only-of-type {\n",
       "        vertical-align: middle;\n",
       "    }\n",
       "\n",
       "    .dataframe tbody tr th {\n",
       "        vertical-align: top;\n",
       "    }\n",
       "\n",
       "    .dataframe thead th {\n",
       "        text-align: right;\n",
       "    }\n",
       "</style>\n",
       "<table border=\"1\" class=\"dataframe\">\n",
       "  <thead>\n",
       "    <tr style=\"text-align: right;\">\n",
       "      <th></th>\n",
       "      <th>balanced_accuracy</th>\n",
       "      <th>recall</th>\n",
       "      <th>precision</th>\n",
       "      <th>f1_score</th>\n",
       "    </tr>\n",
       "  </thead>\n",
       "  <tbody>\n",
       "    <tr>\n",
       "      <th>xgboost</th>\n",
       "      <td>0.786722</td>\n",
       "      <td>0.819591</td>\n",
       "      <td>0.229615</td>\n",
       "      <td>0.358729</td>\n",
       "    </tr>\n",
       "  </tbody>\n",
       "</table>\n",
       "</div>"
      ],
      "text/plain": [
       "         balanced_accuracy    recall  precision  f1_score\n",
       "xgboost           0.786722  0.819591   0.229615  0.358729"
      ]
     },
     "execution_count": 23,
     "metadata": {},
     "output_type": "execute_result"
    }
   ],
   "source": [
    "evaluations"
   ]
  },
  {
   "cell_type": "markdown",
   "id": "6ea95f2f-f4f9-4a62-96df-0c52027e003a",
   "metadata": {},
   "source": [
    "It looks like the XGBoost have a good balanced accuracy and recall. We will research this method in the future."
   ]
  },
  {
   "cell_type": "code",
   "execution_count": null,
   "id": "9f7594f6-7628-434c-92c7-f78fb51fb529",
   "metadata": {},
   "outputs": [],
   "source": []
  }
 ],
 "metadata": {
  "kernelspec": {
   "display_name": "Python 3 (ipykernel)",
   "language": "python",
   "name": "python3"
  },
  "language_info": {
   "codemirror_mode": {
    "name": "ipython",
    "version": 3
   },
   "file_extension": ".py",
   "mimetype": "text/x-python",
   "name": "python",
   "nbconvert_exporter": "python",
   "pygments_lexer": "ipython3",
   "version": "3.9.13"
  }
 },
 "nbformat": 4,
 "nbformat_minor": 5
}
