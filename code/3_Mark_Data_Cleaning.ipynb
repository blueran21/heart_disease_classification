{
 "cells": [
  {
   "cell_type": "code",
   "execution_count": 1,
   "id": "bcfc395d-b814-4c52-bd67-66b583ed64dd",
   "metadata": {},
   "outputs": [],
   "source": [
    "import numpy as np\n",
    "import pandas as pd"
   ]
  },
  {
   "cell_type": "code",
   "execution_count": 2,
   "id": "ba4bf4e5-05dd-4bda-a2f3-34b3d8d16434",
   "metadata": {},
   "outputs": [],
   "source": [
    "df = pd.read_csv('../data/cleaning_data_phase1.csv.zip')"
   ]
  },
  {
   "cell_type": "code",
   "execution_count": 3,
   "id": "805bc770-0d78-425a-b65d-5072e36ace0a",
   "metadata": {},
   "outputs": [
    {
     "data": {
      "text/plain": [
       "(414511, 44)"
      ]
     },
     "execution_count": 3,
     "metadata": {},
     "output_type": "execute_result"
    }
   ],
   "source": [
    "df.shape"
   ]
  },
  {
   "cell_type": "code",
   "execution_count": 4,
   "id": "422102c2-e589-40c7-969b-659de3958b12",
   "metadata": {},
   "outputs": [],
   "source": [
    "columns_mark = ['CHCCOPD3','CHCKDNY2','DIABETE4','_DRDXAR3','MARITAL','CHILDREN','_INCOMG1','EMPLOY1','HTM4','WTKG3','_BMI5','DECIDE','DIFFWALK','DIFFDRES','_STATE']\n",
    "df_mark = df[columns_mark]"
   ]
  },
  {
   "cell_type": "code",
   "execution_count": 5,
   "id": "fcf8ee81-d798-41fa-9f5a-b911954508a7",
   "metadata": {},
   "outputs": [
    {
     "data": {
      "text/html": [
       "<div>\n",
       "<style scoped>\n",
       "    .dataframe tbody tr th:only-of-type {\n",
       "        vertical-align: middle;\n",
       "    }\n",
       "\n",
       "    .dataframe tbody tr th {\n",
       "        vertical-align: top;\n",
       "    }\n",
       "\n",
       "    .dataframe thead th {\n",
       "        text-align: right;\n",
       "    }\n",
       "</style>\n",
       "<table border=\"1\" class=\"dataframe\">\n",
       "  <thead>\n",
       "    <tr style=\"text-align: right;\">\n",
       "      <th></th>\n",
       "      <th>CHCCOPD3</th>\n",
       "      <th>CHCKDNY2</th>\n",
       "      <th>DIABETE4</th>\n",
       "      <th>_DRDXAR3</th>\n",
       "      <th>MARITAL</th>\n",
       "      <th>CHILDREN</th>\n",
       "      <th>_INCOMG1</th>\n",
       "      <th>EMPLOY1</th>\n",
       "      <th>HTM4</th>\n",
       "      <th>WTKG3</th>\n",
       "      <th>_BMI5</th>\n",
       "      <th>DECIDE</th>\n",
       "      <th>DIFFWALK</th>\n",
       "      <th>DIFFDRES</th>\n",
       "      <th>_STATE</th>\n",
       "    </tr>\n",
       "  </thead>\n",
       "  <tbody>\n",
       "    <tr>\n",
       "      <th>0</th>\n",
       "      <td>1.0</td>\n",
       "      <td>2.0</td>\n",
       "      <td>3.0</td>\n",
       "      <td>1.0</td>\n",
       "      <td>1.0</td>\n",
       "      <td>88.0</td>\n",
       "      <td>3.0</td>\n",
       "      <td>7.0</td>\n",
       "      <td>150.0</td>\n",
       "      <td>3266.0</td>\n",
       "      <td>1454.0</td>\n",
       "      <td>2.0</td>\n",
       "      <td>2.0</td>\n",
       "      <td>2.0</td>\n",
       "      <td>1.0</td>\n",
       "    </tr>\n",
       "    <tr>\n",
       "      <th>1</th>\n",
       "      <td>2.0</td>\n",
       "      <td>1.0</td>\n",
       "      <td>1.0</td>\n",
       "      <td>1.0</td>\n",
       "      <td>9.0</td>\n",
       "      <td>88.0</td>\n",
       "      <td>9.0</td>\n",
       "      <td>8.0</td>\n",
       "      <td>168.0</td>\n",
       "      <td>NaN</td>\n",
       "      <td>NaN</td>\n",
       "      <td>1.0</td>\n",
       "      <td>1.0</td>\n",
       "      <td>2.0</td>\n",
       "      <td>1.0</td>\n",
       "    </tr>\n",
       "    <tr>\n",
       "      <th>2</th>\n",
       "      <td>2.0</td>\n",
       "      <td>2.0</td>\n",
       "      <td>1.0</td>\n",
       "      <td>2.0</td>\n",
       "      <td>3.0</td>\n",
       "      <td>88.0</td>\n",
       "      <td>2.0</td>\n",
       "      <td>7.0</td>\n",
       "      <td>165.0</td>\n",
       "      <td>7711.0</td>\n",
       "      <td>2829.0</td>\n",
       "      <td>2.0</td>\n",
       "      <td>2.0</td>\n",
       "      <td>2.0</td>\n",
       "      <td>1.0</td>\n",
       "    </tr>\n",
       "    <tr>\n",
       "      <th>3</th>\n",
       "      <td>2.0</td>\n",
       "      <td>2.0</td>\n",
       "      <td>1.0</td>\n",
       "      <td>2.0</td>\n",
       "      <td>1.0</td>\n",
       "      <td>88.0</td>\n",
       "      <td>5.0</td>\n",
       "      <td>7.0</td>\n",
       "      <td>163.0</td>\n",
       "      <td>8845.0</td>\n",
       "      <td>3347.0</td>\n",
       "      <td>2.0</td>\n",
       "      <td>2.0</td>\n",
       "      <td>2.0</td>\n",
       "      <td>1.0</td>\n",
       "    </tr>\n",
       "    <tr>\n",
       "      <th>4</th>\n",
       "      <td>2.0</td>\n",
       "      <td>2.0</td>\n",
       "      <td>1.0</td>\n",
       "      <td>2.0</td>\n",
       "      <td>1.0</td>\n",
       "      <td>88.0</td>\n",
       "      <td>2.0</td>\n",
       "      <td>8.0</td>\n",
       "      <td>180.0</td>\n",
       "      <td>9344.0</td>\n",
       "      <td>2873.0</td>\n",
       "      <td>2.0</td>\n",
       "      <td>1.0</td>\n",
       "      <td>2.0</td>\n",
       "      <td>1.0</td>\n",
       "    </tr>\n",
       "    <tr>\n",
       "      <th>...</th>\n",
       "      <td>...</td>\n",
       "      <td>...</td>\n",
       "      <td>...</td>\n",
       "      <td>...</td>\n",
       "      <td>...</td>\n",
       "      <td>...</td>\n",
       "      <td>...</td>\n",
       "      <td>...</td>\n",
       "      <td>...</td>\n",
       "      <td>...</td>\n",
       "      <td>...</td>\n",
       "      <td>...</td>\n",
       "      <td>...</td>\n",
       "      <td>...</td>\n",
       "      <td>...</td>\n",
       "    </tr>\n",
       "    <tr>\n",
       "      <th>414506</th>\n",
       "      <td>1.0</td>\n",
       "      <td>2.0</td>\n",
       "      <td>2.0</td>\n",
       "      <td>2.0</td>\n",
       "      <td>5.0</td>\n",
       "      <td>1.0</td>\n",
       "      <td>3.0</td>\n",
       "      <td>1.0</td>\n",
       "      <td>157.0</td>\n",
       "      <td>6123.0</td>\n",
       "      <td>2469.0</td>\n",
       "      <td>2.0</td>\n",
       "      <td>2.0</td>\n",
       "      <td>2.0</td>\n",
       "      <td>78.0</td>\n",
       "    </tr>\n",
       "    <tr>\n",
       "      <th>414507</th>\n",
       "      <td>2.0</td>\n",
       "      <td>2.0</td>\n",
       "      <td>1.0</td>\n",
       "      <td>2.0</td>\n",
       "      <td>3.0</td>\n",
       "      <td>88.0</td>\n",
       "      <td>1.0</td>\n",
       "      <td>8.0</td>\n",
       "      <td>157.0</td>\n",
       "      <td>NaN</td>\n",
       "      <td>NaN</td>\n",
       "      <td>1.0</td>\n",
       "      <td>2.0</td>\n",
       "      <td>2.0</td>\n",
       "      <td>78.0</td>\n",
       "    </tr>\n",
       "    <tr>\n",
       "      <th>414508</th>\n",
       "      <td>2.0</td>\n",
       "      <td>2.0</td>\n",
       "      <td>3.0</td>\n",
       "      <td>NaN</td>\n",
       "      <td>1.0</td>\n",
       "      <td>88.0</td>\n",
       "      <td>6.0</td>\n",
       "      <td>7.0</td>\n",
       "      <td>180.0</td>\n",
       "      <td>9979.0</td>\n",
       "      <td>3068.0</td>\n",
       "      <td>2.0</td>\n",
       "      <td>2.0</td>\n",
       "      <td>2.0</td>\n",
       "      <td>78.0</td>\n",
       "    </tr>\n",
       "    <tr>\n",
       "      <th>414509</th>\n",
       "      <td>2.0</td>\n",
       "      <td>2.0</td>\n",
       "      <td>3.0</td>\n",
       "      <td>2.0</td>\n",
       "      <td>2.0</td>\n",
       "      <td>88.0</td>\n",
       "      <td>4.0</td>\n",
       "      <td>7.0</td>\n",
       "      <td>183.0</td>\n",
       "      <td>7938.0</td>\n",
       "      <td>2373.0</td>\n",
       "      <td>2.0</td>\n",
       "      <td>2.0</td>\n",
       "      <td>2.0</td>\n",
       "      <td>78.0</td>\n",
       "    </tr>\n",
       "    <tr>\n",
       "      <th>414510</th>\n",
       "      <td>2.0</td>\n",
       "      <td>2.0</td>\n",
       "      <td>3.0</td>\n",
       "      <td>2.0</td>\n",
       "      <td>2.0</td>\n",
       "      <td>88.0</td>\n",
       "      <td>4.0</td>\n",
       "      <td>1.0</td>\n",
       "      <td>160.0</td>\n",
       "      <td>8119.0</td>\n",
       "      <td>3171.0</td>\n",
       "      <td>2.0</td>\n",
       "      <td>2.0</td>\n",
       "      <td>2.0</td>\n",
       "      <td>78.0</td>\n",
       "    </tr>\n",
       "  </tbody>\n",
       "</table>\n",
       "<p>414511 rows × 15 columns</p>\n",
       "</div>"
      ],
      "text/plain": [
       "        CHCCOPD3  CHCKDNY2  DIABETE4  _DRDXAR3  MARITAL  CHILDREN  _INCOMG1  \\\n",
       "0            1.0       2.0       3.0       1.0      1.0      88.0       3.0   \n",
       "1            2.0       1.0       1.0       1.0      9.0      88.0       9.0   \n",
       "2            2.0       2.0       1.0       2.0      3.0      88.0       2.0   \n",
       "3            2.0       2.0       1.0       2.0      1.0      88.0       5.0   \n",
       "4            2.0       2.0       1.0       2.0      1.0      88.0       2.0   \n",
       "...          ...       ...       ...       ...      ...       ...       ...   \n",
       "414506       1.0       2.0       2.0       2.0      5.0       1.0       3.0   \n",
       "414507       2.0       2.0       1.0       2.0      3.0      88.0       1.0   \n",
       "414508       2.0       2.0       3.0       NaN      1.0      88.0       6.0   \n",
       "414509       2.0       2.0       3.0       2.0      2.0      88.0       4.0   \n",
       "414510       2.0       2.0       3.0       2.0      2.0      88.0       4.0   \n",
       "\n",
       "        EMPLOY1   HTM4   WTKG3   _BMI5  DECIDE  DIFFWALK  DIFFDRES  _STATE  \n",
       "0           7.0  150.0  3266.0  1454.0     2.0       2.0       2.0     1.0  \n",
       "1           8.0  168.0     NaN     NaN     1.0       1.0       2.0     1.0  \n",
       "2           7.0  165.0  7711.0  2829.0     2.0       2.0       2.0     1.0  \n",
       "3           7.0  163.0  8845.0  3347.0     2.0       2.0       2.0     1.0  \n",
       "4           8.0  180.0  9344.0  2873.0     2.0       1.0       2.0     1.0  \n",
       "...         ...    ...     ...     ...     ...       ...       ...     ...  \n",
       "414506      1.0  157.0  6123.0  2469.0     2.0       2.0       2.0    78.0  \n",
       "414507      8.0  157.0     NaN     NaN     1.0       2.0       2.0    78.0  \n",
       "414508      7.0  180.0  9979.0  3068.0     2.0       2.0       2.0    78.0  \n",
       "414509      7.0  183.0  7938.0  2373.0     2.0       2.0       2.0    78.0  \n",
       "414510      1.0  160.0  8119.0  3171.0     2.0       2.0       2.0    78.0  \n",
       "\n",
       "[414511 rows x 15 columns]"
      ]
     },
     "execution_count": 5,
     "metadata": {},
     "output_type": "execute_result"
    }
   ],
   "source": [
    "df_mark"
   ]
  },
  {
   "cell_type": "code",
   "execution_count": 6,
   "id": "7d05aee8-0c69-4560-840b-5ff34d26b601",
   "metadata": {},
   "outputs": [
    {
     "data": {
      "text/plain": [
       "CHCCOPD3        0\n",
       "CHCKDNY2        0\n",
       "DIABETE4        0\n",
       "_DRDXAR3     2332\n",
       "MARITAL         1\n",
       "CHILDREN        2\n",
       "_INCOMG1        0\n",
       "EMPLOY1         1\n",
       "HTM4         9849\n",
       "WTKG3       25486\n",
       "_BMI5       30786\n",
       "DECIDE          0\n",
       "DIFFWALK        0\n",
       "DIFFDRES      494\n",
       "_STATE          0\n",
       "dtype: int64"
      ]
     },
     "execution_count": 6,
     "metadata": {},
     "output_type": "execute_result"
    }
   ],
   "source": [
    "df_mark.isnull().sum()"
   ]
  },
  {
   "cell_type": "code",
   "execution_count": 7,
   "id": "139bbcdd-2f41-4907-be70-e90a50988987",
   "metadata": {},
   "outputs": [],
   "source": [
    "columns_to_map = ['CHCCOPD3','CHCKDNY2','_DRDXAR3','DECIDE','DIFFWALK','DIFFDRES']\n",
    "columns_to_ask = ['DIABETE4']\n",
    "columns_to_map_seperately= ['MARITAL','CHILDREN','INCOMG1','EMPLOY1','HTM4','WTKG3','BMI5','_STATE']"
   ]
  },
  {
   "cell_type": "code",
   "execution_count": 8,
   "id": "27c49423-e9b4-4c1d-8252-d298234c8a2c",
   "metadata": {},
   "outputs": [],
   "source": [
    "df['MARITAL'] = df['MARITAL'].apply(lambda x: 'married' if x == 1 else 'divorced' if x == 2 else 'widowed' if x == 3 else 'separated' if x == 4 else 'never_married' if x == 5 else 'member_unmarried' if x ==6 else 'refused' if x ==9 else 'unknown')"
   ]
  },
  {
   "cell_type": "code",
   "execution_count": 9,
   "id": "358fcb97-9489-4441-9b1d-1f01d6d9d404",
   "metadata": {},
   "outputs": [
    {
     "data": {
      "text/plain": [
       "married             215707\n",
       "never_married        72928\n",
       "divorced             52734\n",
       "widowed              44502\n",
       "member_unmarried     16790\n",
       "separated             7861\n",
       "refused               3988\n",
       "unknown                  1\n",
       "Name: MARITAL, dtype: int64"
      ]
     },
     "execution_count": 9,
     "metadata": {},
     "output_type": "execute_result"
    }
   ],
   "source": [
    "df['MARITAL'].value_counts()"
   ]
  },
  {
   "cell_type": "code",
   "execution_count": 10,
   "id": "e0a28cef-be0a-43f2-9ffa-ec2b7037f334",
   "metadata": {},
   "outputs": [
    {
     "data": {
      "text/plain": [
       "0"
      ]
     },
     "execution_count": 10,
     "metadata": {},
     "output_type": "execute_result"
    }
   ],
   "source": [
    "df['MARITAL'].isnull().sum()"
   ]
  },
  {
   "cell_type": "code",
   "execution_count": 11,
   "id": "7cb61031-60d5-4e96-8a2f-eb77a71f91fa",
   "metadata": {},
   "outputs": [],
   "source": [
    "df['CHILDREN']= df['CHILDREN'].apply(lambda x: 0 if x == 88 else None if x ==99 else x)"
   ]
  },
  {
   "cell_type": "code",
   "execution_count": 12,
   "id": "9de9b8bb-f4a7-49a1-998c-eb92c4128307",
   "metadata": {},
   "outputs": [
    {
     "data": {
      "text/plain": [
       "0.0     304492\n",
       "1.0      44409\n",
       "2.0      37481\n",
       "3.0      15699\n",
       "4.0       5736\n",
       "NaN       3684\n",
       "5.0       1845\n",
       "6.0        688\n",
       "7.0        270\n",
       "8.0         99\n",
       "9.0         42\n",
       "10.0        29\n",
       "11.0         7\n",
       "12.0         7\n",
       "15.0         4\n",
       "13.0         3\n",
       "14.0         3\n",
       "83.0         3\n",
       "23.0         2\n",
       "82.0         1\n",
       "20.0         1\n",
       "21.0         1\n",
       "18.0         1\n",
       "16.0         1\n",
       "55.0         1\n",
       "17.0         1\n",
       "81.0         1\n",
       "Name: CHILDREN, dtype: int64"
      ]
     },
     "execution_count": 12,
     "metadata": {},
     "output_type": "execute_result"
    }
   ],
   "source": [
    "df['CHILDREN'].value_counts(dropna = False)\n",
    "#bruh claims to have 81 children"
   ]
  },
  {
   "cell_type": "code",
   "execution_count": 13,
   "id": "e13e33aa-55fe-4bdf-8f46-1ad01714d308",
   "metadata": {},
   "outputs": [],
   "source": [
    "# df['CHILDREN'].isnull().sum()\n",
    "# df['CHILDREN'].fillna('unknown',inplace = True)"
   ]
  },
  {
   "cell_type": "code",
   "execution_count": 14,
   "id": "ee04342b-d99c-4fcf-bae4-3b8dc7b67cfb",
   "metadata": {},
   "outputs": [],
   "source": [
    "df['_INCOMG1'] = df['_INCOMG1'].apply(lambda x: 'less_15k' if x == 1 else '15k_25k' if x == 2 else '25k_35k' if x == 3 else '35k_50k' if x == 4 else '50k_100k' if x == 5 else '100k_200k' if x ==6 else 'greater_200k' if x ==7 else 'unknown')"
   ]
  },
  {
   "cell_type": "code",
   "execution_count": 15,
   "id": "446d4814-5fd9-4faf-a8ee-e2fedfebea23",
   "metadata": {},
   "outputs": [
    {
     "data": {
      "text/plain": [
       "50k_100k        104831\n",
       "unknown          79581\n",
       "100k_200k        66109\n",
       "35k_50k          46934\n",
       "25k_35k          42336\n",
       "15k_25k          34613\n",
       "less_15k         21486\n",
       "greater_200k     18621\n",
       "Name: _INCOMG1, dtype: int64"
      ]
     },
     "execution_count": 15,
     "metadata": {},
     "output_type": "execute_result"
    }
   ],
   "source": [
    "df['_INCOMG1'].value_counts()"
   ]
  },
  {
   "cell_type": "code",
   "execution_count": 16,
   "id": "340a1dd1-18c9-43b7-aa86-5505118101a1",
   "metadata": {},
   "outputs": [
    {
     "data": {
      "text/plain": [
       "0"
      ]
     },
     "execution_count": 16,
     "metadata": {},
     "output_type": "execute_result"
    }
   ],
   "source": [
    "df['_INCOMG1'].isnull().sum()"
   ]
  },
  {
   "cell_type": "code",
   "execution_count": 17,
   "id": "4a55ea44-db17-4d73-a9d4-9716ab46d700",
   "metadata": {},
   "outputs": [],
   "source": [
    "df['EMPLOY1'] = df['EMPLOY1'].apply(lambda x: 'employed_for_wages' if x == 1 else 'self_employed' if x == 2 else 'out_of_work_more_than_1_year' if x == 3 else 'out_of_work_less_than_1_year' if x == 4 else 'homemaker' if x == 5 else 'student' if x ==6 else 'retired' if x ==7 else 'unable_to_work'if x == 8 else 'refused')"
   ]
  },
  {
   "cell_type": "code",
   "execution_count": 18,
   "id": "6695cc32-d7b7-4bd3-9002-3af8eeef9052",
   "metadata": {},
   "outputs": [
    {
     "data": {
      "text/plain": [
       "0"
      ]
     },
     "execution_count": 18,
     "metadata": {},
     "output_type": "execute_result"
    }
   ],
   "source": [
    "df['EMPLOY1'].isnull().sum()"
   ]
  },
  {
   "cell_type": "code",
   "execution_count": 19,
   "id": "c92067a7-3e5c-429a-a8af-8724d3b879b4",
   "metadata": {},
   "outputs": [
    {
     "data": {
      "text/plain": [
       "employed_for_wages              177942\n",
       "retired                         125874\n",
       "self_employed                    35873\n",
       "unable_to_work                   24139\n",
       "homemaker                        16807\n",
       "out_of_work_more_than_1_year     10766\n",
       "student                          10234\n",
       "out_of_work_less_than_1_year      9226\n",
       "refused                           3650\n",
       "Name: EMPLOY1, dtype: int64"
      ]
     },
     "execution_count": 19,
     "metadata": {},
     "output_type": "execute_result"
    }
   ],
   "source": [
    "df['EMPLOY1'].value_counts()"
   ]
  },
  {
   "cell_type": "code",
   "execution_count": 20,
   "id": "dccecce8-a17d-4067-87ff-d296821924a2",
   "metadata": {},
   "outputs": [],
   "source": [
    "# df['_INCOMG1'] = df['_INCOMG1'].apply(lambda x: 'less_15k' if x == 1 else '15k_25k' if x == 2 else '25k_35k' if x == 3 else '35k_50k' if x == 4 else '50k_100k' if x == 5 else '100k_200k' if x ==6 else 'greater_200k' if x ==7 else 'unknown')"
   ]
  },
  {
   "cell_type": "code",
   "execution_count": 21,
   "id": "aaf240a8-c65f-42a8-b7f8-12d2383a28fe",
   "metadata": {},
   "outputs": [],
   "source": [
    "df['DIABETE4'] = df['DIABETE4'].apply(lambda x: 'yes'if x == 1 else 'yes_told_during_pregnancy' if x ==2 else 'no' if x ==3 else 'no_pre_diabetes'if x ==4 else 'not_sure'if x ==7 else 'refused' if x == 9 else 'missing')"
   ]
  },
  {
   "cell_type": "code",
   "execution_count": 22,
   "id": "dcd38d06-ca08-432c-a1dc-1743c071405f",
   "metadata": {},
   "outputs": [
    {
     "data": {
      "text/plain": [
       "no                           346408\n",
       "yes                           54461\n",
       "no_pre_diabetes                9408\n",
       "yes_told_during_pregnancy      3633\n",
       "not_sure                        502\n",
       "refused                          99\n",
       "Name: DIABETE4, dtype: int64"
      ]
     },
     "execution_count": 22,
     "metadata": {},
     "output_type": "execute_result"
    }
   ],
   "source": [
    "df['DIABETE4'].value_counts(dropna = False)"
   ]
  },
  {
   "cell_type": "markdown",
   "id": "11c8c22c-9ed3-48e9-86cc-b028231a354b",
   "metadata": {},
   "source": [
    "### INTEGERS"
   ]
  },
  {
   "cell_type": "code",
   "execution_count": 23,
   "id": "272bfc17-3c1d-41b9-bb66-de121590afbc",
   "metadata": {},
   "outputs": [
    {
     "data": {
      "text/plain": [
       "0         150.0\n",
       "1         168.0\n",
       "2         165.0\n",
       "3         163.0\n",
       "4         180.0\n",
       "          ...  \n",
       "414506    157.0\n",
       "414507    157.0\n",
       "414508    180.0\n",
       "414509    183.0\n",
       "414510    160.0\n",
       "Name: HTM4, Length: 414511, dtype: float64"
      ]
     },
     "execution_count": 23,
     "metadata": {},
     "output_type": "execute_result"
    }
   ],
   "source": [
    "# df['HTM4'].value_counts()\n",
    "df['HTM4'].fillna(np.nan)"
   ]
  },
  {
   "cell_type": "code",
   "execution_count": 24,
   "id": "4af58103-f356-42c4-9031-3f3c89ba75d2",
   "metadata": {},
   "outputs": [
    {
     "data": {
      "text/plain": [
       "(241.0, 91.0)"
      ]
     },
     "execution_count": 24,
     "metadata": {},
     "output_type": "execute_result"
    }
   ],
   "source": [
    "df['HTM4'].max(), df['HTM4'].min()"
   ]
  },
  {
   "cell_type": "code",
   "execution_count": 25,
   "id": "3894acdf-f70c-4e0e-9fa3-f59fcb1d22ea",
   "metadata": {},
   "outputs": [
    {
     "data": {
      "text/plain": [
       "0         3266.0\n",
       "1            NaN\n",
       "2         7711.0\n",
       "3         8845.0\n",
       "4         9344.0\n",
       "           ...  \n",
       "414506    6123.0\n",
       "414507       NaN\n",
       "414508    9979.0\n",
       "414509    7938.0\n",
       "414510    8119.0\n",
       "Name: WTKG3, Length: 414511, dtype: float64"
      ]
     },
     "execution_count": 25,
     "metadata": {},
     "output_type": "execute_result"
    }
   ],
   "source": [
    "# df['WTKG3'].value_counts()\n",
    "df['WTKG3'].fillna(np.nan)"
   ]
  },
  {
   "cell_type": "code",
   "execution_count": 26,
   "id": "8e935691-ce71-4f69-b8ad-1e015e71ad16",
   "metadata": {},
   "outputs": [
    {
     "data": {
      "text/plain": [
       "0         1454.0\n",
       "1            NaN\n",
       "2         2829.0\n",
       "3         3347.0\n",
       "4         2873.0\n",
       "           ...  \n",
       "414506    2469.0\n",
       "414507       NaN\n",
       "414508    3068.0\n",
       "414509    2373.0\n",
       "414510    3171.0\n",
       "Name: _BMI5, Length: 414511, dtype: float64"
      ]
     },
     "execution_count": 26,
     "metadata": {},
     "output_type": "execute_result"
    }
   ],
   "source": [
    "# df['_BMI5'].value_counts()\n",
    "df['_BMI5'].fillna(np.nan)"
   ]
  },
  {
   "cell_type": "code",
   "execution_count": 27,
   "id": "53b77bf1-a462-4387-9c4b-24f52bd43885",
   "metadata": {},
   "outputs": [],
   "source": [
    "def number_converter(value):\n",
    "    if pd.isnull(value):\n",
    "        return 'not sure'\n",
    "    elif value == 1:\n",
    "        return 'yes'\n",
    "    elif value == 2:\n",
    "        return 'no'\n",
    "    elif value == 7:\n",
    "        return 'not sure'\n",
    "    elif value == 9:\n",
    "        return 'refused'\n",
    "    else:\n",
    "        return value\n"
   ]
  },
  {
   "cell_type": "code",
   "execution_count": 28,
   "id": "a979a64a-052e-4ce7-a9b0-8cefeeb42eba",
   "metadata": {},
   "outputs": [],
   "source": [
    "df[columns_to_map] = df[columns_to_map].applymap(number_converter)"
   ]
  },
  {
   "cell_type": "code",
   "execution_count": 29,
   "id": "31a97dd9-e01c-45bb-8c4b-d1591528a6b9",
   "metadata": {},
   "outputs": [
    {
     "data": {
      "text/html": [
       "<div>\n",
       "<style scoped>\n",
       "    .dataframe tbody tr th:only-of-type {\n",
       "        vertical-align: middle;\n",
       "    }\n",
       "\n",
       "    .dataframe tbody tr th {\n",
       "        vertical-align: top;\n",
       "    }\n",
       "\n",
       "    .dataframe thead th {\n",
       "        text-align: right;\n",
       "    }\n",
       "</style>\n",
       "<table border=\"1\" class=\"dataframe\">\n",
       "  <thead>\n",
       "    <tr style=\"text-align: right;\">\n",
       "      <th></th>\n",
       "      <th>CHCCOPD3</th>\n",
       "      <th>CHCKDNY2</th>\n",
       "      <th>_DRDXAR3</th>\n",
       "      <th>DECIDE</th>\n",
       "      <th>DIFFWALK</th>\n",
       "      <th>DIFFDRES</th>\n",
       "    </tr>\n",
       "  </thead>\n",
       "  <tbody>\n",
       "    <tr>\n",
       "      <th>0</th>\n",
       "      <td>yes</td>\n",
       "      <td>no</td>\n",
       "      <td>yes</td>\n",
       "      <td>no</td>\n",
       "      <td>no</td>\n",
       "      <td>no</td>\n",
       "    </tr>\n",
       "    <tr>\n",
       "      <th>1</th>\n",
       "      <td>no</td>\n",
       "      <td>yes</td>\n",
       "      <td>yes</td>\n",
       "      <td>yes</td>\n",
       "      <td>yes</td>\n",
       "      <td>no</td>\n",
       "    </tr>\n",
       "    <tr>\n",
       "      <th>2</th>\n",
       "      <td>no</td>\n",
       "      <td>no</td>\n",
       "      <td>no</td>\n",
       "      <td>no</td>\n",
       "      <td>no</td>\n",
       "      <td>no</td>\n",
       "    </tr>\n",
       "    <tr>\n",
       "      <th>3</th>\n",
       "      <td>no</td>\n",
       "      <td>no</td>\n",
       "      <td>no</td>\n",
       "      <td>no</td>\n",
       "      <td>no</td>\n",
       "      <td>no</td>\n",
       "    </tr>\n",
       "    <tr>\n",
       "      <th>4</th>\n",
       "      <td>no</td>\n",
       "      <td>no</td>\n",
       "      <td>no</td>\n",
       "      <td>no</td>\n",
       "      <td>yes</td>\n",
       "      <td>no</td>\n",
       "    </tr>\n",
       "    <tr>\n",
       "      <th>...</th>\n",
       "      <td>...</td>\n",
       "      <td>...</td>\n",
       "      <td>...</td>\n",
       "      <td>...</td>\n",
       "      <td>...</td>\n",
       "      <td>...</td>\n",
       "    </tr>\n",
       "    <tr>\n",
       "      <th>414506</th>\n",
       "      <td>yes</td>\n",
       "      <td>no</td>\n",
       "      <td>no</td>\n",
       "      <td>no</td>\n",
       "      <td>no</td>\n",
       "      <td>no</td>\n",
       "    </tr>\n",
       "    <tr>\n",
       "      <th>414507</th>\n",
       "      <td>no</td>\n",
       "      <td>no</td>\n",
       "      <td>no</td>\n",
       "      <td>yes</td>\n",
       "      <td>no</td>\n",
       "      <td>no</td>\n",
       "    </tr>\n",
       "    <tr>\n",
       "      <th>414508</th>\n",
       "      <td>no</td>\n",
       "      <td>no</td>\n",
       "      <td>not sure</td>\n",
       "      <td>no</td>\n",
       "      <td>no</td>\n",
       "      <td>no</td>\n",
       "    </tr>\n",
       "    <tr>\n",
       "      <th>414509</th>\n",
       "      <td>no</td>\n",
       "      <td>no</td>\n",
       "      <td>no</td>\n",
       "      <td>no</td>\n",
       "      <td>no</td>\n",
       "      <td>no</td>\n",
       "    </tr>\n",
       "    <tr>\n",
       "      <th>414510</th>\n",
       "      <td>no</td>\n",
       "      <td>no</td>\n",
       "      <td>no</td>\n",
       "      <td>no</td>\n",
       "      <td>no</td>\n",
       "      <td>no</td>\n",
       "    </tr>\n",
       "  </tbody>\n",
       "</table>\n",
       "<p>414511 rows × 6 columns</p>\n",
       "</div>"
      ],
      "text/plain": [
       "       CHCCOPD3 CHCKDNY2  _DRDXAR3 DECIDE DIFFWALK DIFFDRES\n",
       "0           yes       no       yes     no       no       no\n",
       "1            no      yes       yes    yes      yes       no\n",
       "2            no       no        no     no       no       no\n",
       "3            no       no        no     no       no       no\n",
       "4            no       no        no     no      yes       no\n",
       "...         ...      ...       ...    ...      ...      ...\n",
       "414506      yes       no        no     no       no       no\n",
       "414507       no       no        no    yes       no       no\n",
       "414508       no       no  not sure     no       no       no\n",
       "414509       no       no        no     no       no       no\n",
       "414510       no       no        no     no       no       no\n",
       "\n",
       "[414511 rows x 6 columns]"
      ]
     },
     "execution_count": 29,
     "metadata": {},
     "output_type": "execute_result"
    }
   ],
   "source": [
    "df[columns_to_map] #note, column '_DRDXAR3' had a slightly different format than the rest. But the 1's and 0's still worked. "
   ]
  },
  {
   "cell_type": "code",
   "execution_count": 30,
   "id": "b814d427-6291-491b-bbc2-59330173a692",
   "metadata": {},
   "outputs": [],
   "source": [
    "state_mapping = {\n",
    "    1: 'Alabama',\n",
    "     2: 'Alaska',\n",
    "     4: 'Arizona',\n",
    "     5: 'Arkansas',\n",
    "     6: 'California',\n",
    "     8: 'Colorado',\n",
    "     9: 'Connecticut',\n",
    "     10: 'Delaware',\n",
    "     11: 'District of Columbia',\n",
    "     13: 'Georgia',\n",
    "     15: 'Hawaii',\n",
    "     16: 'Idaho',\n",
    "     17: 'Illinois',\n",
    "     18: 'Indiana',\n",
    "     19: 'Iowa',\n",
    "     20: 'Kansas',\n",
    "     21: 'Kentucky',\n",
    "     22: 'Louisiana',\n",
    "     23: 'Maine',\n",
    "     24: 'Maryland',\n",
    "     25: 'Massachusetts',\n",
    "     26: 'Michigan',\n",
    "     27: 'Minnesota',\n",
    "     28: 'Mississippi',\n",
    "     29: 'Missouri',\n",
    "     30: 'Montana',\n",
    "     31: 'Nebraska',\n",
    "     32: 'Nevada',\n",
    "     33: 'New Hampshire',\n",
    "     34: 'New Jersey',\n",
    "     35: 'New Mexico',\n",
    "     36: 'New York',\n",
    "     37: 'North Carolina',\n",
    "     38: 'North Dakota',\n",
    "     39: 'Ohio',\n",
    "     40: 'Oklahoma',\n",
    "     41: 'Oregon',\n",
    "     42: 'Pennsylvania',\n",
    "     44: 'Rhode Island',\n",
    "     45: 'South Carolina',\n",
    "     46: 'South Dakota',\n",
    "     47: 'Tennessee',\n",
    "     48: 'Texas',\n",
    "     49: 'Utah',\n",
    "     50: 'Vermont',\n",
    "     51: 'Virginia',\n",
    "     53: 'Washington',\n",
    "     54: 'West Virginia',\n",
    "     55: 'Wisconsin',\n",
    "     56: 'Wyoming',\n",
    "     66: 'Guam',\n",
    "     72: 'Puerto Rico',\n",
    "     78: 'Virgin Islands'\n",
    "}"
   ]
  },
  {
   "cell_type": "code",
   "execution_count": 31,
   "id": "66969c6c-b85c-4958-9744-439f58f852da",
   "metadata": {},
   "outputs": [],
   "source": [
    "df['_STATE'].replace(state_mapping, inplace = True)"
   ]
  },
  {
   "cell_type": "code",
   "execution_count": 32,
   "id": "53a48979-c706-41b6-9eac-207617e01809",
   "metadata": {},
   "outputs": [],
   "source": [
    "df_mark = df[columns_mark]"
   ]
  },
  {
   "cell_type": "code",
   "execution_count": 33,
   "id": "a54a9548-f67b-481d-b150-27e76e1829c2",
   "metadata": {},
   "outputs": [
    {
     "data": {
      "text/html": [
       "<div>\n",
       "<style scoped>\n",
       "    .dataframe tbody tr th:only-of-type {\n",
       "        vertical-align: middle;\n",
       "    }\n",
       "\n",
       "    .dataframe tbody tr th {\n",
       "        vertical-align: top;\n",
       "    }\n",
       "\n",
       "    .dataframe thead th {\n",
       "        text-align: right;\n",
       "    }\n",
       "</style>\n",
       "<table border=\"1\" class=\"dataframe\">\n",
       "  <thead>\n",
       "    <tr style=\"text-align: right;\">\n",
       "      <th></th>\n",
       "      <th>CHCCOPD3</th>\n",
       "      <th>CHCKDNY2</th>\n",
       "      <th>DIABETE4</th>\n",
       "      <th>_DRDXAR3</th>\n",
       "      <th>MARITAL</th>\n",
       "      <th>CHILDREN</th>\n",
       "      <th>_INCOMG1</th>\n",
       "      <th>EMPLOY1</th>\n",
       "      <th>HTM4</th>\n",
       "      <th>WTKG3</th>\n",
       "      <th>_BMI5</th>\n",
       "      <th>DECIDE</th>\n",
       "      <th>DIFFWALK</th>\n",
       "      <th>DIFFDRES</th>\n",
       "      <th>_STATE</th>\n",
       "    </tr>\n",
       "  </thead>\n",
       "  <tbody>\n",
       "    <tr>\n",
       "      <th>0</th>\n",
       "      <td>yes</td>\n",
       "      <td>no</td>\n",
       "      <td>no</td>\n",
       "      <td>yes</td>\n",
       "      <td>married</td>\n",
       "      <td>0.0</td>\n",
       "      <td>25k_35k</td>\n",
       "      <td>retired</td>\n",
       "      <td>150.0</td>\n",
       "      <td>3266.0</td>\n",
       "      <td>1454.0</td>\n",
       "      <td>no</td>\n",
       "      <td>no</td>\n",
       "      <td>no</td>\n",
       "      <td>Alabama</td>\n",
       "    </tr>\n",
       "    <tr>\n",
       "      <th>1</th>\n",
       "      <td>no</td>\n",
       "      <td>yes</td>\n",
       "      <td>yes</td>\n",
       "      <td>yes</td>\n",
       "      <td>refused</td>\n",
       "      <td>0.0</td>\n",
       "      <td>unknown</td>\n",
       "      <td>unable_to_work</td>\n",
       "      <td>168.0</td>\n",
       "      <td>NaN</td>\n",
       "      <td>NaN</td>\n",
       "      <td>yes</td>\n",
       "      <td>yes</td>\n",
       "      <td>no</td>\n",
       "      <td>Alabama</td>\n",
       "    </tr>\n",
       "    <tr>\n",
       "      <th>2</th>\n",
       "      <td>no</td>\n",
       "      <td>no</td>\n",
       "      <td>yes</td>\n",
       "      <td>no</td>\n",
       "      <td>widowed</td>\n",
       "      <td>0.0</td>\n",
       "      <td>15k_25k</td>\n",
       "      <td>retired</td>\n",
       "      <td>165.0</td>\n",
       "      <td>7711.0</td>\n",
       "      <td>2829.0</td>\n",
       "      <td>no</td>\n",
       "      <td>no</td>\n",
       "      <td>no</td>\n",
       "      <td>Alabama</td>\n",
       "    </tr>\n",
       "    <tr>\n",
       "      <th>3</th>\n",
       "      <td>no</td>\n",
       "      <td>no</td>\n",
       "      <td>yes</td>\n",
       "      <td>no</td>\n",
       "      <td>married</td>\n",
       "      <td>0.0</td>\n",
       "      <td>50k_100k</td>\n",
       "      <td>retired</td>\n",
       "      <td>163.0</td>\n",
       "      <td>8845.0</td>\n",
       "      <td>3347.0</td>\n",
       "      <td>no</td>\n",
       "      <td>no</td>\n",
       "      <td>no</td>\n",
       "      <td>Alabama</td>\n",
       "    </tr>\n",
       "    <tr>\n",
       "      <th>4</th>\n",
       "      <td>no</td>\n",
       "      <td>no</td>\n",
       "      <td>yes</td>\n",
       "      <td>no</td>\n",
       "      <td>married</td>\n",
       "      <td>0.0</td>\n",
       "      <td>15k_25k</td>\n",
       "      <td>unable_to_work</td>\n",
       "      <td>180.0</td>\n",
       "      <td>9344.0</td>\n",
       "      <td>2873.0</td>\n",
       "      <td>no</td>\n",
       "      <td>yes</td>\n",
       "      <td>no</td>\n",
       "      <td>Alabama</td>\n",
       "    </tr>\n",
       "  </tbody>\n",
       "</table>\n",
       "</div>"
      ],
      "text/plain": [
       "  CHCCOPD3 CHCKDNY2 DIABETE4 _DRDXAR3  MARITAL  CHILDREN  _INCOMG1  \\\n",
       "0      yes       no       no      yes  married       0.0   25k_35k   \n",
       "1       no      yes      yes      yes  refused       0.0   unknown   \n",
       "2       no       no      yes       no  widowed       0.0   15k_25k   \n",
       "3       no       no      yes       no  married       0.0  50k_100k   \n",
       "4       no       no      yes       no  married       0.0   15k_25k   \n",
       "\n",
       "          EMPLOY1   HTM4   WTKG3   _BMI5 DECIDE DIFFWALK DIFFDRES   _STATE  \n",
       "0         retired  150.0  3266.0  1454.0     no       no       no  Alabama  \n",
       "1  unable_to_work  168.0     NaN     NaN    yes      yes       no  Alabama  \n",
       "2         retired  165.0  7711.0  2829.0     no       no       no  Alabama  \n",
       "3         retired  163.0  8845.0  3347.0     no       no       no  Alabama  \n",
       "4  unable_to_work  180.0  9344.0  2873.0     no      yes       no  Alabama  "
      ]
     },
     "execution_count": 33,
     "metadata": {},
     "output_type": "execute_result"
    }
   ],
   "source": [
    "df_mark.head()"
   ]
  },
  {
   "cell_type": "code",
   "execution_count": 34,
   "id": "5231cc95-af3d-4c79-8e4a-c282f012947b",
   "metadata": {},
   "outputs": [
    {
     "data": {
      "text/plain": [
       "CHCCOPD3        0\n",
       "CHCKDNY2        0\n",
       "DIABETE4        0\n",
       "_DRDXAR3        0\n",
       "MARITAL         0\n",
       "CHILDREN     3684\n",
       "_INCOMG1        0\n",
       "EMPLOY1         0\n",
       "HTM4         9849\n",
       "WTKG3       25486\n",
       "_BMI5       30786\n",
       "DECIDE          0\n",
       "DIFFWALK        0\n",
       "DIFFDRES        0\n",
       "_STATE          0\n",
       "dtype: int64"
      ]
     },
     "execution_count": 34,
     "metadata": {},
     "output_type": "execute_result"
    }
   ],
   "source": [
    "df_mark.isnull().sum()"
   ]
  },
  {
   "cell_type": "code",
   "execution_count": 35,
   "id": "2488a271-4131-4ba1-89a3-ef3aeff01131",
   "metadata": {},
   "outputs": [],
   "source": [
    "df_mark.columns = df_mark.columns.str.lower()"
   ]
  },
  {
   "cell_type": "code",
   "execution_count": 36,
   "id": "234f75bf-718a-4ccb-a07f-6eb33a7e7456",
   "metadata": {},
   "outputs": [],
   "source": [
    "df_mark.to_csv('../data/cleaning_data_phase2_Mark.csv.zip', index = False)"
   ]
  },
  {
   "cell_type": "code",
   "execution_count": null,
   "id": "6ff92a8a-d233-48ae-8885-ae79bf786b2b",
   "metadata": {},
   "outputs": [],
   "source": []
  }
 ],
 "metadata": {
  "kernelspec": {
   "display_name": "Python 3 (ipykernel)",
   "language": "python",
   "name": "python3"
  },
  "language_info": {
   "codemirror_mode": {
    "name": "ipython",
    "version": 3
   },
   "file_extension": ".py",
   "mimetype": "text/x-python",
   "name": "python",
   "nbconvert_exporter": "python",
   "pygments_lexer": "ipython3",
   "version": "3.10.11"
  }
 },
 "nbformat": 4,
 "nbformat_minor": 5
}
