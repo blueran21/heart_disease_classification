{
 "cells": [
  {
   "cell_type": "code",
   "execution_count": 1,
   "id": "30c9bce5-76d5-420f-be6c-5d5013fba155",
   "metadata": {},
   "outputs": [],
   "source": [
    "import pandas as pd"
   ]
  },
  {
   "cell_type": "code",
   "execution_count": 2,
   "id": "635b5053-f275-477e-9c29-a04388029124",
   "metadata": {},
   "outputs": [],
   "source": [
    "df = pd.read_csv('../data/2021_heart.csv')"
   ]
  },
  {
   "cell_type": "code",
   "execution_count": 3,
   "id": "1c36360b-c67b-42c6-b0b4-eade5f9538c7",
   "metadata": {},
   "outputs": [
    {
     "data": {
      "text/html": [
       "<div>\n",
       "<style scoped>\n",
       "    .dataframe tbody tr th:only-of-type {\n",
       "        vertical-align: middle;\n",
       "    }\n",
       "\n",
       "    .dataframe tbody tr th {\n",
       "        vertical-align: top;\n",
       "    }\n",
       "\n",
       "    .dataframe thead th {\n",
       "        text-align: right;\n",
       "    }\n",
       "</style>\n",
       "<table border=\"1\" class=\"dataframe\">\n",
       "  <thead>\n",
       "    <tr style=\"text-align: right;\">\n",
       "      <th></th>\n",
       "      <th>_STATE</th>\n",
       "      <th>FMONTH</th>\n",
       "      <th>IDATE</th>\n",
       "      <th>IMONTH</th>\n",
       "      <th>IDAY</th>\n",
       "      <th>IYEAR</th>\n",
       "      <th>DISPCODE</th>\n",
       "      <th>SEQNO</th>\n",
       "      <th>_PSU</th>\n",
       "      <th>CTELENM1</th>\n",
       "      <th>...</th>\n",
       "      <th>_FRTRES1</th>\n",
       "      <th>_VEGRES1</th>\n",
       "      <th>_FRUTSU1</th>\n",
       "      <th>_VEGESU1</th>\n",
       "      <th>_FRTLT1A</th>\n",
       "      <th>_VEGLT1A</th>\n",
       "      <th>_FRT16A</th>\n",
       "      <th>_VEG23A</th>\n",
       "      <th>_FRUITE1</th>\n",
       "      <th>_VEGETE1</th>\n",
       "    </tr>\n",
       "  </thead>\n",
       "  <tbody>\n",
       "    <tr>\n",
       "      <th>0</th>\n",
       "      <td>1.0</td>\n",
       "      <td>1.0</td>\n",
       "      <td>b'01192021'</td>\n",
       "      <td>b'01'</td>\n",
       "      <td>b'19'</td>\n",
       "      <td>b'2021'</td>\n",
       "      <td>1100.0</td>\n",
       "      <td>b'2021000001'</td>\n",
       "      <td>2.021000e+09</td>\n",
       "      <td>1.0</td>\n",
       "      <td>...</td>\n",
       "      <td>1.0</td>\n",
       "      <td>1.0</td>\n",
       "      <td>100.0</td>\n",
       "      <td>214.0</td>\n",
       "      <td>1.0</td>\n",
       "      <td>1.0</td>\n",
       "      <td>1.0</td>\n",
       "      <td>1.0</td>\n",
       "      <td>5.397605e-79</td>\n",
       "      <td>5.397605e-79</td>\n",
       "    </tr>\n",
       "    <tr>\n",
       "      <th>1</th>\n",
       "      <td>1.0</td>\n",
       "      <td>1.0</td>\n",
       "      <td>b'01212021'</td>\n",
       "      <td>b'01'</td>\n",
       "      <td>b'21'</td>\n",
       "      <td>b'2021'</td>\n",
       "      <td>1100.0</td>\n",
       "      <td>b'2021000002'</td>\n",
       "      <td>2.021000e+09</td>\n",
       "      <td>1.0</td>\n",
       "      <td>...</td>\n",
       "      <td>1.0</td>\n",
       "      <td>1.0</td>\n",
       "      <td>100.0</td>\n",
       "      <td>128.0</td>\n",
       "      <td>1.0</td>\n",
       "      <td>1.0</td>\n",
       "      <td>1.0</td>\n",
       "      <td>1.0</td>\n",
       "      <td>5.397605e-79</td>\n",
       "      <td>5.397605e-79</td>\n",
       "    </tr>\n",
       "    <tr>\n",
       "      <th>2</th>\n",
       "      <td>1.0</td>\n",
       "      <td>1.0</td>\n",
       "      <td>b'01212021'</td>\n",
       "      <td>b'01'</td>\n",
       "      <td>b'21'</td>\n",
       "      <td>b'2021'</td>\n",
       "      <td>1100.0</td>\n",
       "      <td>b'2021000003'</td>\n",
       "      <td>2.021000e+09</td>\n",
       "      <td>1.0</td>\n",
       "      <td>...</td>\n",
       "      <td>1.0</td>\n",
       "      <td>1.0</td>\n",
       "      <td>100.0</td>\n",
       "      <td>71.0</td>\n",
       "      <td>1.0</td>\n",
       "      <td>2.0</td>\n",
       "      <td>1.0</td>\n",
       "      <td>1.0</td>\n",
       "      <td>5.397605e-79</td>\n",
       "      <td>5.397605e-79</td>\n",
       "    </tr>\n",
       "    <tr>\n",
       "      <th>3</th>\n",
       "      <td>1.0</td>\n",
       "      <td>1.0</td>\n",
       "      <td>b'01172021'</td>\n",
       "      <td>b'01'</td>\n",
       "      <td>b'17'</td>\n",
       "      <td>b'2021'</td>\n",
       "      <td>1100.0</td>\n",
       "      <td>b'2021000004'</td>\n",
       "      <td>2.021000e+09</td>\n",
       "      <td>1.0</td>\n",
       "      <td>...</td>\n",
       "      <td>1.0</td>\n",
       "      <td>1.0</td>\n",
       "      <td>114.0</td>\n",
       "      <td>165.0</td>\n",
       "      <td>1.0</td>\n",
       "      <td>1.0</td>\n",
       "      <td>1.0</td>\n",
       "      <td>1.0</td>\n",
       "      <td>5.397605e-79</td>\n",
       "      <td>5.397605e-79</td>\n",
       "    </tr>\n",
       "    <tr>\n",
       "      <th>4</th>\n",
       "      <td>1.0</td>\n",
       "      <td>1.0</td>\n",
       "      <td>b'01152021'</td>\n",
       "      <td>b'01'</td>\n",
       "      <td>b'15'</td>\n",
       "      <td>b'2021'</td>\n",
       "      <td>1100.0</td>\n",
       "      <td>b'2021000005'</td>\n",
       "      <td>2.021000e+09</td>\n",
       "      <td>1.0</td>\n",
       "      <td>...</td>\n",
       "      <td>1.0</td>\n",
       "      <td>1.0</td>\n",
       "      <td>100.0</td>\n",
       "      <td>258.0</td>\n",
       "      <td>1.0</td>\n",
       "      <td>1.0</td>\n",
       "      <td>1.0</td>\n",
       "      <td>1.0</td>\n",
       "      <td>5.397605e-79</td>\n",
       "      <td>5.397605e-79</td>\n",
       "    </tr>\n",
       "  </tbody>\n",
       "</table>\n",
       "<p>5 rows × 303 columns</p>\n",
       "</div>"
      ],
      "text/plain": [
       "   _STATE  FMONTH        IDATE IMONTH   IDAY    IYEAR  DISPCODE  \\\n",
       "0     1.0     1.0  b'01192021'  b'01'  b'19'  b'2021'    1100.0   \n",
       "1     1.0     1.0  b'01212021'  b'01'  b'21'  b'2021'    1100.0   \n",
       "2     1.0     1.0  b'01212021'  b'01'  b'21'  b'2021'    1100.0   \n",
       "3     1.0     1.0  b'01172021'  b'01'  b'17'  b'2021'    1100.0   \n",
       "4     1.0     1.0  b'01152021'  b'01'  b'15'  b'2021'    1100.0   \n",
       "\n",
       "           SEQNO          _PSU  CTELENM1  ...  _FRTRES1  _VEGRES1  _FRUTSU1  \\\n",
       "0  b'2021000001'  2.021000e+09       1.0  ...       1.0       1.0     100.0   \n",
       "1  b'2021000002'  2.021000e+09       1.0  ...       1.0       1.0     100.0   \n",
       "2  b'2021000003'  2.021000e+09       1.0  ...       1.0       1.0     100.0   \n",
       "3  b'2021000004'  2.021000e+09       1.0  ...       1.0       1.0     114.0   \n",
       "4  b'2021000005'  2.021000e+09       1.0  ...       1.0       1.0     100.0   \n",
       "\n",
       "   _VEGESU1  _FRTLT1A  _VEGLT1A  _FRT16A  _VEG23A      _FRUITE1      _VEGETE1  \n",
       "0     214.0       1.0       1.0      1.0      1.0  5.397605e-79  5.397605e-79  \n",
       "1     128.0       1.0       1.0      1.0      1.0  5.397605e-79  5.397605e-79  \n",
       "2      71.0       1.0       2.0      1.0      1.0  5.397605e-79  5.397605e-79  \n",
       "3     165.0       1.0       1.0      1.0      1.0  5.397605e-79  5.397605e-79  \n",
       "4     258.0       1.0       1.0      1.0      1.0  5.397605e-79  5.397605e-79  \n",
       "\n",
       "[5 rows x 303 columns]"
      ]
     },
     "execution_count": 3,
     "metadata": {},
     "output_type": "execute_result"
    }
   ],
   "source": [
    "df.head(5)"
   ]
  },
  {
   "cell_type": "code",
   "execution_count": 4,
   "id": "ef8f3803-721b-48c2-aa7b-fd8ab09cc9f1",
   "metadata": {},
   "outputs": [
    {
     "data": {
      "text/plain": [
       "(438693, 303)"
      ]
     },
     "execution_count": 4,
     "metadata": {},
     "output_type": "execute_result"
    }
   ],
   "source": [
    "df.shape"
   ]
  },
  {
   "cell_type": "code",
   "execution_count": 5,
   "id": "a0731b19-5f70-467b-b4c8-cd172440477d",
   "metadata": {},
   "outputs": [],
   "source": [
    "missing_values = df.isnull().sum()"
   ]
  },
  {
   "cell_type": "code",
   "execution_count": 6,
   "id": "f25ea3d3-8494-4d78-ba65-ec9d501f6cfa",
   "metadata": {},
   "outputs": [
    {
     "data": {
      "text/plain": [
       "_STATE      0\n",
       "FMONTH      0\n",
       "IDATE       0\n",
       "IMONTH      0\n",
       "IDAY        0\n",
       "           ..\n",
       "_VEGLT1A    0\n",
       "_FRT16A     0\n",
       "_VEG23A     0\n",
       "_FRUITE1    0\n",
       "_VEGETE1    0\n",
       "Length: 303, dtype: int64"
      ]
     },
     "execution_count": 6,
     "metadata": {},
     "output_type": "execute_result"
    }
   ],
   "source": [
    "missing_values"
   ]
  },
  {
   "cell_type": "code",
   "execution_count": 7,
   "id": "0172aa6f-e986-4c51-8496-b5ca2cf0d154",
   "metadata": {},
   "outputs": [],
   "source": [
    "columns_with_more_than_100k_missing_values = missing_values[missing_values > 100_000]"
   ]
  },
  {
   "cell_type": "code",
   "execution_count": 8,
   "id": "42372587-9c83-494e-81a9-e1e00ededcd9",
   "metadata": {},
   "outputs": [],
   "source": [
    "df = df.drop(columns = list(columns_with_more_than_100k_missing_values.index))"
   ]
  },
  {
   "cell_type": "code",
   "execution_count": 9,
   "id": "10fa7872-364d-410e-a517-5d98278197db",
   "metadata": {},
   "outputs": [
    {
     "data": {
      "text/plain": [
       "(438693, 138)"
      ]
     },
     "execution_count": 9,
     "metadata": {},
     "output_type": "execute_result"
    }
   ],
   "source": [
    "df.shape"
   ]
  },
  {
   "cell_type": "code",
   "execution_count": 10,
   "id": "a74ae51b-8dcc-4518-aec5-45936e5fbda6",
   "metadata": {},
   "outputs": [
    {
     "data": {
      "text/plain": [
       "CHOLMED3    61571\n",
       "_RFCHOL3    61151\n",
       "TOLDHI3     60836\n",
       "_VEGESU1    60127\n",
       "_FRUTSU1    51087\n",
       "            ...  \n",
       "_TOTINDA        0\n",
       "_HCVU652        0\n",
       "_HLTHPLN        0\n",
       "_MENT14D        0\n",
       "_VEGETE1        0\n",
       "Length: 138, dtype: int64"
      ]
     },
     "execution_count": 10,
     "metadata": {},
     "output_type": "execute_result"
    }
   ],
   "source": [
    "df.isnull().sum().sort_values(ascending = False)"
   ]
  },
  {
   "cell_type": "code",
   "execution_count": 11,
   "id": "8796d97d-11f1-4a91-b96a-c470600f0f3c",
   "metadata": {},
   "outputs": [
    {
     "data": {
      "text/html": [
       "<div>\n",
       "<style scoped>\n",
       "    .dataframe tbody tr th:only-of-type {\n",
       "        vertical-align: middle;\n",
       "    }\n",
       "\n",
       "    .dataframe tbody tr th {\n",
       "        vertical-align: top;\n",
       "    }\n",
       "\n",
       "    .dataframe thead th {\n",
       "        text-align: right;\n",
       "    }\n",
       "</style>\n",
       "<table border=\"1\" class=\"dataframe\">\n",
       "  <thead>\n",
       "    <tr style=\"text-align: right;\">\n",
       "      <th></th>\n",
       "      <th>_STATE</th>\n",
       "      <th>FMONTH</th>\n",
       "      <th>IDATE</th>\n",
       "      <th>IMONTH</th>\n",
       "      <th>IDAY</th>\n",
       "      <th>IYEAR</th>\n",
       "      <th>DISPCODE</th>\n",
       "      <th>SEQNO</th>\n",
       "      <th>_PSU</th>\n",
       "      <th>SEXVAR</th>\n",
       "      <th>...</th>\n",
       "      <th>_FRTRES1</th>\n",
       "      <th>_VEGRES1</th>\n",
       "      <th>_FRUTSU1</th>\n",
       "      <th>_VEGESU1</th>\n",
       "      <th>_FRTLT1A</th>\n",
       "      <th>_VEGLT1A</th>\n",
       "      <th>_FRT16A</th>\n",
       "      <th>_VEG23A</th>\n",
       "      <th>_FRUITE1</th>\n",
       "      <th>_VEGETE1</th>\n",
       "    </tr>\n",
       "  </thead>\n",
       "  <tbody>\n",
       "    <tr>\n",
       "      <th>0</th>\n",
       "      <td>1.0</td>\n",
       "      <td>1.0</td>\n",
       "      <td>b'01192021'</td>\n",
       "      <td>b'01'</td>\n",
       "      <td>b'19'</td>\n",
       "      <td>b'2021'</td>\n",
       "      <td>1100.0</td>\n",
       "      <td>b'2021000001'</td>\n",
       "      <td>2.021000e+09</td>\n",
       "      <td>2.0</td>\n",
       "      <td>...</td>\n",
       "      <td>1.0</td>\n",
       "      <td>1.0</td>\n",
       "      <td>100.0</td>\n",
       "      <td>214.0</td>\n",
       "      <td>1.0</td>\n",
       "      <td>1.0</td>\n",
       "      <td>1.0</td>\n",
       "      <td>1.0</td>\n",
       "      <td>5.397605e-79</td>\n",
       "      <td>5.397605e-79</td>\n",
       "    </tr>\n",
       "    <tr>\n",
       "      <th>1</th>\n",
       "      <td>1.0</td>\n",
       "      <td>1.0</td>\n",
       "      <td>b'01212021'</td>\n",
       "      <td>b'01'</td>\n",
       "      <td>b'21'</td>\n",
       "      <td>b'2021'</td>\n",
       "      <td>1100.0</td>\n",
       "      <td>b'2021000002'</td>\n",
       "      <td>2.021000e+09</td>\n",
       "      <td>2.0</td>\n",
       "      <td>...</td>\n",
       "      <td>1.0</td>\n",
       "      <td>1.0</td>\n",
       "      <td>100.0</td>\n",
       "      <td>128.0</td>\n",
       "      <td>1.0</td>\n",
       "      <td>1.0</td>\n",
       "      <td>1.0</td>\n",
       "      <td>1.0</td>\n",
       "      <td>5.397605e-79</td>\n",
       "      <td>5.397605e-79</td>\n",
       "    </tr>\n",
       "    <tr>\n",
       "      <th>2</th>\n",
       "      <td>1.0</td>\n",
       "      <td>1.0</td>\n",
       "      <td>b'01212021'</td>\n",
       "      <td>b'01'</td>\n",
       "      <td>b'21'</td>\n",
       "      <td>b'2021'</td>\n",
       "      <td>1100.0</td>\n",
       "      <td>b'2021000003'</td>\n",
       "      <td>2.021000e+09</td>\n",
       "      <td>2.0</td>\n",
       "      <td>...</td>\n",
       "      <td>1.0</td>\n",
       "      <td>1.0</td>\n",
       "      <td>100.0</td>\n",
       "      <td>71.0</td>\n",
       "      <td>1.0</td>\n",
       "      <td>2.0</td>\n",
       "      <td>1.0</td>\n",
       "      <td>1.0</td>\n",
       "      <td>5.397605e-79</td>\n",
       "      <td>5.397605e-79</td>\n",
       "    </tr>\n",
       "    <tr>\n",
       "      <th>3</th>\n",
       "      <td>1.0</td>\n",
       "      <td>1.0</td>\n",
       "      <td>b'01172021'</td>\n",
       "      <td>b'01'</td>\n",
       "      <td>b'17'</td>\n",
       "      <td>b'2021'</td>\n",
       "      <td>1100.0</td>\n",
       "      <td>b'2021000004'</td>\n",
       "      <td>2.021000e+09</td>\n",
       "      <td>2.0</td>\n",
       "      <td>...</td>\n",
       "      <td>1.0</td>\n",
       "      <td>1.0</td>\n",
       "      <td>114.0</td>\n",
       "      <td>165.0</td>\n",
       "      <td>1.0</td>\n",
       "      <td>1.0</td>\n",
       "      <td>1.0</td>\n",
       "      <td>1.0</td>\n",
       "      <td>5.397605e-79</td>\n",
       "      <td>5.397605e-79</td>\n",
       "    </tr>\n",
       "    <tr>\n",
       "      <th>4</th>\n",
       "      <td>1.0</td>\n",
       "      <td>1.0</td>\n",
       "      <td>b'01152021'</td>\n",
       "      <td>b'01'</td>\n",
       "      <td>b'15'</td>\n",
       "      <td>b'2021'</td>\n",
       "      <td>1100.0</td>\n",
       "      <td>b'2021000005'</td>\n",
       "      <td>2.021000e+09</td>\n",
       "      <td>1.0</td>\n",
       "      <td>...</td>\n",
       "      <td>1.0</td>\n",
       "      <td>1.0</td>\n",
       "      <td>100.0</td>\n",
       "      <td>258.0</td>\n",
       "      <td>1.0</td>\n",
       "      <td>1.0</td>\n",
       "      <td>1.0</td>\n",
       "      <td>1.0</td>\n",
       "      <td>5.397605e-79</td>\n",
       "      <td>5.397605e-79</td>\n",
       "    </tr>\n",
       "  </tbody>\n",
       "</table>\n",
       "<p>5 rows × 138 columns</p>\n",
       "</div>"
      ],
      "text/plain": [
       "   _STATE  FMONTH        IDATE IMONTH   IDAY    IYEAR  DISPCODE  \\\n",
       "0     1.0     1.0  b'01192021'  b'01'  b'19'  b'2021'    1100.0   \n",
       "1     1.0     1.0  b'01212021'  b'01'  b'21'  b'2021'    1100.0   \n",
       "2     1.0     1.0  b'01212021'  b'01'  b'21'  b'2021'    1100.0   \n",
       "3     1.0     1.0  b'01172021'  b'01'  b'17'  b'2021'    1100.0   \n",
       "4     1.0     1.0  b'01152021'  b'01'  b'15'  b'2021'    1100.0   \n",
       "\n",
       "           SEQNO          _PSU  SEXVAR  ...  _FRTRES1  _VEGRES1  _FRUTSU1  \\\n",
       "0  b'2021000001'  2.021000e+09     2.0  ...       1.0       1.0     100.0   \n",
       "1  b'2021000002'  2.021000e+09     2.0  ...       1.0       1.0     100.0   \n",
       "2  b'2021000003'  2.021000e+09     2.0  ...       1.0       1.0     100.0   \n",
       "3  b'2021000004'  2.021000e+09     2.0  ...       1.0       1.0     114.0   \n",
       "4  b'2021000005'  2.021000e+09     1.0  ...       1.0       1.0     100.0   \n",
       "\n",
       "   _VEGESU1  _FRTLT1A  _VEGLT1A  _FRT16A  _VEG23A      _FRUITE1      _VEGETE1  \n",
       "0     214.0       1.0       1.0      1.0      1.0  5.397605e-79  5.397605e-79  \n",
       "1     128.0       1.0       1.0      1.0      1.0  5.397605e-79  5.397605e-79  \n",
       "2      71.0       1.0       2.0      1.0      1.0  5.397605e-79  5.397605e-79  \n",
       "3     165.0       1.0       1.0      1.0      1.0  5.397605e-79  5.397605e-79  \n",
       "4     258.0       1.0       1.0      1.0      1.0  5.397605e-79  5.397605e-79  \n",
       "\n",
       "[5 rows x 138 columns]"
      ]
     },
     "execution_count": 11,
     "metadata": {},
     "output_type": "execute_result"
    }
   ],
   "source": [
    "df.head(5)"
   ]
  },
  {
   "cell_type": "code",
   "execution_count": 45,
   "id": "7721a939-2f8f-4ee9-98ce-98dadcf11a1c",
   "metadata": {
    "scrolled": true,
    "tags": []
   },
   "outputs": [
    {
     "name": "stdout",
     "output_type": "stream",
     "text": [
      "_STATE\n",
      "FMONTH\n",
      "IDATE\n",
      "IMONTH\n",
      "IDAY\n",
      "IYEAR\n",
      "DISPCODE\n",
      "SEQNO\n",
      "_PSU\n",
      "SEXVAR\n",
      "GENHLTH\n",
      "PHYSHLTH\n",
      "MENTHLTH\n",
      "PRIMINSR\n",
      "PERSDOC3\n",
      "MEDCOST1\n",
      "CHECKUP1\n",
      "EXERANY2\n",
      "BPHIGH6\n",
      "CHOLCHK3\n",
      "TOLDHI3\n",
      "CHOLMED3\n",
      "CVDINFR4\n",
      "CVDCRHD4\n",
      "CVDSTRK3\n",
      "ASTHMA3\n",
      "CHCSCNCR\n",
      "CHCOCNCR\n",
      "CHCCOPD3\n",
      "ADDEPEV3\n",
      "CHCKDNY2\n",
      "DIABETE4\n",
      "HAVARTH5\n",
      "MARITAL\n",
      "EDUCA\n",
      "RENTHOM1\n",
      "CPDEMO1B\n",
      "VETERAN3\n",
      "EMPLOY1\n",
      "CHILDREN\n",
      "INCOME3\n",
      "WEIGHT2\n",
      "HEIGHT3\n",
      "DEAF\n",
      "BLIND\n",
      "DECIDE\n",
      "DIFFWALK\n",
      "DIFFDRES\n",
      "DIFFALON\n",
      "SMOKE100\n",
      "USENOW3\n",
      "ECIGNOW1\n",
      "ALCDAY5\n",
      "FLUSHOT7\n",
      "PNEUVAC4\n",
      "HIVTST7\n",
      "FRUIT2\n",
      "FRUITJU2\n",
      "FVGREEN1\n",
      "FRENCHF1\n",
      "POTATOE1\n",
      "VEGETAB2\n",
      "QSTVER\n",
      "QSTLANG\n",
      "_METSTAT\n",
      "_URBSTAT\n",
      "_STSTR\n",
      "_STRWT\n",
      "_RAWRAKE\n",
      "_WT2RAKE\n",
      "_IMPRACE\n",
      "_DUALUSE\n",
      "_LLCPWT2\n",
      "_LLCPWT\n",
      "_RFHLTH\n",
      "_PHYS14D\n",
      "_MENT14D\n",
      "_HLTHPLN\n",
      "_HCVU652\n",
      "_TOTINDA\n",
      "_RFHYPE6\n",
      "_CHOLCH3\n",
      "_RFCHOL3\n",
      "_MICHD\n",
      "_LTASTH1\n",
      "_CASTHM1\n",
      "_ASTHMS1\n",
      "_DRDXAR3\n",
      "_LMTACT3\n",
      "_LMTWRK3\n",
      "_PRACE1\n",
      "_MRACE1\n",
      "_HISPANC\n",
      "_RACE\n",
      "_RACEG21\n",
      "_RACEGR3\n",
      "_RACEPRV\n",
      "_SEX\n",
      "_AGEG5YR\n",
      "_AGE65YR\n",
      "_AGE80\n",
      "_AGE_G\n",
      "HTIN4\n",
      "HTM4\n",
      "WTKG3\n",
      "_BMI5\n",
      "_BMI5CAT\n",
      "_RFBMI5\n",
      "_CHLDCNT\n",
      "_EDUCAG\n",
      "_INCOMG1\n",
      "_SMOKER3\n",
      "_RFSMOK3\n",
      "_CURECI1\n",
      "DRNKANY5\n",
      "DROCDY3_\n",
      "_RFBING5\n",
      "_DRNKWK1\n",
      "_RFDRHV7\n",
      "_AIDTST4\n",
      "FTJUDA2_\n",
      "FRUTDA2_\n",
      "GRENDA1_\n",
      "FRNCHDA_\n",
      "POTADA1_\n",
      "VEGEDA2_\n",
      "_MISFRT1\n",
      "_MISVEG1\n",
      "_FRTRES1\n",
      "_VEGRES1\n",
      "_FRUTSU1\n",
      "_VEGESU1\n",
      "_FRTLT1A\n",
      "_VEGLT1A\n",
      "_FRT16A\n",
      "_VEG23A\n",
      "_FRUITE1\n",
      "_VEGETE1\n"
     ]
    }
   ],
   "source": [
    "for c in df.columns:\n",
    "    print(c)"
   ]
  },
  {
   "cell_type": "code",
   "execution_count": 46,
   "id": "78846ead-cea5-40ee-aa31-0750c1920d7e",
   "metadata": {},
   "outputs": [],
   "source": [
    "initial_removed_columns = ['FMONTH', 'IDATE', 'IMONTH', 'IDAY', \n",
    "                           'IYEAR', 'SEQNO', '_PSU', 'PRIMINSR', \n",
    "                           'PERSDOC3', 'MEDCOST1', 'CHOLCHK3', 'CVDINFR4', \n",
    "                           'CVDCRHD4', 'EDUCA', 'RENTHOM1', 'CPDEMO1B', \n",
    "                           'VETERAN3', 'DEAF', 'BLIND', 'DIFFALON', \n",
    "                           'FLUSHOT7','PNEUVAC4', 'HIVTST7', \n",
    "                           'VEGETAB2', 'QSTVER', 'QSTLANG', '_STSTR', \n",
    "                           '_STRWT','_RAWRAKE', '_WT2RAKE', '_DUALUSE', \n",
    "                           '_LLCPWT2', '_LLCPWT', '_HLTHPLN', '_HCVU652',\n",
    "                           '_LTASTH1', '_CASTHM1', '_LMTACT3', '_LMTWRK3', \n",
    "                           '_MRACE1', '_HISPANC', '_RACEG21','_RACEPRV', \n",
    "                           '_BMI5CAT', '_RFBMI5', '_RFSMOK3', '_CURECI1', \n",
    "                           '_RFBING5', '_RFDRHV7', '_AIDTST4', '_MISFRT1', \n",
    "                           '_MISVEG1', '_FRTRES1', '_VEGRES1','_FRTLT1A', \n",
    "                           '_VEGLT1A', '_FRT16A', '_VEG23A', '_FRUITE1', \n",
    "                           '_VEGETE1', 'DRNKANY5', 'ALCDAY5', 'DROCDY3_', \n",
    "                           'SEXVAR', '_AGE65YR', 'HEIGHT3', 'HTIN4', \n",
    "                           'WEIGHT2', '_PRACE1', '_RACE', '_RACEGR3', \n",
    "                           'INCOME3', 'EXERANY2', '_CHLDCNT', '_CHOLCH3',\n",
    "                           'TOLDHI3', 'BPHIGH6', '_MENT14D', '_PHYS14D',\n",
    "                           'FRUIT2', 'FRUITJU2', 'FVGREEN1', 'FRENCHF1',\n",
    "                           'POTATOE1', '_FRUTSU1', '_VEGESU1', 'DISPCODE', '_RFHLTH', 'ASTHMA3', 'SMOKE100',\n",
    "                           '_URBSTAT', 'HAVARTH5', '_AGEG5YR', '_AGE_G'\n",
    "                    ]"
   ]
  },
  {
   "cell_type": "code",
   "execution_count": null,
   "id": "70fd5aa8-a8cd-4432-9d15-bcf8a55e43e2",
   "metadata": {},
   "outputs": [],
   "source": [
    "\n"
   ]
  },
  {
   "cell_type": "code",
   "execution_count": 47,
   "id": "890c38fb-aabb-417d-ac55-02ec73c8889c",
   "metadata": {},
   "outputs": [
    {
     "data": {
      "text/plain": [
       "94"
      ]
     },
     "execution_count": 47,
     "metadata": {},
     "output_type": "execute_result"
    }
   ],
   "source": [
    "len(initial_removed_columns)"
   ]
  },
  {
   "cell_type": "code",
   "execution_count": 48,
   "id": "051bc86c-94e3-42ae-812a-def0848f1f80",
   "metadata": {},
   "outputs": [],
   "source": [
    "for c in initial_removed_columns:\n",
    "    if c not in df.columns:\n",
    "        print(c)"
   ]
  },
  {
   "cell_type": "code",
   "execution_count": 49,
   "id": "193bec58-d145-4fb0-94c3-53f93875ddfe",
   "metadata": {},
   "outputs": [],
   "source": [
    "df_after_initial = df.drop(columns = initial_removed_columns)"
   ]
  },
  {
   "cell_type": "code",
   "execution_count": 50,
   "id": "59b92d98-82c5-42b7-b8e8-b32f286d50cb",
   "metadata": {},
   "outputs": [
    {
     "data": {
      "text/html": [
       "<div>\n",
       "<style scoped>\n",
       "    .dataframe tbody tr th:only-of-type {\n",
       "        vertical-align: middle;\n",
       "    }\n",
       "\n",
       "    .dataframe tbody tr th {\n",
       "        vertical-align: top;\n",
       "    }\n",
       "\n",
       "    .dataframe thead th {\n",
       "        text-align: right;\n",
       "    }\n",
       "</style>\n",
       "<table border=\"1\" class=\"dataframe\">\n",
       "  <thead>\n",
       "    <tr style=\"text-align: right;\">\n",
       "      <th></th>\n",
       "      <th>_STATE</th>\n",
       "      <th>GENHLTH</th>\n",
       "      <th>PHYSHLTH</th>\n",
       "      <th>MENTHLTH</th>\n",
       "      <th>CHECKUP1</th>\n",
       "      <th>CHOLMED3</th>\n",
       "      <th>CVDSTRK3</th>\n",
       "      <th>CHCSCNCR</th>\n",
       "      <th>CHCOCNCR</th>\n",
       "      <th>CHCCOPD3</th>\n",
       "      <th>...</th>\n",
       "      <th>_EDUCAG</th>\n",
       "      <th>_INCOMG1</th>\n",
       "      <th>_SMOKER3</th>\n",
       "      <th>_DRNKWK1</th>\n",
       "      <th>FTJUDA2_</th>\n",
       "      <th>FRUTDA2_</th>\n",
       "      <th>GRENDA1_</th>\n",
       "      <th>FRNCHDA_</th>\n",
       "      <th>POTADA1_</th>\n",
       "      <th>VEGEDA2_</th>\n",
       "    </tr>\n",
       "  </thead>\n",
       "  <tbody>\n",
       "    <tr>\n",
       "      <th>0</th>\n",
       "      <td>1.0</td>\n",
       "      <td>5.0</td>\n",
       "      <td>20.0</td>\n",
       "      <td>10.0</td>\n",
       "      <td>2.0</td>\n",
       "      <td>1.0</td>\n",
       "      <td>2.0</td>\n",
       "      <td>2.0</td>\n",
       "      <td>2.0</td>\n",
       "      <td>1.0</td>\n",
       "      <td>...</td>\n",
       "      <td>2.0</td>\n",
       "      <td>3.0</td>\n",
       "      <td>3.0</td>\n",
       "      <td>5.397605e-79</td>\n",
       "      <td>5.397605e-79</td>\n",
       "      <td>100.0</td>\n",
       "      <td>5.700000e+01</td>\n",
       "      <td>4.300000e+01</td>\n",
       "      <td>14.0</td>\n",
       "      <td>100.0</td>\n",
       "    </tr>\n",
       "    <tr>\n",
       "      <th>1</th>\n",
       "      <td>1.0</td>\n",
       "      <td>3.0</td>\n",
       "      <td>88.0</td>\n",
       "      <td>88.0</td>\n",
       "      <td>1.0</td>\n",
       "      <td>1.0</td>\n",
       "      <td>2.0</td>\n",
       "      <td>2.0</td>\n",
       "      <td>2.0</td>\n",
       "      <td>2.0</td>\n",
       "      <td>...</td>\n",
       "      <td>4.0</td>\n",
       "      <td>9.0</td>\n",
       "      <td>4.0</td>\n",
       "      <td>5.397605e-79</td>\n",
       "      <td>5.397605e-79</td>\n",
       "      <td>100.0</td>\n",
       "      <td>1.400000e+01</td>\n",
       "      <td>5.397605e-79</td>\n",
       "      <td>14.0</td>\n",
       "      <td>100.0</td>\n",
       "    </tr>\n",
       "    <tr>\n",
       "      <th>2</th>\n",
       "      <td>1.0</td>\n",
       "      <td>2.0</td>\n",
       "      <td>88.0</td>\n",
       "      <td>88.0</td>\n",
       "      <td>1.0</td>\n",
       "      <td>2.0</td>\n",
       "      <td>2.0</td>\n",
       "      <td>2.0</td>\n",
       "      <td>2.0</td>\n",
       "      <td>2.0</td>\n",
       "      <td>...</td>\n",
       "      <td>2.0</td>\n",
       "      <td>2.0</td>\n",
       "      <td>4.0</td>\n",
       "      <td>5.397605e-79</td>\n",
       "      <td>5.397605e-79</td>\n",
       "      <td>100.0</td>\n",
       "      <td>5.397605e-79</td>\n",
       "      <td>1.400000e+01</td>\n",
       "      <td>14.0</td>\n",
       "      <td>43.0</td>\n",
       "    </tr>\n",
       "    <tr>\n",
       "      <th>3</th>\n",
       "      <td>1.0</td>\n",
       "      <td>2.0</td>\n",
       "      <td>88.0</td>\n",
       "      <td>10.0</td>\n",
       "      <td>1.0</td>\n",
       "      <td>2.0</td>\n",
       "      <td>2.0</td>\n",
       "      <td>2.0</td>\n",
       "      <td>2.0</td>\n",
       "      <td>2.0</td>\n",
       "      <td>...</td>\n",
       "      <td>2.0</td>\n",
       "      <td>5.0</td>\n",
       "      <td>4.0</td>\n",
       "      <td>3.000000e+02</td>\n",
       "      <td>7.100000e+01</td>\n",
       "      <td>43.0</td>\n",
       "      <td>1.000000e+01</td>\n",
       "      <td>5.700000e+01</td>\n",
       "      <td>27.0</td>\n",
       "      <td>71.0</td>\n",
       "    </tr>\n",
       "    <tr>\n",
       "      <th>4</th>\n",
       "      <td>1.0</td>\n",
       "      <td>5.0</td>\n",
       "      <td>30.0</td>\n",
       "      <td>88.0</td>\n",
       "      <td>1.0</td>\n",
       "      <td>1.0</td>\n",
       "      <td>1.0</td>\n",
       "      <td>2.0</td>\n",
       "      <td>2.0</td>\n",
       "      <td>2.0</td>\n",
       "      <td>...</td>\n",
       "      <td>1.0</td>\n",
       "      <td>2.0</td>\n",
       "      <td>4.0</td>\n",
       "      <td>5.397605e-79</td>\n",
       "      <td>5.397605e-79</td>\n",
       "      <td>100.0</td>\n",
       "      <td>1.000000e+02</td>\n",
       "      <td>2.900000e+01</td>\n",
       "      <td>29.0</td>\n",
       "      <td>100.0</td>\n",
       "    </tr>\n",
       "  </tbody>\n",
       "</table>\n",
       "<p>5 rows × 44 columns</p>\n",
       "</div>"
      ],
      "text/plain": [
       "   _STATE  GENHLTH  PHYSHLTH  MENTHLTH  CHECKUP1  CHOLMED3  CVDSTRK3  \\\n",
       "0     1.0      5.0      20.0      10.0       2.0       1.0       2.0   \n",
       "1     1.0      3.0      88.0      88.0       1.0       1.0       2.0   \n",
       "2     1.0      2.0      88.0      88.0       1.0       2.0       2.0   \n",
       "3     1.0      2.0      88.0      10.0       1.0       2.0       2.0   \n",
       "4     1.0      5.0      30.0      88.0       1.0       1.0       1.0   \n",
       "\n",
       "   CHCSCNCR  CHCOCNCR  CHCCOPD3  ...  _EDUCAG  _INCOMG1  _SMOKER3  \\\n",
       "0       2.0       2.0       1.0  ...      2.0       3.0       3.0   \n",
       "1       2.0       2.0       2.0  ...      4.0       9.0       4.0   \n",
       "2       2.0       2.0       2.0  ...      2.0       2.0       4.0   \n",
       "3       2.0       2.0       2.0  ...      2.0       5.0       4.0   \n",
       "4       2.0       2.0       2.0  ...      1.0       2.0       4.0   \n",
       "\n",
       "       _DRNKWK1      FTJUDA2_  FRUTDA2_      GRENDA1_      FRNCHDA_  POTADA1_  \\\n",
       "0  5.397605e-79  5.397605e-79     100.0  5.700000e+01  4.300000e+01      14.0   \n",
       "1  5.397605e-79  5.397605e-79     100.0  1.400000e+01  5.397605e-79      14.0   \n",
       "2  5.397605e-79  5.397605e-79     100.0  5.397605e-79  1.400000e+01      14.0   \n",
       "3  3.000000e+02  7.100000e+01      43.0  1.000000e+01  5.700000e+01      27.0   \n",
       "4  5.397605e-79  5.397605e-79     100.0  1.000000e+02  2.900000e+01      29.0   \n",
       "\n",
       "   VEGEDA2_  \n",
       "0     100.0  \n",
       "1     100.0  \n",
       "2      43.0  \n",
       "3      71.0  \n",
       "4     100.0  \n",
       "\n",
       "[5 rows x 44 columns]"
      ]
     },
     "execution_count": 50,
     "metadata": {},
     "output_type": "execute_result"
    }
   ],
   "source": [
    "df_after_initial.head()"
   ]
  },
  {
   "cell_type": "code",
   "execution_count": 62,
   "id": "c22f8ee0-80a4-45ba-a92b-7c4616b5bbda",
   "metadata": {},
   "outputs": [
    {
     "data": {
      "text/plain": [
       "434058"
      ]
     },
     "execution_count": 62,
     "metadata": {},
     "output_type": "execute_result"
    }
   ],
   "source": [
    "df_after_initial.shape[0] - df_after_initial[df_after_initial['_MICHD'].isnull() == True].shape[0]"
   ]
  },
  {
   "cell_type": "code",
   "execution_count": 63,
   "id": "14d23bda-e765-47e9-ad42-41c1525f7434",
   "metadata": {},
   "outputs": [
    {
     "data": {
      "text/plain": [
       "(434058, 44)"
      ]
     },
     "execution_count": 63,
     "metadata": {},
     "output_type": "execute_result"
    }
   ],
   "source": [
    "# Delete rows without target variables\n",
    "df_target_no_nulls = df_after_initial[df_after_initial['_MICHD'].isnull() == False]\n",
    "df_target_no_nulls.shape"
   ]
  },
  {
   "cell_type": "code",
   "execution_count": 65,
   "id": "bf225420-c246-4aef-8adb-98c42ec5f7f8",
   "metadata": {},
   "outputs": [],
   "source": [
    "# Delete rows with more than \n",
    "colums_missing = df_target_no_nulls.isnull().sum(axis = 1)"
   ]
  },
  {
   "cell_type": "code",
   "execution_count": 73,
   "id": "da17b3e6-748b-4de7-826c-f9ec7bfeee59",
   "metadata": {},
   "outputs": [],
   "source": [
    "indexes = colums_missing[colums_missing.values >= 10].index"
   ]
  },
  {
   "cell_type": "code",
   "execution_count": 75,
   "id": "39c1ed44-e935-4949-b378-fea9ec39c1d7",
   "metadata": {},
   "outputs": [
    {
     "data": {
      "text/plain": [
       "19547"
      ]
     },
     "execution_count": 75,
     "metadata": {},
     "output_type": "execute_result"
    }
   ],
   "source": [
    "len(indexes)"
   ]
  },
  {
   "cell_type": "code",
   "execution_count": 74,
   "id": "778b0646-0163-4a82-afb1-4894d4a0ada8",
   "metadata": {},
   "outputs": [],
   "source": [
    "df_cleaning = df_target_no_nulls.drop(indexes)"
   ]
  },
  {
   "cell_type": "code",
   "execution_count": 76,
   "id": "0932985d-5c64-4bce-bab7-5e88d2e9273f",
   "metadata": {},
   "outputs": [
    {
     "data": {
      "text/plain": [
       "(414511, 44)"
      ]
     },
     "execution_count": 76,
     "metadata": {},
     "output_type": "execute_result"
    }
   ],
   "source": [
    "df_cleaning.shape"
   ]
  },
  {
   "cell_type": "code",
   "execution_count": 77,
   "id": "cc8ec0a7-d061-4498-bced-4bccc3d07d28",
   "metadata": {},
   "outputs": [
    {
     "data": {
      "text/plain": [
       "434058"
      ]
     },
     "execution_count": 77,
     "metadata": {},
     "output_type": "execute_result"
    }
   ],
   "source": [
    "df_cleaning.shape[0] + len(indexes)"
   ]
  },
  {
   "cell_type": "code",
   "execution_count": 82,
   "id": "6242b89c-2a57-4550-8b2c-f8b2006fa8f3",
   "metadata": {},
   "outputs": [
    {
     "data": {
      "text/plain": [
       "0"
      ]
     },
     "execution_count": 82,
     "metadata": {},
     "output_type": "execute_result"
    }
   ],
   "source": [
    "# Check duplicated rows\n",
    "df_cleaning.duplicated().sum()"
   ]
  },
  {
   "cell_type": "code",
   "execution_count": 78,
   "id": "6e5af21c-78e3-468a-a575-a4961117b45c",
   "metadata": {},
   "outputs": [
    {
     "data": {
      "text/plain": [
       "_STATE          0\n",
       "GENHLTH         3\n",
       "PHYSHLTH        2\n",
       "MENTHLTH        0\n",
       "CHECKUP1        0\n",
       "CHOLMED3    56662\n",
       "CVDSTRK3        0\n",
       "CHCSCNCR        0\n",
       "CHCOCNCR        0\n",
       "CHCCOPD3        0\n",
       "ADDEPEV3        0\n",
       "CHCKDNY2        0\n",
       "DIABETE4        0\n",
       "MARITAL         1\n",
       "EMPLOY1         1\n",
       "CHILDREN        2\n",
       "DECIDE          0\n",
       "DIFFWALK        0\n",
       "DIFFDRES      494\n",
       "USENOW3      2715\n",
       "ECIGNOW1     3648\n",
       "_METSTAT     6812\n",
       "_IMPRACE        0\n",
       "_TOTINDA        0\n",
       "_RFHYPE6        0\n",
       "_RFCHOL3    56248\n",
       "_MICHD          0\n",
       "_ASTHMS1        0\n",
       "_DRDXAR3     2332\n",
       "_SEX            0\n",
       "_AGE80          0\n",
       "HTM4         9849\n",
       "WTKG3       25486\n",
       "_BMI5       30786\n",
       "_EDUCAG         0\n",
       "_INCOMG1        0\n",
       "_SMOKER3        0\n",
       "_DRNKWK1        0\n",
       "FTJUDA2_    24072\n",
       "FRUTDA2_    23649\n",
       "GRENDA1_    23943\n",
       "FRNCHDA_    24471\n",
       "POTADA1_    28095\n",
       "VEGEDA2_    28150\n",
       "dtype: int64"
      ]
     },
     "execution_count": 78,
     "metadata": {},
     "output_type": "execute_result"
    }
   ],
   "source": [
    "df_cleaning.isnull().sum()"
   ]
  },
  {
   "cell_type": "code",
   "execution_count": 83,
   "id": "b4d4c223-407c-4b0b-a6b5-2d148cb99c8d",
   "metadata": {},
   "outputs": [],
   "source": [
    "df_cleaning.to_csv('../data/cleaning_data_phase1.csv', index = False)"
   ]
  },
  {
   "cell_type": "code",
   "execution_count": 41,
   "id": "5f9391ed-3ce9-422b-9df0-020e3eb6ca55",
   "metadata": {},
   "outputs": [],
   "source": [
    "# with open('../data_dictionary.rtf', 'r') as file:\n",
    "#     text = file.read()\n",
    "    \n",
    "# dic_columns = []\n",
    "# for i in test.split('\\n'):\n",
    "#     dic_columns.append(i.split(':')[0])"
   ]
  },
  {
   "cell_type": "code",
   "execution_count": 43,
   "id": "dd66859d-0361-4b28-a15d-a38ee90616e6",
   "metadata": {},
   "outputs": [
    {
     "data": {
      "text/plain": [
       "44"
      ]
     },
     "execution_count": 43,
     "metadata": {},
     "output_type": "execute_result"
    }
   ],
   "source": [
    "# len(dic_columns)"
   ]
  },
  {
   "cell_type": "code",
   "execution_count": 44,
   "id": "cd51638a-f348-49b5-9f11-3f6c84f14736",
   "metadata": {},
   "outputs": [
    {
     "name": "stdout",
     "output_type": "stream",
     "text": [
      "USENOW3\n"
     ]
    }
   ],
   "source": [
    "# for c in dic_columns:\n",
    "#     if c not in df_after_initial.columns:\n",
    "#         print(c)"
   ]
  },
  {
   "cell_type": "code",
   "execution_count": null,
   "id": "51c0ba69-19b7-4514-a141-fd2aff5198b3",
   "metadata": {},
   "outputs": [],
   "source": []
  }
 ],
 "metadata": {
  "kernelspec": {
   "display_name": "Python 3 (ipykernel)",
   "language": "python",
   "name": "python3"
  },
  "language_info": {
   "codemirror_mode": {
    "name": "ipython",
    "version": 3
   },
   "file_extension": ".py",
   "mimetype": "text/x-python",
   "name": "python",
   "nbconvert_exporter": "python",
   "pygments_lexer": "ipython3",
   "version": "3.10.11"
  }
 },
 "nbformat": 4,
 "nbformat_minor": 5
}
