{
 "cells": [
  {
   "cell_type": "code",
   "execution_count": 1,
   "id": "db4cfd57-6e59-4ac6-8f36-3cf6d5dd45a8",
   "metadata": {},
   "outputs": [],
   "source": [
    "import pandas as pd\n",
    "from sklearn.ensemble import RandomForestClassifier, ExtraTreesClassifier\n",
    "from sklearn.model_selection import train_test_split, cross_val_score, GridSearchCV, RandomizedSearchCV\n",
    "from sklearn.compose import ColumnTransformer\n",
    "from sklearn.preprocessing import OneHotEncoder, StandardScaler\n",
    "from sklearn.impute import SimpleImputer\n",
    "from sklearn.pipeline import Pipeline\n",
    "from imblearn.pipeline import Pipeline as ImbPipeline\n",
    "from imblearn.over_sampling import RandomOverSampler\n",
    "from imblearn.over_sampling import SMOTE\n",
    "from imblearn.over_sampling import ADASYN\n",
    "from sklearn.metrics import ConfusionMatrixDisplay, accuracy_score,recall_score,balanced_accuracy_score, precision_score,f1_score"
   ]
  },
  {
   "cell_type": "code",
   "execution_count": 2,
   "id": "b079d511-688b-4436-a817-000336ce1d33",
   "metadata": {},
   "outputs": [],
   "source": [
    "df = pd.read_csv('../data/cleaning_data_phase2.csv.zip')"
   ]
  },
  {
   "cell_type": "code",
   "execution_count": 3,
   "id": "4d37bfa7-1839-48bd-87ff-2abd78017a47",
   "metadata": {},
   "outputs": [
    {
     "data": {
      "text/html": [
       "<div>\n",
       "<style scoped>\n",
       "    .dataframe tbody tr th:only-of-type {\n",
       "        vertical-align: middle;\n",
       "    }\n",
       "\n",
       "    .dataframe tbody tr th {\n",
       "        vertical-align: top;\n",
       "    }\n",
       "\n",
       "    .dataframe thead th {\n",
       "        text-align: right;\n",
       "    }\n",
       "</style>\n",
       "<table border=\"1\" class=\"dataframe\">\n",
       "  <thead>\n",
       "    <tr style=\"text-align: right;\">\n",
       "      <th></th>\n",
       "      <th>_michd</th>\n",
       "      <th>_sex</th>\n",
       "      <th>genhlth</th>\n",
       "      <th>physhlth</th>\n",
       "      <th>menthlth</th>\n",
       "      <th>addepev3</th>\n",
       "      <th>checkup1</th>\n",
       "      <th>_totinda</th>\n",
       "      <th>_rfhype6</th>\n",
       "      <th>cholmed3</th>\n",
       "      <th>...</th>\n",
       "      <th>_metstat</th>\n",
       "      <th>_imprace</th>\n",
       "      <th>_age80</th>\n",
       "      <th>_educag</th>\n",
       "      <th>ftjuda2_</th>\n",
       "      <th>frutda2_</th>\n",
       "      <th>grenda1_</th>\n",
       "      <th>frnchda_</th>\n",
       "      <th>potada1_</th>\n",
       "      <th>vegeda2_</th>\n",
       "    </tr>\n",
       "  </thead>\n",
       "  <tbody>\n",
       "    <tr>\n",
       "      <th>0</th>\n",
       "      <td>No</td>\n",
       "      <td>Female</td>\n",
       "      <td>Poor</td>\n",
       "      <td>20.0</td>\n",
       "      <td>10.0</td>\n",
       "      <td>No</td>\n",
       "      <td>Within past 2 years (1 year but &lt; 2 years ago)</td>\n",
       "      <td>No physical activity or exercise in last 30 days</td>\n",
       "      <td>No</td>\n",
       "      <td>Yes</td>\n",
       "      <td>...</td>\n",
       "      <td>yes</td>\n",
       "      <td>white</td>\n",
       "      <td>70.0</td>\n",
       "      <td>highschool</td>\n",
       "      <td>5.397605e-79</td>\n",
       "      <td>100.0</td>\n",
       "      <td>5.700000e+01</td>\n",
       "      <td>4.300000e+01</td>\n",
       "      <td>14.0</td>\n",
       "      <td>100.0</td>\n",
       "    </tr>\n",
       "    <tr>\n",
       "      <th>1</th>\n",
       "      <td>Yes</td>\n",
       "      <td>Female</td>\n",
       "      <td>Good</td>\n",
       "      <td>0.0</td>\n",
       "      <td>0.0</td>\n",
       "      <td>No</td>\n",
       "      <td>Within past year (anytime &lt; 12 months ago)</td>\n",
       "      <td>Had physical activity or exercise</td>\n",
       "      <td>Yes</td>\n",
       "      <td>Yes</td>\n",
       "      <td>...</td>\n",
       "      <td>yes</td>\n",
       "      <td>black</td>\n",
       "      <td>67.0</td>\n",
       "      <td>graduated college</td>\n",
       "      <td>5.397605e-79</td>\n",
       "      <td>100.0</td>\n",
       "      <td>1.400000e+01</td>\n",
       "      <td>5.397605e-79</td>\n",
       "      <td>14.0</td>\n",
       "      <td>100.0</td>\n",
       "    </tr>\n",
       "    <tr>\n",
       "      <th>2</th>\n",
       "      <td>Yes</td>\n",
       "      <td>Female</td>\n",
       "      <td>Very good</td>\n",
       "      <td>0.0</td>\n",
       "      <td>0.0</td>\n",
       "      <td>No</td>\n",
       "      <td>Within past year (anytime &lt; 12 months ago)</td>\n",
       "      <td>No physical activity or exercise in last 30 days</td>\n",
       "      <td>Yes</td>\n",
       "      <td>No</td>\n",
       "      <td>...</td>\n",
       "      <td>yes</td>\n",
       "      <td>black</td>\n",
       "      <td>72.0</td>\n",
       "      <td>highschool</td>\n",
       "      <td>5.397605e-79</td>\n",
       "      <td>100.0</td>\n",
       "      <td>5.397605e-79</td>\n",
       "      <td>1.400000e+01</td>\n",
       "      <td>14.0</td>\n",
       "      <td>43.0</td>\n",
       "    </tr>\n",
       "    <tr>\n",
       "      <th>3</th>\n",
       "      <td>No</td>\n",
       "      <td>Female</td>\n",
       "      <td>Very good</td>\n",
       "      <td>0.0</td>\n",
       "      <td>10.0</td>\n",
       "      <td>No</td>\n",
       "      <td>Within past year (anytime &lt; 12 months ago)</td>\n",
       "      <td>Had physical activity or exercise</td>\n",
       "      <td>Yes</td>\n",
       "      <td>No</td>\n",
       "      <td>...</td>\n",
       "      <td>yes</td>\n",
       "      <td>white</td>\n",
       "      <td>62.0</td>\n",
       "      <td>highschool</td>\n",
       "      <td>7.100000e+01</td>\n",
       "      <td>43.0</td>\n",
       "      <td>1.000000e+01</td>\n",
       "      <td>5.700000e+01</td>\n",
       "      <td>27.0</td>\n",
       "      <td>71.0</td>\n",
       "    </tr>\n",
       "    <tr>\n",
       "      <th>4</th>\n",
       "      <td>Yes</td>\n",
       "      <td>Male</td>\n",
       "      <td>Poor</td>\n",
       "      <td>30.0</td>\n",
       "      <td>0.0</td>\n",
       "      <td>No</td>\n",
       "      <td>Within past year (anytime &lt; 12 months ago)</td>\n",
       "      <td>Had physical activity or exercise</td>\n",
       "      <td>No</td>\n",
       "      <td>Yes</td>\n",
       "      <td>...</td>\n",
       "      <td>no</td>\n",
       "      <td>other race</td>\n",
       "      <td>76.0</td>\n",
       "      <td>no highschool</td>\n",
       "      <td>5.397605e-79</td>\n",
       "      <td>100.0</td>\n",
       "      <td>1.000000e+02</td>\n",
       "      <td>2.900000e+01</td>\n",
       "      <td>29.0</td>\n",
       "      <td>100.0</td>\n",
       "    </tr>\n",
       "  </tbody>\n",
       "</table>\n",
       "<p>5 rows × 44 columns</p>\n",
       "</div>"
      ],
      "text/plain": [
       "  _michd    _sex    genhlth  physhlth  menthlth addepev3  \\\n",
       "0     No  Female       Poor      20.0      10.0       No   \n",
       "1    Yes  Female       Good       0.0       0.0       No   \n",
       "2    Yes  Female  Very good       0.0       0.0       No   \n",
       "3     No  Female  Very good       0.0      10.0       No   \n",
       "4    Yes    Male       Poor      30.0       0.0       No   \n",
       "\n",
       "                                         checkup1  \\\n",
       "0  Within past 2 years (1 year but < 2 years ago)   \n",
       "1      Within past year (anytime < 12 months ago)   \n",
       "2      Within past year (anytime < 12 months ago)   \n",
       "3      Within past year (anytime < 12 months ago)   \n",
       "4      Within past year (anytime < 12 months ago)   \n",
       "\n",
       "                                           _totinda _rfhype6 cholmed3  ...  \\\n",
       "0  No physical activity or exercise in last 30 days       No      Yes  ...   \n",
       "1                 Had physical activity or exercise      Yes      Yes  ...   \n",
       "2  No physical activity or exercise in last 30 days      Yes       No  ...   \n",
       "3                 Had physical activity or exercise      Yes       No  ...   \n",
       "4                 Had physical activity or exercise       No      Yes  ...   \n",
       "\n",
       "  _metstat    _imprace _age80            _educag      ftjuda2_ frutda2_  \\\n",
       "0      yes       white   70.0         highschool  5.397605e-79    100.0   \n",
       "1      yes       black   67.0  graduated college  5.397605e-79    100.0   \n",
       "2      yes       black   72.0         highschool  5.397605e-79    100.0   \n",
       "3      yes       white   62.0         highschool  7.100000e+01     43.0   \n",
       "4       no  other race   76.0      no highschool  5.397605e-79    100.0   \n",
       "\n",
       "       grenda1_      frnchda_ potada1_ vegeda2_  \n",
       "0  5.700000e+01  4.300000e+01     14.0    100.0  \n",
       "1  1.400000e+01  5.397605e-79     14.0    100.0  \n",
       "2  5.397605e-79  1.400000e+01     14.0     43.0  \n",
       "3  1.000000e+01  5.700000e+01     27.0     71.0  \n",
       "4  1.000000e+02  2.900000e+01     29.0    100.0  \n",
       "\n",
       "[5 rows x 44 columns]"
      ]
     },
     "execution_count": 3,
     "metadata": {},
     "output_type": "execute_result"
    }
   ],
   "source": [
    "df.head()"
   ]
  },
  {
   "cell_type": "code",
   "execution_count": 6,
   "id": "0399cd40-486e-4cf3-a523-bdc976dc35b7",
   "metadata": {},
   "outputs": [],
   "source": [
    "X= df.drop(columns = ['_michd','_state'])\n",
    "y = df['_michd']"
   ]
  },
  {
   "cell_type": "code",
   "execution_count": 7,
   "id": "06dd1658-96f8-43a6-9598-d8ea183595d1",
   "metadata": {},
   "outputs": [],
   "source": [
    "X_train,X_test,y_train,y_test = train_test_split(X,y,random_state = 42)"
   ]
  },
  {
   "cell_type": "code",
   "execution_count": 8,
   "id": "f4efe427-6053-44d2-b42f-392c3ded397b",
   "metadata": {},
   "outputs": [],
   "source": [
    "categorical = X.select_dtypes('object').columns\n",
    "numerical = X.columns.drop(categorical)"
   ]
  },
  {
   "cell_type": "code",
   "execution_count": 9,
   "id": "829befcd-bea1-4224-b390-bf429f8d5729",
   "metadata": {},
   "outputs": [],
   "source": [
    "ohe = OneHotEncoder(drop='if_binary', handle_unknown='ignore', sparse=False) \n",
    "si_numerical = SimpleImputer(strategy='median')  "
   ]
  },
  {
   "cell_type": "code",
   "execution_count": 10,
   "id": "8d78fb90-e667-4718-9fee-64d94f4d7d96",
   "metadata": {},
   "outputs": [],
   "source": [
    "ctx = ColumnTransformer(\n",
    "transformers = [\n",
    "    ('ohe',ohe,categorical),\n",
    "    ('si_num',si_numerical,numerical)\n",
    "])"
   ]
  },
  {
   "cell_type": "code",
   "execution_count": 11,
   "id": "f3ac7371-b466-48ce-96a4-fcf70ab8e906",
   "metadata": {},
   "outputs": [
    {
     "name": "stderr",
     "output_type": "stream",
     "text": [
      "/Users/markbiernacki/opt/anaconda3/lib/python3.9/site-packages/sklearn/preprocessing/_encoders.py:868: FutureWarning: `sparse` was renamed to `sparse_output` in version 1.2 and will be removed in 1.4. `sparse_output` is ignored unless you leave `sparse` to its default value.\n",
      "  warnings.warn(\n"
     ]
    }
   ],
   "source": [
    "X_train_ohe_imputed = ctx.fit_transform(X_train)"
   ]
  },
  {
   "cell_type": "code",
   "execution_count": 12,
   "id": "3884fe12-14a0-4e13-b3ab-f5d0a43a6146",
   "metadata": {},
   "outputs": [],
   "source": [
    "X_test_ohe_imputed = ctx.transform(X_test)"
   ]
  },
  {
   "cell_type": "code",
   "execution_count": 13,
   "id": "210d5b8f-4546-4fbc-9af4-665aeb7f47ba",
   "metadata": {},
   "outputs": [],
   "source": [
    "rf = RandomForestClassifier()"
   ]
  },
  {
   "cell_type": "code",
   "execution_count": 22,
   "id": "2cce0a94-f92f-452a-b51b-244d020092f0",
   "metadata": {},
   "outputs": [],
   "source": [
    "param_dist = {\n",
    "    'n_estimators': [100],\n",
    "    'max_depth': [5],\n",
    "}\n",
    "\n",
    "rs = RandomizedSearchCV(estimator = rf, param_distributions = param_dist, cv = 3, scoring = 'balanced_accuracy')\n"
   ]
  },
  {
   "cell_type": "code",
   "execution_count": 23,
   "id": "2b3209e5-3f8c-496c-ac70-d2f0908b3773",
   "metadata": {},
   "outputs": [
    {
     "name": "stderr",
     "output_type": "stream",
     "text": [
      "/Users/markbiernacki/opt/anaconda3/lib/python3.9/site-packages/sklearn/model_selection/_search.py:305: UserWarning: The total space of parameters 1 is smaller than n_iter=10. Running 1 iterations. For exhaustive searches, use GridSearchCV.\n",
      "  warnings.warn(\n"
     ]
    },
    {
     "data": {
      "text/html": [
       "<style>#sk-container-id-2 {color: black;background-color: white;}#sk-container-id-2 pre{padding: 0;}#sk-container-id-2 div.sk-toggleable {background-color: white;}#sk-container-id-2 label.sk-toggleable__label {cursor: pointer;display: block;width: 100%;margin-bottom: 0;padding: 0.3em;box-sizing: border-box;text-align: center;}#sk-container-id-2 label.sk-toggleable__label-arrow:before {content: \"▸\";float: left;margin-right: 0.25em;color: #696969;}#sk-container-id-2 label.sk-toggleable__label-arrow:hover:before {color: black;}#sk-container-id-2 div.sk-estimator:hover label.sk-toggleable__label-arrow:before {color: black;}#sk-container-id-2 div.sk-toggleable__content {max-height: 0;max-width: 0;overflow: hidden;text-align: left;background-color: #f0f8ff;}#sk-container-id-2 div.sk-toggleable__content pre {margin: 0.2em;color: black;border-radius: 0.25em;background-color: #f0f8ff;}#sk-container-id-2 input.sk-toggleable__control:checked~div.sk-toggleable__content {max-height: 200px;max-width: 100%;overflow: auto;}#sk-container-id-2 input.sk-toggleable__control:checked~label.sk-toggleable__label-arrow:before {content: \"▾\";}#sk-container-id-2 div.sk-estimator input.sk-toggleable__control:checked~label.sk-toggleable__label {background-color: #d4ebff;}#sk-container-id-2 div.sk-label input.sk-toggleable__control:checked~label.sk-toggleable__label {background-color: #d4ebff;}#sk-container-id-2 input.sk-hidden--visually {border: 0;clip: rect(1px 1px 1px 1px);clip: rect(1px, 1px, 1px, 1px);height: 1px;margin: -1px;overflow: hidden;padding: 0;position: absolute;width: 1px;}#sk-container-id-2 div.sk-estimator {font-family: monospace;background-color: #f0f8ff;border: 1px dotted black;border-radius: 0.25em;box-sizing: border-box;margin-bottom: 0.5em;}#sk-container-id-2 div.sk-estimator:hover {background-color: #d4ebff;}#sk-container-id-2 div.sk-parallel-item::after {content: \"\";width: 100%;border-bottom: 1px solid gray;flex-grow: 1;}#sk-container-id-2 div.sk-label:hover label.sk-toggleable__label {background-color: #d4ebff;}#sk-container-id-2 div.sk-serial::before {content: \"\";position: absolute;border-left: 1px solid gray;box-sizing: border-box;top: 0;bottom: 0;left: 50%;z-index: 0;}#sk-container-id-2 div.sk-serial {display: flex;flex-direction: column;align-items: center;background-color: white;padding-right: 0.2em;padding-left: 0.2em;position: relative;}#sk-container-id-2 div.sk-item {position: relative;z-index: 1;}#sk-container-id-2 div.sk-parallel {display: flex;align-items: stretch;justify-content: center;background-color: white;position: relative;}#sk-container-id-2 div.sk-item::before, #sk-container-id-2 div.sk-parallel-item::before {content: \"\";position: absolute;border-left: 1px solid gray;box-sizing: border-box;top: 0;bottom: 0;left: 50%;z-index: -1;}#sk-container-id-2 div.sk-parallel-item {display: flex;flex-direction: column;z-index: 1;position: relative;background-color: white;}#sk-container-id-2 div.sk-parallel-item:first-child::after {align-self: flex-end;width: 50%;}#sk-container-id-2 div.sk-parallel-item:last-child::after {align-self: flex-start;width: 50%;}#sk-container-id-2 div.sk-parallel-item:only-child::after {width: 0;}#sk-container-id-2 div.sk-dashed-wrapped {border: 1px dashed gray;margin: 0 0.4em 0.5em 0.4em;box-sizing: border-box;padding-bottom: 0.4em;background-color: white;}#sk-container-id-2 div.sk-label label {font-family: monospace;font-weight: bold;display: inline-block;line-height: 1.2em;}#sk-container-id-2 div.sk-label-container {text-align: center;}#sk-container-id-2 div.sk-container {/* jupyter's `normalize.less` sets `[hidden] { display: none; }` but bootstrap.min.css set `[hidden] { display: none !important; }` so we also need the `!important` here to be able to override the default hidden behavior on the sphinx rendered scikit-learn.org. See: https://github.com/scikit-learn/scikit-learn/issues/21755 */display: inline-block !important;position: relative;}#sk-container-id-2 div.sk-text-repr-fallback {display: none;}</style><div id=\"sk-container-id-2\" class=\"sk-top-container\"><div class=\"sk-text-repr-fallback\"><pre>RandomizedSearchCV(cv=3, estimator=RandomForestClassifier(),\n",
       "                   param_distributions={&#x27;max_depth&#x27;: [5],\n",
       "                                        &#x27;n_estimators&#x27;: [100]},\n",
       "                   scoring=&#x27;balanced_accuracy&#x27;)</pre><b>In a Jupyter environment, please rerun this cell to show the HTML representation or trust the notebook. <br />On GitHub, the HTML representation is unable to render, please try loading this page with nbviewer.org.</b></div><div class=\"sk-container\" hidden><div class=\"sk-item sk-dashed-wrapped\"><div class=\"sk-label-container\"><div class=\"sk-label sk-toggleable\"><input class=\"sk-toggleable__control sk-hidden--visually\" id=\"sk-estimator-id-4\" type=\"checkbox\" ><label for=\"sk-estimator-id-4\" class=\"sk-toggleable__label sk-toggleable__label-arrow\">RandomizedSearchCV</label><div class=\"sk-toggleable__content\"><pre>RandomizedSearchCV(cv=3, estimator=RandomForestClassifier(),\n",
       "                   param_distributions={&#x27;max_depth&#x27;: [5],\n",
       "                                        &#x27;n_estimators&#x27;: [100]},\n",
       "                   scoring=&#x27;balanced_accuracy&#x27;)</pre></div></div></div><div class=\"sk-parallel\"><div class=\"sk-parallel-item\"><div class=\"sk-item\"><div class=\"sk-label-container\"><div class=\"sk-label sk-toggleable\"><input class=\"sk-toggleable__control sk-hidden--visually\" id=\"sk-estimator-id-5\" type=\"checkbox\" ><label for=\"sk-estimator-id-5\" class=\"sk-toggleable__label sk-toggleable__label-arrow\">estimator: RandomForestClassifier</label><div class=\"sk-toggleable__content\"><pre>RandomForestClassifier()</pre></div></div></div><div class=\"sk-serial\"><div class=\"sk-item\"><div class=\"sk-estimator sk-toggleable\"><input class=\"sk-toggleable__control sk-hidden--visually\" id=\"sk-estimator-id-6\" type=\"checkbox\" ><label for=\"sk-estimator-id-6\" class=\"sk-toggleable__label sk-toggleable__label-arrow\">RandomForestClassifier</label><div class=\"sk-toggleable__content\"><pre>RandomForestClassifier()</pre></div></div></div></div></div></div></div></div></div></div>"
      ],
      "text/plain": [
       "RandomizedSearchCV(cv=3, estimator=RandomForestClassifier(),\n",
       "                   param_distributions={'max_depth': [5],\n",
       "                                        'n_estimators': [100]},\n",
       "                   scoring='balanced_accuracy')"
      ]
     },
     "execution_count": 23,
     "metadata": {},
     "output_type": "execute_result"
    }
   ],
   "source": [
    "rs.fit(X_train_ohe_imputed,y_train)"
   ]
  },
  {
   "cell_type": "code",
   "execution_count": 24,
   "id": "602b3fce-0c97-4a55-b034-119c0eec8e88",
   "metadata": {},
   "outputs": [
    {
     "data": {
      "text/plain": [
       "<bound method BaseEstimator.get_params of RandomizedSearchCV(cv=3, estimator=RandomForestClassifier(),\n",
       "                   param_distributions={'max_depth': [5],\n",
       "                                        'n_estimators': [100]},\n",
       "                   scoring='balanced_accuracy')>"
      ]
     },
     "execution_count": 24,
     "metadata": {},
     "output_type": "execute_result"
    }
   ],
   "source": [
    "rs.get_params"
   ]
  },
  {
   "cell_type": "code",
   "execution_count": 26,
   "id": "f38cd044-d36a-482a-8d20-b25eba371376",
   "metadata": {},
   "outputs": [
    {
     "data": {
      "text/plain": [
       "0.5005742762031874"
      ]
     },
     "execution_count": 26,
     "metadata": {},
     "output_type": "execute_result"
    }
   ],
   "source": [
    "rs.score(X_test_ohe_imputed,y_test)"
   ]
  },
  {
   "cell_type": "code",
   "execution_count": 27,
   "id": "c73ad5aa-a88d-468e-b0e0-09faf75daa93",
   "metadata": {},
   "outputs": [],
   "source": [
    "def evaluation(X_test, y_test, preds, model):\n",
    "    ConfusionMatrixDisplay.from_estimator(model, X_test, y_test, cmap='Blues')\n",
    "    \n",
    "    b_acc = balanced_accuracy_score(y_test, preds)\n",
    "    recall = recall_score(y_test, preds, pos_label= 'Yes')\n",
    "    prec = precision_score(y_test, preds, pos_label= 'Yes')\n",
    "    f1 = f1_score(y_test, preds, pos_label= 'Yes')\n",
    "\n",
    "    print(f'balanced_accuracy: {b_acc}')\n",
    "    print(f'recall: {recall}')\n",
    "    print(f'precision: {prec}')\n",
    "    print(f'f1 score: {f1}')\n",
    "\n",
    "    return {\n",
    "        'balanced_accuracy': b_acc,\n",
    "        'recall': recall,\n",
    "        'precision': prec,\n",
    "        'f1_score': f1\n",
    "    }"
   ]
  },
  {
   "cell_type": "code",
   "execution_count": 28,
   "id": "71a8ba29-c6f1-4db2-bff2-87c7d170310e",
   "metadata": {},
   "outputs": [],
   "source": [
    "preds1 = rs.predict(X_test_ohe_imputed)"
   ]
  },
  {
   "cell_type": "code",
   "execution_count": 29,
   "id": "1f09d235-0130-4f2e-827c-2628b89f3fe0",
   "metadata": {},
   "outputs": [
    {
     "name": "stdout",
     "output_type": "stream",
     "text": [
      "balanced_accuracy: 0.5005742762031874\n",
      "recall: 0.001180080245456691\n",
      "precision: 0.7692307692307693\n",
      "f1 score: 0.0023565453045834807\n"
     ]
    },
    {
     "data": {
      "image/png": "[encoded data removed]",
      "text/plain": [
       "<Figure size 640x480 with 2 Axes>"
      ]
     },
     "metadata": {},
     "output_type": "display_data"
    }
   ],
   "source": [
    "scores = []\n",
    "scores.append(evaluation(X_test_ohe_imputed,y_test,preds1,rs))"
   ]
  },
  {
   "cell_type": "markdown",
   "id": "484cff84-d7ad-4d5f-94ae-a06fb03dd881",
   "metadata": {},
   "source": [
    "### Oversample the minority class\n"
   ]
  },
  {
   "cell_type": "code",
   "execution_count": 30,
   "id": "d8e38c81-bd58-4211-9f1d-191b1beefd62",
   "metadata": {},
   "outputs": [],
   "source": [
    "pipe_oversample = ImbPipeline(steps = [\n",
    "    ('sampling',RandomOverSampler(random_state = 42)),\n",
    "    ('model',rs)\n",
    "])"
   ]
  },
  {
   "cell_type": "code",
   "execution_count": 31,
   "id": "6980856d-0054-4f9d-8b78-9eca95228872",
   "metadata": {},
   "outputs": [
    {
     "name": "stderr",
     "output_type": "stream",
     "text": [
      "/Users/markbiernacki/opt/anaconda3/lib/python3.9/site-packages/sklearn/model_selection/_search.py:305: UserWarning: The total space of parameters 1 is smaller than n_iter=10. Running 1 iterations. For exhaustive searches, use GridSearchCV.\n",
      "  warnings.warn(\n"
     ]
    },
    {
     "data": {
      "text/html": [
       "<style>#sk-container-id-3 {color: black;background-color: white;}#sk-container-id-3 pre{padding: 0;}#sk-container-id-3 div.sk-toggleable {background-color: white;}#sk-container-id-3 label.sk-toggleable__label {cursor: pointer;display: block;width: 100%;margin-bottom: 0;padding: 0.3em;box-sizing: border-box;text-align: center;}#sk-container-id-3 label.sk-toggleable__label-arrow:before {content: \"▸\";float: left;margin-right: 0.25em;color: #696969;}#sk-container-id-3 label.sk-toggleable__label-arrow:hover:before {color: black;}#sk-container-id-3 div.sk-estimator:hover label.sk-toggleable__label-arrow:before {color: black;}#sk-container-id-3 div.sk-toggleable__content {max-height: 0;max-width: 0;overflow: hidden;text-align: left;background-color: #f0f8ff;}#sk-container-id-3 div.sk-toggleable__content pre {margin: 0.2em;color: black;border-radius: 0.25em;background-color: #f0f8ff;}#sk-container-id-3 input.sk-toggleable__control:checked~div.sk-toggleable__content {max-height: 200px;max-width: 100%;overflow: auto;}#sk-container-id-3 input.sk-toggleable__control:checked~label.sk-toggleable__label-arrow:before {content: \"▾\";}#sk-container-id-3 div.sk-estimator input.sk-toggleable__control:checked~label.sk-toggleable__label {background-color: #d4ebff;}#sk-container-id-3 div.sk-label input.sk-toggleable__control:checked~label.sk-toggleable__label {background-color: #d4ebff;}#sk-container-id-3 input.sk-hidden--visually {border: 0;clip: rect(1px 1px 1px 1px);clip: rect(1px, 1px, 1px, 1px);height: 1px;margin: -1px;overflow: hidden;padding: 0;position: absolute;width: 1px;}#sk-container-id-3 div.sk-estimator {font-family: monospace;background-color: #f0f8ff;border: 1px dotted black;border-radius: 0.25em;box-sizing: border-box;margin-bottom: 0.5em;}#sk-container-id-3 div.sk-estimator:hover {background-color: #d4ebff;}#sk-container-id-3 div.sk-parallel-item::after {content: \"\";width: 100%;border-bottom: 1px solid gray;flex-grow: 1;}#sk-container-id-3 div.sk-label:hover label.sk-toggleable__label {background-color: #d4ebff;}#sk-container-id-3 div.sk-serial::before {content: \"\";position: absolute;border-left: 1px solid gray;box-sizing: border-box;top: 0;bottom: 0;left: 50%;z-index: 0;}#sk-container-id-3 div.sk-serial {display: flex;flex-direction: column;align-items: center;background-color: white;padding-right: 0.2em;padding-left: 0.2em;position: relative;}#sk-container-id-3 div.sk-item {position: relative;z-index: 1;}#sk-container-id-3 div.sk-parallel {display: flex;align-items: stretch;justify-content: center;background-color: white;position: relative;}#sk-container-id-3 div.sk-item::before, #sk-container-id-3 div.sk-parallel-item::before {content: \"\";position: absolute;border-left: 1px solid gray;box-sizing: border-box;top: 0;bottom: 0;left: 50%;z-index: -1;}#sk-container-id-3 div.sk-parallel-item {display: flex;flex-direction: column;z-index: 1;position: relative;background-color: white;}#sk-container-id-3 div.sk-parallel-item:first-child::after {align-self: flex-end;width: 50%;}#sk-container-id-3 div.sk-parallel-item:last-child::after {align-self: flex-start;width: 50%;}#sk-container-id-3 div.sk-parallel-item:only-child::after {width: 0;}#sk-container-id-3 div.sk-dashed-wrapped {border: 1px dashed gray;margin: 0 0.4em 0.5em 0.4em;box-sizing: border-box;padding-bottom: 0.4em;background-color: white;}#sk-container-id-3 div.sk-label label {font-family: monospace;font-weight: bold;display: inline-block;line-height: 1.2em;}#sk-container-id-3 div.sk-label-container {text-align: center;}#sk-container-id-3 div.sk-container {/* jupyter's `normalize.less` sets `[hidden] { display: none; }` but bootstrap.min.css set `[hidden] { display: none !important; }` so we also need the `!important` here to be able to override the default hidden behavior on the sphinx rendered scikit-learn.org. See: https://github.com/scikit-learn/scikit-learn/issues/21755 */display: inline-block !important;position: relative;}#sk-container-id-3 div.sk-text-repr-fallback {display: none;}</style><div id=\"sk-container-id-3\" class=\"sk-top-container\"><div class=\"sk-text-repr-fallback\"><pre>Pipeline(steps=[(&#x27;sampling&#x27;, RandomOverSampler(random_state=42)),\n",
       "                (&#x27;model&#x27;,\n",
       "                 RandomizedSearchCV(cv=3, estimator=RandomForestClassifier(),\n",
       "                                    param_distributions={&#x27;max_depth&#x27;: [5],\n",
       "                                                         &#x27;n_estimators&#x27;: [100]},\n",
       "                                    scoring=&#x27;balanced_accuracy&#x27;))])</pre><b>In a Jupyter environment, please rerun this cell to show the HTML representation or trust the notebook. <br />On GitHub, the HTML representation is unable to render, please try loading this page with nbviewer.org.</b></div><div class=\"sk-container\" hidden><div class=\"sk-item sk-dashed-wrapped\"><div class=\"sk-label-container\"><div class=\"sk-label sk-toggleable\"><input class=\"sk-toggleable__control sk-hidden--visually\" id=\"sk-estimator-id-7\" type=\"checkbox\" ><label for=\"sk-estimator-id-7\" class=\"sk-toggleable__label sk-toggleable__label-arrow\">Pipeline</label><div class=\"sk-toggleable__content\"><pre>Pipeline(steps=[(&#x27;sampling&#x27;, RandomOverSampler(random_state=42)),\n",
       "                (&#x27;model&#x27;,\n",
       "                 RandomizedSearchCV(cv=3, estimator=RandomForestClassifier(),\n",
       "                                    param_distributions={&#x27;max_depth&#x27;: [5],\n",
       "                                                         &#x27;n_estimators&#x27;: [100]},\n",
       "                                    scoring=&#x27;balanced_accuracy&#x27;))])</pre></div></div></div><div class=\"sk-serial\"><div class=\"sk-item\"><div class=\"sk-estimator sk-toggleable\"><input class=\"sk-toggleable__control sk-hidden--visually\" id=\"sk-estimator-id-8\" type=\"checkbox\" ><label for=\"sk-estimator-id-8\" class=\"sk-toggleable__label sk-toggleable__label-arrow\">RandomOverSampler</label><div class=\"sk-toggleable__content\"><pre>RandomOverSampler(random_state=42)</pre></div></div></div><div class=\"sk-item sk-dashed-wrapped\"><div class=\"sk-label-container\"><div class=\"sk-label sk-toggleable\"><input class=\"sk-toggleable__control sk-hidden--visually\" id=\"sk-estimator-id-9\" type=\"checkbox\" ><label for=\"sk-estimator-id-9\" class=\"sk-toggleable__label sk-toggleable__label-arrow\">model: RandomizedSearchCV</label><div class=\"sk-toggleable__content\"><pre>RandomizedSearchCV(cv=3, estimator=RandomForestClassifier(),\n",
       "                   param_distributions={&#x27;max_depth&#x27;: [5],\n",
       "                                        &#x27;n_estimators&#x27;: [100]},\n",
       "                   scoring=&#x27;balanced_accuracy&#x27;)</pre></div></div></div><div class=\"sk-parallel\"><div class=\"sk-parallel-item\"><div class=\"sk-item\"><div class=\"sk-label-container\"><div class=\"sk-label sk-toggleable\"><input class=\"sk-toggleable__control sk-hidden--visually\" id=\"sk-estimator-id-10\" type=\"checkbox\" ><label for=\"sk-estimator-id-10\" class=\"sk-toggleable__label sk-toggleable__label-arrow\">estimator: RandomForestClassifier</label><div class=\"sk-toggleable__content\"><pre>RandomForestClassifier()</pre></div></div></div><div class=\"sk-serial\"><div class=\"sk-item\"><div class=\"sk-estimator sk-toggleable\"><input class=\"sk-toggleable__control sk-hidden--visually\" id=\"sk-estimator-id-11\" type=\"checkbox\" ><label for=\"sk-estimator-id-11\" class=\"sk-toggleable__label sk-toggleable__label-arrow\">RandomForestClassifier</label><div class=\"sk-toggleable__content\"><pre>RandomForestClassifier()</pre></div></div></div></div></div></div></div></div></div></div></div></div>"
      ],
      "text/plain": [
       "Pipeline(steps=[('sampling', RandomOverSampler(random_state=42)),\n",
       "                ('model',\n",
       "                 RandomizedSearchCV(cv=3, estimator=RandomForestClassifier(),\n",
       "                                    param_distributions={'max_depth': [5],\n",
       "                                                         'n_estimators': [100]},\n",
       "                                    scoring='balanced_accuracy'))])"
      ]
     },
     "execution_count": 31,
     "metadata": {},
     "output_type": "execute_result"
    }
   ],
   "source": [
    "pipe_oversample.fit(X_train_ohe_imputed,y_train)"
   ]
  },
  {
   "cell_type": "code",
   "execution_count": 32,
   "id": "b01176ed-5f9e-4a4f-9753-65ec05214983",
   "metadata": {},
   "outputs": [],
   "source": [
    "preds_oversample = pipe_oversample.predict(X_test_ohe_imputed)"
   ]
  },
  {
   "cell_type": "code",
   "execution_count": 33,
   "id": "401e748f-6658-4302-9169-c859ccfb7d90",
   "metadata": {},
   "outputs": [
    {
     "name": "stdout",
     "output_type": "stream",
     "text": [
      "balanced_accuracy: 0.7724445659555622\n",
      "recall: 0.8270002360160491\n",
      "precision: 0.20701878766394896\n",
      "f1 score: 0.33114397769692394\n"
     ]
    },
    {
     "data": {
      "image/png": "[encoded data removed]",
      "text/plain": [
       "<Figure size 640x480 with 2 Axes>"
      ]
     },
     "metadata": {},
     "output_type": "display_data"
    }
   ],
   "source": [
    "scores.append(evaluation(X_test_ohe_imputed,y_test,preds_oversample,pipe_oversample))"
   ]
  },
  {
   "cell_type": "markdown",
   "id": "4db040c8-9c48-48c6-98c2-cd5bc99a52dd",
   "metadata": {},
   "source": [
    "### SMOTE"
   ]
  },
  {
   "cell_type": "code",
   "execution_count": 35,
   "id": "101a9723-1acb-4164-bf8d-3ab115edd368",
   "metadata": {},
   "outputs": [],
   "source": [
    "pipe_smote = ImbPipeline(steps = [\n",
    "    ('sampling',SMOTE(random_state = 42)),\n",
    "    ('model',rs)\n",
    "])"
   ]
  },
  {
   "cell_type": "code",
   "execution_count": 36,
   "id": "be8454a3-9e19-4d57-88ae-87ab01f87b0d",
   "metadata": {},
   "outputs": [
    {
     "name": "stderr",
     "output_type": "stream",
     "text": [
      "/Users/markbiernacki/opt/anaconda3/lib/python3.9/site-packages/sklearn/model_selection/_search.py:305: UserWarning: The total space of parameters 1 is smaller than n_iter=10. Running 1 iterations. For exhaustive searches, use GridSearchCV.\n",
      "  warnings.warn(\n"
     ]
    },
    {
     "name": "stdout",
     "output_type": "stream",
     "text": [
      "balanced_accuracy: 0.7016701790281716\n",
      "recall: 0.515695067264574\n",
      "precision: 0.290153376269836\n",
      "f1 score: 0.37136180157212667\n"
     ]
    },
    {
     "data": {
      "image/png": "[encoded data removed]",
      "text/plain": [
       "<Figure size 640x480 with 2 Axes>"
      ]
     },
     "metadata": {},
     "output_type": "display_data"
    }
   ],
   "source": [
    "pipe_smote.fit(X_train_ohe_imputed,y_train)\n",
    "preds_smote = pipe_smote.predict(X_test_ohe_imputed)\n",
    "scores.append(evaluation(X_test_ohe_imputed,y_test,preds_smote,pipe_smote))"
   ]
  },
  {
   "cell_type": "markdown",
   "id": "1af2b8bd-561d-47bc-a51f-d276e9bdbad1",
   "metadata": {},
   "source": [
    "### ADASYN"
   ]
  },
  {
   "cell_type": "code",
   "execution_count": 37,
   "id": "809e6e03-0b68-487b-9b28-a1cd3d9a637d",
   "metadata": {},
   "outputs": [],
   "source": [
    "pipe_adasyn = ImbPipeline(steps = [\n",
    "    ('sampling',ADASYN(random_state = 42)),\n",
    "    ('model',rs)\n",
    "])"
   ]
  },
  {
   "cell_type": "code",
   "execution_count": 38,
   "id": "2ace2e8e-03f0-4499-8230-0cce41f5262d",
   "metadata": {},
   "outputs": [
    {
     "name": "stderr",
     "output_type": "stream",
     "text": [
      "/Users/markbiernacki/opt/anaconda3/lib/python3.9/site-packages/sklearn/model_selection/_search.py:305: UserWarning: The total space of parameters 1 is smaller than n_iter=10. Running 1 iterations. For exhaustive searches, use GridSearchCV.\n",
      "  warnings.warn(\n"
     ]
    },
    {
     "name": "stdout",
     "output_type": "stream",
     "text": [
      "balanced_accuracy: 0.6986576159966149\n",
      "recall: 0.5062544253009205\n",
      "precision: 0.2927128820960699\n",
      "f1 score: 0.3709468223086901\n"
     ]
    },
    {
     "data": {
      "image/png": "[encoded data removed]",
      "text/plain": [
       "<Figure size 640x480 with 2 Axes>"
      ]
     },
     "metadata": {},
     "output_type": "display_data"
    }
   ],
   "source": [
    "pipe_adasyn.fit(X_train_ohe_imputed,y_train)\n",
    "preds_adasyn = pipe_adasyn.predict(X_test_ohe_imputed)\n",
    "scores.append(evaluation(X_test_ohe_imputed,y_test,preds_adasyn,pipe_adasyn))"
   ]
  },
  {
   "cell_type": "code",
   "execution_count": null,
   "id": "211a9a17-6e85-4f52-a628-8154c15c3ec8",
   "metadata": {},
   "outputs": [],
   "source": []
  }
 ],
 "metadata": {
  "kernelspec": {
   "display_name": "Python 3 (ipykernel)",
   "language": "python",
   "name": "python3"
  },
  "language_info": {
   "codemirror_mode": {
    "name": "ipython",
    "version": 3
   },
   "file_extension": ".py",
   "mimetype": "text/x-python",
   "name": "python",
   "nbconvert_exporter": "python",
   "pygments_lexer": "ipython3",
   "version": "3.9.13"
  }
 },
 "nbformat": 4,
 "nbformat_minor": 5
}
