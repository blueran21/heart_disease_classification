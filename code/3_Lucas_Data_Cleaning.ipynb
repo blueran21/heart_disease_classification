{
 "cells": [
  {
   "cell_type": "code",
   "execution_count": 1,
   "id": "90e8bb76-42f1-4249-8f37-7beb1cfab248",
   "metadata": {},
   "outputs": [],
   "source": [
    "import pandas as pd"
   ]
  },
  {
   "cell_type": "code",
   "execution_count": 5,
   "id": "381046a3-4302-4252-8974-aa3ba8181493",
   "metadata": {},
   "outputs": [
    {
     "data": {
      "text/html": [
       "<div>\n",
       "<style scoped>\n",
       "    .dataframe tbody tr th:only-of-type {\n",
       "        vertical-align: middle;\n",
       "    }\n",
       "\n",
       "    .dataframe tbody tr th {\n",
       "        vertical-align: top;\n",
       "    }\n",
       "\n",
       "    .dataframe thead th {\n",
       "        text-align: right;\n",
       "    }\n",
       "</style>\n",
       "<table border=\"1\" class=\"dataframe\">\n",
       "  <thead>\n",
       "    <tr style=\"text-align: right;\">\n",
       "      <th></th>\n",
       "      <th>_STATE</th>\n",
       "      <th>GENHLTH</th>\n",
       "      <th>PHYSHLTH</th>\n",
       "      <th>MENTHLTH</th>\n",
       "      <th>CHECKUP1</th>\n",
       "      <th>CHOLMED3</th>\n",
       "      <th>CVDSTRK3</th>\n",
       "      <th>CHCSCNCR</th>\n",
       "      <th>CHCOCNCR</th>\n",
       "      <th>CHCCOPD3</th>\n",
       "      <th>...</th>\n",
       "      <th>_EDUCAG</th>\n",
       "      <th>_INCOMG1</th>\n",
       "      <th>_SMOKER3</th>\n",
       "      <th>_DRNKWK1</th>\n",
       "      <th>FTJUDA2_</th>\n",
       "      <th>FRUTDA2_</th>\n",
       "      <th>GRENDA1_</th>\n",
       "      <th>FRNCHDA_</th>\n",
       "      <th>POTADA1_</th>\n",
       "      <th>VEGEDA2_</th>\n",
       "    </tr>\n",
       "  </thead>\n",
       "  <tbody>\n",
       "    <tr>\n",
       "      <th>0</th>\n",
       "      <td>1.0</td>\n",
       "      <td>5.0</td>\n",
       "      <td>20.0</td>\n",
       "      <td>10.0</td>\n",
       "      <td>2.0</td>\n",
       "      <td>1.0</td>\n",
       "      <td>2.0</td>\n",
       "      <td>2.0</td>\n",
       "      <td>2.0</td>\n",
       "      <td>1.0</td>\n",
       "      <td>...</td>\n",
       "      <td>2.0</td>\n",
       "      <td>3.0</td>\n",
       "      <td>3.0</td>\n",
       "      <td>5.397605e-79</td>\n",
       "      <td>5.397605e-79</td>\n",
       "      <td>100.0</td>\n",
       "      <td>5.700000e+01</td>\n",
       "      <td>4.300000e+01</td>\n",
       "      <td>14.0</td>\n",
       "      <td>100.0</td>\n",
       "    </tr>\n",
       "    <tr>\n",
       "      <th>1</th>\n",
       "      <td>1.0</td>\n",
       "      <td>3.0</td>\n",
       "      <td>88.0</td>\n",
       "      <td>88.0</td>\n",
       "      <td>1.0</td>\n",
       "      <td>1.0</td>\n",
       "      <td>2.0</td>\n",
       "      <td>2.0</td>\n",
       "      <td>2.0</td>\n",
       "      <td>2.0</td>\n",
       "      <td>...</td>\n",
       "      <td>4.0</td>\n",
       "      <td>9.0</td>\n",
       "      <td>4.0</td>\n",
       "      <td>5.397605e-79</td>\n",
       "      <td>5.397605e-79</td>\n",
       "      <td>100.0</td>\n",
       "      <td>1.400000e+01</td>\n",
       "      <td>5.397605e-79</td>\n",
       "      <td>14.0</td>\n",
       "      <td>100.0</td>\n",
       "    </tr>\n",
       "    <tr>\n",
       "      <th>2</th>\n",
       "      <td>1.0</td>\n",
       "      <td>2.0</td>\n",
       "      <td>88.0</td>\n",
       "      <td>88.0</td>\n",
       "      <td>1.0</td>\n",
       "      <td>2.0</td>\n",
       "      <td>2.0</td>\n",
       "      <td>2.0</td>\n",
       "      <td>2.0</td>\n",
       "      <td>2.0</td>\n",
       "      <td>...</td>\n",
       "      <td>2.0</td>\n",
       "      <td>2.0</td>\n",
       "      <td>4.0</td>\n",
       "      <td>5.397605e-79</td>\n",
       "      <td>5.397605e-79</td>\n",
       "      <td>100.0</td>\n",
       "      <td>5.397605e-79</td>\n",
       "      <td>1.400000e+01</td>\n",
       "      <td>14.0</td>\n",
       "      <td>43.0</td>\n",
       "    </tr>\n",
       "    <tr>\n",
       "      <th>3</th>\n",
       "      <td>1.0</td>\n",
       "      <td>2.0</td>\n",
       "      <td>88.0</td>\n",
       "      <td>10.0</td>\n",
       "      <td>1.0</td>\n",
       "      <td>2.0</td>\n",
       "      <td>2.0</td>\n",
       "      <td>2.0</td>\n",
       "      <td>2.0</td>\n",
       "      <td>2.0</td>\n",
       "      <td>...</td>\n",
       "      <td>2.0</td>\n",
       "      <td>5.0</td>\n",
       "      <td>4.0</td>\n",
       "      <td>3.000000e+02</td>\n",
       "      <td>7.100000e+01</td>\n",
       "      <td>43.0</td>\n",
       "      <td>1.000000e+01</td>\n",
       "      <td>5.700000e+01</td>\n",
       "      <td>27.0</td>\n",
       "      <td>71.0</td>\n",
       "    </tr>\n",
       "    <tr>\n",
       "      <th>4</th>\n",
       "      <td>1.0</td>\n",
       "      <td>5.0</td>\n",
       "      <td>30.0</td>\n",
       "      <td>88.0</td>\n",
       "      <td>1.0</td>\n",
       "      <td>1.0</td>\n",
       "      <td>1.0</td>\n",
       "      <td>2.0</td>\n",
       "      <td>2.0</td>\n",
       "      <td>2.0</td>\n",
       "      <td>...</td>\n",
       "      <td>1.0</td>\n",
       "      <td>2.0</td>\n",
       "      <td>4.0</td>\n",
       "      <td>5.397605e-79</td>\n",
       "      <td>5.397605e-79</td>\n",
       "      <td>100.0</td>\n",
       "      <td>1.000000e+02</td>\n",
       "      <td>2.900000e+01</td>\n",
       "      <td>29.0</td>\n",
       "      <td>100.0</td>\n",
       "    </tr>\n",
       "  </tbody>\n",
       "</table>\n",
       "<p>5 rows × 44 columns</p>\n",
       "</div>"
      ],
      "text/plain": [
       "   _STATE  GENHLTH  PHYSHLTH  MENTHLTH  CHECKUP1  CHOLMED3  CVDSTRK3  \\\n",
       "0     1.0      5.0      20.0      10.0       2.0       1.0       2.0   \n",
       "1     1.0      3.0      88.0      88.0       1.0       1.0       2.0   \n",
       "2     1.0      2.0      88.0      88.0       1.0       2.0       2.0   \n",
       "3     1.0      2.0      88.0      10.0       1.0       2.0       2.0   \n",
       "4     1.0      5.0      30.0      88.0       1.0       1.0       1.0   \n",
       "\n",
       "   CHCSCNCR  CHCOCNCR  CHCCOPD3  ...  _EDUCAG  _INCOMG1  _SMOKER3  \\\n",
       "0       2.0       2.0       1.0  ...      2.0       3.0       3.0   \n",
       "1       2.0       2.0       2.0  ...      4.0       9.0       4.0   \n",
       "2       2.0       2.0       2.0  ...      2.0       2.0       4.0   \n",
       "3       2.0       2.0       2.0  ...      2.0       5.0       4.0   \n",
       "4       2.0       2.0       2.0  ...      1.0       2.0       4.0   \n",
       "\n",
       "       _DRNKWK1      FTJUDA2_  FRUTDA2_      GRENDA1_      FRNCHDA_  POTADA1_  \\\n",
       "0  5.397605e-79  5.397605e-79     100.0  5.700000e+01  4.300000e+01      14.0   \n",
       "1  5.397605e-79  5.397605e-79     100.0  1.400000e+01  5.397605e-79      14.0   \n",
       "2  5.397605e-79  5.397605e-79     100.0  5.397605e-79  1.400000e+01      14.0   \n",
       "3  3.000000e+02  7.100000e+01      43.0  1.000000e+01  5.700000e+01      27.0   \n",
       "4  5.397605e-79  5.397605e-79     100.0  1.000000e+02  2.900000e+01      29.0   \n",
       "\n",
       "   VEGEDA2_  \n",
       "0     100.0  \n",
       "1     100.0  \n",
       "2      43.0  \n",
       "3      71.0  \n",
       "4     100.0  \n",
       "\n",
       "[5 rows x 44 columns]"
      ]
     },
     "execution_count": 5,
     "metadata": {},
     "output_type": "execute_result"
    }
   ],
   "source": [
    "#Read in data\n",
    "df = pd.read_csv('../data/cleaning_data_phase1.csv.zip')\n",
    "df.head()"
   ]
  },
  {
   "cell_type": "code",
   "execution_count": 6,
   "id": "a875c95d-8325-48df-be84-ff9293c18aa5",
   "metadata": {},
   "outputs": [
    {
     "data": {
      "text/plain": [
       "(414511, 14)"
      ]
     },
     "execution_count": 6,
     "metadata": {},
     "output_type": "execute_result"
    }
   ],
   "source": [
    "#Filter out columns assigned to lucas to clean\n",
    "lucas_df = df[['_SMOKER3','USENOW3','ECIGNOW1','_DRNKWK1',\n",
    "'_METSTAT','_IMPRACE','_AGE80','_EDUCAG',\n",
    "'FTJUDA2_','FRUTDA2_','GRENDA1_','FRNCHDA_',\n",
    "'POTADA1_','VEGEDA2_']]\n",
    "\n",
    "lucas_df.shape"
   ]
  },
  {
   "cell_type": "markdown",
   "id": "6b9c925d-c31a-4af5-8b72-ce61e19e759e",
   "metadata": {},
   "source": [
    "# SMOKER3\n",
    "Four-level smoker status: Everyday smoker, Someday smoker, Former smoker, Non-smoker\n"
   ]
  },
  {
   "cell_type": "code",
   "execution_count": 7,
   "id": "3c4fb34d-1388-4ce6-95ef-9e3f79bd954c",
   "metadata": {},
   "outputs": [
    {
     "name": "stderr",
     "output_type": "stream",
     "text": [
      "/var/folders/2s/0cx_vgq111qdb9jklnsjxt5w0000gp/T/ipykernel_2653/315093553.py:4: SettingWithCopyWarning: \n",
      "A value is trying to be set on a copy of a slice from a DataFrame.\n",
      "Try using .loc[row_indexer,col_indexer] = value instead\n",
      "\n",
      "See the caveats in the documentation: https://pandas.pydata.org/pandas-docs/stable/user_guide/indexing.html#returning-a-view-versus-a-copy\n",
      "  lucas_df['_SMOKER3'] = lucas_df['_SMOKER3'] = lucas_df['_SMOKER3'].map(smoker_labels)\n"
     ]
    }
   ],
   "source": [
    "#Change smoker values\n",
    "smoker_labels = {9 : 'missing', 4 : 'never smoked', 3: 'former smoker', 2: 'someday smoker', 1: 'everday smoker'}\n",
    "\n",
    "lucas_df['_SMOKER3'] = lucas_df['_SMOKER3'] = lucas_df['_SMOKER3'].map(smoker_labels)"
   ]
  },
  {
   "cell_type": "code",
   "execution_count": 8,
   "id": "7bac3fcc-4de0-4753-a6e9-6b9852ce28cd",
   "metadata": {},
   "outputs": [
    {
     "data": {
      "text/plain": [
       "never smoked      244013\n",
       "former smoker     111829\n",
       "everday smoker     38387\n",
       "someday smoker     14711\n",
       "missing             5571\n",
       "Name: _SMOKER3, dtype: int64"
      ]
     },
     "execution_count": 8,
     "metadata": {},
     "output_type": "execute_result"
    }
   ],
   "source": [
    "lucas_df['_SMOKER3'].value_counts(dropna = False)"
   ]
  },
  {
   "cell_type": "markdown",
   "id": "e5bbc84d-0ee6-43ff-b1b0-8311061cc0ae",
   "metadata": {},
   "source": [
    "# USENOW3\n",
    "Frequency of using chewing tobacco"
   ]
  },
  {
   "cell_type": "code",
   "execution_count": 9,
   "id": "e542ede3-50b4-4bae-a804-d857f3b572a0",
   "metadata": {},
   "outputs": [
    {
     "name": "stderr",
     "output_type": "stream",
     "text": [
      "/var/folders/2s/0cx_vgq111qdb9jklnsjxt5w0000gp/T/ipykernel_2653/754823372.py:4: SettingWithCopyWarning: \n",
      "A value is trying to be set on a copy of a slice from a DataFrame.\n",
      "Try using .loc[row_indexer,col_indexer] = value instead\n",
      "\n",
      "See the caveats in the documentation: https://pandas.pydata.org/pandas-docs/stable/user_guide/indexing.html#returning-a-view-versus-a-copy\n",
      "  lucas_df['USENOW3'] = lucas_df['USENOW3'].map(usenow_labels)\n"
     ]
    }
   ],
   "source": [
    "#Change usenow values\n",
    "usenow_labels = {1: 'every day', 2: 'some days', 3: 'no', 7: 'not sure', 9: 'refused', None: 'missing'}\n",
    "\n",
    "lucas_df['USENOW3'] = lucas_df['USENOW3'].map(usenow_labels)"
   ]
  },
  {
   "cell_type": "code",
   "execution_count": 10,
   "id": "b825ea50-6728-411c-b080-5702a217f451",
   "metadata": {},
   "outputs": [
    {
     "data": {
      "text/plain": [
       "no           398041\n",
       "every day      7671\n",
       "some days      5393\n",
       "missing        2715\n",
       "refused         506\n",
       "not sure        185\n",
       "Name: USENOW3, dtype: int64"
      ]
     },
     "execution_count": 10,
     "metadata": {},
     "output_type": "execute_result"
    }
   ],
   "source": [
    "lucas_df['USENOW3'].value_counts(dropna = False)"
   ]
  },
  {
   "cell_type": "markdown",
   "id": "a2b8372e-256e-49b5-8f96-f66446bd8ed3",
   "metadata": {},
   "source": [
    "# ECIGNOW1\n",
    "Do you now use e-cigarettes, every day, some days, or not at all?"
   ]
  },
  {
   "cell_type": "code",
   "execution_count": 11,
   "id": "2f962978-9b3b-4086-9aef-5f6a6ec51422",
   "metadata": {},
   "outputs": [
    {
     "name": "stderr",
     "output_type": "stream",
     "text": [
      "/var/folders/2s/0cx_vgq111qdb9jklnsjxt5w0000gp/T/ipykernel_2653/90887693.py:4: SettingWithCopyWarning: \n",
      "A value is trying to be set on a copy of a slice from a DataFrame.\n",
      "Try using .loc[row_indexer,col_indexer] = value instead\n",
      "\n",
      "See the caveats in the documentation: https://pandas.pydata.org/pandas-docs/stable/user_guide/indexing.html#returning-a-view-versus-a-copy\n",
      "  lucas_df['ECIGNOW1'] = lucas_df['ECIGNOW1'].map(ECIGNOW1_labels)\n"
     ]
    }
   ],
   "source": [
    "#Changing ECIGNOW1 values\n",
    "ECIGNOW1_labels = {1: 'everyday', 2: 'somedays', 3: 'no', 4: 'never', 7: 'not sure', 9: 'refused', None: 'missing'}\n",
    "\n",
    "lucas_df['ECIGNOW1'] = lucas_df['ECIGNOW1'].map(ECIGNOW1_labels)"
   ]
  },
  {
   "cell_type": "code",
   "execution_count": 12,
   "id": "3c1ae833-fa2f-4084-bebf-32376a78420a",
   "metadata": {},
   "outputs": [
    {
     "data": {
      "text/plain": [
       "no          307990\n",
       "never        82978\n",
       "somedays     10182\n",
       "everyday      8977\n",
       "missing       3648\n",
       "refused        497\n",
       "not sure       239\n",
       "Name: ECIGNOW1, dtype: int64"
      ]
     },
     "execution_count": 12,
     "metadata": {},
     "output_type": "execute_result"
    }
   ],
   "source": [
    "lucas_df['ECIGNOW1'].value_counts(dropna = False)"
   ]
  },
  {
   "cell_type": "markdown",
   "id": "ea31817e-6933-4f32-8cbd-df5ee5ec9f9c",
   "metadata": {},
   "source": [
    "# _DRNKWK1\n",
    "Calculated total number of alcoholic beverages consumed per week."
   ]
  },
  {
   "cell_type": "code",
   "execution_count": 13,
   "id": "a3c58591-5588-4e47-87ec-9a46f6310bd7",
   "metadata": {},
   "outputs": [
    {
     "name": "stderr",
     "output_type": "stream",
     "text": [
      "/var/folders/2s/0cx_vgq111qdb9jklnsjxt5w0000gp/T/ipykernel_2653/2711803132.py:3: SettingWithCopyWarning: \n",
      "A value is trying to be set on a copy of a slice from a DataFrame.\n",
      "Try using .loc[row_indexer,col_indexer] = value instead\n",
      "\n",
      "See the caveats in the documentation: https://pandas.pydata.org/pandas-docs/stable/user_guide/indexing.html#returning-a-view-versus-a-copy\n",
      "  lucas_df['_DRNKWK1'] = lucas_df['_DRNKWK1'].map(lambda x: x if x < 99900 else None)\n"
     ]
    }
   ],
   "source": [
    "#Changing _DRNKWK1 values: if it is equal to 999000 it is Null\n",
    "\n",
    "lucas_df['_DRNKWK1'] = lucas_df['_DRNKWK1'].map(lambda x: x if x < 99900 else None)"
   ]
  },
  {
   "cell_type": "code",
   "execution_count": 14,
   "id": "bda93baf-8cfe-4df3-ae12-4865a1e135d4",
   "metadata": {},
   "outputs": [
    {
     "data": {
      "text/plain": [
       "15125"
      ]
     },
     "execution_count": 14,
     "metadata": {},
     "output_type": "execute_result"
    }
   ],
   "source": [
    "lucas_df['_DRNKWK1'].isnull().sum()"
   ]
  },
  {
   "cell_type": "markdown",
   "id": "f41a6f78-a648-4f71-968a-5b930ce69731",
   "metadata": {},
   "source": [
    "# _METSTAT\n",
    "Metropolitan Status"
   ]
  },
  {
   "cell_type": "code",
   "execution_count": 15,
   "id": "d856bf4c-fa52-4aee-bba3-6c0b2167c833",
   "metadata": {},
   "outputs": [
    {
     "name": "stderr",
     "output_type": "stream",
     "text": [
      "/var/folders/2s/0cx_vgq111qdb9jklnsjxt5w0000gp/T/ipykernel_2653/138205222.py:4: SettingWithCopyWarning: \n",
      "A value is trying to be set on a copy of a slice from a DataFrame.\n",
      "Try using .loc[row_indexer,col_indexer] = value instead\n",
      "\n",
      "See the caveats in the documentation: https://pandas.pydata.org/pandas-docs/stable/user_guide/indexing.html#returning-a-view-versus-a-copy\n",
      "  lucas_df['_METSTAT'] = lucas_df['_METSTAT'].map(_METSTAT_labels)\n"
     ]
    }
   ],
   "source": [
    "#Changing _METSTAT values\n",
    "_METSTAT_labels = {1: 'yes', 2: 'no', None: 'missing'}\n",
    "\n",
    "lucas_df['_METSTAT'] = lucas_df['_METSTAT'].map(_METSTAT_labels)"
   ]
  },
  {
   "cell_type": "code",
   "execution_count": 16,
   "id": "14d04c13-0175-41b8-af3c-197b0b13e201",
   "metadata": {},
   "outputs": [
    {
     "data": {
      "text/plain": [
       "yes        283103\n",
       "no         124596\n",
       "missing      6812\n",
       "Name: _METSTAT, dtype: int64"
      ]
     },
     "execution_count": 16,
     "metadata": {},
     "output_type": "execute_result"
    }
   ],
   "source": [
    "lucas_df['_METSTAT'].value_counts(dropna = False)"
   ]
  },
  {
   "cell_type": "markdown",
   "id": "b289d991-46fd-494a-87b4-bd50a702d280",
   "metadata": {},
   "source": [
    "# _IMPRACE\n",
    "Imputed race/ethnicity value (If no response, imputed with most common race for that region)\n"
   ]
  },
  {
   "cell_type": "code",
   "execution_count": 17,
   "id": "404e7ec2-fdc4-437d-9fc3-ecb9b2cb1d9c",
   "metadata": {},
   "outputs": [
    {
     "name": "stderr",
     "output_type": "stream",
     "text": [
      "/var/folders/2s/0cx_vgq111qdb9jklnsjxt5w0000gp/T/ipykernel_2653/1462210858.py:4: SettingWithCopyWarning: \n",
      "A value is trying to be set on a copy of a slice from a DataFrame.\n",
      "Try using .loc[row_indexer,col_indexer] = value instead\n",
      "\n",
      "See the caveats in the documentation: https://pandas.pydata.org/pandas-docs/stable/user_guide/indexing.html#returning-a-view-versus-a-copy\n",
      "  lucas_df['_IMPRACE'] = lucas_df['_IMPRACE'].map(_IMPRACE_labels)\n"
     ]
    }
   ],
   "source": [
    "#Changing _IMPRACE values\n",
    "_IMPRACE_labels = {1: 'white', 2: 'black', 3: 'asian', 4: 'native american', 5: 'hispanic', 6: 'other race'}\n",
    "\n",
    "lucas_df['_IMPRACE'] = lucas_df['_IMPRACE'].map(_IMPRACE_labels)"
   ]
  },
  {
   "cell_type": "code",
   "execution_count": 18,
   "id": "3be5a42c-bebe-404b-9846-547669f76109",
   "metadata": {},
   "outputs": [
    {
     "data": {
      "text/plain": [
       "white              315667\n",
       "hispanic            36145\n",
       "black               30488\n",
       "other race          14654\n",
       "asian               10630\n",
       "native american      6927\n",
       "Name: _IMPRACE, dtype: int64"
      ]
     },
     "execution_count": 18,
     "metadata": {},
     "output_type": "execute_result"
    }
   ],
   "source": [
    "lucas_df['_IMPRACE'].value_counts(dropna = False)"
   ]
  },
  {
   "cell_type": "markdown",
   "id": "551d3971-f2ec-4487-a9d1-24413c14fac5",
   "metadata": {},
   "source": [
    "# _AGE80\n",
    "Imputed Age value collapsed above 80"
   ]
  },
  {
   "cell_type": "code",
   "execution_count": 19,
   "id": "4657dc85-8bf2-4fb3-a359-0193e92a3a06",
   "metadata": {},
   "outputs": [
    {
     "data": {
      "text/plain": [
       "count    414511.000000\n",
       "mean         54.722048\n",
       "std          17.569839\n",
       "min          18.000000\n",
       "25%          41.000000\n",
       "50%          57.000000\n",
       "75%          69.000000\n",
       "max          80.000000\n",
       "Name: _AGE80, dtype: float64"
      ]
     },
     "execution_count": 19,
     "metadata": {},
     "output_type": "execute_result"
    }
   ],
   "source": [
    "lucas_df['_AGE80'].describe()"
   ]
  },
  {
   "cell_type": "markdown",
   "id": "981ceb3a-07ce-4ef6-bbb7-74ce601956bd",
   "metadata": {},
   "source": [
    "# _EDUCAG\n",
    "Level of education completed"
   ]
  },
  {
   "cell_type": "code",
   "execution_count": 20,
   "id": "15cbfe49-ef1f-404c-994f-d886a5c675ae",
   "metadata": {},
   "outputs": [
    {
     "name": "stderr",
     "output_type": "stream",
     "text": [
      "/var/folders/2s/0cx_vgq111qdb9jklnsjxt5w0000gp/T/ipykernel_2653/532543655.py:4: SettingWithCopyWarning: \n",
      "A value is trying to be set on a copy of a slice from a DataFrame.\n",
      "Try using .loc[row_indexer,col_indexer] = value instead\n",
      "\n",
      "See the caveats in the documentation: https://pandas.pydata.org/pandas-docs/stable/user_guide/indexing.html#returning-a-view-versus-a-copy\n",
      "  lucas_df['_EDUCAG'] = lucas_df['_EDUCAG'].map(_EDUCAG_labels)\n"
     ]
    }
   ],
   "source": [
    "#Changing _IMPRACE values\n",
    "_EDUCAG_labels = {1: 'no highschool', 2: 'highschool', 3: 'attended college', 4: 'graduated college', 9: 'missing'}\n",
    "\n",
    "lucas_df['_EDUCAG'] = lucas_df['_EDUCAG'].map(_EDUCAG_labels)"
   ]
  },
  {
   "cell_type": "code",
   "execution_count": 21,
   "id": "7e1ea49e-7da2-4882-bfe6-f8a65b47a419",
   "metadata": {},
   "outputs": [
    {
     "data": {
      "text/plain": [
       "graduated college    170496\n",
       "attended college     114027\n",
       "highschool           104345\n",
       "no highschool         23877\n",
       "missing                1766\n",
       "Name: _EDUCAG, dtype: int64"
      ]
     },
     "execution_count": 21,
     "metadata": {},
     "output_type": "execute_result"
    }
   ],
   "source": [
    "lucas_df['_EDUCAG'].value_counts(dropna = False)"
   ]
  },
  {
   "cell_type": "markdown",
   "id": "21a6328e-f891-409f-90ef-9d859c2d4b0f",
   "metadata": {},
   "source": [
    "# FTJUDA2_\n",
    "Computed Fruit Juice intake in times per day"
   ]
  },
  {
   "cell_type": "code",
   "execution_count": 22,
   "id": "cc4b2de2-bdfa-4e4c-8ee3-9e5b902e4d74",
   "metadata": {},
   "outputs": [
    {
     "data": {
      "text/plain": [
       "24072"
      ]
     },
     "execution_count": 22,
     "metadata": {},
     "output_type": "execute_result"
    }
   ],
   "source": [
    "lucas_df['FTJUDA2_'].isnull().sum()"
   ]
  },
  {
   "cell_type": "code",
   "execution_count": 23,
   "id": "d49cbe17-336d-43ae-943e-2cdebf640119",
   "metadata": {},
   "outputs": [
    {
     "data": {
      "text/plain": [
       "count    390439.0\n",
       "mean         44.0\n",
       "std         364.0\n",
       "min           0.0\n",
       "25%           0.0\n",
       "50%           3.0\n",
       "75%          33.0\n",
       "max        9900.0\n",
       "Name: FTJUDA2_, dtype: float64"
      ]
     },
     "execution_count": 23,
     "metadata": {},
     "output_type": "execute_result"
    }
   ],
   "source": [
    "lucas_df['FTJUDA2_'].describe().round()"
   ]
  },
  {
   "cell_type": "markdown",
   "id": "78a777a8-80a4-4860-992b-b3991b18bd67",
   "metadata": {},
   "source": [
    "# FRUTDA2_\n",
    "Computed Fruit intake in times per day"
   ]
  },
  {
   "cell_type": "code",
   "execution_count": 24,
   "id": "0b7ff8d7-761b-429e-b5f5-59e07b932ce3",
   "metadata": {},
   "outputs": [
    {
     "data": {
      "text/plain": [
       "23649"
      ]
     },
     "execution_count": 24,
     "metadata": {},
     "output_type": "execute_result"
    }
   ],
   "source": [
    "lucas_df['FRUTDA2_'].isnull().sum()"
   ]
  },
  {
   "cell_type": "code",
   "execution_count": 25,
   "id": "38309be3-a5a8-4610-82c8-273c0d215c45",
   "metadata": {},
   "outputs": [
    {
     "data": {
      "text/plain": [
       "count    390862.0\n",
       "mean        134.0\n",
       "std         499.0\n",
       "min           0.0\n",
       "25%          43.0\n",
       "50%         100.0\n",
       "75%         100.0\n",
       "max        9900.0\n",
       "Name: FRUTDA2_, dtype: float64"
      ]
     },
     "execution_count": 25,
     "metadata": {},
     "output_type": "execute_result"
    }
   ],
   "source": [
    "lucas_df['FRUTDA2_'].describe().round()"
   ]
  },
  {
   "cell_type": "markdown",
   "id": "5332303e-9de6-4907-8fc0-85844fff7b0b",
   "metadata": {},
   "source": [
    "# GRENDA1_\n",
    "Computed Dark Green Vegetable intake in times per day\n"
   ]
  },
  {
   "cell_type": "code",
   "execution_count": 26,
   "id": "c1b5ba60-03b8-409b-9d05-db45c2cda10f",
   "metadata": {},
   "outputs": [
    {
     "data": {
      "text/plain": [
       "23943"
      ]
     },
     "execution_count": 26,
     "metadata": {},
     "output_type": "execute_result"
    }
   ],
   "source": [
    "lucas_df['GRENDA1_'].isnull().sum()"
   ]
  },
  {
   "cell_type": "code",
   "execution_count": 27,
   "id": "59e8ac86-28ff-4059-adf7-94e31b5e2277",
   "metadata": {},
   "outputs": [
    {
     "data": {
      "text/plain": [
       "count    390568.0\n",
       "mean         79.0\n",
       "std         464.0\n",
       "min           0.0\n",
       "25%          14.0\n",
       "50%          43.0\n",
       "75%          71.0\n",
       "max        9900.0\n",
       "Name: GRENDA1_, dtype: float64"
      ]
     },
     "execution_count": 27,
     "metadata": {},
     "output_type": "execute_result"
    }
   ],
   "source": [
    "lucas_df['GRENDA1_'].describe().round()"
   ]
  },
  {
   "cell_type": "markdown",
   "id": "64d0bf9e-6c65-486d-bdd1-a887800bd95b",
   "metadata": {},
   "source": [
    "# FRNCHDA_\n",
    "Computed French Fry intake in times per day\n"
   ]
  },
  {
   "cell_type": "code",
   "execution_count": 28,
   "id": "72c3ebca-be5b-4cb3-8734-f7be26b026d9",
   "metadata": {},
   "outputs": [
    {
     "data": {
      "text/plain": [
       "24471"
      ]
     },
     "execution_count": 28,
     "metadata": {},
     "output_type": "execute_result"
    }
   ],
   "source": [
    "lucas_df['FRNCHDA_'].isnull().sum()"
   ]
  },
  {
   "cell_type": "code",
   "execution_count": 29,
   "id": "0ba3c7be-73b2-4eba-9f8d-57fd2a184120",
   "metadata": {},
   "outputs": [
    {
     "data": {
      "text/plain": [
       "count    390040.0\n",
       "mean         26.0\n",
       "std         174.0\n",
       "min           0.0\n",
       "25%           3.0\n",
       "50%          14.0\n",
       "75%          29.0\n",
       "max        9900.0\n",
       "Name: FRNCHDA_, dtype: float64"
      ]
     },
     "execution_count": 29,
     "metadata": {},
     "output_type": "execute_result"
    }
   ],
   "source": [
    "lucas_df['FRNCHDA_'].describe().round()"
   ]
  },
  {
   "cell_type": "markdown",
   "id": "6bb06fb6-1ced-4968-af93-1695dd658932",
   "metadata": {},
   "source": [
    "# POTADA1_\n",
    "Computed Potato Servings per day\n"
   ]
  },
  {
   "cell_type": "code",
   "execution_count": 30,
   "id": "b5383e3c-e316-4847-95b3-fcb53ba2ed22",
   "metadata": {},
   "outputs": [
    {
     "data": {
      "text/plain": [
       "28095"
      ]
     },
     "execution_count": 30,
     "metadata": {},
     "output_type": "execute_result"
    }
   ],
   "source": [
    "lucas_df['POTADA1_'].isnull().sum()"
   ]
  },
  {
   "cell_type": "code",
   "execution_count": 31,
   "id": "56649742-862b-4a2c-9003-dbafc612018e",
   "metadata": {},
   "outputs": [
    {
     "data": {
      "text/plain": [
       "count    386416.0\n",
       "mean         28.0\n",
       "std         178.0\n",
       "min           0.0\n",
       "25%           7.0\n",
       "50%          14.0\n",
       "75%          29.0\n",
       "max        9900.0\n",
       "Name: POTADA1_, dtype: float64"
      ]
     },
     "execution_count": 31,
     "metadata": {},
     "output_type": "execute_result"
    }
   ],
   "source": [
    "lucas_df['POTADA1_'].describe().round()"
   ]
  },
  {
   "cell_type": "markdown",
   "id": "60f74214-6ead-4ca6-853a-a2ae11e0fb38",
   "metadata": {},
   "source": [
    "# VEGEDA2_\n",
    "Computed Other Vegetable intake in times per day"
   ]
  },
  {
   "cell_type": "code",
   "execution_count": 32,
   "id": "e14b7ac9-44a2-45fb-8d60-24abf7dada0d",
   "metadata": {},
   "outputs": [
    {
     "data": {
      "text/plain": [
       "28150"
      ]
     },
     "execution_count": 32,
     "metadata": {},
     "output_type": "execute_result"
    }
   ],
   "source": [
    "lucas_df['VEGEDA2_'].isnull().sum()"
   ]
  },
  {
   "cell_type": "code",
   "execution_count": 33,
   "id": "8dffdfb7-c542-4029-a830-1b501838d7fc",
   "metadata": {},
   "outputs": [
    {
     "data": {
      "text/plain": [
       "count    386361.0\n",
       "mean        140.0\n",
       "std         650.0\n",
       "min           0.0\n",
       "25%          43.0\n",
       "50%         100.0\n",
       "75%         100.0\n",
       "max        9900.0\n",
       "Name: VEGEDA2_, dtype: float64"
      ]
     },
     "execution_count": 33,
     "metadata": {},
     "output_type": "execute_result"
    }
   ],
   "source": [
    "lucas_df['VEGEDA2_'].describe().round()"
   ]
  },
  {
   "cell_type": "markdown",
   "id": "ad631e8f-109e-439f-a083-f3abbaca11dc",
   "metadata": {},
   "source": [
    "# Lower casing column names"
   ]
  },
  {
   "cell_type": "code",
   "execution_count": 34,
   "id": "c71591c2-5786-4a4f-969c-689362fe4fcf",
   "metadata": {},
   "outputs": [],
   "source": [
    "lucas_df.columns = lucas_df.columns.str.lower()"
   ]
  },
  {
   "cell_type": "code",
   "execution_count": 35,
   "id": "745a6e33-1907-4f6f-98b9-ee3d64e06b5e",
   "metadata": {},
   "outputs": [
    {
     "name": "stdout",
     "output_type": "stream",
     "text": [
      "<class 'pandas.core.frame.DataFrame'>\n",
      "RangeIndex: 414511 entries, 0 to 414510\n",
      "Data columns (total 14 columns):\n",
      " #   Column    Non-Null Count   Dtype  \n",
      "---  ------    --------------   -----  \n",
      " 0   _smoker3  414511 non-null  object \n",
      " 1   usenow3   414511 non-null  object \n",
      " 2   ecignow1  414511 non-null  object \n",
      " 3   _drnkwk1  399386 non-null  float64\n",
      " 4   _metstat  414511 non-null  object \n",
      " 5   _imprace  414511 non-null  object \n",
      " 6   _age80    414511 non-null  float64\n",
      " 7   _educag   414511 non-null  object \n",
      " 8   ftjuda2_  390439 non-null  float64\n",
      " 9   frutda2_  390862 non-null  float64\n",
      " 10  grenda1_  390568 non-null  float64\n",
      " 11  frnchda_  390040 non-null  float64\n",
      " 12  potada1_  386416 non-null  float64\n",
      " 13  vegeda2_  386361 non-null  float64\n",
      "dtypes: float64(8), object(6)\n",
      "memory usage: 44.3+ MB\n"
     ]
    }
   ],
   "source": [
    "lucas_df.info()"
   ]
  },
  {
   "cell_type": "code",
   "execution_count": 36,
   "id": "ee3092a4-770f-4292-8e98-f15db7613d57",
   "metadata": {},
   "outputs": [
    {
     "data": {
      "text/plain": [
       "_smoker3        0\n",
       "usenow3         0\n",
       "ecignow1        0\n",
       "_drnkwk1    15125\n",
       "_metstat        0\n",
       "_imprace        0\n",
       "_age80          0\n",
       "_educag         0\n",
       "ftjuda2_    24072\n",
       "frutda2_    23649\n",
       "grenda1_    23943\n",
       "frnchda_    24471\n",
       "potada1_    28095\n",
       "vegeda2_    28150\n",
       "dtype: int64"
      ]
     },
     "execution_count": 36,
     "metadata": {},
     "output_type": "execute_result"
    }
   ],
   "source": [
    "lucas_df.isnull().sum()"
   ]
  },
  {
   "cell_type": "code",
   "execution_count": 38,
   "id": "31918b65-2507-4e63-b990-004618df32e9",
   "metadata": {},
   "outputs": [],
   "source": [
    "lucas_df.to_csv('../data/cleaning_data_phase2_Lucas.csv.zip', index = False)"
   ]
  },
  {
   "cell_type": "code",
   "execution_count": null,
   "id": "8dfca035-3f14-4c87-a465-34a34e104daa",
   "metadata": {},
   "outputs": [],
   "source": []
  }
 ],
 "metadata": {
  "kernelspec": {
   "display_name": "Python 3 (ipykernel)",
   "language": "python",
   "name": "python3"
  },
  "language_info": {
   "codemirror_mode": {
    "name": "ipython",
    "version": 3
   },
   "file_extension": ".py",
   "mimetype": "text/x-python",
   "name": "python",
   "nbconvert_exporter": "python",
   "pygments_lexer": "ipython3",
   "version": "3.9.13"
  }
 },
 "nbformat": 4,
 "nbformat_minor": 5
}
