{
 "cells": [
  {
   "cell_type": "markdown",
   "id": "65c9fd6d-7d07-4107-a2a2-6be01f1ab1bf",
   "metadata": {},
   "source": [
    "# Logistic Model Building"
   ]
  },
  {
   "cell_type": "markdown",
   "id": "40636c07-c145-498d-8278-fe56e1c413bc",
   "metadata": {},
   "source": [
    "Set random_state to 42 in every portion of our model"
   ]
  },
  {
   "cell_type": "code",
   "execution_count": 1,
   "id": "800ec537-6c71-44d8-b097-abf5072c1090",
   "metadata": {},
   "outputs": [],
   "source": [
    "import pandas as pd\n",
    "import numpy as np\n",
    "import matplotlib.pyplot as plt\n",
    "import seaborn as sns\n",
    "\n",
    "from sklearn.model_selection import train_test_split, GridSearchCV\n",
    "from sklearn.preprocessing import StandardScaler, OneHotEncoder\n",
    "from sklearn.pipeline import Pipeline\n",
    "from sklearn.linear_model import LogisticRegression\n",
    "from sklearn.compose import ColumnTransformer\n",
    "from sklearn.impute import SimpleImputer\n",
    "\n",
    "from sklearn.metrics import (confusion_matrix, ConfusionMatrixDisplay, make_scorer,\n",
    "    accuracy_score, roc_auc_score, recall_score, balanced_accuracy_score,\n",
    "    precision_score, f1_score, RocCurveDisplay)\n",
    "\n",
    "from imblearn.pipeline import Pipeline as ImbPipeline\n",
    "from imblearn.over_sampling import RandomOverSampler\n",
    "from imblearn.over_sampling import SMOTE\n",
    "from imblearn.over_sampling import ADASYN"
   ]
  },
  {
   "cell_type": "code",
   "execution_count": 2,
   "id": "f7ca09be-4e6c-4f16-8089-6a54fabbb0cc",
   "metadata": {},
   "outputs": [],
   "source": [
    "df = pd.read_csv('../data/cleaning_data_phase2.csv.zip')"
   ]
  },
  {
   "cell_type": "code",
   "execution_count": 3,
   "id": "40baf55b-1bc6-4649-bd81-af99f3b2ccba",
   "metadata": {},
   "outputs": [
    {
     "data": {
      "text/html": [
       "<div>\n",
       "<style scoped>\n",
       "    .dataframe tbody tr th:only-of-type {\n",
       "        vertical-align: middle;\n",
       "    }\n",
       "\n",
       "    .dataframe tbody tr th {\n",
       "        vertical-align: top;\n",
       "    }\n",
       "\n",
       "    .dataframe thead th {\n",
       "        text-align: right;\n",
       "    }\n",
       "</style>\n",
       "<table border=\"1\" class=\"dataframe\">\n",
       "  <thead>\n",
       "    <tr style=\"text-align: right;\">\n",
       "      <th></th>\n",
       "      <th>_michd</th>\n",
       "      <th>_sex</th>\n",
       "      <th>genhlth</th>\n",
       "      <th>physhlth</th>\n",
       "      <th>menthlth</th>\n",
       "      <th>addepev3</th>\n",
       "      <th>checkup1</th>\n",
       "      <th>_totinda</th>\n",
       "      <th>_rfhype6</th>\n",
       "      <th>cholmed3</th>\n",
       "      <th>...</th>\n",
       "      <th>_metstat</th>\n",
       "      <th>_imprace</th>\n",
       "      <th>_age80</th>\n",
       "      <th>_educag</th>\n",
       "      <th>ftjuda2_</th>\n",
       "      <th>frutda2_</th>\n",
       "      <th>grenda1_</th>\n",
       "      <th>frnchda_</th>\n",
       "      <th>potada1_</th>\n",
       "      <th>vegeda2_</th>\n",
       "    </tr>\n",
       "  </thead>\n",
       "  <tbody>\n",
       "    <tr>\n",
       "      <th>0</th>\n",
       "      <td>No</td>\n",
       "      <td>Female</td>\n",
       "      <td>Poor</td>\n",
       "      <td>20.0</td>\n",
       "      <td>10.0</td>\n",
       "      <td>No</td>\n",
       "      <td>Within past 2 years (1 year but &lt; 2 years ago)</td>\n",
       "      <td>No physical activity or exercise in last 30 days</td>\n",
       "      <td>No</td>\n",
       "      <td>Yes</td>\n",
       "      <td>...</td>\n",
       "      <td>yes</td>\n",
       "      <td>white</td>\n",
       "      <td>70.0</td>\n",
       "      <td>highschool</td>\n",
       "      <td>5.397605e-79</td>\n",
       "      <td>100.0</td>\n",
       "      <td>5.700000e+01</td>\n",
       "      <td>4.300000e+01</td>\n",
       "      <td>14.0</td>\n",
       "      <td>100.0</td>\n",
       "    </tr>\n",
       "    <tr>\n",
       "      <th>1</th>\n",
       "      <td>Yes</td>\n",
       "      <td>Female</td>\n",
       "      <td>Good</td>\n",
       "      <td>0.0</td>\n",
       "      <td>0.0</td>\n",
       "      <td>No</td>\n",
       "      <td>Within past year (anytime &lt; 12 months ago)</td>\n",
       "      <td>Had physical activity or exercise</td>\n",
       "      <td>Yes</td>\n",
       "      <td>Yes</td>\n",
       "      <td>...</td>\n",
       "      <td>yes</td>\n",
       "      <td>black</td>\n",
       "      <td>67.0</td>\n",
       "      <td>graduated college</td>\n",
       "      <td>5.397605e-79</td>\n",
       "      <td>100.0</td>\n",
       "      <td>1.400000e+01</td>\n",
       "      <td>5.397605e-79</td>\n",
       "      <td>14.0</td>\n",
       "      <td>100.0</td>\n",
       "    </tr>\n",
       "    <tr>\n",
       "      <th>2</th>\n",
       "      <td>Yes</td>\n",
       "      <td>Female</td>\n",
       "      <td>Very good</td>\n",
       "      <td>0.0</td>\n",
       "      <td>0.0</td>\n",
       "      <td>No</td>\n",
       "      <td>Within past year (anytime &lt; 12 months ago)</td>\n",
       "      <td>No physical activity or exercise in last 30 days</td>\n",
       "      <td>Yes</td>\n",
       "      <td>No</td>\n",
       "      <td>...</td>\n",
       "      <td>yes</td>\n",
       "      <td>black</td>\n",
       "      <td>72.0</td>\n",
       "      <td>highschool</td>\n",
       "      <td>5.397605e-79</td>\n",
       "      <td>100.0</td>\n",
       "      <td>5.397605e-79</td>\n",
       "      <td>1.400000e+01</td>\n",
       "      <td>14.0</td>\n",
       "      <td>43.0</td>\n",
       "    </tr>\n",
       "    <tr>\n",
       "      <th>3</th>\n",
       "      <td>No</td>\n",
       "      <td>Female</td>\n",
       "      <td>Very good</td>\n",
       "      <td>0.0</td>\n",
       "      <td>10.0</td>\n",
       "      <td>No</td>\n",
       "      <td>Within past year (anytime &lt; 12 months ago)</td>\n",
       "      <td>Had physical activity or exercise</td>\n",
       "      <td>Yes</td>\n",
       "      <td>No</td>\n",
       "      <td>...</td>\n",
       "      <td>yes</td>\n",
       "      <td>white</td>\n",
       "      <td>62.0</td>\n",
       "      <td>highschool</td>\n",
       "      <td>7.100000e+01</td>\n",
       "      <td>43.0</td>\n",
       "      <td>1.000000e+01</td>\n",
       "      <td>5.700000e+01</td>\n",
       "      <td>27.0</td>\n",
       "      <td>71.0</td>\n",
       "    </tr>\n",
       "    <tr>\n",
       "      <th>4</th>\n",
       "      <td>Yes</td>\n",
       "      <td>Male</td>\n",
       "      <td>Poor</td>\n",
       "      <td>30.0</td>\n",
       "      <td>0.0</td>\n",
       "      <td>No</td>\n",
       "      <td>Within past year (anytime &lt; 12 months ago)</td>\n",
       "      <td>Had physical activity or exercise</td>\n",
       "      <td>No</td>\n",
       "      <td>Yes</td>\n",
       "      <td>...</td>\n",
       "      <td>no</td>\n",
       "      <td>other race</td>\n",
       "      <td>76.0</td>\n",
       "      <td>no highschool</td>\n",
       "      <td>5.397605e-79</td>\n",
       "      <td>100.0</td>\n",
       "      <td>1.000000e+02</td>\n",
       "      <td>2.900000e+01</td>\n",
       "      <td>29.0</td>\n",
       "      <td>100.0</td>\n",
       "    </tr>\n",
       "  </tbody>\n",
       "</table>\n",
       "<p>5 rows × 44 columns</p>\n",
       "</div>"
      ],
      "text/plain": [
       "  _michd    _sex    genhlth  physhlth  menthlth addepev3  \\\n",
       "0     No  Female       Poor      20.0      10.0       No   \n",
       "1    Yes  Female       Good       0.0       0.0       No   \n",
       "2    Yes  Female  Very good       0.0       0.0       No   \n",
       "3     No  Female  Very good       0.0      10.0       No   \n",
       "4    Yes    Male       Poor      30.0       0.0       No   \n",
       "\n",
       "                                         checkup1  \\\n",
       "0  Within past 2 years (1 year but < 2 years ago)   \n",
       "1      Within past year (anytime < 12 months ago)   \n",
       "2      Within past year (anytime < 12 months ago)   \n",
       "3      Within past year (anytime < 12 months ago)   \n",
       "4      Within past year (anytime < 12 months ago)   \n",
       "\n",
       "                                           _totinda _rfhype6 cholmed3  ...  \\\n",
       "0  No physical activity or exercise in last 30 days       No      Yes  ...   \n",
       "1                 Had physical activity or exercise      Yes      Yes  ...   \n",
       "2  No physical activity or exercise in last 30 days      Yes       No  ...   \n",
       "3                 Had physical activity or exercise      Yes       No  ...   \n",
       "4                 Had physical activity or exercise       No      Yes  ...   \n",
       "\n",
       "  _metstat    _imprace _age80            _educag      ftjuda2_ frutda2_  \\\n",
       "0      yes       white   70.0         highschool  5.397605e-79    100.0   \n",
       "1      yes       black   67.0  graduated college  5.397605e-79    100.0   \n",
       "2      yes       black   72.0         highschool  5.397605e-79    100.0   \n",
       "3      yes       white   62.0         highschool  7.100000e+01     43.0   \n",
       "4       no  other race   76.0      no highschool  5.397605e-79    100.0   \n",
       "\n",
       "       grenda1_      frnchda_ potada1_ vegeda2_  \n",
       "0  5.700000e+01  4.300000e+01     14.0    100.0  \n",
       "1  1.400000e+01  5.397605e-79     14.0    100.0  \n",
       "2  5.397605e-79  1.400000e+01     14.0     43.0  \n",
       "3  1.000000e+01  5.700000e+01     27.0     71.0  \n",
       "4  1.000000e+02  2.900000e+01     29.0    100.0  \n",
       "\n",
       "[5 rows x 44 columns]"
      ]
     },
     "execution_count": 3,
     "metadata": {},
     "output_type": "execute_result"
    }
   ],
   "source": [
    "df.head()"
   ]
  },
  {
   "cell_type": "markdown",
   "id": "62bc808d-632c-4432-bf88-23f3fd2783d7",
   "metadata": {},
   "source": [
    "### Baseline"
   ]
  },
  {
   "cell_type": "code",
   "execution_count": 4,
   "id": "3e8ac252-1bb4-430b-9498-5c8ad593a082",
   "metadata": {},
   "outputs": [
    {
     "data": {
      "text/plain": [
       "No     0.917841\n",
       "Yes    0.082159\n",
       "Name: _michd, dtype: float64"
      ]
     },
     "execution_count": 4,
     "metadata": {},
     "output_type": "execute_result"
    }
   ],
   "source": [
    "df['_michd'].value_counts(normalize=True)"
   ]
  },
  {
   "cell_type": "markdown",
   "id": "50759045-0b76-456f-9946-80f9d1573096",
   "metadata": {},
   "source": [
    "### The baseline of 0.917 suggests that our dataset is highly imbalanced."
   ]
  },
  {
   "cell_type": "code",
   "execution_count": 5,
   "id": "a21a33bd-34b1-4de4-ad49-26ed30d050d8",
   "metadata": {},
   "outputs": [
    {
     "data": {
      "text/plain": [
       "_michd          0\n",
       "_sex            0\n",
       "genhlth         0\n",
       "physhlth     8491\n",
       "menthlth     7084\n",
       "addepev3        0\n",
       "checkup1        0\n",
       "_totinda        0\n",
       "_rfhype6        0\n",
       "cholmed3        0\n",
       "_rfchol3        0\n",
       "cvdstrk3        0\n",
       "_asthms1        0\n",
       "chcscncr        0\n",
       "chcocncr        0\n",
       "chccopd3        0\n",
       "chckdny2        0\n",
       "diabete4        0\n",
       "_drdxar3        0\n",
       "marital         0\n",
       "children     3684\n",
       "_incomg1        0\n",
       "employ1         0\n",
       "htm4         9849\n",
       "wtkg3       25486\n",
       "_bmi5       30786\n",
       "decide          0\n",
       "diffwalk        0\n",
       "diffdres        0\n",
       "_state          0\n",
       "_smoker3        0\n",
       "usenow3         0\n",
       "ecignow1        0\n",
       "_drnkwk1    15125\n",
       "_metstat        0\n",
       "_imprace        0\n",
       "_age80          0\n",
       "_educag         0\n",
       "ftjuda2_    24072\n",
       "frutda2_    23649\n",
       "grenda1_    23943\n",
       "frnchda_    24471\n",
       "potada1_    28095\n",
       "vegeda2_    28150\n",
       "dtype: int64"
      ]
     },
     "execution_count": 5,
     "metadata": {},
     "output_type": "execute_result"
    }
   ],
   "source": [
    "df.isnull().sum()"
   ]
  },
  {
   "cell_type": "markdown",
   "id": "a6a95110-4b2c-499c-a8e2-56cd3aa74463",
   "metadata": {},
   "source": [
    "### Create Evaluation Function"
   ]
  },
  {
   "cell_type": "code",
   "execution_count": 76,
   "id": "ffa870b8-f803-42ab-a883-c2a6b6f6c0fa",
   "metadata": {},
   "outputs": [],
   "source": [
    "# Create evaluation function\n",
    "def evaluation(X_test, y_test, preds, model):\n",
    "    ConfusionMatrixDisplay.from_estimator(model, X_test, y_test, cmap='Blues')\n",
    "    \n",
    "    b_acc = balanced_accuracy_score(y_test, preds)\n",
    "    recall = recall_score(y_test, preds, pos_label = \"Yes\")\n",
    "    prec = precision_score(y_test, preds, pos_label = \"Yes\")\n",
    "    f1 = f1_score(y_test, preds, pos_label = \"Yes\")\n",
    "\n",
    "    print(f'balanced_accuracy: {b_acc}')\n",
    "    print(f'recall: {recall}')\n",
    "    print(f'precision: {prec}')\n",
    "    print(f'f1 score: {f1}')\n",
    "\n",
    "    return {\n",
    "        'balanced_accuracy': b_acc,\n",
    "        'recall': recall,\n",
    "        'precision': prec,\n",
    "        'f1_score': f1\n",
    "    }"
   ]
  },
  {
   "cell_type": "code",
   "execution_count": 77,
   "id": "591003fe-6535-4232-a8e9-68a4ef529032",
   "metadata": {},
   "outputs": [],
   "source": [
    "scores = []"
   ]
  },
  {
   "cell_type": "markdown",
   "id": "2c7816b3-45cd-468a-8f78-e73eca2156cb",
   "metadata": {},
   "source": [
    "### Create X and y"
   ]
  },
  {
   "cell_type": "code",
   "execution_count": 6,
   "id": "f5b43955-5d8f-4aef-9943-762fce683651",
   "metadata": {},
   "outputs": [],
   "source": [
    "X = df.drop(columns = ['_michd', '_state'])\n",
    "y = df['_michd']"
   ]
  },
  {
   "cell_type": "markdown",
   "id": "c3788df6-6bff-49cb-8ef3-f47b04dcc4cc",
   "metadata": {},
   "source": [
    "### Split training and testing dataset"
   ]
  },
  {
   "cell_type": "code",
   "execution_count": 7,
   "id": "0b4389d0-34d9-4264-98f1-277470396309",
   "metadata": {},
   "outputs": [],
   "source": [
    "X_train, X_test, y_train, y_test = train_test_split(X, y, stratify=y, random_state = 42)"
   ]
  },
  {
   "cell_type": "markdown",
   "id": "1183255c-f2fb-49ab-9b93-7f0e3dd6698c",
   "metadata": {},
   "source": [
    "### Preprocess numerical and categorical variables seperately"
   ]
  },
  {
   "cell_type": "code",
   "execution_count": 8,
   "id": "b9895341-c1ff-4f85-9b6c-fbf23e31ffea",
   "metadata": {},
   "outputs": [],
   "source": [
    "df_num = X.select_dtypes(include=['float', 'int'])\n",
    "df_cat = X.select_dtypes(include = ['O'])"
   ]
  },
  {
   "cell_type": "code",
   "execution_count": 9,
   "id": "3ec834ea-e3d6-4f0e-b1ba-74188261fc35",
   "metadata": {},
   "outputs": [
    {
     "data": {
      "text/plain": [
       "((414511, 14), (414511, 28), (414511, 44))"
      ]
     },
     "execution_count": 9,
     "metadata": {},
     "output_type": "execute_result"
    }
   ],
   "source": [
    "df_num.shape, df_cat.shape, df.shape"
   ]
  },
  {
   "cell_type": "markdown",
   "id": "35afb491-2810-4e4d-956f-bd6fbd49fbdc",
   "metadata": {},
   "source": [
    "### Handle the missing values in numerical columns by imputing them with the median, and then apply standard scaling."
   ]
  },
  {
   "cell_type": "code",
   "execution_count": 10,
   "id": "62489919-55cc-42cd-8f9e-c69bd5fa9d69",
   "metadata": {},
   "outputs": [],
   "source": [
    "num_transform = Pipeline(steps = [\n",
    "    ('imputer', SimpleImputer(strategy = 'median')),\n",
    "    ('scaler', StandardScaler())\n",
    "])"
   ]
  },
  {
   "cell_type": "markdown",
   "id": "b4d93464-60b9-4cd7-81a5-51af04f25096",
   "metadata": {},
   "source": [
    "### Transform categorical columns using One-hot encoding and then apply standard scaling"
   ]
  },
  {
   "cell_type": "code",
   "execution_count": 11,
   "id": "da13752e-f924-48fc-9147-1d90eb52ed5b",
   "metadata": {},
   "outputs": [],
   "source": [
    "cat_transform = Pipeline(steps = [\n",
    "    ('onehot', OneHotEncoder(handle_unknown = 'ignore')),\n",
    "    ('scaler', StandardScaler(with_mean = False, with_std = False))\n",
    "])"
   ]
  },
  {
   "cell_type": "code",
   "execution_count": 12,
   "id": "9b018dbc-e4d1-4492-bd93-5fb3986615b7",
   "metadata": {},
   "outputs": [],
   "source": [
    "preprocessor = ColumnTransformer(transformers = [\n",
    "    ('num', num_transform, df_num.columns),\n",
    "    ('cat', cat_transform, df_cat.columns)\n",
    "])"
   ]
  },
  {
   "cell_type": "markdown",
   "id": "9eb7a753-41d1-4ca1-a9c7-c9827f01972d",
   "metadata": {},
   "source": [
    "### Build simple logistic regression model pipeline "
   ]
  },
  {
   "cell_type": "code",
   "execution_count": 13,
   "id": "13f8aac1-7a9e-412b-b8ac-323bf8e5d662",
   "metadata": {},
   "outputs": [],
   "source": [
    "pipe = Pipeline(steps = [\n",
    "    ('preprocessor', preprocessor),\n",
    "    ('model', LogisticRegression(random_state=42))\n",
    "])"
   ]
  },
  {
   "cell_type": "code",
   "execution_count": 14,
   "id": "5567293f-e19b-45b8-a099-bb73df82108d",
   "metadata": {
    "scrolled": true,
    "tags": []
   },
   "outputs": [
    {
     "data": {
      "text/plain": [
       "{'memory': None,\n",
       " 'steps': [('preprocessor',\n",
       "   ColumnTransformer(transformers=[('num',\n",
       "                                    Pipeline(steps=[('imputer',\n",
       "                                                     SimpleImputer(strategy='median')),\n",
       "                                                    ('scaler', StandardScaler())]),\n",
       "                                    Index(['physhlth', 'menthlth', 'children', 'htm4', 'wtkg3', '_bmi5',\n",
       "          '_drnkwk1', '_age80', 'ftjuda2_', 'frutda2_', 'grenda1_', 'frnchda_',\n",
       "          'potada1_', 'vegeda2_'],\n",
       "         dtype='object')),\n",
       "                                   ('cat',\n",
       "                                    Pipeline(steps=[('onehot',\n",
       "                                                     OneHotEncoder(handle...\n",
       "                                                     StandardScaler(with_mean=False,\n",
       "                                                                    with_std=False))]),\n",
       "                                    Index(['_sex', 'genhlth', 'addepev3', 'checkup1', '_totinda', '_rfhype6',\n",
       "          'cholmed3', '_rfchol3', 'cvdstrk3', '_asthms1', 'chcscncr', 'chcocncr',\n",
       "          'chccopd3', 'chckdny2', 'diabete4', '_drdxar3', 'marital', '_incomg1',\n",
       "          'employ1', 'decide', 'diffwalk', 'diffdres', '_smoker3', 'usenow3',\n",
       "          'ecignow1', '_metstat', '_imprace', '_educag'],\n",
       "         dtype='object'))])),\n",
       "  ('model', LogisticRegression())],\n",
       " 'verbose': False,\n",
       " 'preprocessor': ColumnTransformer(transformers=[('num',\n",
       "                                  Pipeline(steps=[('imputer',\n",
       "                                                   SimpleImputer(strategy='median')),\n",
       "                                                  ('scaler', StandardScaler())]),\n",
       "                                  Index(['physhlth', 'menthlth', 'children', 'htm4', 'wtkg3', '_bmi5',\n",
       "        '_drnkwk1', '_age80', 'ftjuda2_', 'frutda2_', 'grenda1_', 'frnchda_',\n",
       "        'potada1_', 'vegeda2_'],\n",
       "       dtype='object')),\n",
       "                                 ('cat',\n",
       "                                  Pipeline(steps=[('onehot',\n",
       "                                                   OneHotEncoder(handle...\n",
       "                                                   StandardScaler(with_mean=False,\n",
       "                                                                  with_std=False))]),\n",
       "                                  Index(['_sex', 'genhlth', 'addepev3', 'checkup1', '_totinda', '_rfhype6',\n",
       "        'cholmed3', '_rfchol3', 'cvdstrk3', '_asthms1', 'chcscncr', 'chcocncr',\n",
       "        'chccopd3', 'chckdny2', 'diabete4', '_drdxar3', 'marital', '_incomg1',\n",
       "        'employ1', 'decide', 'diffwalk', 'diffdres', '_smoker3', 'usenow3',\n",
       "        'ecignow1', '_metstat', '_imprace', '_educag'],\n",
       "       dtype='object'))]),\n",
       " 'model': LogisticRegression(),\n",
       " 'preprocessor__n_jobs': None,\n",
       " 'preprocessor__remainder': 'drop',\n",
       " 'preprocessor__sparse_threshold': 0.3,\n",
       " 'preprocessor__transformer_weights': None,\n",
       " 'preprocessor__transformers': [('num',\n",
       "   Pipeline(steps=[('imputer', SimpleImputer(strategy='median')),\n",
       "                   ('scaler', StandardScaler())]),\n",
       "   Index(['physhlth', 'menthlth', 'children', 'htm4', 'wtkg3', '_bmi5',\n",
       "          '_drnkwk1', '_age80', 'ftjuda2_', 'frutda2_', 'grenda1_', 'frnchda_',\n",
       "          'potada1_', 'vegeda2_'],\n",
       "         dtype='object')),\n",
       "  ('cat',\n",
       "   Pipeline(steps=[('onehot', OneHotEncoder(handle_unknown='ignore')),\n",
       "                   ('scaler', StandardScaler(with_mean=False, with_std=False))]),\n",
       "   Index(['_sex', 'genhlth', 'addepev3', 'checkup1', '_totinda', '_rfhype6',\n",
       "          'cholmed3', '_rfchol3', 'cvdstrk3', '_asthms1', 'chcscncr', 'chcocncr',\n",
       "          'chccopd3', 'chckdny2', 'diabete4', '_drdxar3', 'marital', '_incomg1',\n",
       "          'employ1', 'decide', 'diffwalk', 'diffdres', '_smoker3', 'usenow3',\n",
       "          'ecignow1', '_metstat', '_imprace', '_educag'],\n",
       "         dtype='object'))],\n",
       " 'preprocessor__verbose': False,\n",
       " 'preprocessor__verbose_feature_names_out': True,\n",
       " 'preprocessor__num': Pipeline(steps=[('imputer', SimpleImputer(strategy='median')),\n",
       "                 ('scaler', StandardScaler())]),\n",
       " 'preprocessor__cat': Pipeline(steps=[('onehot', OneHotEncoder(handle_unknown='ignore')),\n",
       "                 ('scaler', StandardScaler(with_mean=False, with_std=False))]),\n",
       " 'preprocessor__num__memory': None,\n",
       " 'preprocessor__num__steps': [('imputer', SimpleImputer(strategy='median')),\n",
       "  ('scaler', StandardScaler())],\n",
       " 'preprocessor__num__verbose': False,\n",
       " 'preprocessor__num__imputer': SimpleImputer(strategy='median'),\n",
       " 'preprocessor__num__scaler': StandardScaler(),\n",
       " 'preprocessor__num__imputer__add_indicator': False,\n",
       " 'preprocessor__num__imputer__copy': True,\n",
       " 'preprocessor__num__imputer__fill_value': None,\n",
       " 'preprocessor__num__imputer__missing_values': nan,\n",
       " 'preprocessor__num__imputer__strategy': 'median',\n",
       " 'preprocessor__num__imputer__verbose': 0,\n",
       " 'preprocessor__num__scaler__copy': True,\n",
       " 'preprocessor__num__scaler__with_mean': True,\n",
       " 'preprocessor__num__scaler__with_std': True,\n",
       " 'preprocessor__cat__memory': None,\n",
       " 'preprocessor__cat__steps': [('onehot',\n",
       "   OneHotEncoder(handle_unknown='ignore')),\n",
       "  ('scaler', StandardScaler(with_mean=False, with_std=False))],\n",
       " 'preprocessor__cat__verbose': False,\n",
       " 'preprocessor__cat__onehot': OneHotEncoder(handle_unknown='ignore'),\n",
       " 'preprocessor__cat__scaler': StandardScaler(with_mean=False, with_std=False),\n",
       " 'preprocessor__cat__onehot__categories': 'auto',\n",
       " 'preprocessor__cat__onehot__drop': None,\n",
       " 'preprocessor__cat__onehot__dtype': numpy.float64,\n",
       " 'preprocessor__cat__onehot__handle_unknown': 'ignore',\n",
       " 'preprocessor__cat__onehot__sparse': True,\n",
       " 'preprocessor__cat__scaler__copy': True,\n",
       " 'preprocessor__cat__scaler__with_mean': False,\n",
       " 'preprocessor__cat__scaler__with_std': False,\n",
       " 'model__C': 1.0,\n",
       " 'model__class_weight': None,\n",
       " 'model__dual': False,\n",
       " 'model__fit_intercept': True,\n",
       " 'model__intercept_scaling': 1,\n",
       " 'model__l1_ratio': None,\n",
       " 'model__max_iter': 100,\n",
       " 'model__multi_class': 'auto',\n",
       " 'model__n_jobs': None,\n",
       " 'model__penalty': 'l2',\n",
       " 'model__random_state': None,\n",
       " 'model__solver': 'lbfgs',\n",
       " 'model__tol': 0.0001,\n",
       " 'model__verbose': 0,\n",
       " 'model__warm_start': False}"
      ]
     },
     "execution_count": 14,
     "metadata": {},
     "output_type": "execute_result"
    }
   ],
   "source": [
    "pipe.get_params()"
   ]
  },
  {
   "cell_type": "code",
   "execution_count": 15,
   "id": "0a67c0e0-1ded-4be7-a1b1-ef7e4bfed0e3",
   "metadata": {},
   "outputs": [],
   "source": [
    "lg_params = {\n",
    "    'model__penalty': ['l2'],\n",
    "    'model__max_iter': [1000]\n",
    "}"
   ]
  },
  {
   "cell_type": "code",
   "execution_count": 16,
   "id": "2f0f6d2c-bb20-41ea-8d86-05b7e1273997",
   "metadata": {},
   "outputs": [],
   "source": [
    "gs_lg = GridSearchCV(pipe, param_grid=lg_params, cv = 3)"
   ]
  },
  {
   "cell_type": "code",
   "execution_count": 17,
   "id": "1a2a3cd6-f0c7-4ecc-ab47-6a1b11b3f337",
   "metadata": {
    "scrolled": true,
    "tags": []
   },
   "outputs": [
    {
     "data": {
      "text/plain": [
       "GridSearchCV(cv=3,\n",
       "             estimator=Pipeline(steps=[('preprocessor',\n",
       "                                        ColumnTransformer(transformers=[('num',\n",
       "                                                                         Pipeline(steps=[('imputer',\n",
       "                                                                                          SimpleImputer(strategy='median')),\n",
       "                                                                                         ('scaler',\n",
       "                                                                                          StandardScaler())]),\n",
       "                                                                         Index(['physhlth', 'menthlth', 'children', 'htm4', 'wtkg3', '_bmi5',\n",
       "       '_drnkwk1', '_age80', 'ftjuda2_', 'frutda2_', 'grenda1_', 'frnchda_',\n",
       "       'potada1_', 'vegeda2_'],\n",
       "      dtype='obj...\n",
       "       'cholmed3', '_rfchol3', 'cvdstrk3', '_asthms1', 'chcscncr', 'chcocncr',\n",
       "       'chccopd3', 'chckdny2', 'diabete4', '_drdxar3', 'marital', '_incomg1',\n",
       "       'employ1', 'decide', 'diffwalk', 'diffdres', '_smoker3', 'usenow3',\n",
       "       'ecignow1', '_metstat', '_imprace', '_educag'],\n",
       "      dtype='object'))])),\n",
       "                                       ('model', LogisticRegression())]),\n",
       "             param_grid={'model__max_iter': [1000], 'model__penalty': ['l2']})"
      ]
     },
     "execution_count": 17,
     "metadata": {},
     "output_type": "execute_result"
    }
   ],
   "source": [
    "gs_lg.fit(X_train, y_train)"
   ]
  },
  {
   "cell_type": "code",
   "execution_count": 18,
   "id": "97f82dc7-fe79-4004-94d8-d5fbf7189cd1",
   "metadata": {},
   "outputs": [],
   "source": [
    "y_pred = gs_lg.predict(X_test)"
   ]
  },
  {
   "cell_type": "code",
   "execution_count": 78,
   "id": "5d378108-ee99-4ef0-bd40-f3990f24568b",
   "metadata": {},
   "outputs": [
    {
     "name": "stdout",
     "output_type": "stream",
     "text": [
      "balanced_accuracy: 0.5596616503354611\n",
      "recall: 0.12966878083157152\n",
      "precision: 0.5287356321839081\n",
      "f1 score: 0.2082625919637804\n"
     ]
    },
    {
     "data": {
      "image/png": "[encoded data removed]",
      "text/plain": [
       "<Figure size 640x480 with 2 Axes>"
      ]
     },
     "metadata": {},
     "output_type": "display_data"
    }
   ],
   "source": [
    "scores.append(evaluation(X_test, y_test, gs_lg.predict(X_test), gs_lg))"
   ]
  },
  {
   "cell_type": "markdown",
   "id": "d3645cdf-84fb-4f92-a557-14c723710bc4",
   "metadata": {},
   "source": [
    "Using a simple logistic regression model and accuracy as the metric resulted in lower balanced accuracy and poor recall."
   ]
  },
  {
   "cell_type": "markdown",
   "id": "7496a76d-b1ef-4877-a284-d3ebe3f5f61e",
   "metadata": {},
   "source": [
    "### Oversample the minority class"
   ]
  },
  {
   "cell_type": "code",
   "execution_count": 24,
   "id": "5b9f31bb-6ba4-4514-ab2e-ae6241e204c7",
   "metadata": {},
   "outputs": [],
   "source": [
    "# Oversample the minority class\n",
    "pipe_oversample = ImbPipeline(steps = [\n",
    "    ('preprocessor', preprocessor),\n",
    "    ('sampling', RandomOverSampler(random_state=42)),\n",
    "    ('model', LogisticRegression(random_state=42))\n",
    "])"
   ]
  },
  {
   "cell_type": "code",
   "execution_count": 25,
   "id": "7fd39a51-c411-49d3-8b2f-0ed55d211bde",
   "metadata": {
    "scrolled": true,
    "tags": []
   },
   "outputs": [
    {
     "data": {
      "text/plain": [
       "{'memory': None,\n",
       " 'steps': [('preprocessor',\n",
       "   ColumnTransformer(transformers=[('num',\n",
       "                                    Pipeline(steps=[('imputer',\n",
       "                                                     SimpleImputer(strategy='median')),\n",
       "                                                    ('scaler', StandardScaler())]),\n",
       "                                    Index(['physhlth', 'menthlth', 'children', 'htm4', 'wtkg3', '_bmi5',\n",
       "          '_drnkwk1', '_age80', 'ftjuda2_', 'frutda2_', 'grenda1_', 'frnchda_',\n",
       "          'potada1_', 'vegeda2_'],\n",
       "         dtype='object')),\n",
       "                                   ('cat',\n",
       "                                    Pipeline(steps=[('onehot',\n",
       "                                                     OneHotEncoder(handle...\n",
       "                                                     StandardScaler(with_mean=False,\n",
       "                                                                    with_std=False))]),\n",
       "                                    Index(['_sex', 'genhlth', 'addepev3', 'checkup1', '_totinda', '_rfhype6',\n",
       "          'cholmed3', '_rfchol3', 'cvdstrk3', '_asthms1', 'chcscncr', 'chcocncr',\n",
       "          'chccopd3', 'chckdny2', 'diabete4', '_drdxar3', 'marital', '_incomg1',\n",
       "          'employ1', 'decide', 'diffwalk', 'diffdres', '_smoker3', 'usenow3',\n",
       "          'ecignow1', '_metstat', '_imprace', '_educag'],\n",
       "         dtype='object'))])),\n",
       "  ('sampling', RandomOverSampler(random_state=42)),\n",
       "  ('model', LogisticRegression())],\n",
       " 'verbose': False,\n",
       " 'preprocessor': ColumnTransformer(transformers=[('num',\n",
       "                                  Pipeline(steps=[('imputer',\n",
       "                                                   SimpleImputer(strategy='median')),\n",
       "                                                  ('scaler', StandardScaler())]),\n",
       "                                  Index(['physhlth', 'menthlth', 'children', 'htm4', 'wtkg3', '_bmi5',\n",
       "        '_drnkwk1', '_age80', 'ftjuda2_', 'frutda2_', 'grenda1_', 'frnchda_',\n",
       "        'potada1_', 'vegeda2_'],\n",
       "       dtype='object')),\n",
       "                                 ('cat',\n",
       "                                  Pipeline(steps=[('onehot',\n",
       "                                                   OneHotEncoder(handle...\n",
       "                                                   StandardScaler(with_mean=False,\n",
       "                                                                  with_std=False))]),\n",
       "                                  Index(['_sex', 'genhlth', 'addepev3', 'checkup1', '_totinda', '_rfhype6',\n",
       "        'cholmed3', '_rfchol3', 'cvdstrk3', '_asthms1', 'chcscncr', 'chcocncr',\n",
       "        'chccopd3', 'chckdny2', 'diabete4', '_drdxar3', 'marital', '_incomg1',\n",
       "        'employ1', 'decide', 'diffwalk', 'diffdres', '_smoker3', 'usenow3',\n",
       "        'ecignow1', '_metstat', '_imprace', '_educag'],\n",
       "       dtype='object'))]),\n",
       " 'sampling': RandomOverSampler(random_state=42),\n",
       " 'model': LogisticRegression(),\n",
       " 'preprocessor__n_jobs': None,\n",
       " 'preprocessor__remainder': 'drop',\n",
       " 'preprocessor__sparse_threshold': 0.3,\n",
       " 'preprocessor__transformer_weights': None,\n",
       " 'preprocessor__transformers': [('num',\n",
       "   Pipeline(steps=[('imputer', SimpleImputer(strategy='median')),\n",
       "                   ('scaler', StandardScaler())]),\n",
       "   Index(['physhlth', 'menthlth', 'children', 'htm4', 'wtkg3', '_bmi5',\n",
       "          '_drnkwk1', '_age80', 'ftjuda2_', 'frutda2_', 'grenda1_', 'frnchda_',\n",
       "          'potada1_', 'vegeda2_'],\n",
       "         dtype='object')),\n",
       "  ('cat',\n",
       "   Pipeline(steps=[('onehot', OneHotEncoder(handle_unknown='ignore')),\n",
       "                   ('scaler', StandardScaler(with_mean=False, with_std=False))]),\n",
       "   Index(['_sex', 'genhlth', 'addepev3', 'checkup1', '_totinda', '_rfhype6',\n",
       "          'cholmed3', '_rfchol3', 'cvdstrk3', '_asthms1', 'chcscncr', 'chcocncr',\n",
       "          'chccopd3', 'chckdny2', 'diabete4', '_drdxar3', 'marital', '_incomg1',\n",
       "          'employ1', 'decide', 'diffwalk', 'diffdres', '_smoker3', 'usenow3',\n",
       "          'ecignow1', '_metstat', '_imprace', '_educag'],\n",
       "         dtype='object'))],\n",
       " 'preprocessor__verbose': False,\n",
       " 'preprocessor__verbose_feature_names_out': True,\n",
       " 'preprocessor__num': Pipeline(steps=[('imputer', SimpleImputer(strategy='median')),\n",
       "                 ('scaler', StandardScaler())]),\n",
       " 'preprocessor__cat': Pipeline(steps=[('onehot', OneHotEncoder(handle_unknown='ignore')),\n",
       "                 ('scaler', StandardScaler(with_mean=False, with_std=False))]),\n",
       " 'preprocessor__num__memory': None,\n",
       " 'preprocessor__num__steps': [('imputer', SimpleImputer(strategy='median')),\n",
       "  ('scaler', StandardScaler())],\n",
       " 'preprocessor__num__verbose': False,\n",
       " 'preprocessor__num__imputer': SimpleImputer(strategy='median'),\n",
       " 'preprocessor__num__scaler': StandardScaler(),\n",
       " 'preprocessor__num__imputer__add_indicator': False,\n",
       " 'preprocessor__num__imputer__copy': True,\n",
       " 'preprocessor__num__imputer__fill_value': None,\n",
       " 'preprocessor__num__imputer__missing_values': nan,\n",
       " 'preprocessor__num__imputer__strategy': 'median',\n",
       " 'preprocessor__num__imputer__verbose': 0,\n",
       " 'preprocessor__num__scaler__copy': True,\n",
       " 'preprocessor__num__scaler__with_mean': True,\n",
       " 'preprocessor__num__scaler__with_std': True,\n",
       " 'preprocessor__cat__memory': None,\n",
       " 'preprocessor__cat__steps': [('onehot',\n",
       "   OneHotEncoder(handle_unknown='ignore')),\n",
       "  ('scaler', StandardScaler(with_mean=False, with_std=False))],\n",
       " 'preprocessor__cat__verbose': False,\n",
       " 'preprocessor__cat__onehot': OneHotEncoder(handle_unknown='ignore'),\n",
       " 'preprocessor__cat__scaler': StandardScaler(with_mean=False, with_std=False),\n",
       " 'preprocessor__cat__onehot__categories': 'auto',\n",
       " 'preprocessor__cat__onehot__drop': None,\n",
       " 'preprocessor__cat__onehot__dtype': numpy.float64,\n",
       " 'preprocessor__cat__onehot__handle_unknown': 'ignore',\n",
       " 'preprocessor__cat__onehot__sparse': True,\n",
       " 'preprocessor__cat__scaler__copy': True,\n",
       " 'preprocessor__cat__scaler__with_mean': False,\n",
       " 'preprocessor__cat__scaler__with_std': False,\n",
       " 'sampling__random_state': 42,\n",
       " 'sampling__sampling_strategy': 'auto',\n",
       " 'sampling__shrinkage': None,\n",
       " 'model__C': 1.0,\n",
       " 'model__class_weight': None,\n",
       " 'model__dual': False,\n",
       " 'model__fit_intercept': True,\n",
       " 'model__intercept_scaling': 1,\n",
       " 'model__l1_ratio': None,\n",
       " 'model__max_iter': 100,\n",
       " 'model__multi_class': 'auto',\n",
       " 'model__n_jobs': None,\n",
       " 'model__penalty': 'l2',\n",
       " 'model__random_state': None,\n",
       " 'model__solver': 'lbfgs',\n",
       " 'model__tol': 0.0001,\n",
       " 'model__verbose': 0,\n",
       " 'model__warm_start': False}"
      ]
     },
     "execution_count": 25,
     "metadata": {},
     "output_type": "execute_result"
    }
   ],
   "source": [
    "pipe_oversample.get_params()"
   ]
  },
  {
   "cell_type": "code",
   "execution_count": 26,
   "id": "362f9da2-186c-41ba-84bf-d339b9c1a521",
   "metadata": {},
   "outputs": [],
   "source": [
    "lg_oversample_params = {\n",
    "    'sampling__sampling_strategy': [.25, .75],\n",
    "    'model__max_iter': [1000]\n",
    "}"
   ]
  },
  {
   "cell_type": "code",
   "execution_count": 27,
   "id": "02fffa40-c857-41c1-b7e6-7503f377acf9",
   "metadata": {},
   "outputs": [],
   "source": [
    "gs_lg_oversample = GridSearchCV(pipe_oversample, param_grid=lg_oversample_params, cv = 3)"
   ]
  },
  {
   "cell_type": "code",
   "execution_count": 28,
   "id": "e60e3d40-7aca-455d-b7b5-c4c27e40970d",
   "metadata": {
    "scrolled": true,
    "tags": []
   },
   "outputs": [
    {
     "data": {
      "text/plain": [
       "GridSearchCV(cv=3,\n",
       "             estimator=Pipeline(steps=[('preprocessor',\n",
       "                                        ColumnTransformer(transformers=[('num',\n",
       "                                                                         Pipeline(steps=[('imputer',\n",
       "                                                                                          SimpleImputer(strategy='median')),\n",
       "                                                                                         ('scaler',\n",
       "                                                                                          StandardScaler())]),\n",
       "                                                                         Index(['physhlth', 'menthlth', 'children', 'htm4', 'wtkg3', '_bmi5',\n",
       "       '_drnkwk1', '_age80', 'ftjuda2_', 'frutda2_', 'grenda1_', 'frnchda_',\n",
       "       'potada1_', 'vegeda2_'],\n",
       "      dtype='obj...\n",
       "       'chccopd3', 'chckdny2', 'diabete4', '_drdxar3', 'marital', '_incomg1',\n",
       "       'employ1', 'decide', 'diffwalk', 'diffdres', '_smoker3', 'usenow3',\n",
       "       'ecignow1', '_metstat', '_imprace', '_educag'],\n",
       "      dtype='object'))])),\n",
       "                                       ('sampling',\n",
       "                                        RandomOverSampler(random_state=42)),\n",
       "                                       ('model', LogisticRegression())]),\n",
       "             param_grid={'model__max_iter': [1000],\n",
       "                         'sampling__sampling_strategy': [0.25, 0.75]})"
      ]
     },
     "execution_count": 28,
     "metadata": {},
     "output_type": "execute_result"
    }
   ],
   "source": [
    "gs_lg_oversample.fit(X_train, y_train)"
   ]
  },
  {
   "cell_type": "code",
   "execution_count": 79,
   "id": "99f911c7-871f-4f3b-9143-64e0af6ff058",
   "metadata": {},
   "outputs": [
    {
     "name": "stdout",
     "output_type": "stream",
     "text": [
      "balanced_accuracy: 0.6714836080461467\n",
      "recall: 0.40204369274136714\n",
      "precision: 0.3785666887856669\n",
      "f1 score: 0.3899521531100479\n"
     ]
    },
    {
     "data": {
      "image/png": "[encoded data removed]",
      "text/plain": [
       "<Figure size 640x480 with 2 Axes>"
      ]
     },
     "metadata": {},
     "output_type": "display_data"
    }
   ],
   "source": [
    "scores.append(evaluation(X_test, y_test, gs_lg_oversample.predict(X_test), gs_lg_oversample))"
   ]
  },
  {
   "cell_type": "markdown",
   "id": "5e7965c1-1b72-4c1b-a2f3-54782952b653",
   "metadata": {},
   "source": [
    "Once I implemented oversampling on the minority class, there was an improvement in balanced accuracy. However, the recall value remained low."
   ]
  },
  {
   "cell_type": "code",
   "execution_count": 30,
   "id": "ad2f2841-f9b6-4776-9693-470c758841ee",
   "metadata": {},
   "outputs": [
    {
     "data": {
      "text/plain": [
       "GridSearchCV(cv=3,\n",
       "             estimator=Pipeline(steps=[('preprocessor',\n",
       "                                        ColumnTransformer(transformers=[('num',\n",
       "                                                                         Pipeline(steps=[('imputer',\n",
       "                                                                                          SimpleImputer(strategy='median')),\n",
       "                                                                                         ('scaler',\n",
       "                                                                                          StandardScaler())]),\n",
       "                                                                         Index(['physhlth', 'menthlth', 'children', 'htm4', 'wtkg3', '_bmi5',\n",
       "       '_drnkwk1', '_age80', 'ftjuda2_', 'frutda2_', 'grenda1_', 'frnchda_',\n",
       "       'potada1_', 'vegeda2_'],\n",
       "      dtype='obj...\n",
       "       'chccopd3', 'chckdny2', 'diabete4', '_drdxar3', 'marital', '_incomg1',\n",
       "       'employ1', 'decide', 'diffwalk', 'diffdres', '_smoker3', 'usenow3',\n",
       "       'ecignow1', '_metstat', '_imprace', '_educag'],\n",
       "      dtype='object'))])),\n",
       "                                       ('sampling',\n",
       "                                        RandomOverSampler(random_state=42)),\n",
       "                                       ('model', LogisticRegression())]),\n",
       "             param_grid={'model__max_iter': [1000],\n",
       "                         'sampling__sampling_strategy': [0.25, 0.75]},\n",
       "             scoring='balanced_accuracy')"
      ]
     },
     "execution_count": 30,
     "metadata": {},
     "output_type": "execute_result"
    }
   ],
   "source": [
    "# Change the scoring metric to balanced-accuracy\n",
    "gs_lg_oversample_bcc = GridSearchCV(pipe_oversample, param_grid=lg_oversample_params, cv = 3, scoring='balanced_accuracy')\n",
    "gs_lg_oversample_bcc.fit(X_train, y_train)"
   ]
  },
  {
   "cell_type": "code",
   "execution_count": 80,
   "id": "d2781164-468a-4d57-a40e-fc7769e91370",
   "metadata": {},
   "outputs": [
    {
     "name": "stdout",
     "output_type": "stream",
     "text": [
      "balanced_accuracy: 0.7763814192105138\n",
      "recall: 0.7475922010805732\n",
      "precision: 0.25566356041131105\n",
      "f1 score: 0.38102364561508534\n"
     ]
    },
    {
     "data": {
      "image/png": "[encoded data removed]",
      "text/plain": [
       "<Figure size 640x480 with 2 Axes>"
      ]
     },
     "metadata": {},
     "output_type": "display_data"
    }
   ],
   "source": [
    "scores.append(evaluation(X_test, y_test, gs_lg_oversample_bcc.predict(X_test), gs_lg_oversample_bcc))"
   ]
  },
  {
   "cell_type": "markdown",
   "id": "326074cf-60ca-45da-8a65-078d3943be72",
   "metadata": {},
   "source": [
    "Compare to previous models, Once I adjusted the metric to balanced accuracy, the recall saw a significant increase."
   ]
  },
  {
   "cell_type": "markdown",
   "id": "e31cdbc6-63a8-442e-a146-e577d2b1ecf4",
   "metadata": {},
   "source": [
    "### SMOTE"
   ]
  },
  {
   "cell_type": "code",
   "execution_count": 32,
   "id": "971a17f8-8ef4-489d-843c-767f033f93ea",
   "metadata": {},
   "outputs": [],
   "source": [
    "pipe_smote = ImbPipeline(steps = [\n",
    "    ('preprocessor', preprocessor),\n",
    "    ('sampling', SMOTE(random_state = 42)),\n",
    "    ('model', LogisticRegression(random_state=42))\n",
    "])"
   ]
  },
  {
   "cell_type": "code",
   "execution_count": 33,
   "id": "4f52aca4-5a3b-40a8-b064-5d825c7d7b59",
   "metadata": {},
   "outputs": [],
   "source": [
    "lg_smote_params = {\n",
    "    'model__max_iter': [1000]\n",
    "}"
   ]
  },
  {
   "cell_type": "code",
   "execution_count": 34,
   "id": "7383579f-54b4-4e62-9cdd-e407f011b7dd",
   "metadata": {},
   "outputs": [
    {
     "data": {
      "text/plain": [
       "GridSearchCV(cv=3,\n",
       "             estimator=Pipeline(steps=[('preprocessor',\n",
       "                                        ColumnTransformer(transformers=[('num',\n",
       "                                                                         Pipeline(steps=[('imputer',\n",
       "                                                                                          SimpleImputer(strategy='median')),\n",
       "                                                                                         ('scaler',\n",
       "                                                                                          StandardScaler())]),\n",
       "                                                                         Index(['physhlth', 'menthlth', 'children', 'htm4', 'wtkg3', '_bmi5',\n",
       "       '_drnkwk1', '_age80', 'ftjuda2_', 'frutda2_', 'grenda1_', 'frnchda_',\n",
       "       'potada1_', 'vegeda2_'],\n",
       "      dtype='obj...\n",
       "       'cholmed3', '_rfchol3', 'cvdstrk3', '_asthms1', 'chcscncr', 'chcocncr',\n",
       "       'chccopd3', 'chckdny2', 'diabete4', '_drdxar3', 'marital', '_incomg1',\n",
       "       'employ1', 'decide', 'diffwalk', 'diffdres', '_smoker3', 'usenow3',\n",
       "       'ecignow1', '_metstat', '_imprace', '_educag'],\n",
       "      dtype='object'))])),\n",
       "                                       ('sampling', SMOTE(random_state=42)),\n",
       "                                       ('model', LogisticRegression())]),\n",
       "             param_grid={'model__max_iter': [1000]},\n",
       "             scoring='balanced_accuracy')"
      ]
     },
     "execution_count": 34,
     "metadata": {},
     "output_type": "execute_result"
    }
   ],
   "source": [
    "gs_lg_smote = GridSearchCV(pipe_smote, param_grid=lg_smote_params, cv = 3, scoring='balanced_accuracy')\n",
    "gs_lg_smote.fit(X_train, y_train)"
   ]
  },
  {
   "cell_type": "code",
   "execution_count": 81,
   "id": "5e3e96b4-ef2b-41cb-80d3-89cdf39077fa",
   "metadata": {},
   "outputs": [
    {
     "name": "stdout",
     "output_type": "stream",
     "text": [
      "balanced_accuracy: 0.7786508457941417\n",
      "recall: 0.7973925299506694\n",
      "precision: 0.2291645569620253\n",
      "f1 score: 0.35601352945803505\n"
     ]
    },
    {
     "data": {
      "image/png": "[encoded data removed]",
      "text/plain": [
       "<Figure size 640x480 with 2 Axes>"
      ]
     },
     "metadata": {},
     "output_type": "display_data"
    }
   ],
   "source": [
    "scores.append(evaluation(X_test, y_test, gs_lg_smote.predict(X_test), gs_lg_smote))"
   ]
  },
  {
   "cell_type": "markdown",
   "id": "1a6d0f0d-0faf-4794-b3fa-483a8b33762a",
   "metadata": {},
   "source": [
    "Compare to previous models, Employing the SMOTE sampling method resulted in an enhanced recall, without compromising the balanced accuracy."
   ]
  },
  {
   "cell_type": "markdown",
   "id": "3f10d6e4-f9f7-4502-b59e-343ffd2f36f3",
   "metadata": {},
   "source": [
    "### ADASYN"
   ]
  },
  {
   "cell_type": "code",
   "execution_count": 36,
   "id": "abd56189-1726-480f-88fb-b09c72bfa936",
   "metadata": {},
   "outputs": [],
   "source": [
    "pipe_adasyn = ImbPipeline(steps = [\n",
    "    ('preprocessor', preprocessor),\n",
    "    ('sampling', ADASYN(random_state = 42)),\n",
    "    ('model', LogisticRegression(random_state=42))\n",
    "])"
   ]
  },
  {
   "cell_type": "code",
   "execution_count": 37,
   "id": "6d8b954c-2ce5-462c-ac94-b5941a74b5ad",
   "metadata": {},
   "outputs": [],
   "source": [
    "lg_adasyn_params = {\n",
    "    'model__max_iter': [1000]\n",
    "}"
   ]
  },
  {
   "cell_type": "code",
   "execution_count": 38,
   "id": "c48e2c1d-0336-45dc-a6ab-6de8c8ac49d5",
   "metadata": {},
   "outputs": [
    {
     "data": {
      "text/plain": [
       "GridSearchCV(cv=3,\n",
       "             estimator=Pipeline(steps=[('preprocessor',\n",
       "                                        ColumnTransformer(transformers=[('num',\n",
       "                                                                         Pipeline(steps=[('imputer',\n",
       "                                                                                          SimpleImputer(strategy='median')),\n",
       "                                                                                         ('scaler',\n",
       "                                                                                          StandardScaler())]),\n",
       "                                                                         Index(['physhlth', 'menthlth', 'children', 'htm4', 'wtkg3', '_bmi5',\n",
       "       '_drnkwk1', '_age80', 'ftjuda2_', 'frutda2_', 'grenda1_', 'frnchda_',\n",
       "       'potada1_', 'vegeda2_'],\n",
       "      dtype='obj...\n",
       "       'cholmed3', '_rfchol3', 'cvdstrk3', '_asthms1', 'chcscncr', 'chcocncr',\n",
       "       'chccopd3', 'chckdny2', 'diabete4', '_drdxar3', 'marital', '_incomg1',\n",
       "       'employ1', 'decide', 'diffwalk', 'diffdres', '_smoker3', 'usenow3',\n",
       "       'ecignow1', '_metstat', '_imprace', '_educag'],\n",
       "      dtype='object'))])),\n",
       "                                       ('sampling', ADASYN(random_state=42)),\n",
       "                                       ('model', LogisticRegression())]),\n",
       "             param_grid={'model__max_iter': [1000]},\n",
       "             scoring='balanced_accuracy')"
      ]
     },
     "execution_count": 38,
     "metadata": {},
     "output_type": "execute_result"
    }
   ],
   "source": [
    "gs_lg_adasyn = GridSearchCV(pipe_adasyn, param_grid=lg_adasyn_params, cv = 3, scoring='balanced_accuracy')\n",
    "gs_lg_adasyn.fit(X_train, y_train)"
   ]
  },
  {
   "cell_type": "code",
   "execution_count": 82,
   "id": "87f0f38f-490c-43b2-aa00-8c1f66c8260f",
   "metadata": {},
   "outputs": [
    {
     "name": "stdout",
     "output_type": "stream",
     "text": [
      "balanced_accuracy: 0.7786936896746863\n",
      "recall: 0.8132487667371389\n",
      "precision: 0.2214971209213052\n",
      "f1 score: 0.34816714436566604\n"
     ]
    },
    {
     "data": {
      "image/png": "[encoded data removed]",
      "text/plain": [
       "<Figure size 640x480 with 2 Axes>"
      ]
     },
     "metadata": {},
     "output_type": "display_data"
    }
   ],
   "source": [
    "scores.append(evaluation(X_test, y_test, gs_lg_adasyn.predict(X_test), gs_lg_adasyn))"
   ]
  },
  {
   "cell_type": "markdown",
   "id": "1d3061bd-f4ff-4ca8-be30-e3b95c3229fc",
   "metadata": {},
   "source": [
    "Compare to previous models, Employing the ADASYN sampling method resulted in an enhanced recall, without compromising the balanced accuracy."
   ]
  },
  {
   "cell_type": "markdown",
   "id": "d2c4170a-6228-416a-a6f8-c818011f4a98",
   "metadata": {},
   "source": [
    "### OverWeight"
   ]
  },
  {
   "cell_type": "code",
   "execution_count": 40,
   "id": "98ff78e7-a0b9-4e6e-ad35-16488bf54b17",
   "metadata": {},
   "outputs": [],
   "source": [
    "pipe_weight = Pipeline(steps = [\n",
    "    ('preprocessor', preprocessor),\n",
    "    ('model', LogisticRegression(class_weight='balanced', random_state=42))\n",
    "])"
   ]
  },
  {
   "cell_type": "code",
   "execution_count": 41,
   "id": "af55c1f0-1de4-4b07-879a-890c99849bb1",
   "metadata": {
    "scrolled": true,
    "tags": []
   },
   "outputs": [
    {
     "data": {
      "text/plain": [
       "{'memory': None,\n",
       " 'steps': [('preprocessor',\n",
       "   ColumnTransformer(transformers=[('num',\n",
       "                                    Pipeline(steps=[('imputer',\n",
       "                                                     SimpleImputer(strategy='median')),\n",
       "                                                    ('scaler', StandardScaler())]),\n",
       "                                    Index(['physhlth', 'menthlth', 'children', 'htm4', 'wtkg3', '_bmi5',\n",
       "          '_drnkwk1', '_age80', 'ftjuda2_', 'frutda2_', 'grenda1_', 'frnchda_',\n",
       "          'potada1_', 'vegeda2_'],\n",
       "         dtype='object')),\n",
       "                                   ('cat',\n",
       "                                    Pipeline(steps=[('onehot',\n",
       "                                                     OneHotEncoder(handle...\n",
       "                                                     StandardScaler(with_mean=False,\n",
       "                                                                    with_std=False))]),\n",
       "                                    Index(['_sex', 'genhlth', 'addepev3', 'checkup1', '_totinda', '_rfhype6',\n",
       "          'cholmed3', '_rfchol3', 'cvdstrk3', '_asthms1', 'chcscncr', 'chcocncr',\n",
       "          'chccopd3', 'chckdny2', 'diabete4', '_drdxar3', 'marital', '_incomg1',\n",
       "          'employ1', 'decide', 'diffwalk', 'diffdres', '_smoker3', 'usenow3',\n",
       "          'ecignow1', '_metstat', '_imprace', '_educag'],\n",
       "         dtype='object'))])),\n",
       "  ('model', LogisticRegression(class_weight='balanced'))],\n",
       " 'verbose': False,\n",
       " 'preprocessor': ColumnTransformer(transformers=[('num',\n",
       "                                  Pipeline(steps=[('imputer',\n",
       "                                                   SimpleImputer(strategy='median')),\n",
       "                                                  ('scaler', StandardScaler())]),\n",
       "                                  Index(['physhlth', 'menthlth', 'children', 'htm4', 'wtkg3', '_bmi5',\n",
       "        '_drnkwk1', '_age80', 'ftjuda2_', 'frutda2_', 'grenda1_', 'frnchda_',\n",
       "        'potada1_', 'vegeda2_'],\n",
       "       dtype='object')),\n",
       "                                 ('cat',\n",
       "                                  Pipeline(steps=[('onehot',\n",
       "                                                   OneHotEncoder(handle...\n",
       "                                                   StandardScaler(with_mean=False,\n",
       "                                                                  with_std=False))]),\n",
       "                                  Index(['_sex', 'genhlth', 'addepev3', 'checkup1', '_totinda', '_rfhype6',\n",
       "        'cholmed3', '_rfchol3', 'cvdstrk3', '_asthms1', 'chcscncr', 'chcocncr',\n",
       "        'chccopd3', 'chckdny2', 'diabete4', '_drdxar3', 'marital', '_incomg1',\n",
       "        'employ1', 'decide', 'diffwalk', 'diffdres', '_smoker3', 'usenow3',\n",
       "        'ecignow1', '_metstat', '_imprace', '_educag'],\n",
       "       dtype='object'))]),\n",
       " 'model': LogisticRegression(class_weight='balanced'),\n",
       " 'preprocessor__n_jobs': None,\n",
       " 'preprocessor__remainder': 'drop',\n",
       " 'preprocessor__sparse_threshold': 0.3,\n",
       " 'preprocessor__transformer_weights': None,\n",
       " 'preprocessor__transformers': [('num',\n",
       "   Pipeline(steps=[('imputer', SimpleImputer(strategy='median')),\n",
       "                   ('scaler', StandardScaler())]),\n",
       "   Index(['physhlth', 'menthlth', 'children', 'htm4', 'wtkg3', '_bmi5',\n",
       "          '_drnkwk1', '_age80', 'ftjuda2_', 'frutda2_', 'grenda1_', 'frnchda_',\n",
       "          'potada1_', 'vegeda2_'],\n",
       "         dtype='object')),\n",
       "  ('cat',\n",
       "   Pipeline(steps=[('onehot', OneHotEncoder(handle_unknown='ignore')),\n",
       "                   ('scaler', StandardScaler(with_mean=False, with_std=False))]),\n",
       "   Index(['_sex', 'genhlth', 'addepev3', 'checkup1', '_totinda', '_rfhype6',\n",
       "          'cholmed3', '_rfchol3', 'cvdstrk3', '_asthms1', 'chcscncr', 'chcocncr',\n",
       "          'chccopd3', 'chckdny2', 'diabete4', '_drdxar3', 'marital', '_incomg1',\n",
       "          'employ1', 'decide', 'diffwalk', 'diffdres', '_smoker3', 'usenow3',\n",
       "          'ecignow1', '_metstat', '_imprace', '_educag'],\n",
       "         dtype='object'))],\n",
       " 'preprocessor__verbose': False,\n",
       " 'preprocessor__verbose_feature_names_out': True,\n",
       " 'preprocessor__num': Pipeline(steps=[('imputer', SimpleImputer(strategy='median')),\n",
       "                 ('scaler', StandardScaler())]),\n",
       " 'preprocessor__cat': Pipeline(steps=[('onehot', OneHotEncoder(handle_unknown='ignore')),\n",
       "                 ('scaler', StandardScaler(with_mean=False, with_std=False))]),\n",
       " 'preprocessor__num__memory': None,\n",
       " 'preprocessor__num__steps': [('imputer', SimpleImputer(strategy='median')),\n",
       "  ('scaler', StandardScaler())],\n",
       " 'preprocessor__num__verbose': False,\n",
       " 'preprocessor__num__imputer': SimpleImputer(strategy='median'),\n",
       " 'preprocessor__num__scaler': StandardScaler(),\n",
       " 'preprocessor__num__imputer__add_indicator': False,\n",
       " 'preprocessor__num__imputer__copy': True,\n",
       " 'preprocessor__num__imputer__fill_value': None,\n",
       " 'preprocessor__num__imputer__missing_values': nan,\n",
       " 'preprocessor__num__imputer__strategy': 'median',\n",
       " 'preprocessor__num__imputer__verbose': 0,\n",
       " 'preprocessor__num__scaler__copy': True,\n",
       " 'preprocessor__num__scaler__with_mean': True,\n",
       " 'preprocessor__num__scaler__with_std': True,\n",
       " 'preprocessor__cat__memory': None,\n",
       " 'preprocessor__cat__steps': [('onehot',\n",
       "   OneHotEncoder(handle_unknown='ignore')),\n",
       "  ('scaler', StandardScaler(with_mean=False, with_std=False))],\n",
       " 'preprocessor__cat__verbose': False,\n",
       " 'preprocessor__cat__onehot': OneHotEncoder(handle_unknown='ignore'),\n",
       " 'preprocessor__cat__scaler': StandardScaler(with_mean=False, with_std=False),\n",
       " 'preprocessor__cat__onehot__categories': 'auto',\n",
       " 'preprocessor__cat__onehot__drop': None,\n",
       " 'preprocessor__cat__onehot__dtype': numpy.float64,\n",
       " 'preprocessor__cat__onehot__handle_unknown': 'ignore',\n",
       " 'preprocessor__cat__onehot__sparse': True,\n",
       " 'preprocessor__cat__scaler__copy': True,\n",
       " 'preprocessor__cat__scaler__with_mean': False,\n",
       " 'preprocessor__cat__scaler__with_std': False,\n",
       " 'model__C': 1.0,\n",
       " 'model__class_weight': 'balanced',\n",
       " 'model__dual': False,\n",
       " 'model__fit_intercept': True,\n",
       " 'model__intercept_scaling': 1,\n",
       " 'model__l1_ratio': None,\n",
       " 'model__max_iter': 100,\n",
       " 'model__multi_class': 'auto',\n",
       " 'model__n_jobs': None,\n",
       " 'model__penalty': 'l2',\n",
       " 'model__random_state': None,\n",
       " 'model__solver': 'lbfgs',\n",
       " 'model__tol': 0.0001,\n",
       " 'model__verbose': 0,\n",
       " 'model__warm_start': False}"
      ]
     },
     "execution_count": 41,
     "metadata": {},
     "output_type": "execute_result"
    }
   ],
   "source": [
    "pipe_weight.get_params()"
   ]
  },
  {
   "cell_type": "code",
   "execution_count": 42,
   "id": "86aa07f3-e1ca-4a69-9efb-2fea3b12d632",
   "metadata": {},
   "outputs": [],
   "source": [
    "lg_weight_params = {\n",
    "    'model__max_iter': [1000]\n",
    "}"
   ]
  },
  {
   "cell_type": "code",
   "execution_count": 43,
   "id": "476740ae-c842-43df-b670-9583ad7fab52",
   "metadata": {},
   "outputs": [
    {
     "data": {
      "text/plain": [
       "GridSearchCV(cv=3,\n",
       "             estimator=Pipeline(steps=[('preprocessor',\n",
       "                                        ColumnTransformer(transformers=[('num',\n",
       "                                                                         Pipeline(steps=[('imputer',\n",
       "                                                                                          SimpleImputer(strategy='median')),\n",
       "                                                                                         ('scaler',\n",
       "                                                                                          StandardScaler())]),\n",
       "                                                                         Index(['physhlth', 'menthlth', 'children', 'htm4', 'wtkg3', '_bmi5',\n",
       "       '_drnkwk1', '_age80', 'ftjuda2_', 'frutda2_', 'grenda1_', 'frnchda_',\n",
       "       'potada1_', 'vegeda2_'],\n",
       "      dtype='obj...\n",
       "       'cholmed3', '_rfchol3', 'cvdstrk3', '_asthms1', 'chcscncr', 'chcocncr',\n",
       "       'chccopd3', 'chckdny2', 'diabete4', '_drdxar3', 'marital', '_incomg1',\n",
       "       'employ1', 'decide', 'diffwalk', 'diffdres', '_smoker3', 'usenow3',\n",
       "       'ecignow1', '_metstat', '_imprace', '_educag'],\n",
       "      dtype='object'))])),\n",
       "                                       ('model',\n",
       "                                        LogisticRegression(class_weight='balanced'))]),\n",
       "             param_grid={'model__max_iter': [1000]},\n",
       "             scoring='balanced_accuracy')"
      ]
     },
     "execution_count": 43,
     "metadata": {},
     "output_type": "execute_result"
    }
   ],
   "source": [
    "gs_lg_weight = GridSearchCV(pipe_weight, param_grid=lg_weight_params, cv = 3, scoring='balanced_accuracy')\n",
    "gs_lg_weight.fit(X_train, y_train)"
   ]
  },
  {
   "cell_type": "code",
   "execution_count": 83,
   "id": "cee88f13-cac0-4ecb-84d2-c48b10b0c6c9",
   "metadata": {},
   "outputs": [
    {
     "name": "stdout",
     "output_type": "stream",
     "text": [
      "balanced_accuracy: 0.7847271959775144\n",
      "recall: 0.8110171482264505\n",
      "precision: 0.23108329707841102\n",
      "f1 score: 0.35968225029300693\n"
     ]
    },
    {
     "data": {
      "image/png": "[encoded data removed]",
      "text/plain": [
       "<Figure size 640x480 with 2 Axes>"
      ]
     },
     "metadata": {},
     "output_type": "display_data"
    }
   ],
   "source": [
    "scores.append(evaluation(X_test, y_test, gs_lg_weight.predict(X_test), gs_lg_weight))"
   ]
  },
  {
   "cell_type": "markdown",
   "id": "7207297d-247b-40bf-85ac-13459cd6ec86",
   "metadata": {},
   "source": [
    "After applying the overweight method, there's a slight increase in balanced accuracy and a small decrease in recall when compared to ADASYN. However, given that overweight is computationally much quicker than ADASYN, the Logistic Regression model with overweight will be my preferred choice."
   ]
  },
  {
   "cell_type": "markdown",
   "id": "d58ada3d-60fa-4350-a378-1d6932f3d086",
   "metadata": {},
   "source": [
    "### Hyper tuning with Overweight Method"
   ]
  },
  {
   "cell_type": "markdown",
   "id": "c0eede91-6e77-4d73-91db-0887071ab5c4",
   "metadata": {},
   "source": [
    "As Overweight runs fast and has the best result, we will hyptertune paramters on this one"
   ]
  },
  {
   "cell_type": "code",
   "execution_count": 58,
   "id": "dbac1b2d-a2f8-4fbb-9e7e-f4239025a954",
   "metadata": {},
   "outputs": [],
   "source": [
    "pipe_tune = Pipeline(steps=[\n",
    "    ('preprocessor', preprocessor),\n",
    "    ('model', LogisticRegression(class_weight='balanced', random_state=42))\n",
    "])"
   ]
  },
  {
   "cell_type": "code",
   "execution_count": 60,
   "id": "a72ceea3-01bd-4cf1-8472-09efb6217f63",
   "metadata": {
    "scrolled": true,
    "tags": []
   },
   "outputs": [
    {
     "data": {
      "text/plain": [
       "{'memory': None,\n",
       " 'steps': [('preprocessor',\n",
       "   ColumnTransformer(transformers=[('num',\n",
       "                                    Pipeline(steps=[('imputer',\n",
       "                                                     SimpleImputer(strategy='median')),\n",
       "                                                    ('scaler', StandardScaler())]),\n",
       "                                    Index(['physhlth', 'menthlth', 'children', 'htm4', 'wtkg3', '_bmi5',\n",
       "          '_drnkwk1', '_age80', 'ftjuda2_', 'frutda2_', 'grenda1_', 'frnchda_',\n",
       "          'potada1_', 'vegeda2_'],\n",
       "         dtype='object')),\n",
       "                                   ('cat',\n",
       "                                    Pipeline(steps=[('onehot',\n",
       "                                                     OneHotEncoder(handle...\n",
       "                                                     StandardScaler(with_mean=False,\n",
       "                                                                    with_std=False))]),\n",
       "                                    Index(['_sex', 'genhlth', 'addepev3', 'checkup1', '_totinda', '_rfhype6',\n",
       "          'cholmed3', '_rfchol3', 'cvdstrk3', '_asthms1', 'chcscncr', 'chcocncr',\n",
       "          'chccopd3', 'chckdny2', 'diabete4', '_drdxar3', 'marital', '_incomg1',\n",
       "          'employ1', 'decide', 'diffwalk', 'diffdres', '_smoker3', 'usenow3',\n",
       "          'ecignow1', '_metstat', '_imprace', '_educag'],\n",
       "         dtype='object'))])),\n",
       "  ('model', LogisticRegression(class_weight='balanced'))],\n",
       " 'verbose': False,\n",
       " 'preprocessor': ColumnTransformer(transformers=[('num',\n",
       "                                  Pipeline(steps=[('imputer',\n",
       "                                                   SimpleImputer(strategy='median')),\n",
       "                                                  ('scaler', StandardScaler())]),\n",
       "                                  Index(['physhlth', 'menthlth', 'children', 'htm4', 'wtkg3', '_bmi5',\n",
       "        '_drnkwk1', '_age80', 'ftjuda2_', 'frutda2_', 'grenda1_', 'frnchda_',\n",
       "        'potada1_', 'vegeda2_'],\n",
       "       dtype='object')),\n",
       "                                 ('cat',\n",
       "                                  Pipeline(steps=[('onehot',\n",
       "                                                   OneHotEncoder(handle...\n",
       "                                                   StandardScaler(with_mean=False,\n",
       "                                                                  with_std=False))]),\n",
       "                                  Index(['_sex', 'genhlth', 'addepev3', 'checkup1', '_totinda', '_rfhype6',\n",
       "        'cholmed3', '_rfchol3', 'cvdstrk3', '_asthms1', 'chcscncr', 'chcocncr',\n",
       "        'chccopd3', 'chckdny2', 'diabete4', '_drdxar3', 'marital', '_incomg1',\n",
       "        'employ1', 'decide', 'diffwalk', 'diffdres', '_smoker3', 'usenow3',\n",
       "        'ecignow1', '_metstat', '_imprace', '_educag'],\n",
       "       dtype='object'))]),\n",
       " 'model': LogisticRegression(class_weight='balanced'),\n",
       " 'preprocessor__n_jobs': None,\n",
       " 'preprocessor__remainder': 'drop',\n",
       " 'preprocessor__sparse_threshold': 0.3,\n",
       " 'preprocessor__transformer_weights': None,\n",
       " 'preprocessor__transformers': [('num',\n",
       "   Pipeline(steps=[('imputer', SimpleImputer(strategy='median')),\n",
       "                   ('scaler', StandardScaler())]),\n",
       "   Index(['physhlth', 'menthlth', 'children', 'htm4', 'wtkg3', '_bmi5',\n",
       "          '_drnkwk1', '_age80', 'ftjuda2_', 'frutda2_', 'grenda1_', 'frnchda_',\n",
       "          'potada1_', 'vegeda2_'],\n",
       "         dtype='object')),\n",
       "  ('cat',\n",
       "   Pipeline(steps=[('onehot', OneHotEncoder(handle_unknown='ignore')),\n",
       "                   ('scaler', StandardScaler(with_mean=False, with_std=False))]),\n",
       "   Index(['_sex', 'genhlth', 'addepev3', 'checkup1', '_totinda', '_rfhype6',\n",
       "          'cholmed3', '_rfchol3', 'cvdstrk3', '_asthms1', 'chcscncr', 'chcocncr',\n",
       "          'chccopd3', 'chckdny2', 'diabete4', '_drdxar3', 'marital', '_incomg1',\n",
       "          'employ1', 'decide', 'diffwalk', 'diffdres', '_smoker3', 'usenow3',\n",
       "          'ecignow1', '_metstat', '_imprace', '_educag'],\n",
       "         dtype='object'))],\n",
       " 'preprocessor__verbose': False,\n",
       " 'preprocessor__verbose_feature_names_out': True,\n",
       " 'preprocessor__num': Pipeline(steps=[('imputer', SimpleImputer(strategy='median')),\n",
       "                 ('scaler', StandardScaler())]),\n",
       " 'preprocessor__cat': Pipeline(steps=[('onehot', OneHotEncoder(handle_unknown='ignore')),\n",
       "                 ('scaler', StandardScaler(with_mean=False, with_std=False))]),\n",
       " 'preprocessor__num__memory': None,\n",
       " 'preprocessor__num__steps': [('imputer', SimpleImputer(strategy='median')),\n",
       "  ('scaler', StandardScaler())],\n",
       " 'preprocessor__num__verbose': False,\n",
       " 'preprocessor__num__imputer': SimpleImputer(strategy='median'),\n",
       " 'preprocessor__num__scaler': StandardScaler(),\n",
       " 'preprocessor__num__imputer__add_indicator': False,\n",
       " 'preprocessor__num__imputer__copy': True,\n",
       " 'preprocessor__num__imputer__fill_value': None,\n",
       " 'preprocessor__num__imputer__missing_values': nan,\n",
       " 'preprocessor__num__imputer__strategy': 'median',\n",
       " 'preprocessor__num__imputer__verbose': 0,\n",
       " 'preprocessor__num__scaler__copy': True,\n",
       " 'preprocessor__num__scaler__with_mean': True,\n",
       " 'preprocessor__num__scaler__with_std': True,\n",
       " 'preprocessor__cat__memory': None,\n",
       " 'preprocessor__cat__steps': [('onehot',\n",
       "   OneHotEncoder(handle_unknown='ignore')),\n",
       "  ('scaler', StandardScaler(with_mean=False, with_std=False))],\n",
       " 'preprocessor__cat__verbose': False,\n",
       " 'preprocessor__cat__onehot': OneHotEncoder(handle_unknown='ignore'),\n",
       " 'preprocessor__cat__scaler': StandardScaler(with_mean=False, with_std=False),\n",
       " 'preprocessor__cat__onehot__categories': 'auto',\n",
       " 'preprocessor__cat__onehot__drop': None,\n",
       " 'preprocessor__cat__onehot__dtype': numpy.float64,\n",
       " 'preprocessor__cat__onehot__handle_unknown': 'ignore',\n",
       " 'preprocessor__cat__onehot__sparse': True,\n",
       " 'preprocessor__cat__scaler__copy': True,\n",
       " 'preprocessor__cat__scaler__with_mean': False,\n",
       " 'preprocessor__cat__scaler__with_std': False,\n",
       " 'model__C': 1.0,\n",
       " 'model__class_weight': 'balanced',\n",
       " 'model__dual': False,\n",
       " 'model__fit_intercept': True,\n",
       " 'model__intercept_scaling': 1,\n",
       " 'model__l1_ratio': None,\n",
       " 'model__max_iter': 100,\n",
       " 'model__multi_class': 'auto',\n",
       " 'model__n_jobs': None,\n",
       " 'model__penalty': 'l2',\n",
       " 'model__random_state': None,\n",
       " 'model__solver': 'lbfgs',\n",
       " 'model__tol': 0.0001,\n",
       " 'model__verbose': 0,\n",
       " 'model__warm_start': False}"
      ]
     },
     "execution_count": 60,
     "metadata": {},
     "output_type": "execute_result"
    }
   ],
   "source": [
    "pipe_tune.get_params()"
   ]
  },
  {
   "cell_type": "code",
   "execution_count": 70,
   "id": "2a277ed6-ebdf-4118-9fd2-12d74c7a189c",
   "metadata": {},
   "outputs": [],
   "source": [
    "tune_params = {\n",
    "    'model__max_iter': [1000, 2000],\n",
    "    'model__penalty': ['none', 'l1', 'l2', 'elasticnet'],\n",
    "    'model__solver': ['lbfgs', 'saga'], \n",
    "    'model__C': [1, 10, 100, 1000]\n",
    "}"
   ]
  },
  {
   "cell_type": "code",
   "execution_count": 71,
   "id": "27be8d1d-3a95-4b08-b3c2-a1ae56a5c248",
   "metadata": {
    "scrolled": true,
    "tags": []
   },
   "outputs": [
    {
     "name": "stderr",
     "output_type": "stream",
     "text": [
      "/Users/ranma/opt/anaconda3/lib/python3.9/site-packages/sklearn/linear_model/_sag.py:352: ConvergenceWarning: The max_iter was reached which means the coef_ did not converge\n",
      "  warnings.warn(\n",
      "/Users/ranma/opt/anaconda3/lib/python3.9/site-packages/sklearn/linear_model/_sag.py:352: ConvergenceWarning: The max_iter was reached which means the coef_ did not converge\n",
      "  warnings.warn(\n",
      "/Users/ranma/opt/anaconda3/lib/python3.9/site-packages/sklearn/linear_model/_sag.py:352: ConvergenceWarning: The max_iter was reached which means the coef_ did not converge\n",
      "  warnings.warn(\n",
      "/Users/ranma/opt/anaconda3/lib/python3.9/site-packages/sklearn/linear_model/_sag.py:352: ConvergenceWarning: The max_iter was reached which means the coef_ did not converge\n",
      "  warnings.warn(\n",
      "/Users/ranma/opt/anaconda3/lib/python3.9/site-packages/sklearn/linear_model/_sag.py:352: ConvergenceWarning: The max_iter was reached which means the coef_ did not converge\n",
      "  warnings.warn(\n",
      "/Users/ranma/opt/anaconda3/lib/python3.9/site-packages/sklearn/linear_model/_sag.py:352: ConvergenceWarning: The max_iter was reached which means the coef_ did not converge\n",
      "  warnings.warn(\n",
      "/Users/ranma/opt/anaconda3/lib/python3.9/site-packages/sklearn/linear_model/_sag.py:352: ConvergenceWarning: The max_iter was reached which means the coef_ did not converge\n",
      "  warnings.warn(\n",
      "/Users/ranma/opt/anaconda3/lib/python3.9/site-packages/sklearn/linear_model/_sag.py:352: ConvergenceWarning: The max_iter was reached which means the coef_ did not converge\n",
      "  warnings.warn(\n",
      "/Users/ranma/opt/anaconda3/lib/python3.9/site-packages/sklearn/linear_model/_sag.py:352: ConvergenceWarning: The max_iter was reached which means the coef_ did not converge\n",
      "  warnings.warn(\n",
      "/Users/ranma/opt/anaconda3/lib/python3.9/site-packages/sklearn/linear_model/_sag.py:352: ConvergenceWarning: The max_iter was reached which means the coef_ did not converge\n",
      "  warnings.warn(\n",
      "/Users/ranma/opt/anaconda3/lib/python3.9/site-packages/sklearn/linear_model/_sag.py:352: ConvergenceWarning: The max_iter was reached which means the coef_ did not converge\n",
      "  warnings.warn(\n",
      "/Users/ranma/opt/anaconda3/lib/python3.9/site-packages/sklearn/linear_model/_sag.py:352: ConvergenceWarning: The max_iter was reached which means the coef_ did not converge\n",
      "  warnings.warn(\n",
      "/Users/ranma/opt/anaconda3/lib/python3.9/site-packages/sklearn/linear_model/_sag.py:352: ConvergenceWarning: The max_iter was reached which means the coef_ did not converge\n",
      "  warnings.warn(\n",
      "/Users/ranma/opt/anaconda3/lib/python3.9/site-packages/sklearn/linear_model/_logistic.py:1483: UserWarning: Setting penalty='none' will ignore the C and l1_ratio parameters\n",
      "  warnings.warn(\n",
      "/Users/ranma/opt/anaconda3/lib/python3.9/site-packages/sklearn/linear_model/_logistic.py:1483: UserWarning: Setting penalty='none' will ignore the C and l1_ratio parameters\n",
      "  warnings.warn(\n",
      "/Users/ranma/opt/anaconda3/lib/python3.9/site-packages/sklearn/linear_model/_logistic.py:1483: UserWarning: Setting penalty='none' will ignore the C and l1_ratio parameters\n",
      "  warnings.warn(\n",
      "/Users/ranma/opt/anaconda3/lib/python3.9/site-packages/sklearn/linear_model/_logistic.py:1483: UserWarning: Setting penalty='none' will ignore the C and l1_ratio parameters\n",
      "  warnings.warn(\n",
      "/Users/ranma/opt/anaconda3/lib/python3.9/site-packages/sklearn/linear_model/_sag.py:352: ConvergenceWarning: The max_iter was reached which means the coef_ did not converge\n",
      "  warnings.warn(\n",
      "/Users/ranma/opt/anaconda3/lib/python3.9/site-packages/sklearn/linear_model/_logistic.py:1483: UserWarning: Setting penalty='none' will ignore the C and l1_ratio parameters\n",
      "  warnings.warn(\n",
      "/Users/ranma/opt/anaconda3/lib/python3.9/site-packages/sklearn/linear_model/_sag.py:352: ConvergenceWarning: The max_iter was reached which means the coef_ did not converge\n",
      "  warnings.warn(\n",
      "/Users/ranma/opt/anaconda3/lib/python3.9/site-packages/sklearn/linear_model/_logistic.py:1483: UserWarning: Setting penalty='none' will ignore the C and l1_ratio parameters\n",
      "  warnings.warn(\n",
      "/Users/ranma/opt/anaconda3/lib/python3.9/site-packages/sklearn/linear_model/_sag.py:352: ConvergenceWarning: The max_iter was reached which means the coef_ did not converge\n",
      "  warnings.warn(\n",
      "/Users/ranma/opt/anaconda3/lib/python3.9/site-packages/sklearn/linear_model/_sag.py:352: ConvergenceWarning: The max_iter was reached which means the coef_ did not converge\n",
      "  warnings.warn(\n",
      "/Users/ranma/opt/anaconda3/lib/python3.9/site-packages/sklearn/linear_model/_sag.py:352: ConvergenceWarning: The max_iter was reached which means the coef_ did not converge\n",
      "  warnings.warn(\n",
      "/Users/ranma/opt/anaconda3/lib/python3.9/site-packages/sklearn/linear_model/_sag.py:352: ConvergenceWarning: The max_iter was reached which means the coef_ did not converge\n",
      "  warnings.warn(\n",
      "/Users/ranma/opt/anaconda3/lib/python3.9/site-packages/sklearn/linear_model/_sag.py:352: ConvergenceWarning: The max_iter was reached which means the coef_ did not converge\n",
      "  warnings.warn(\n",
      "/Users/ranma/opt/anaconda3/lib/python3.9/site-packages/sklearn/linear_model/_sag.py:352: ConvergenceWarning: The max_iter was reached which means the coef_ did not converge\n",
      "  warnings.warn(\n",
      "/Users/ranma/opt/anaconda3/lib/python3.9/site-packages/sklearn/linear_model/_sag.py:352: ConvergenceWarning: The max_iter was reached which means the coef_ did not converge\n",
      "  warnings.warn(\n",
      "/Users/ranma/opt/anaconda3/lib/python3.9/site-packages/sklearn/linear_model/_logistic.py:1483: UserWarning: Setting penalty='none' will ignore the C and l1_ratio parameters\n",
      "  warnings.warn(\n",
      "/Users/ranma/opt/anaconda3/lib/python3.9/site-packages/sklearn/linear_model/_logistic.py:1483: UserWarning: Setting penalty='none' will ignore the C and l1_ratio parameters\n",
      "  warnings.warn(\n",
      "/Users/ranma/opt/anaconda3/lib/python3.9/site-packages/sklearn/linear_model/_logistic.py:1483: UserWarning: Setting penalty='none' will ignore the C and l1_ratio parameters\n",
      "  warnings.warn(\n",
      "/Users/ranma/opt/anaconda3/lib/python3.9/site-packages/sklearn/linear_model/_logistic.py:1483: UserWarning: Setting penalty='none' will ignore the C and l1_ratio parameters\n",
      "  warnings.warn(\n",
      "/Users/ranma/opt/anaconda3/lib/python3.9/site-packages/sklearn/linear_model/_sag.py:352: ConvergenceWarning: The max_iter was reached which means the coef_ did not converge\n",
      "  warnings.warn(\n",
      "/Users/ranma/opt/anaconda3/lib/python3.9/site-packages/sklearn/linear_model/_logistic.py:1483: UserWarning: Setting penalty='none' will ignore the C and l1_ratio parameters\n",
      "  warnings.warn(\n",
      "/Users/ranma/opt/anaconda3/lib/python3.9/site-packages/sklearn/linear_model/_logistic.py:1483: UserWarning: Setting penalty='none' will ignore the C and l1_ratio parameters\n",
      "  warnings.warn(\n",
      "/Users/ranma/opt/anaconda3/lib/python3.9/site-packages/sklearn/linear_model/_sag.py:352: ConvergenceWarning: The max_iter was reached which means the coef_ did not converge\n",
      "  warnings.warn(\n",
      "/Users/ranma/opt/anaconda3/lib/python3.9/site-packages/sklearn/linear_model/_sag.py:352: ConvergenceWarning: The max_iter was reached which means the coef_ did not converge\n",
      "  warnings.warn(\n",
      "/Users/ranma/opt/anaconda3/lib/python3.9/site-packages/sklearn/linear_model/_sag.py:352: ConvergenceWarning: The max_iter was reached which means the coef_ did not converge\n",
      "  warnings.warn(\n",
      "/Users/ranma/opt/anaconda3/lib/python3.9/site-packages/sklearn/linear_model/_sag.py:352: ConvergenceWarning: The max_iter was reached which means the coef_ did not converge\n",
      "  warnings.warn(\n",
      "/Users/ranma/opt/anaconda3/lib/python3.9/site-packages/sklearn/linear_model/_sag.py:352: ConvergenceWarning: The max_iter was reached which means the coef_ did not converge\n",
      "  warnings.warn(\n",
      "/Users/ranma/opt/anaconda3/lib/python3.9/site-packages/sklearn/linear_model/_logistic.py:1483: UserWarning: Setting penalty='none' will ignore the C and l1_ratio parameters\n",
      "  warnings.warn(\n",
      "/Users/ranma/opt/anaconda3/lib/python3.9/site-packages/sklearn/linear_model/_logistic.py:1483: UserWarning: Setting penalty='none' will ignore the C and l1_ratio parameters\n",
      "  warnings.warn(\n",
      "/Users/ranma/opt/anaconda3/lib/python3.9/site-packages/sklearn/linear_model/_logistic.py:1483: UserWarning: Setting penalty='none' will ignore the C and l1_ratio parameters\n",
      "  warnings.warn(\n",
      "/Users/ranma/opt/anaconda3/lib/python3.9/site-packages/sklearn/linear_model/_logistic.py:1483: UserWarning: Setting penalty='none' will ignore the C and l1_ratio parameters\n",
      "  warnings.warn(\n",
      "/Users/ranma/opt/anaconda3/lib/python3.9/site-packages/sklearn/linear_model/_sag.py:352: ConvergenceWarning: The max_iter was reached which means the coef_ did not converge\n",
      "  warnings.warn(\n",
      "/Users/ranma/opt/anaconda3/lib/python3.9/site-packages/sklearn/linear_model/_logistic.py:1483: UserWarning: Setting penalty='none' will ignore the C and l1_ratio parameters\n",
      "  warnings.warn(\n",
      "/Users/ranma/opt/anaconda3/lib/python3.9/site-packages/sklearn/linear_model/_sag.py:352: ConvergenceWarning: The max_iter was reached which means the coef_ did not converge\n",
      "  warnings.warn(\n",
      "/Users/ranma/opt/anaconda3/lib/python3.9/site-packages/sklearn/linear_model/_logistic.py:1483: UserWarning: Setting penalty='none' will ignore the C and l1_ratio parameters\n",
      "  warnings.warn(\n",
      "/Users/ranma/opt/anaconda3/lib/python3.9/site-packages/sklearn/linear_model/_sag.py:352: ConvergenceWarning: The max_iter was reached which means the coef_ did not converge\n",
      "  warnings.warn(\n",
      "/Users/ranma/opt/anaconda3/lib/python3.9/site-packages/sklearn/linear_model/_sag.py:352: ConvergenceWarning: The max_iter was reached which means the coef_ did not converge\n",
      "  warnings.warn(\n",
      "/Users/ranma/opt/anaconda3/lib/python3.9/site-packages/sklearn/linear_model/_sag.py:352: ConvergenceWarning: The max_iter was reached which means the coef_ did not converge\n",
      "  warnings.warn(\n",
      "/Users/ranma/opt/anaconda3/lib/python3.9/site-packages/sklearn/linear_model/_sag.py:352: ConvergenceWarning: The max_iter was reached which means the coef_ did not converge\n",
      "  warnings.warn(\n",
      "/Users/ranma/opt/anaconda3/lib/python3.9/site-packages/sklearn/linear_model/_sag.py:352: ConvergenceWarning: The max_iter was reached which means the coef_ did not converge\n",
      "  warnings.warn(\n",
      "/Users/ranma/opt/anaconda3/lib/python3.9/site-packages/sklearn/linear_model/_sag.py:352: ConvergenceWarning: The max_iter was reached which means the coef_ did not converge\n",
      "  warnings.warn(\n",
      "/Users/ranma/opt/anaconda3/lib/python3.9/site-packages/sklearn/linear_model/_sag.py:352: ConvergenceWarning: The max_iter was reached which means the coef_ did not converge\n",
      "  warnings.warn(\n",
      "/Users/ranma/opt/anaconda3/lib/python3.9/site-packages/sklearn/linear_model/_logistic.py:1483: UserWarning: Setting penalty='none' will ignore the C and l1_ratio parameters\n",
      "  warnings.warn(\n",
      "/Users/ranma/opt/anaconda3/lib/python3.9/site-packages/sklearn/linear_model/_logistic.py:1483: UserWarning: Setting penalty='none' will ignore the C and l1_ratio parameters\n",
      "  warnings.warn(\n",
      "/Users/ranma/opt/anaconda3/lib/python3.9/site-packages/sklearn/linear_model/_logistic.py:1483: UserWarning: Setting penalty='none' will ignore the C and l1_ratio parameters\n",
      "  warnings.warn(\n",
      "/Users/ranma/opt/anaconda3/lib/python3.9/site-packages/sklearn/linear_model/_logistic.py:1483: UserWarning: Setting penalty='none' will ignore the C and l1_ratio parameters\n",
      "  warnings.warn(\n",
      "/Users/ranma/opt/anaconda3/lib/python3.9/site-packages/sklearn/linear_model/_sag.py:352: ConvergenceWarning: The max_iter was reached which means the coef_ did not converge\n",
      "  warnings.warn(\n",
      "/Users/ranma/opt/anaconda3/lib/python3.9/site-packages/sklearn/linear_model/_logistic.py:1483: UserWarning: Setting penalty='none' will ignore the C and l1_ratio parameters\n",
      "  warnings.warn(\n",
      "/Users/ranma/opt/anaconda3/lib/python3.9/site-packages/sklearn/linear_model/_logistic.py:1483: UserWarning: Setting penalty='none' will ignore the C and l1_ratio parameters\n",
      "  warnings.warn(\n",
      "/Users/ranma/opt/anaconda3/lib/python3.9/site-packages/sklearn/linear_model/_sag.py:352: ConvergenceWarning: The max_iter was reached which means the coef_ did not converge\n",
      "  warnings.warn(\n",
      "/Users/ranma/opt/anaconda3/lib/python3.9/site-packages/sklearn/linear_model/_sag.py:352: ConvergenceWarning: The max_iter was reached which means the coef_ did not converge\n",
      "  warnings.warn(\n",
      "/Users/ranma/opt/anaconda3/lib/python3.9/site-packages/sklearn/linear_model/_sag.py:352: ConvergenceWarning: The max_iter was reached which means the coef_ did not converge\n",
      "  warnings.warn(\n",
      "/Users/ranma/opt/anaconda3/lib/python3.9/site-packages/sklearn/linear_model/_sag.py:352: ConvergenceWarning: The max_iter was reached which means the coef_ did not converge\n",
      "  warnings.warn(\n",
      "/Users/ranma/opt/anaconda3/lib/python3.9/site-packages/sklearn/linear_model/_sag.py:352: ConvergenceWarning: The max_iter was reached which means the coef_ did not converge\n",
      "  warnings.warn(\n",
      "/Users/ranma/opt/anaconda3/lib/python3.9/site-packages/sklearn/linear_model/_logistic.py:1483: UserWarning: Setting penalty='none' will ignore the C and l1_ratio parameters\n",
      "  warnings.warn(\n",
      "/Users/ranma/opt/anaconda3/lib/python3.9/site-packages/sklearn/linear_model/_logistic.py:1483: UserWarning: Setting penalty='none' will ignore the C and l1_ratio parameters\n",
      "  warnings.warn(\n",
      "/Users/ranma/opt/anaconda3/lib/python3.9/site-packages/sklearn/linear_model/_logistic.py:1483: UserWarning: Setting penalty='none' will ignore the C and l1_ratio parameters\n",
      "  warnings.warn(\n",
      "/Users/ranma/opt/anaconda3/lib/python3.9/site-packages/sklearn/linear_model/_logistic.py:1483: UserWarning: Setting penalty='none' will ignore the C and l1_ratio parameters\n",
      "  warnings.warn(\n",
      "/Users/ranma/opt/anaconda3/lib/python3.9/site-packages/sklearn/linear_model/_sag.py:352: ConvergenceWarning: The max_iter was reached which means the coef_ did not converge\n",
      "  warnings.warn(\n",
      "/Users/ranma/opt/anaconda3/lib/python3.9/site-packages/sklearn/linear_model/_logistic.py:1483: UserWarning: Setting penalty='none' will ignore the C and l1_ratio parameters\n",
      "  warnings.warn(\n",
      "/Users/ranma/opt/anaconda3/lib/python3.9/site-packages/sklearn/linear_model/_sag.py:352: ConvergenceWarning: The max_iter was reached which means the coef_ did not converge\n",
      "  warnings.warn(\n",
      "/Users/ranma/opt/anaconda3/lib/python3.9/site-packages/sklearn/linear_model/_logistic.py:1483: UserWarning: Setting penalty='none' will ignore the C and l1_ratio parameters\n",
      "  warnings.warn(\n",
      "/Users/ranma/opt/anaconda3/lib/python3.9/site-packages/sklearn/linear_model/_sag.py:352: ConvergenceWarning: The max_iter was reached which means the coef_ did not converge\n",
      "  warnings.warn(\n",
      "/Users/ranma/opt/anaconda3/lib/python3.9/site-packages/sklearn/linear_model/_sag.py:352: ConvergenceWarning: The max_iter was reached which means the coef_ did not converge\n",
      "  warnings.warn(\n",
      "/Users/ranma/opt/anaconda3/lib/python3.9/site-packages/sklearn/linear_model/_sag.py:352: ConvergenceWarning: The max_iter was reached which means the coef_ did not converge\n",
      "  warnings.warn(\n",
      "/Users/ranma/opt/anaconda3/lib/python3.9/site-packages/sklearn/linear_model/_sag.py:352: ConvergenceWarning: The max_iter was reached which means the coef_ did not converge\n",
      "  warnings.warn(\n",
      "/Users/ranma/opt/anaconda3/lib/python3.9/site-packages/sklearn/linear_model/_sag.py:352: ConvergenceWarning: The max_iter was reached which means the coef_ did not converge\n",
      "  warnings.warn(\n",
      "/Users/ranma/opt/anaconda3/lib/python3.9/site-packages/sklearn/linear_model/_sag.py:352: ConvergenceWarning: The max_iter was reached which means the coef_ did not converge\n",
      "  warnings.warn(\n",
      "/Users/ranma/opt/anaconda3/lib/python3.9/site-packages/sklearn/linear_model/_sag.py:352: ConvergenceWarning: The max_iter was reached which means the coef_ did not converge\n",
      "  warnings.warn(\n",
      "/Users/ranma/opt/anaconda3/lib/python3.9/site-packages/sklearn/linear_model/_logistic.py:1483: UserWarning: Setting penalty='none' will ignore the C and l1_ratio parameters\n",
      "  warnings.warn(\n",
      "/Users/ranma/opt/anaconda3/lib/python3.9/site-packages/sklearn/linear_model/_logistic.py:1483: UserWarning: Setting penalty='none' will ignore the C and l1_ratio parameters\n",
      "  warnings.warn(\n",
      "/Users/ranma/opt/anaconda3/lib/python3.9/site-packages/sklearn/linear_model/_logistic.py:1483: UserWarning: Setting penalty='none' will ignore the C and l1_ratio parameters\n",
      "  warnings.warn(\n",
      "/Users/ranma/opt/anaconda3/lib/python3.9/site-packages/sklearn/linear_model/_logistic.py:1483: UserWarning: Setting penalty='none' will ignore the C and l1_ratio parameters\n",
      "  warnings.warn(\n",
      "/Users/ranma/opt/anaconda3/lib/python3.9/site-packages/sklearn/linear_model/_sag.py:352: ConvergenceWarning: The max_iter was reached which means the coef_ did not converge\n",
      "  warnings.warn(\n",
      "/Users/ranma/opt/anaconda3/lib/python3.9/site-packages/sklearn/linear_model/_logistic.py:1483: UserWarning: Setting penalty='none' will ignore the C and l1_ratio parameters\n",
      "  warnings.warn(\n",
      "/Users/ranma/opt/anaconda3/lib/python3.9/site-packages/sklearn/linear_model/_logistic.py:1483: UserWarning: Setting penalty='none' will ignore the C and l1_ratio parameters\n",
      "  warnings.warn(\n",
      "/Users/ranma/opt/anaconda3/lib/python3.9/site-packages/sklearn/linear_model/_sag.py:352: ConvergenceWarning: The max_iter was reached which means the coef_ did not converge\n",
      "  warnings.warn(\n",
      "/Users/ranma/opt/anaconda3/lib/python3.9/site-packages/sklearn/linear_model/_sag.py:352: ConvergenceWarning: The max_iter was reached which means the coef_ did not converge\n",
      "  warnings.warn(\n",
      "/Users/ranma/opt/anaconda3/lib/python3.9/site-packages/sklearn/linear_model/_sag.py:352: ConvergenceWarning: The max_iter was reached which means the coef_ did not converge\n",
      "  warnings.warn(\n",
      "/Users/ranma/opt/anaconda3/lib/python3.9/site-packages/sklearn/linear_model/_sag.py:352: ConvergenceWarning: The max_iter was reached which means the coef_ did not converge\n",
      "  warnings.warn(\n",
      "/Users/ranma/opt/anaconda3/lib/python3.9/site-packages/sklearn/linear_model/_sag.py:352: ConvergenceWarning: The max_iter was reached which means the coef_ did not converge\n",
      "  warnings.warn(\n",
      "/Users/ranma/opt/anaconda3/lib/python3.9/site-packages/sklearn/model_selection/_validation.py:372: FitFailedWarning: \n",
      "72 fits failed out of a total of 192.\n",
      "The score on these train-test partitions for these parameters will be set to nan.\n",
      "If these failures are not expected, you can try to debug them by setting error_score='raise'.\n",
      "\n",
      "Below are more details about the failures:\n",
      "--------------------------------------------------------------------------------\n",
      "24 fits failed with the following error:\n",
      "Traceback (most recent call last):\n",
      "  File \"/Users/ranma/opt/anaconda3/lib/python3.9/site-packages/sklearn/model_selection/_validation.py\", line 680, in _fit_and_score\n",
      "    estimator.fit(X_train, y_train, **fit_params)\n",
      "  File \"/Users/ranma/opt/anaconda3/lib/python3.9/site-packages/sklearn/pipeline.py\", line 394, in fit\n",
      "    self._final_estimator.fit(Xt, y, **fit_params_last_step)\n",
      "  File \"/Users/ranma/opt/anaconda3/lib/python3.9/site-packages/sklearn/linear_model/_logistic.py\", line 1461, in fit\n",
      "    solver = _check_solver(self.solver, self.penalty, self.dual)\n",
      "  File \"/Users/ranma/opt/anaconda3/lib/python3.9/site-packages/sklearn/linear_model/_logistic.py\", line 447, in _check_solver\n",
      "    raise ValueError(\n",
      "ValueError: Solver lbfgs supports only 'l2' or 'none' penalties, got l1 penalty.\n",
      "\n",
      "--------------------------------------------------------------------------------\n",
      "24 fits failed with the following error:\n",
      "Traceback (most recent call last):\n",
      "  File \"/Users/ranma/opt/anaconda3/lib/python3.9/site-packages/sklearn/model_selection/_validation.py\", line 680, in _fit_and_score\n",
      "    estimator.fit(X_train, y_train, **fit_params)\n",
      "  File \"/Users/ranma/opt/anaconda3/lib/python3.9/site-packages/sklearn/pipeline.py\", line 394, in fit\n",
      "    self._final_estimator.fit(Xt, y, **fit_params_last_step)\n",
      "  File \"/Users/ranma/opt/anaconda3/lib/python3.9/site-packages/sklearn/linear_model/_logistic.py\", line 1461, in fit\n",
      "    solver = _check_solver(self.solver, self.penalty, self.dual)\n",
      "  File \"/Users/ranma/opt/anaconda3/lib/python3.9/site-packages/sklearn/linear_model/_logistic.py\", line 447, in _check_solver\n",
      "    raise ValueError(\n",
      "ValueError: Solver lbfgs supports only 'l2' or 'none' penalties, got elasticnet penalty.\n",
      "\n",
      "--------------------------------------------------------------------------------\n",
      "24 fits failed with the following error:\n",
      "Traceback (most recent call last):\n",
      "  File \"/Users/ranma/opt/anaconda3/lib/python3.9/site-packages/sklearn/model_selection/_validation.py\", line 680, in _fit_and_score\n",
      "    estimator.fit(X_train, y_train, **fit_params)\n",
      "  File \"/Users/ranma/opt/anaconda3/lib/python3.9/site-packages/sklearn/pipeline.py\", line 394, in fit\n",
      "    self._final_estimator.fit(Xt, y, **fit_params_last_step)\n",
      "  File \"/Users/ranma/opt/anaconda3/lib/python3.9/site-packages/sklearn/linear_model/_logistic.py\", line 1471, in fit\n",
      "    raise ValueError(\n",
      "ValueError: l1_ratio must be between 0 and 1; got (l1_ratio=None)\n",
      "\n",
      "  warnings.warn(some_fits_failed_message, FitFailedWarning)\n",
      "/Users/ranma/opt/anaconda3/lib/python3.9/site-packages/sklearn/model_selection/_search.py:969: UserWarning: One or more of the test scores are non-finite: [0.78486891 0.78490806        nan 0.78490281 0.78490105 0.78489404\n",
      "        nan        nan 0.78486891 0.78487973        nan 0.78490281\n",
      " 0.78490105 0.78487447        nan        nan 0.78486891 0.78490806\n",
      "        nan 0.7848993  0.78488148 0.78490631        nan        nan\n",
      " 0.78486891 0.78487973        nan 0.78490456 0.78488148 0.78488148\n",
      "        nan        nan 0.78486891 0.78490806        nan 0.78490806\n",
      " 0.78488673 0.78490806        nan        nan 0.78486891 0.78487973\n",
      "        nan 0.78488323 0.78488673 0.78488323        nan        nan\n",
      " 0.78486891 0.78490806        nan 0.78490806 0.78486015 0.78490806\n",
      "        nan        nan 0.78486891 0.78487973        nan 0.78487973\n",
      " 0.78486015 0.78487973        nan        nan]\n",
      "  warnings.warn(\n",
      "/Users/ranma/opt/anaconda3/lib/python3.9/site-packages/sklearn/linear_model/_sag.py:352: ConvergenceWarning: The max_iter was reached which means the coef_ did not converge\n",
      "  warnings.warn(\n"
     ]
    },
    {
     "data": {
      "text/plain": [
       "GridSearchCV(cv=3,\n",
       "             estimator=Pipeline(steps=[('preprocessor',\n",
       "                                        ColumnTransformer(transformers=[('num',\n",
       "                                                                         Pipeline(steps=[('imputer',\n",
       "                                                                                          SimpleImputer(strategy='median')),\n",
       "                                                                                         ('scaler',\n",
       "                                                                                          StandardScaler())]),\n",
       "                                                                         Index(['physhlth', 'menthlth', 'children', 'htm4', 'wtkg3', '_bmi5',\n",
       "       '_drnkwk1', '_age80', 'ftjuda2_', 'frutda2_', 'grenda1_', 'frnchda_',\n",
       "       'potada1_', 'vegeda2_'],\n",
       "      dtype='obj...\n",
       "       'employ1', 'decide', 'diffwalk', 'diffdres', '_smoker3', 'usenow3',\n",
       "       'ecignow1', '_metstat', '_imprace', '_educag'],\n",
       "      dtype='object'))])),\n",
       "                                       ('model',\n",
       "                                        LogisticRegression(class_weight='balanced'))]),\n",
       "             param_grid={'model__C': [1, 10, 100, 1000],\n",
       "                         'model__max_iter': [1000, 2000],\n",
       "                         'model__penalty': ['none', 'l1', 'l2', 'elasticnet'],\n",
       "                         'model__solver': ['lbfgs', 'saga']},\n",
       "             scoring='balanced_accuracy')"
      ]
     },
     "execution_count": 71,
     "metadata": {},
     "output_type": "execute_result"
    }
   ],
   "source": [
    "gs_tune = GridSearchCV(pipe_tune, param_grid=tune_params, cv = 3, scoring='balanced_accuracy')\n",
    "gs_tune.fit(X_train, y_train)"
   ]
  },
  {
   "cell_type": "code",
   "execution_count": 72,
   "id": "1fc0780f-250d-4b48-bd55-d7b3fc6a9a00",
   "metadata": {},
   "outputs": [
    {
     "data": {
      "text/plain": [
       "{'model__C': 1,\n",
       " 'model__max_iter': 1000,\n",
       " 'model__penalty': 'none',\n",
       " 'model__solver': 'saga'}"
      ]
     },
     "execution_count": 72,
     "metadata": {},
     "output_type": "execute_result"
    }
   ],
   "source": [
    "gs_tune.best_params_"
   ]
  },
  {
   "cell_type": "code",
   "execution_count": 84,
   "id": "eeba983f-b5eb-46ad-abc5-e0a3e4ab18a1",
   "metadata": {},
   "outputs": [
    {
     "name": "stdout",
     "output_type": "stream",
     "text": [
      "balanced_accuracy: 0.7846684691746015\n",
      "recall: 0.8108996946206248\n",
      "precision: 0.23105756358768406\n",
      "f1 score: 0.35963952700942853\n"
     ]
    },
    {
     "data": {
      "image/png": "[encoded data removed]",
      "text/plain": [
       "<Figure size 640x480 with 2 Axes>"
      ]
     },
     "metadata": {},
     "output_type": "display_data"
    }
   ],
   "source": [
    "scores.append(evaluation(X_test, y_test, gs_tune.predict(X_test), gs_tune))"
   ]
  },
  {
   "cell_type": "markdown",
   "id": "651f478d-a107-4115-a839-65eef101cb04",
   "metadata": {},
   "source": [
    "After hyptertune, the recall and balanced accuracy do not improve."
   ]
  },
  {
   "cell_type": "markdown",
   "id": "257594ba-fa28-4e14-b3c4-88bf5b60b56a",
   "metadata": {},
   "source": [
    "# Compare the results"
   ]
  },
  {
   "cell_type": "code",
   "execution_count": 85,
   "id": "40b9cebd-efff-407a-bfc2-19cc51c7d664",
   "metadata": {},
   "outputs": [
    {
     "data": {
      "text/plain": [
       "[{'balanced_accuracy': 0.5596616503354611,\n",
       "  'recall': 0.12966878083157152,\n",
       "  'precision': 0.5287356321839081,\n",
       "  'f1_score': 0.2082625919637804},\n",
       " {'balanced_accuracy': 0.6714836080461467,\n",
       "  'recall': 0.40204369274136714,\n",
       "  'precision': 0.3785666887856669,\n",
       "  'f1_score': 0.3899521531100479},\n",
       " {'balanced_accuracy': 0.7763814192105138,\n",
       "  'recall': 0.7475922010805732,\n",
       "  'precision': 0.25566356041131105,\n",
       "  'f1_score': 0.38102364561508534},\n",
       " {'balanced_accuracy': 0.7786508457941417,\n",
       "  'recall': 0.7973925299506694,\n",
       "  'precision': 0.2291645569620253,\n",
       "  'f1_score': 0.35601352945803505},\n",
       " {'balanced_accuracy': 0.7786936896746863,\n",
       "  'recall': 0.8132487667371389,\n",
       "  'precision': 0.2214971209213052,\n",
       "  'f1_score': 0.34816714436566604},\n",
       " {'balanced_accuracy': 0.7847271959775144,\n",
       "  'recall': 0.8110171482264505,\n",
       "  'precision': 0.23108329707841102,\n",
       "  'f1_score': 0.35968225029300693},\n",
       " {'balanced_accuracy': 0.7846684691746015,\n",
       "  'recall': 0.8108996946206248,\n",
       "  'precision': 0.23105756358768406,\n",
       "  'f1_score': 0.35963952700942853}]"
      ]
     },
     "execution_count": 85,
     "metadata": {},
     "output_type": "execute_result"
    }
   ],
   "source": [
    "scores"
   ]
  },
  {
   "cell_type": "code",
   "execution_count": 89,
   "id": "68bcd2ea-69c9-451a-bf16-81d5bf5e5913",
   "metadata": {},
   "outputs": [],
   "source": [
    "evaluations = pd.DataFrame(scores, index = ['lgr', 'lgr_oversample', 'lgr_oversample_bac', 'lgr_smote_bac', 'lgr_adasyn_bac', 'lgr_weight_bac', 'lgr_weight_tune_bac'])\n",
    "\n",
    "evaluations\n",
    "\n",
    "evaluations.to_csv('../data/scores_LogisticRegression.csv')"
   ]
  },
  {
   "cell_type": "markdown",
   "id": "0c128369-1f55-4dfe-8727-3dbdc279c70b",
   "metadata": {},
   "source": [
    "After evaluating various sampling methods for logistic regression, the ADASYN method stands out with the highest recall and a reasonable balanced accuracy."
   ]
  },
  {
   "cell_type": "markdown",
   "id": "a4899a5e-8078-4c73-a8b4-1dd3b11d4b90",
   "metadata": {},
   "source": [
    "### Use Logistic Regression with ADASYN to analyze"
   ]
  },
  {
   "cell_type": "code",
   "execution_count": 48,
   "id": "3c9d67da-bbba-4ec9-a2c8-4cba53aca57c",
   "metadata": {},
   "outputs": [
    {
     "data": {
      "image/png": "[encoded data removed]",
      "text/plain": [
       "<Figure size 640x480 with 1 Axes>"
      ]
     },
     "metadata": {},
     "output_type": "display_data"
    }
   ],
   "source": [
    "RocCurveDisplay.from_estimator(gs_lg_adasyn, X_test, y_test);"
   ]
  },
  {
   "cell_type": "markdown",
   "id": "25fda9cd-5e92-4f67-b7cf-012c3a0f4e68",
   "metadata": {},
   "source": [
    "The Roc curve is not bad as the it is not far away the top left corner."
   ]
  },
  {
   "cell_type": "markdown",
   "id": "15fd65ee-47c0-480d-a137-b443690a7d80",
   "metadata": {},
   "source": [
    "### Find coefficient"
   ]
  },
  {
   "cell_type": "code",
   "execution_count": 49,
   "id": "48035310-a2fd-48b8-91d7-23fe67d5920a",
   "metadata": {},
   "outputs": [],
   "source": [
    "lg_num = gs_lg_adasyn.best_estimator_['preprocessor'].transformers_[0][2]"
   ]
  },
  {
   "cell_type": "code",
   "execution_count": 50,
   "id": "6047497d-2b47-4b50-a2ab-984638b9dc33",
   "metadata": {},
   "outputs": [],
   "source": [
    "lg_cat = gs_lg_adasyn.best_estimator_['preprocessor'].transformers_[1][1].named_steps['onehot'].get_feature_names_out(input_features=df_cat.columns)"
   ]
  },
  {
   "cell_type": "code",
   "execution_count": 51,
   "id": "4306f6fc-7423-4b2e-9ef6-07aa424c5783",
   "metadata": {},
   "outputs": [],
   "source": [
    "feature_names = np.concatenate([lg_num, lg_cat])"
   ]
  },
  {
   "cell_type": "code",
   "execution_count": 52,
   "id": "8ac83899-2dd4-49b3-a602-062f56c80a47",
   "metadata": {},
   "outputs": [],
   "source": [
    "coef_features = pd.DataFrame(gs_lg_adasyn.best_estimator_.named_steps['model'].coef_[0],\n",
    "                             index = feature_names, \n",
    "                             columns = ['coefficient'])"
   ]
  },
  {
   "cell_type": "code",
   "execution_count": 53,
   "id": "a81948e5-e678-4263-b487-96a2909183d4",
   "metadata": {},
   "outputs": [
    {
     "data": {
      "text/html": [
       "<div>\n",
       "<style scoped>\n",
       "    .dataframe tbody tr th:only-of-type {\n",
       "        vertical-align: middle;\n",
       "    }\n",
       "\n",
       "    .dataframe tbody tr th {\n",
       "        vertical-align: top;\n",
       "    }\n",
       "\n",
       "    .dataframe thead th {\n",
       "        text-align: right;\n",
       "    }\n",
       "</style>\n",
       "<table border=\"1\" class=\"dataframe\">\n",
       "  <thead>\n",
       "    <tr style=\"text-align: right;\">\n",
       "      <th></th>\n",
       "      <th>coefficient</th>\n",
       "    </tr>\n",
       "  </thead>\n",
       "  <tbody>\n",
       "    <tr>\n",
       "      <th>physhlth</th>\n",
       "      <td>0.001950</td>\n",
       "    </tr>\n",
       "    <tr>\n",
       "      <th>menthlth</th>\n",
       "      <td>0.046507</td>\n",
       "    </tr>\n",
       "    <tr>\n",
       "      <th>children</th>\n",
       "      <td>0.018230</td>\n",
       "    </tr>\n",
       "    <tr>\n",
       "      <th>htm4</th>\n",
       "      <td>0.019069</td>\n",
       "    </tr>\n",
       "    <tr>\n",
       "      <th>wtkg3</th>\n",
       "      <td>-0.110322</td>\n",
       "    </tr>\n",
       "    <tr>\n",
       "      <th>...</th>\n",
       "      <td>...</td>\n",
       "    </tr>\n",
       "    <tr>\n",
       "      <th>_educag_attended college</th>\n",
       "      <td>0.036788</td>\n",
       "    </tr>\n",
       "    <tr>\n",
       "      <th>_educag_graduated college</th>\n",
       "      <td>-0.057047</td>\n",
       "    </tr>\n",
       "    <tr>\n",
       "      <th>_educag_highschool</th>\n",
       "      <td>-0.016531</td>\n",
       "    </tr>\n",
       "    <tr>\n",
       "      <th>_educag_missing</th>\n",
       "      <td>-0.126394</td>\n",
       "    </tr>\n",
       "    <tr>\n",
       "      <th>_educag_no highschool</th>\n",
       "      <td>-0.062265</td>\n",
       "    </tr>\n",
       "  </tbody>\n",
       "</table>\n",
       "<p>152 rows × 1 columns</p>\n",
       "</div>"
      ],
      "text/plain": [
       "                           coefficient\n",
       "physhlth                      0.001950\n",
       "menthlth                      0.046507\n",
       "children                      0.018230\n",
       "htm4                          0.019069\n",
       "wtkg3                        -0.110322\n",
       "...                                ...\n",
       "_educag_attended college      0.036788\n",
       "_educag_graduated college    -0.057047\n",
       "_educag_highschool           -0.016531\n",
       "_educag_missing              -0.126394\n",
       "_educag_no highschool        -0.062265\n",
       "\n",
       "[152 rows x 1 columns]"
      ]
     },
     "execution_count": 53,
     "metadata": {},
     "output_type": "execute_result"
    }
   ],
   "source": [
    "coef_features"
   ]
  },
  {
   "cell_type": "markdown",
   "id": "eb3d2235-632a-4ad8-9f96-98d4ed4c9334",
   "metadata": {},
   "source": [
    "### Top Five Coefficient"
   ]
  },
  {
   "cell_type": "code",
   "execution_count": 54,
   "id": "92546c78-9a2a-41ab-bdbc-fdb9613a3a8e",
   "metadata": {},
   "outputs": [
    {
     "data": {
      "text/html": [
       "<div>\n",
       "<style scoped>\n",
       "    .dataframe tbody tr th:only-of-type {\n",
       "        vertical-align: middle;\n",
       "    }\n",
       "\n",
       "    .dataframe tbody tr th {\n",
       "        vertical-align: top;\n",
       "    }\n",
       "\n",
       "    .dataframe thead th {\n",
       "        text-align: right;\n",
       "    }\n",
       "</style>\n",
       "<table border=\"1\" class=\"dataframe\">\n",
       "  <thead>\n",
       "    <tr style=\"text-align: right;\">\n",
       "      <th></th>\n",
       "      <th>coefficient</th>\n",
       "    </tr>\n",
       "  </thead>\n",
       "  <tbody>\n",
       "    <tr>\n",
       "      <th>genhlth_Poor</th>\n",
       "      <td>0.784153</td>\n",
       "    </tr>\n",
       "    <tr>\n",
       "      <th>_age80</th>\n",
       "      <td>0.682038</td>\n",
       "    </tr>\n",
       "    <tr>\n",
       "      <th>cholmed3_Yes</th>\n",
       "      <td>0.669721</td>\n",
       "    </tr>\n",
       "    <tr>\n",
       "      <th>usenow3_not sure</th>\n",
       "      <td>0.501643</td>\n",
       "    </tr>\n",
       "    <tr>\n",
       "      <th>cvdstrk3_Yes</th>\n",
       "      <td>0.439639</td>\n",
       "    </tr>\n",
       "  </tbody>\n",
       "</table>\n",
       "</div>"
      ],
      "text/plain": [
       "                  coefficient\n",
       "genhlth_Poor         0.784153\n",
       "_age80               0.682038\n",
       "cholmed3_Yes         0.669721\n",
       "usenow3_not sure     0.501643\n",
       "cvdstrk3_Yes         0.439639"
      ]
     },
     "execution_count": 54,
     "metadata": {},
     "output_type": "execute_result"
    }
   ],
   "source": [
    "features_top_coef = coef_features.sort_values('coefficient', ascending = False)[: 5]\n",
    "\n",
    "features_top_coef"
   ]
  },
  {
   "cell_type": "markdown",
   "id": "2ccd926e-14c0-4088-aabc-bd57d99d2331",
   "metadata": {},
   "source": [
    "### Bottom Five Coefficient"
   ]
  },
  {
   "cell_type": "code",
   "execution_count": 55,
   "id": "304e0ae8-7704-4031-bb2e-b89ab8cc635f",
   "metadata": {},
   "outputs": [
    {
     "data": {
      "text/html": [
       "<div>\n",
       "<style scoped>\n",
       "    .dataframe tbody tr th:only-of-type {\n",
       "        vertical-align: middle;\n",
       "    }\n",
       "\n",
       "    .dataframe tbody tr th {\n",
       "        vertical-align: top;\n",
       "    }\n",
       "\n",
       "    .dataframe thead th {\n",
       "        text-align: right;\n",
       "    }\n",
       "</style>\n",
       "<table border=\"1\" class=\"dataframe\">\n",
       "  <thead>\n",
       "    <tr style=\"text-align: right;\">\n",
       "      <th></th>\n",
       "      <th>coefficient</th>\n",
       "    </tr>\n",
       "  </thead>\n",
       "  <tbody>\n",
       "    <tr>\n",
       "      <th>genhlth_Excellent</th>\n",
       "      <td>-1.043458</td>\n",
       "    </tr>\n",
       "    <tr>\n",
       "      <th>diffwalk_refused</th>\n",
       "      <td>-0.585811</td>\n",
       "    </tr>\n",
       "    <tr>\n",
       "      <th>genhlth_Very good</th>\n",
       "      <td>-0.548534</td>\n",
       "    </tr>\n",
       "    <tr>\n",
       "      <th>cholmed3_Refused</th>\n",
       "      <td>-0.540574</td>\n",
       "    </tr>\n",
       "    <tr>\n",
       "      <th>cvdstrk3_No</th>\n",
       "      <td>-0.505347</td>\n",
       "    </tr>\n",
       "  </tbody>\n",
       "</table>\n",
       "</div>"
      ],
      "text/plain": [
       "                   coefficient\n",
       "genhlth_Excellent    -1.043458\n",
       "diffwalk_refused     -0.585811\n",
       "genhlth_Very good    -0.548534\n",
       "cholmed3_Refused     -0.540574\n",
       "cvdstrk3_No          -0.505347"
      ]
     },
     "execution_count": 55,
     "metadata": {},
     "output_type": "execute_result"
    }
   ],
   "source": [
    "features_bot_coef = coef_features.sort_values('coefficient')[: 5]\n",
    "\n",
    "features_bot_coef"
   ]
  },
  {
   "cell_type": "code",
   "execution_count": 90,
   "id": "d7e45e81-3035-4270-9351-0539d2d6e287",
   "metadata": {},
   "outputs": [
    {
     "data": {
      "image/png": "[encoded data removed]",
      "text/plain": [
       "<Figure size 1600x800 with 2 Axes>"
      ]
     },
     "metadata": {},
     "output_type": "display_data"
    }
   ],
   "source": [
    "fig, ax = plt.subplots(1, 2, figsize = (16, 8))\n",
    "plt.subplots_adjust(wspace=0.3)\n",
    "\n",
    "sns.barplot(x = features_top_coef.coefficient, y = features_top_coef.index, ax = ax[0])\n",
    "sns.barplot(x = features_bot_coef.coefficient, y = features_bot_coef.index, ax = ax[1])\n",
    "\n",
    "ax[0].set(title = 'Top 5 Positive Coefficient for Heart Disease', xlabel = 'Positive Coefficient')\n",
    "ax[1].set(title = 'Top 5 Negative Coefficient for Heart Disease', xlabel = 'Negative Coefficient')\n",
    "\n",
    "fig.suptitle('Coefficient in Logistic Regression', fontsize = 20)\n",
    "\n",
    "plt.savefig('../graph/logistic_coefficient.png');"
   ]
  },
  {
   "cell_type": "markdown",
   "id": "49b1873e-6fcd-4d9a-839d-4ffcebee5219",
   "metadata": {},
   "source": [
    "On the left barchart, we have the top 5 positive coefficents for the heart disease. These include important terms like poor general health, age over 80, takeing medicine for your cholesterol and had a stroke before. The higher the coefficient, the more likely the person will have a heart disease. On the right barchart, we have the top negtive coefficients for the heart disease. These terms include excellent/good health and not have stroke. The more negative the coefficient, the less probability the person will have a heart disease."
   ]
  },
  {
   "cell_type": "code",
   "execution_count": null,
   "id": "a3b6bd95-cf38-48bc-a6cc-9c689868205b",
   "metadata": {},
   "outputs": [],
   "source": []
  }
 ],
 "metadata": {
  "kernelspec": {
   "display_name": "Python 3 (ipykernel)",
   "language": "python",
   "name": "python3"
  },
  "language_info": {
   "codemirror_mode": {
    "name": "ipython",
    "version": 3
   },
   "file_extension": ".py",
   "mimetype": "text/x-python",
   "name": "python",
   "nbconvert_exporter": "python",
   "pygments_lexer": "ipython3",
   "version": "3.9.13"
  }
 },
 "nbformat": 4,
 "nbformat_minor": 5
}
