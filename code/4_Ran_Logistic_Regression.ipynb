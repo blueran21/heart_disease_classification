{
 "cells": [
  {
   "cell_type": "markdown",
   "id": "65c9fd6d-7d07-4107-a2a2-6be01f1ab1bf",
   "metadata": {},
   "source": [
    "# Logistic Model Building"
   ]
  },
  {
   "cell_type": "markdown",
   "id": "b03bf2fa-2f5e-4694-b30d-617af7de3012",
   "metadata": {},
   "source": [
    "Set random_state to 42 in every portion of our model"
   ]
  },
  {
   "cell_type": "code",
   "execution_count": 1,
   "id": "800ec537-6c71-44d8-b097-abf5072c1090",
   "metadata": {},
   "outputs": [],
   "source": [
    "import pandas as pd\n",
    "import numpy as np\n",
    "import matplotlib.pyplot as plt\n",
    "import seaborn as sns\n",
    "\n",
    "from sklearn.model_selection import train_test_split, GridSearchCV\n",
    "from sklearn.preprocessing import StandardScaler, OneHotEncoder\n",
    "from sklearn.pipeline import Pipeline\n",
    "from sklearn.linear_model import LogisticRegression\n",
    "from sklearn.compose import ColumnTransformer\n",
    "from sklearn.impute import SimpleImputer\n",
    "\n",
    "from sklearn.metrics import (confusion_matrix, ConfusionMatrixDisplay, make_scorer,\n",
    "    accuracy_score, roc_auc_score, recall_score, balanced_accuracy_score,\n",
    "    precision_score, f1_score, RocCurveDisplay)\n",
    "\n",
    "from imblearn.pipeline import Pipeline as ImbPipeline\n",
    "from imblearn.over_sampling import RandomOverSampler\n",
    "from imblearn.over_sampling import SMOTE\n",
    "from imblearn.over_sampling import ADASYN"
   ]
  },
  {
   "cell_type": "code",
   "execution_count": 2,
   "id": "b724700d-e721-4077-863b-c9a23489d9de",
   "metadata": {},
   "outputs": [],
   "source": [
    "np.random.seed(42)"
   ]
  },
  {
   "cell_type": "code",
   "execution_count": 3,
   "id": "f7ca09be-4e6c-4f16-8089-6a54fabbb0cc",
   "metadata": {},
   "outputs": [],
   "source": [
    "df = pd.read_csv('../data/cleaning_data_phase2.csv.zip')"
   ]
  },
  {
   "cell_type": "code",
   "execution_count": 4,
   "id": "40baf55b-1bc6-4649-bd81-af99f3b2ccba",
   "metadata": {},
   "outputs": [
    {
     "data": {
      "text/html": [
       "<div>\n",
       "<style scoped>\n",
       "    .dataframe tbody tr th:only-of-type {\n",
       "        vertical-align: middle;\n",
       "    }\n",
       "\n",
       "    .dataframe tbody tr th {\n",
       "        vertical-align: top;\n",
       "    }\n",
       "\n",
       "    .dataframe thead th {\n",
       "        text-align: right;\n",
       "    }\n",
       "</style>\n",
       "<table border=\"1\" class=\"dataframe\">\n",
       "  <thead>\n",
       "    <tr style=\"text-align: right;\">\n",
       "      <th></th>\n",
       "      <th>_michd</th>\n",
       "      <th>_sex</th>\n",
       "      <th>genhlth</th>\n",
       "      <th>physhlth</th>\n",
       "      <th>menthlth</th>\n",
       "      <th>addepev3</th>\n",
       "      <th>checkup1</th>\n",
       "      <th>_totinda</th>\n",
       "      <th>_rfhype6</th>\n",
       "      <th>cholmed3</th>\n",
       "      <th>...</th>\n",
       "      <th>_metstat</th>\n",
       "      <th>_imprace</th>\n",
       "      <th>_age80</th>\n",
       "      <th>_educag</th>\n",
       "      <th>ftjuda2_</th>\n",
       "      <th>frutda2_</th>\n",
       "      <th>grenda1_</th>\n",
       "      <th>frnchda_</th>\n",
       "      <th>potada1_</th>\n",
       "      <th>vegeda2_</th>\n",
       "    </tr>\n",
       "  </thead>\n",
       "  <tbody>\n",
       "    <tr>\n",
       "      <th>0</th>\n",
       "      <td>No</td>\n",
       "      <td>Female</td>\n",
       "      <td>Poor</td>\n",
       "      <td>20.0</td>\n",
       "      <td>10.0</td>\n",
       "      <td>No</td>\n",
       "      <td>Within past 2 years (1 year but &lt; 2 years ago)</td>\n",
       "      <td>No physical activity or exercise in last 30 days</td>\n",
       "      <td>No</td>\n",
       "      <td>Yes</td>\n",
       "      <td>...</td>\n",
       "      <td>yes</td>\n",
       "      <td>white</td>\n",
       "      <td>70.0</td>\n",
       "      <td>highschool</td>\n",
       "      <td>5.397605e-79</td>\n",
       "      <td>100.0</td>\n",
       "      <td>5.700000e+01</td>\n",
       "      <td>4.300000e+01</td>\n",
       "      <td>14.0</td>\n",
       "      <td>100.0</td>\n",
       "    </tr>\n",
       "    <tr>\n",
       "      <th>1</th>\n",
       "      <td>Yes</td>\n",
       "      <td>Female</td>\n",
       "      <td>Good</td>\n",
       "      <td>0.0</td>\n",
       "      <td>0.0</td>\n",
       "      <td>No</td>\n",
       "      <td>Within past year (anytime &lt; 12 months ago)</td>\n",
       "      <td>Had physical activity or exercise</td>\n",
       "      <td>Yes</td>\n",
       "      <td>Yes</td>\n",
       "      <td>...</td>\n",
       "      <td>yes</td>\n",
       "      <td>black</td>\n",
       "      <td>67.0</td>\n",
       "      <td>graduated college</td>\n",
       "      <td>5.397605e-79</td>\n",
       "      <td>100.0</td>\n",
       "      <td>1.400000e+01</td>\n",
       "      <td>5.397605e-79</td>\n",
       "      <td>14.0</td>\n",
       "      <td>100.0</td>\n",
       "    </tr>\n",
       "    <tr>\n",
       "      <th>2</th>\n",
       "      <td>Yes</td>\n",
       "      <td>Female</td>\n",
       "      <td>Very good</td>\n",
       "      <td>0.0</td>\n",
       "      <td>0.0</td>\n",
       "      <td>No</td>\n",
       "      <td>Within past year (anytime &lt; 12 months ago)</td>\n",
       "      <td>No physical activity or exercise in last 30 days</td>\n",
       "      <td>Yes</td>\n",
       "      <td>No</td>\n",
       "      <td>...</td>\n",
       "      <td>yes</td>\n",
       "      <td>black</td>\n",
       "      <td>72.0</td>\n",
       "      <td>highschool</td>\n",
       "      <td>5.397605e-79</td>\n",
       "      <td>100.0</td>\n",
       "      <td>5.397605e-79</td>\n",
       "      <td>1.400000e+01</td>\n",
       "      <td>14.0</td>\n",
       "      <td>43.0</td>\n",
       "    </tr>\n",
       "    <tr>\n",
       "      <th>3</th>\n",
       "      <td>No</td>\n",
       "      <td>Female</td>\n",
       "      <td>Very good</td>\n",
       "      <td>0.0</td>\n",
       "      <td>10.0</td>\n",
       "      <td>No</td>\n",
       "      <td>Within past year (anytime &lt; 12 months ago)</td>\n",
       "      <td>Had physical activity or exercise</td>\n",
       "      <td>Yes</td>\n",
       "      <td>No</td>\n",
       "      <td>...</td>\n",
       "      <td>yes</td>\n",
       "      <td>white</td>\n",
       "      <td>62.0</td>\n",
       "      <td>highschool</td>\n",
       "      <td>7.100000e+01</td>\n",
       "      <td>43.0</td>\n",
       "      <td>1.000000e+01</td>\n",
       "      <td>5.700000e+01</td>\n",
       "      <td>27.0</td>\n",
       "      <td>71.0</td>\n",
       "    </tr>\n",
       "    <tr>\n",
       "      <th>4</th>\n",
       "      <td>Yes</td>\n",
       "      <td>Male</td>\n",
       "      <td>Poor</td>\n",
       "      <td>30.0</td>\n",
       "      <td>0.0</td>\n",
       "      <td>No</td>\n",
       "      <td>Within past year (anytime &lt; 12 months ago)</td>\n",
       "      <td>Had physical activity or exercise</td>\n",
       "      <td>No</td>\n",
       "      <td>Yes</td>\n",
       "      <td>...</td>\n",
       "      <td>no</td>\n",
       "      <td>other race</td>\n",
       "      <td>76.0</td>\n",
       "      <td>no highschool</td>\n",
       "      <td>5.397605e-79</td>\n",
       "      <td>100.0</td>\n",
       "      <td>1.000000e+02</td>\n",
       "      <td>2.900000e+01</td>\n",
       "      <td>29.0</td>\n",
       "      <td>100.0</td>\n",
       "    </tr>\n",
       "  </tbody>\n",
       "</table>\n",
       "<p>5 rows × 44 columns</p>\n",
       "</div>"
      ],
      "text/plain": [
       "  _michd    _sex    genhlth  physhlth  menthlth addepev3  \\\n",
       "0     No  Female       Poor      20.0      10.0       No   \n",
       "1    Yes  Female       Good       0.0       0.0       No   \n",
       "2    Yes  Female  Very good       0.0       0.0       No   \n",
       "3     No  Female  Very good       0.0      10.0       No   \n",
       "4    Yes    Male       Poor      30.0       0.0       No   \n",
       "\n",
       "                                         checkup1  \\\n",
       "0  Within past 2 years (1 year but < 2 years ago)   \n",
       "1      Within past year (anytime < 12 months ago)   \n",
       "2      Within past year (anytime < 12 months ago)   \n",
       "3      Within past year (anytime < 12 months ago)   \n",
       "4      Within past year (anytime < 12 months ago)   \n",
       "\n",
       "                                           _totinda _rfhype6 cholmed3  ...  \\\n",
       "0  No physical activity or exercise in last 30 days       No      Yes  ...   \n",
       "1                 Had physical activity or exercise      Yes      Yes  ...   \n",
       "2  No physical activity or exercise in last 30 days      Yes       No  ...   \n",
       "3                 Had physical activity or exercise      Yes       No  ...   \n",
       "4                 Had physical activity or exercise       No      Yes  ...   \n",
       "\n",
       "  _metstat    _imprace _age80            _educag      ftjuda2_ frutda2_  \\\n",
       "0      yes       white   70.0         highschool  5.397605e-79    100.0   \n",
       "1      yes       black   67.0  graduated college  5.397605e-79    100.0   \n",
       "2      yes       black   72.0         highschool  5.397605e-79    100.0   \n",
       "3      yes       white   62.0         highschool  7.100000e+01     43.0   \n",
       "4       no  other race   76.0      no highschool  5.397605e-79    100.0   \n",
       "\n",
       "       grenda1_      frnchda_ potada1_ vegeda2_  \n",
       "0  5.700000e+01  4.300000e+01     14.0    100.0  \n",
       "1  1.400000e+01  5.397605e-79     14.0    100.0  \n",
       "2  5.397605e-79  1.400000e+01     14.0     43.0  \n",
       "3  1.000000e+01  5.700000e+01     27.0     71.0  \n",
       "4  1.000000e+02  2.900000e+01     29.0    100.0  \n",
       "\n",
       "[5 rows x 44 columns]"
      ]
     },
     "execution_count": 4,
     "metadata": {},
     "output_type": "execute_result"
    }
   ],
   "source": [
    "df.head()"
   ]
  },
  {
   "cell_type": "markdown",
   "id": "62bc808d-632c-4432-bf88-23f3fd2783d7",
   "metadata": {},
   "source": [
    "### Baseline"
   ]
  },
  {
   "cell_type": "code",
   "execution_count": 5,
   "id": "3e8ac252-1bb4-430b-9498-5c8ad593a082",
   "metadata": {},
   "outputs": [
    {
     "data": {
      "text/plain": [
       "No     0.917841\n",
       "Yes    0.082159\n",
       "Name: _michd, dtype: float64"
      ]
     },
     "execution_count": 5,
     "metadata": {},
     "output_type": "execute_result"
    }
   ],
   "source": [
    "df['_michd'].value_counts(normalize=True)"
   ]
  },
  {
   "cell_type": "markdown",
   "id": "50759045-0b76-456f-9946-80f9d1573096",
   "metadata": {},
   "source": [
    "### The baseline of 0.917 suggests that our dataset is highly imbalanced."
   ]
  },
  {
   "cell_type": "code",
   "execution_count": 6,
   "id": "a21a33bd-34b1-4de4-ad49-26ed30d050d8",
   "metadata": {},
   "outputs": [
    {
     "data": {
      "text/plain": [
       "_michd          0\n",
       "_sex            0\n",
       "genhlth         0\n",
       "physhlth     8491\n",
       "menthlth     7084\n",
       "addepev3        0\n",
       "checkup1        0\n",
       "_totinda        0\n",
       "_rfhype6        0\n",
       "cholmed3        0\n",
       "_rfchol3        0\n",
       "cvdstrk3        0\n",
       "_asthms1        0\n",
       "chcscncr        0\n",
       "chcocncr        0\n",
       "chccopd3        0\n",
       "chckdny2        0\n",
       "diabete4        0\n",
       "_drdxar3        0\n",
       "marital         0\n",
       "children     3684\n",
       "_incomg1        0\n",
       "employ1         0\n",
       "htm4         9849\n",
       "wtkg3       25486\n",
       "_bmi5       30786\n",
       "decide          0\n",
       "diffwalk        0\n",
       "diffdres        0\n",
       "_state          0\n",
       "_smoker3        0\n",
       "usenow3         0\n",
       "ecignow1        0\n",
       "_drnkwk1    15125\n",
       "_metstat        0\n",
       "_imprace        0\n",
       "_age80          0\n",
       "_educag         0\n",
       "ftjuda2_    24072\n",
       "frutda2_    23649\n",
       "grenda1_    23943\n",
       "frnchda_    24471\n",
       "potada1_    28095\n",
       "vegeda2_    28150\n",
       "dtype: int64"
      ]
     },
     "execution_count": 6,
     "metadata": {},
     "output_type": "execute_result"
    }
   ],
   "source": [
    "df.isnull().sum()"
   ]
  },
  {
   "cell_type": "markdown",
   "id": "a6a95110-4b2c-499c-a8e2-56cd3aa74463",
   "metadata": {},
   "source": [
    "### Create Evaluation Function"
   ]
  },
  {
   "cell_type": "code",
<<<<<<< HEAD
   "execution_count": 6,
=======
   "execution_count": 7,
>>>>>>> main
   "id": "ffa870b8-f803-42ab-a883-c2a6b6f6c0fa",
   "metadata": {},
   "outputs": [],
   "source": [
    "# Create evaluation function\n",
    "def evaluation(X_test, y_test, preds, model):\n",
    "    ConfusionMatrixDisplay.from_estimator(model, X_test, y_test, cmap='Blues')\n",
    "    \n",
    "    b_acc = balanced_accuracy_score(y_test, preds)\n",
    "    recall = recall_score(y_test, preds, pos_label = \"Yes\")\n",
    "    prec = precision_score(y_test, preds, pos_label = \"Yes\")\n",
    "    f1 = f1_score(y_test, preds, pos_label = \"Yes\")\n",
    "\n",
    "    print(f'balanced_accuracy: {b_acc}')\n",
    "    print(f'recall: {recall}')\n",
    "    print(f'precision: {prec}')\n",
    "    print(f'f1 score: {f1}')\n",
    "\n",
    "    return {\n",
    "        'balanced_accuracy': b_acc,\n",
    "        'recall': recall,\n",
    "        'precision': prec,\n",
    "        'f1_score': f1\n",
    "    }"
   ]
  },
  {
   "cell_type": "code",
<<<<<<< HEAD
   "execution_count": 7,
=======
   "execution_count": 8,
>>>>>>> main
   "id": "591003fe-6535-4232-a8e9-68a4ef529032",
   "metadata": {},
   "outputs": [],
   "source": [
    "scores = []"
   ]
  },
  {
   "cell_type": "markdown",
   "id": "2c7816b3-45cd-468a-8f78-e73eca2156cb",
   "metadata": {},
   "source": [
    "### Create X and y"
   ]
  },
  {
   "cell_type": "code",
<<<<<<< HEAD
   "execution_count": 8,
=======
   "execution_count": 9,
>>>>>>> main
   "id": "f5b43955-5d8f-4aef-9943-762fce683651",
   "metadata": {},
   "outputs": [],
   "source": [
    "X = df.drop(columns = ['_michd', '_state'])\n",
    "y = df['_michd']"
   ]
  },
  {
   "cell_type": "markdown",
   "id": "c3788df6-6bff-49cb-8ef3-f47b04dcc4cc",
   "metadata": {},
   "source": [
    "### Split training and testing dataset"
   ]
  },
  {
   "cell_type": "code",
<<<<<<< HEAD
   "execution_count": 9,
=======
   "execution_count": 10,
>>>>>>> main
   "id": "0b4389d0-34d9-4264-98f1-277470396309",
   "metadata": {},
   "outputs": [],
   "source": [
    "X_train, X_test, y_train, y_test = train_test_split(X, y, stratify=y, random_state = 42)"
   ]
  },
  {
   "cell_type": "markdown",
   "id": "1183255c-f2fb-49ab-9b93-7f0e3dd6698c",
   "metadata": {},
   "source": [
    "### Preprocess numerical and categorical variables seperately"
   ]
  },
  {
   "cell_type": "code",
<<<<<<< HEAD
   "execution_count": 10,
=======
   "execution_count": 11,
>>>>>>> main
   "id": "b9895341-c1ff-4f85-9b6c-fbf23e31ffea",
   "metadata": {},
   "outputs": [],
   "source": [
    "df_num = X.select_dtypes(include=['float', 'int'])\n",
    "df_cat = X.select_dtypes(include = ['O'])"
   ]
  },
  {
   "cell_type": "code",
<<<<<<< HEAD
   "execution_count": 11,
=======
   "execution_count": 12,
>>>>>>> main
   "id": "3ec834ea-e3d6-4f0e-b1ba-74188261fc35",
   "metadata": {},
   "outputs": [
    {
     "data": {
      "text/plain": [
       "((414511, 14), (414511, 28), (414511, 44))"
      ]
     },
<<<<<<< HEAD
     "execution_count": 11,
=======
     "execution_count": 12,
>>>>>>> main
     "metadata": {},
     "output_type": "execute_result"
    }
   ],
   "source": [
    "df_num.shape, df_cat.shape, df.shape"
   ]
  },
  {
   "cell_type": "markdown",
   "id": "35afb491-2810-4e4d-956f-bd6fbd49fbdc",
   "metadata": {},
   "source": [
    "### Handle the missing values in numerical columns by imputing them with the median, and then apply standard scaling."
   ]
  },
  {
   "cell_type": "code",
<<<<<<< HEAD
   "execution_count": 12,
=======
   "execution_count": 13,
>>>>>>> main
   "id": "62489919-55cc-42cd-8f9e-c69bd5fa9d69",
   "metadata": {},
   "outputs": [],
   "source": [
    "num_transform = Pipeline(steps = [\n",
    "    ('imputer', SimpleImputer(strategy = 'median')),\n",
    "    ('scaler', StandardScaler())\n",
    "])"
   ]
  },
  {
   "cell_type": "markdown",
   "id": "b4d93464-60b9-4cd7-81a5-51af04f25096",
   "metadata": {},
   "source": [
    "### Transform categorical columns using One-hot encoding and then apply standard scaling"
   ]
  },
  {
   "cell_type": "code",
<<<<<<< HEAD
   "execution_count": 13,
=======
   "execution_count": 14,
>>>>>>> main
   "id": "da13752e-f924-48fc-9147-1d90eb52ed5b",
   "metadata": {},
   "outputs": [],
   "source": [
    "cat_transform = Pipeline(steps = [\n",
    "    ('onehot', OneHotEncoder(handle_unknown = 'ignore')),\n",
    "    ('scaler', StandardScaler(with_mean = False, with_std = False))\n",
    "])"
   ]
  },
  {
   "cell_type": "code",
<<<<<<< HEAD
   "execution_count": 14,
=======
   "execution_count": 15,
>>>>>>> main
   "id": "9b018dbc-e4d1-4492-bd93-5fb3986615b7",
   "metadata": {},
   "outputs": [],
   "source": [
    "preprocessor = ColumnTransformer(transformers = [\n",
    "    ('num', num_transform, df_num.columns),\n",
    "    ('cat', cat_transform, df_cat.columns)\n",
    "])"
   ]
  },
  {
   "cell_type": "markdown",
   "id": "9eb7a753-41d1-4ca1-a9c7-c9827f01972d",
   "metadata": {},
   "source": [
    "### Build simple logistic regression model pipeline "
   ]
  },
  {
   "cell_type": "code",
<<<<<<< HEAD
   "execution_count": 15,
=======
   "execution_count": 16,
>>>>>>> main
   "id": "13f8aac1-7a9e-412b-b8ac-323bf8e5d662",
   "metadata": {},
   "outputs": [],
   "source": [
    "pipe = Pipeline(steps = [\n",
    "    ('preprocessor', preprocessor),\n",
    "    ('model', LogisticRegression(random_state=42))\n",
    "])"
   ]
  },
  {
   "cell_type": "code",
<<<<<<< HEAD
   "execution_count": 16,
=======
   "execution_count": 17,
>>>>>>> main
   "id": "5567293f-e19b-45b8-a099-bb73df82108d",
   "metadata": {
    "scrolled": true,
    "tags": []
   },
   "outputs": [
    {
     "data": {
      "text/plain": [
       "{'memory': None,\n",
       " 'steps': [('preprocessor',\n",
       "   ColumnTransformer(transformers=[('num',\n",
       "                                    Pipeline(steps=[('imputer',\n",
       "                                                     SimpleImputer(strategy='median')),\n",
       "                                                    ('scaler', StandardScaler())]),\n",
       "                                    Index(['physhlth', 'menthlth', 'children', 'htm4', 'wtkg3', '_bmi5',\n",
       "          '_drnkwk1', '_age80', 'ftjuda2_', 'frutda2_', 'grenda1_', 'frnchda_',\n",
       "          'potada1_', 'vegeda2_'],\n",
       "         dtype='object')),\n",
       "                                   ('cat',\n",
       "                                    Pipeline(steps=[('onehot',\n",
       "                                                     OneHotEncoder(handle...\n",
       "                                                     StandardScaler(with_mean=False,\n",
       "                                                                    with_std=False))]),\n",
       "                                    Index(['_sex', 'genhlth', 'addepev3', 'checkup1', '_totinda', '_rfhype6',\n",
       "          'cholmed3', '_rfchol3', 'cvdstrk3', '_asthms1', 'chcscncr', 'chcocncr',\n",
       "          'chccopd3', 'chckdny2', 'diabete4', '_drdxar3', 'marital', '_incomg1',\n",
       "          'employ1', 'decide', 'diffwalk', 'diffdres', '_smoker3', 'usenow3',\n",
       "          'ecignow1', '_metstat', '_imprace', '_educag'],\n",
       "         dtype='object'))])),\n",
       "  ('model', LogisticRegression(random_state=42))],\n",
       " 'verbose': False,\n",
       " 'preprocessor': ColumnTransformer(transformers=[('num',\n",
       "                                  Pipeline(steps=[('imputer',\n",
       "                                                   SimpleImputer(strategy='median')),\n",
       "                                                  ('scaler', StandardScaler())]),\n",
       "                                  Index(['physhlth', 'menthlth', 'children', 'htm4', 'wtkg3', '_bmi5',\n",
       "        '_drnkwk1', '_age80', 'ftjuda2_', 'frutda2_', 'grenda1_', 'frnchda_',\n",
       "        'potada1_', 'vegeda2_'],\n",
       "       dtype='object')),\n",
       "                                 ('cat',\n",
       "                                  Pipeline(steps=[('onehot',\n",
       "                                                   OneHotEncoder(handle...\n",
       "                                                   StandardScaler(with_mean=False,\n",
       "                                                                  with_std=False))]),\n",
       "                                  Index(['_sex', 'genhlth', 'addepev3', 'checkup1', '_totinda', '_rfhype6',\n",
       "        'cholmed3', '_rfchol3', 'cvdstrk3', '_asthms1', 'chcscncr', 'chcocncr',\n",
       "        'chccopd3', 'chckdny2', 'diabete4', '_drdxar3', 'marital', '_incomg1',\n",
       "        'employ1', 'decide', 'diffwalk', 'diffdres', '_smoker3', 'usenow3',\n",
       "        'ecignow1', '_metstat', '_imprace', '_educag'],\n",
       "       dtype='object'))]),\n",
       " 'model': LogisticRegression(random_state=42),\n",
       " 'preprocessor__n_jobs': None,\n",
       " 'preprocessor__remainder': 'drop',\n",
       " 'preprocessor__sparse_threshold': 0.3,\n",
       " 'preprocessor__transformer_weights': None,\n",
       " 'preprocessor__transformers': [('num',\n",
       "   Pipeline(steps=[('imputer', SimpleImputer(strategy='median')),\n",
       "                   ('scaler', StandardScaler())]),\n",
       "   Index(['physhlth', 'menthlth', 'children', 'htm4', 'wtkg3', '_bmi5',\n",
       "          '_drnkwk1', '_age80', 'ftjuda2_', 'frutda2_', 'grenda1_', 'frnchda_',\n",
       "          'potada1_', 'vegeda2_'],\n",
       "         dtype='object')),\n",
       "  ('cat',\n",
       "   Pipeline(steps=[('onehot', OneHotEncoder(handle_unknown='ignore')),\n",
       "                   ('scaler', StandardScaler(with_mean=False, with_std=False))]),\n",
       "   Index(['_sex', 'genhlth', 'addepev3', 'checkup1', '_totinda', '_rfhype6',\n",
       "          'cholmed3', '_rfchol3', 'cvdstrk3', '_asthms1', 'chcscncr', 'chcocncr',\n",
       "          'chccopd3', 'chckdny2', 'diabete4', '_drdxar3', 'marital', '_incomg1',\n",
       "          'employ1', 'decide', 'diffwalk', 'diffdres', '_smoker3', 'usenow3',\n",
       "          'ecignow1', '_metstat', '_imprace', '_educag'],\n",
       "         dtype='object'))],\n",
       " 'preprocessor__verbose': False,\n",
       " 'preprocessor__verbose_feature_names_out': True,\n",
       " 'preprocessor__num': Pipeline(steps=[('imputer', SimpleImputer(strategy='median')),\n",
       "                 ('scaler', StandardScaler())]),\n",
       " 'preprocessor__cat': Pipeline(steps=[('onehot', OneHotEncoder(handle_unknown='ignore')),\n",
       "                 ('scaler', StandardScaler(with_mean=False, with_std=False))]),\n",
       " 'preprocessor__num__memory': None,\n",
       " 'preprocessor__num__steps': [('imputer', SimpleImputer(strategy='median')),\n",
       "  ('scaler', StandardScaler())],\n",
       " 'preprocessor__num__verbose': False,\n",
       " 'preprocessor__num__imputer': SimpleImputer(strategy='median'),\n",
       " 'preprocessor__num__scaler': StandardScaler(),\n",
       " 'preprocessor__num__imputer__add_indicator': False,\n",
       " 'preprocessor__num__imputer__copy': True,\n",
       " 'preprocessor__num__imputer__fill_value': None,\n",
       " 'preprocessor__num__imputer__keep_empty_features': False,\n",
       " 'preprocessor__num__imputer__missing_values': nan,\n",
       " 'preprocessor__num__imputer__strategy': 'median',\n",
       " 'preprocessor__num__imputer__verbose': 'deprecated',\n",
       " 'preprocessor__num__scaler__copy': True,\n",
       " 'preprocessor__num__scaler__with_mean': True,\n",
       " 'preprocessor__num__scaler__with_std': True,\n",
       " 'preprocessor__cat__memory': None,\n",
       " 'preprocessor__cat__steps': [('onehot',\n",
       "   OneHotEncoder(handle_unknown='ignore')),\n",
       "  ('scaler', StandardScaler(with_mean=False, with_std=False))],\n",
       " 'preprocessor__cat__verbose': False,\n",
       " 'preprocessor__cat__onehot': OneHotEncoder(handle_unknown='ignore'),\n",
       " 'preprocessor__cat__scaler': StandardScaler(with_mean=False, with_std=False),\n",
       " 'preprocessor__cat__onehot__categories': 'auto',\n",
       " 'preprocessor__cat__onehot__drop': None,\n",
       " 'preprocessor__cat__onehot__dtype': numpy.float64,\n",
       " 'preprocessor__cat__onehot__handle_unknown': 'ignore',\n",
       " 'preprocessor__cat__onehot__max_categories': None,\n",
       " 'preprocessor__cat__onehot__min_frequency': None,\n",
       " 'preprocessor__cat__onehot__sparse': 'deprecated',\n",
       " 'preprocessor__cat__onehot__sparse_output': True,\n",
       " 'preprocessor__cat__scaler__copy': True,\n",
       " 'preprocessor__cat__scaler__with_mean': False,\n",
       " 'preprocessor__cat__scaler__with_std': False,\n",
       " 'model__C': 1.0,\n",
       " 'model__class_weight': None,\n",
       " 'model__dual': False,\n",
       " 'model__fit_intercept': True,\n",
       " 'model__intercept_scaling': 1,\n",
       " 'model__l1_ratio': None,\n",
       " 'model__max_iter': 100,\n",
       " 'model__multi_class': 'auto',\n",
       " 'model__n_jobs': None,\n",
       " 'model__penalty': 'l2',\n",
       " 'model__random_state': 42,\n",
       " 'model__solver': 'lbfgs',\n",
       " 'model__tol': 0.0001,\n",
       " 'model__verbose': 0,\n",
       " 'model__warm_start': False}"
      ]
     },
<<<<<<< HEAD
     "execution_count": 16,
=======
     "execution_count": 17,
>>>>>>> main
     "metadata": {},
     "output_type": "execute_result"
    }
   ],
   "source": [
    "pipe.get_params()"
   ]
  },
  {
   "cell_type": "code",
<<<<<<< HEAD
   "execution_count": 17,
=======
   "execution_count": 18,
>>>>>>> main
   "id": "0a67c0e0-1ded-4be7-a1b1-ef7e4bfed0e3",
   "metadata": {},
   "outputs": [],
   "source": [
    "lg_params = {\n",
    "    'model__penalty': ['l2'],\n",
    "    'model__max_iter': [1000]\n",
    "}"
   ]
  },
  {
   "cell_type": "code",
<<<<<<< HEAD
   "execution_count": 18,
=======
   "execution_count": 19,
>>>>>>> main
   "id": "2f0f6d2c-bb20-41ea-8d86-05b7e1273997",
   "metadata": {},
   "outputs": [],
   "source": [
    "gs_lg = GridSearchCV(pipe, param_grid=lg_params, cv = 3)"
   ]
  },
  {
   "cell_type": "code",
<<<<<<< HEAD
   "execution_count": 19,
=======
   "execution_count": 20,
>>>>>>> main
   "id": "1a2a3cd6-f0c7-4ecc-ab47-6a1b11b3f337",
   "metadata": {
    "scrolled": true,
    "tags": []
   },
   "outputs": [
    {
     "data": {
      "text/html": [
       "<style>#sk-container-id-1 {color: black;background-color: white;}#sk-container-id-1 pre{padding: 0;}#sk-container-id-1 div.sk-toggleable {background-color: white;}#sk-container-id-1 label.sk-toggleable__label {cursor: pointer;display: block;width: 100%;margin-bottom: 0;padding: 0.3em;box-sizing: border-box;text-align: center;}#sk-container-id-1 label.sk-toggleable__label-arrow:before {content: \"▸\";float: left;margin-right: 0.25em;color: #696969;}#sk-container-id-1 label.sk-toggleable__label-arrow:hover:before {color: black;}#sk-container-id-1 div.sk-estimator:hover label.sk-toggleable__label-arrow:before {color: black;}#sk-container-id-1 div.sk-toggleable__content {max-height: 0;max-width: 0;overflow: hidden;text-align: left;background-color: #f0f8ff;}#sk-container-id-1 div.sk-toggleable__content pre {margin: 0.2em;color: black;border-radius: 0.25em;background-color: #f0f8ff;}#sk-container-id-1 input.sk-toggleable__control:checked~div.sk-toggleable__content {max-height: 200px;max-width: 100%;overflow: auto;}#sk-container-id-1 input.sk-toggleable__control:checked~label.sk-toggleable__label-arrow:before {content: \"▾\";}#sk-container-id-1 div.sk-estimator input.sk-toggleable__control:checked~label.sk-toggleable__label {background-color: #d4ebff;}#sk-container-id-1 div.sk-label input.sk-toggleable__control:checked~label.sk-toggleable__label {background-color: #d4ebff;}#sk-container-id-1 input.sk-hidden--visually {border: 0;clip: rect(1px 1px 1px 1px);clip: rect(1px, 1px, 1px, 1px);height: 1px;margin: -1px;overflow: hidden;padding: 0;position: absolute;width: 1px;}#sk-container-id-1 div.sk-estimator {font-family: monospace;background-color: #f0f8ff;border: 1px dotted black;border-radius: 0.25em;box-sizing: border-box;margin-bottom: 0.5em;}#sk-container-id-1 div.sk-estimator:hover {background-color: #d4ebff;}#sk-container-id-1 div.sk-parallel-item::after {content: \"\";width: 100%;border-bottom: 1px solid gray;flex-grow: 1;}#sk-container-id-1 div.sk-label:hover label.sk-toggleable__label {background-color: #d4ebff;}#sk-container-id-1 div.sk-serial::before {content: \"\";position: absolute;border-left: 1px solid gray;box-sizing: border-box;top: 0;bottom: 0;left: 50%;z-index: 0;}#sk-container-id-1 div.sk-serial {display: flex;flex-direction: column;align-items: center;background-color: white;padding-right: 0.2em;padding-left: 0.2em;position: relative;}#sk-container-id-1 div.sk-item {position: relative;z-index: 1;}#sk-container-id-1 div.sk-parallel {display: flex;align-items: stretch;justify-content: center;background-color: white;position: relative;}#sk-container-id-1 div.sk-item::before, #sk-container-id-1 div.sk-parallel-item::before {content: \"\";position: absolute;border-left: 1px solid gray;box-sizing: border-box;top: 0;bottom: 0;left: 50%;z-index: -1;}#sk-container-id-1 div.sk-parallel-item {display: flex;flex-direction: column;z-index: 1;position: relative;background-color: white;}#sk-container-id-1 div.sk-parallel-item:first-child::after {align-self: flex-end;width: 50%;}#sk-container-id-1 div.sk-parallel-item:last-child::after {align-self: flex-start;width: 50%;}#sk-container-id-1 div.sk-parallel-item:only-child::after {width: 0;}#sk-container-id-1 div.sk-dashed-wrapped {border: 1px dashed gray;margin: 0 0.4em 0.5em 0.4em;box-sizing: border-box;padding-bottom: 0.4em;background-color: white;}#sk-container-id-1 div.sk-label label {font-family: monospace;font-weight: bold;display: inline-block;line-height: 1.2em;}#sk-container-id-1 div.sk-label-container {text-align: center;}#sk-container-id-1 div.sk-container {/* jupyter's `normalize.less` sets `[hidden] { display: none; }` but bootstrap.min.css set `[hidden] { display: none !important; }` so we also need the `!important` here to be able to override the default hidden behavior on the sphinx rendered scikit-learn.org. See: https://github.com/scikit-learn/scikit-learn/issues/21755 */display: inline-block !important;position: relative;}#sk-container-id-1 div.sk-text-repr-fallback {display: none;}</style><div id=\"sk-container-id-1\" class=\"sk-top-container\"><div class=\"sk-text-repr-fallback\"><pre>GridSearchCV(cv=3,\n",
       "             estimator=Pipeline(steps=[(&#x27;preprocessor&#x27;,\n",
       "                                        ColumnTransformer(transformers=[(&#x27;num&#x27;,\n",
       "                                                                         Pipeline(steps=[(&#x27;imputer&#x27;,\n",
       "                                                                                          SimpleImputer(strategy=&#x27;median&#x27;)),\n",
       "                                                                                         (&#x27;scaler&#x27;,\n",
       "                                                                                          StandardScaler())]),\n",
       "                                                                         Index([&#x27;physhlth&#x27;, &#x27;menthlth&#x27;, &#x27;children&#x27;, &#x27;htm4&#x27;, &#x27;wtkg3&#x27;, &#x27;_bmi5&#x27;,\n",
       "       &#x27;_drnkwk1&#x27;, &#x27;_age80&#x27;, &#x27;ftjuda2_&#x27;, &#x27;frutda2_&#x27;, &#x27;grenda1_&#x27;, &#x27;frnchda_&#x27;,\n",
       "       &#x27;potada1_&#x27;, &#x27;vegeda2_&#x27;],\n",
       "      dtype=&#x27;obj...\n",
       "       &#x27;cholmed3&#x27;, &#x27;_rfchol3&#x27;, &#x27;cvdstrk3&#x27;, &#x27;_asthms1&#x27;, &#x27;chcscncr&#x27;, &#x27;chcocncr&#x27;,\n",
       "       &#x27;chccopd3&#x27;, &#x27;chckdny2&#x27;, &#x27;diabete4&#x27;, &#x27;_drdxar3&#x27;, &#x27;marital&#x27;, &#x27;_incomg1&#x27;,\n",
       "       &#x27;employ1&#x27;, &#x27;decide&#x27;, &#x27;diffwalk&#x27;, &#x27;diffdres&#x27;, &#x27;_smoker3&#x27;, &#x27;usenow3&#x27;,\n",
       "       &#x27;ecignow1&#x27;, &#x27;_metstat&#x27;, &#x27;_imprace&#x27;, &#x27;_educag&#x27;],\n",
       "      dtype=&#x27;object&#x27;))])),\n",
       "                                       (&#x27;model&#x27;, LogisticRegression())]),\n",
       "             param_grid={&#x27;model__max_iter&#x27;: [1000], &#x27;model__penalty&#x27;: [&#x27;l2&#x27;]})</pre><b>In a Jupyter environment, please rerun this cell to show the HTML representation or trust the notebook. <br />On GitHub, the HTML representation is unable to render, please try loading this page with nbviewer.org.</b></div><div class=\"sk-container\" hidden><div class=\"sk-item sk-dashed-wrapped\"><div class=\"sk-label-container\"><div class=\"sk-label sk-toggleable\"><input class=\"sk-toggleable__control sk-hidden--visually\" id=\"sk-estimator-id-1\" type=\"checkbox\" ><label for=\"sk-estimator-id-1\" class=\"sk-toggleable__label sk-toggleable__label-arrow\">GridSearchCV</label><div class=\"sk-toggleable__content\"><pre>GridSearchCV(cv=3,\n",
       "             estimator=Pipeline(steps=[(&#x27;preprocessor&#x27;,\n",
       "                                        ColumnTransformer(transformers=[(&#x27;num&#x27;,\n",
       "                                                                         Pipeline(steps=[(&#x27;imputer&#x27;,\n",
       "                                                                                          SimpleImputer(strategy=&#x27;median&#x27;)),\n",
       "                                                                                         (&#x27;scaler&#x27;,\n",
       "                                                                                          StandardScaler())]),\n",
       "                                                                         Index([&#x27;physhlth&#x27;, &#x27;menthlth&#x27;, &#x27;children&#x27;, &#x27;htm4&#x27;, &#x27;wtkg3&#x27;, &#x27;_bmi5&#x27;,\n",
       "       &#x27;_drnkwk1&#x27;, &#x27;_age80&#x27;, &#x27;ftjuda2_&#x27;, &#x27;frutda2_&#x27;, &#x27;grenda1_&#x27;, &#x27;frnchda_&#x27;,\n",
       "       &#x27;potada1_&#x27;, &#x27;vegeda2_&#x27;],\n",
       "      dtype=&#x27;obj...\n",
       "       &#x27;cholmed3&#x27;, &#x27;_rfchol3&#x27;, &#x27;cvdstrk3&#x27;, &#x27;_asthms1&#x27;, &#x27;chcscncr&#x27;, &#x27;chcocncr&#x27;,\n",
       "       &#x27;chccopd3&#x27;, &#x27;chckdny2&#x27;, &#x27;diabete4&#x27;, &#x27;_drdxar3&#x27;, &#x27;marital&#x27;, &#x27;_incomg1&#x27;,\n",
       "       &#x27;employ1&#x27;, &#x27;decide&#x27;, &#x27;diffwalk&#x27;, &#x27;diffdres&#x27;, &#x27;_smoker3&#x27;, &#x27;usenow3&#x27;,\n",
       "       &#x27;ecignow1&#x27;, &#x27;_metstat&#x27;, &#x27;_imprace&#x27;, &#x27;_educag&#x27;],\n",
       "      dtype=&#x27;object&#x27;))])),\n",
       "                                       (&#x27;model&#x27;, LogisticRegression())]),\n",
       "             param_grid={&#x27;model__max_iter&#x27;: [1000], &#x27;model__penalty&#x27;: [&#x27;l2&#x27;]})</pre></div></div></div><div class=\"sk-parallel\"><div class=\"sk-parallel-item\"><div class=\"sk-item\"><div class=\"sk-label-container\"><div class=\"sk-label sk-toggleable\"><input class=\"sk-toggleable__control sk-hidden--visually\" id=\"sk-estimator-id-2\" type=\"checkbox\" ><label for=\"sk-estimator-id-2\" class=\"sk-toggleable__label sk-toggleable__label-arrow\">estimator: Pipeline</label><div class=\"sk-toggleable__content\"><pre>Pipeline(steps=[(&#x27;preprocessor&#x27;,\n",
       "                 ColumnTransformer(transformers=[(&#x27;num&#x27;,\n",
       "                                                  Pipeline(steps=[(&#x27;imputer&#x27;,\n",
       "                                                                   SimpleImputer(strategy=&#x27;median&#x27;)),\n",
       "                                                                  (&#x27;scaler&#x27;,\n",
       "                                                                   StandardScaler())]),\n",
       "                                                  Index([&#x27;physhlth&#x27;, &#x27;menthlth&#x27;, &#x27;children&#x27;, &#x27;htm4&#x27;, &#x27;wtkg3&#x27;, &#x27;_bmi5&#x27;,\n",
       "       &#x27;_drnkwk1&#x27;, &#x27;_age80&#x27;, &#x27;ftjuda2_&#x27;, &#x27;frutda2_&#x27;, &#x27;grenda1_&#x27;, &#x27;frnchda_&#x27;,\n",
       "       &#x27;potada1_&#x27;, &#x27;vegeda2_&#x27;],\n",
       "      dtype=&#x27;object&#x27;)),\n",
       "                                                 (&#x27;cat&#x27;,\n",
       "                                                  Pipeline(steps...\n",
       "                                                  Index([&#x27;_sex&#x27;, &#x27;genhlth&#x27;, &#x27;addepev3&#x27;, &#x27;checkup1&#x27;, &#x27;_totinda&#x27;, &#x27;_rfhype6&#x27;,\n",
       "       &#x27;cholmed3&#x27;, &#x27;_rfchol3&#x27;, &#x27;cvdstrk3&#x27;, &#x27;_asthms1&#x27;, &#x27;chcscncr&#x27;, &#x27;chcocncr&#x27;,\n",
       "       &#x27;chccopd3&#x27;, &#x27;chckdny2&#x27;, &#x27;diabete4&#x27;, &#x27;_drdxar3&#x27;, &#x27;marital&#x27;, &#x27;_incomg1&#x27;,\n",
       "       &#x27;employ1&#x27;, &#x27;decide&#x27;, &#x27;diffwalk&#x27;, &#x27;diffdres&#x27;, &#x27;_smoker3&#x27;, &#x27;usenow3&#x27;,\n",
       "       &#x27;ecignow1&#x27;, &#x27;_metstat&#x27;, &#x27;_imprace&#x27;, &#x27;_educag&#x27;],\n",
       "      dtype=&#x27;object&#x27;))])),\n",
       "                (&#x27;model&#x27;, LogisticRegression())])</pre></div></div></div><div class=\"sk-serial\"><div class=\"sk-item\"><div class=\"sk-serial\"><div class=\"sk-item sk-dashed-wrapped\"><div class=\"sk-label-container\"><div class=\"sk-label sk-toggleable\"><input class=\"sk-toggleable__control sk-hidden--visually\" id=\"sk-estimator-id-3\" type=\"checkbox\" ><label for=\"sk-estimator-id-3\" class=\"sk-toggleable__label sk-toggleable__label-arrow\">preprocessor: ColumnTransformer</label><div class=\"sk-toggleable__content\"><pre>ColumnTransformer(transformers=[(&#x27;num&#x27;,\n",
       "                                 Pipeline(steps=[(&#x27;imputer&#x27;,\n",
       "                                                  SimpleImputer(strategy=&#x27;median&#x27;)),\n",
       "                                                 (&#x27;scaler&#x27;, StandardScaler())]),\n",
       "                                 Index([&#x27;physhlth&#x27;, &#x27;menthlth&#x27;, &#x27;children&#x27;, &#x27;htm4&#x27;, &#x27;wtkg3&#x27;, &#x27;_bmi5&#x27;,\n",
       "       &#x27;_drnkwk1&#x27;, &#x27;_age80&#x27;, &#x27;ftjuda2_&#x27;, &#x27;frutda2_&#x27;, &#x27;grenda1_&#x27;, &#x27;frnchda_&#x27;,\n",
       "       &#x27;potada1_&#x27;, &#x27;vegeda2_&#x27;],\n",
       "      dtype=&#x27;object&#x27;)),\n",
       "                                (&#x27;cat&#x27;,\n",
       "                                 Pipeline(steps=[(&#x27;onehot&#x27;,\n",
       "                                                  OneHotEncoder(handle...\n",
       "                                                  StandardScaler(with_mean=False,\n",
       "                                                                 with_std=False))]),\n",
       "                                 Index([&#x27;_sex&#x27;, &#x27;genhlth&#x27;, &#x27;addepev3&#x27;, &#x27;checkup1&#x27;, &#x27;_totinda&#x27;, &#x27;_rfhype6&#x27;,\n",
       "       &#x27;cholmed3&#x27;, &#x27;_rfchol3&#x27;, &#x27;cvdstrk3&#x27;, &#x27;_asthms1&#x27;, &#x27;chcscncr&#x27;, &#x27;chcocncr&#x27;,\n",
       "       &#x27;chccopd3&#x27;, &#x27;chckdny2&#x27;, &#x27;diabete4&#x27;, &#x27;_drdxar3&#x27;, &#x27;marital&#x27;, &#x27;_incomg1&#x27;,\n",
       "       &#x27;employ1&#x27;, &#x27;decide&#x27;, &#x27;diffwalk&#x27;, &#x27;diffdres&#x27;, &#x27;_smoker3&#x27;, &#x27;usenow3&#x27;,\n",
       "       &#x27;ecignow1&#x27;, &#x27;_metstat&#x27;, &#x27;_imprace&#x27;, &#x27;_educag&#x27;],\n",
       "      dtype=&#x27;object&#x27;))])</pre></div></div></div><div class=\"sk-parallel\"><div class=\"sk-parallel-item\"><div class=\"sk-item\"><div class=\"sk-label-container\"><div class=\"sk-label sk-toggleable\"><input class=\"sk-toggleable__control sk-hidden--visually\" id=\"sk-estimator-id-4\" type=\"checkbox\" ><label for=\"sk-estimator-id-4\" class=\"sk-toggleable__label sk-toggleable__label-arrow\">num</label><div class=\"sk-toggleable__content\"><pre>Index([&#x27;physhlth&#x27;, &#x27;menthlth&#x27;, &#x27;children&#x27;, &#x27;htm4&#x27;, &#x27;wtkg3&#x27;, &#x27;_bmi5&#x27;,\n",
       "       &#x27;_drnkwk1&#x27;, &#x27;_age80&#x27;, &#x27;ftjuda2_&#x27;, &#x27;frutda2_&#x27;, &#x27;grenda1_&#x27;, &#x27;frnchda_&#x27;,\n",
       "       &#x27;potada1_&#x27;, &#x27;vegeda2_&#x27;],\n",
       "      dtype=&#x27;object&#x27;)</pre></div></div></div><div class=\"sk-serial\"><div class=\"sk-item\"><div class=\"sk-serial\"><div class=\"sk-item\"><div class=\"sk-estimator sk-toggleable\"><input class=\"sk-toggleable__control sk-hidden--visually\" id=\"sk-estimator-id-5\" type=\"checkbox\" ><label for=\"sk-estimator-id-5\" class=\"sk-toggleable__label sk-toggleable__label-arrow\">SimpleImputer</label><div class=\"sk-toggleable__content\"><pre>SimpleImputer(strategy=&#x27;median&#x27;)</pre></div></div></div><div class=\"sk-item\"><div class=\"sk-estimator sk-toggleable\"><input class=\"sk-toggleable__control sk-hidden--visually\" id=\"sk-estimator-id-6\" type=\"checkbox\" ><label for=\"sk-estimator-id-6\" class=\"sk-toggleable__label sk-toggleable__label-arrow\">StandardScaler</label><div class=\"sk-toggleable__content\"><pre>StandardScaler()</pre></div></div></div></div></div></div></div></div><div class=\"sk-parallel-item\"><div class=\"sk-item\"><div class=\"sk-label-container\"><div class=\"sk-label sk-toggleable\"><input class=\"sk-toggleable__control sk-hidden--visually\" id=\"sk-estimator-id-7\" type=\"checkbox\" ><label for=\"sk-estimator-id-7\" class=\"sk-toggleable__label sk-toggleable__label-arrow\">cat</label><div class=\"sk-toggleable__content\"><pre>Index([&#x27;_sex&#x27;, &#x27;genhlth&#x27;, &#x27;addepev3&#x27;, &#x27;checkup1&#x27;, &#x27;_totinda&#x27;, &#x27;_rfhype6&#x27;,\n",
       "       &#x27;cholmed3&#x27;, &#x27;_rfchol3&#x27;, &#x27;cvdstrk3&#x27;, &#x27;_asthms1&#x27;, &#x27;chcscncr&#x27;, &#x27;chcocncr&#x27;,\n",
       "       &#x27;chccopd3&#x27;, &#x27;chckdny2&#x27;, &#x27;diabete4&#x27;, &#x27;_drdxar3&#x27;, &#x27;marital&#x27;, &#x27;_incomg1&#x27;,\n",
       "       &#x27;employ1&#x27;, &#x27;decide&#x27;, &#x27;diffwalk&#x27;, &#x27;diffdres&#x27;, &#x27;_smoker3&#x27;, &#x27;usenow3&#x27;,\n",
       "       &#x27;ecignow1&#x27;, &#x27;_metstat&#x27;, &#x27;_imprace&#x27;, &#x27;_educag&#x27;],\n",
       "      dtype=&#x27;object&#x27;)</pre></div></div></div><div class=\"sk-serial\"><div class=\"sk-item\"><div class=\"sk-serial\"><div class=\"sk-item\"><div class=\"sk-estimator sk-toggleable\"><input class=\"sk-toggleable__control sk-hidden--visually\" id=\"sk-estimator-id-8\" type=\"checkbox\" ><label for=\"sk-estimator-id-8\" class=\"sk-toggleable__label sk-toggleable__label-arrow\">OneHotEncoder</label><div class=\"sk-toggleable__content\"><pre>OneHotEncoder(handle_unknown=&#x27;ignore&#x27;)</pre></div></div></div><div class=\"sk-item\"><div class=\"sk-estimator sk-toggleable\"><input class=\"sk-toggleable__control sk-hidden--visually\" id=\"sk-estimator-id-9\" type=\"checkbox\" ><label for=\"sk-estimator-id-9\" class=\"sk-toggleable__label sk-toggleable__label-arrow\">StandardScaler</label><div class=\"sk-toggleable__content\"><pre>StandardScaler(with_mean=False, with_std=False)</pre></div></div></div></div></div></div></div></div></div></div><div class=\"sk-item\"><div class=\"sk-estimator sk-toggleable\"><input class=\"sk-toggleable__control sk-hidden--visually\" id=\"sk-estimator-id-10\" type=\"checkbox\" ><label for=\"sk-estimator-id-10\" class=\"sk-toggleable__label sk-toggleable__label-arrow\">LogisticRegression</label><div class=\"sk-toggleable__content\"><pre>LogisticRegression()</pre></div></div></div></div></div></div></div></div></div></div></div></div>"
      ],
      "text/plain": [
       "GridSearchCV(cv=3,\n",
       "             estimator=Pipeline(steps=[('preprocessor',\n",
       "                                        ColumnTransformer(transformers=[('num',\n",
       "                                                                         Pipeline(steps=[('imputer',\n",
       "                                                                                          SimpleImputer(strategy='median')),\n",
       "                                                                                         ('scaler',\n",
       "                                                                                          StandardScaler())]),\n",
       "                                                                         Index(['physhlth', 'menthlth', 'children', 'htm4', 'wtkg3', '_bmi5',\n",
       "       '_drnkwk1', '_age80', 'ftjuda2_', 'frutda2_', 'grenda1_', 'frnchda_',\n",
       "       'potada1_', 'vegeda2_'],\n",
       "      dtype='obj...\n",
       "       'cholmed3', '_rfchol3', 'cvdstrk3', '_asthms1', 'chcscncr', 'chcocncr',\n",
       "       'chccopd3', 'chckdny2', 'diabete4', '_drdxar3', 'marital', '_incomg1',\n",
       "       'employ1', 'decide', 'diffwalk', 'diffdres', '_smoker3', 'usenow3',\n",
       "       'ecignow1', '_metstat', '_imprace', '_educag'],\n",
       "      dtype='object'))])),\n",
       "                                       ('model',\n",
       "                                        LogisticRegression(random_state=42))]),\n",
       "             param_grid={'model__max_iter': [1000], 'model__penalty': ['l2']})"
      ]
     },
<<<<<<< HEAD
     "execution_count": 19,
=======
     "execution_count": 20,
>>>>>>> main
     "metadata": {},
     "output_type": "execute_result"
    }
   ],
   "source": [
    "gs_lg.fit(X_train, y_train)"
   ]
  },
  {
   "cell_type": "code",
<<<<<<< HEAD
   "execution_count": 20,
=======
   "execution_count": 21,
>>>>>>> main
   "id": "97f82dc7-fe79-4004-94d8-d5fbf7189cd1",
   "metadata": {},
   "outputs": [],
   "source": [
    "y_pred = gs_lg.predict(X_test)"
   ]
  },
  {
   "cell_type": "code",
<<<<<<< HEAD
   "execution_count": 21,
=======
   "execution_count": 22,
>>>>>>> main
   "id": "5d378108-ee99-4ef0-bd40-f3990f24568b",
   "metadata": {},
   "outputs": [
    {
     "name": "stdout",
     "output_type": "stream",
     "text": [
      "balanced_accuracy: 0.5597151202886987\n",
      "recall: 0.12978623443739723\n",
      "precision: 0.5287081339712919\n",
      "f1 score: 0.2084119200301773\n"
     ]
    },
    {
     "data": {
      "image/png": "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",
      "text/plain": [
       "<Figure size 640x480 with 2 Axes>"
      ]
     },
     "metadata": {},
     "output_type": "display_data"
    }
   ],
   "source": [
    "scores.append(evaluation(X_test, y_test, gs_lg.predict(X_test), gs_lg))"
   ]
  },
  {
   "cell_type": "markdown",
   "id": "d3645cdf-84fb-4f92-a557-14c723710bc4",
   "metadata": {},
   "source": [
    "Using a simple logistic regression model and accuracy as the metric resulted in lower balanced accuracy and poor recall."
   ]
  },
  {
   "cell_type": "markdown",
   "id": "7496a76d-b1ef-4877-a284-d3ebe3f5f61e",
   "metadata": {},
   "source": [
    "### Oversample the minority class"
   ]
  },
  {
   "cell_type": "code",
<<<<<<< HEAD
   "execution_count": 22,
=======
   "execution_count": 23,
>>>>>>> main
   "id": "5b9f31bb-6ba4-4514-ab2e-ae6241e204c7",
   "metadata": {},
   "outputs": [],
   "source": [
    "# Oversample the minority class\n",
    "pipe_oversample = ImbPipeline(steps = [\n",
    "    ('preprocessor', preprocessor),\n",
    "    ('sampling', RandomOverSampler(random_state=42)),\n",
    "    ('model', LogisticRegression(random_state=42))\n",
    "])"
   ]
  },
  {
   "cell_type": "code",
<<<<<<< HEAD
   "execution_count": 23,
=======
   "execution_count": 24,
>>>>>>> main
   "id": "7fd39a51-c411-49d3-8b2f-0ed55d211bde",
   "metadata": {
    "scrolled": true,
    "tags": []
   },
   "outputs": [
    {
     "data": {
      "text/plain": [
       "{'memory': None,\n",
       " 'steps': [('preprocessor',\n",
       "   ColumnTransformer(transformers=[('num',\n",
       "                                    Pipeline(steps=[('imputer',\n",
       "                                                     SimpleImputer(strategy='median')),\n",
       "                                                    ('scaler', StandardScaler())]),\n",
       "                                    Index(['physhlth', 'menthlth', 'children', 'htm4', 'wtkg3', '_bmi5',\n",
       "          '_drnkwk1', '_age80', 'ftjuda2_', 'frutda2_', 'grenda1_', 'frnchda_',\n",
       "          'potada1_', 'vegeda2_'],\n",
       "         dtype='object')),\n",
       "                                   ('cat',\n",
       "                                    Pipeline(steps=[('onehot',\n",
       "                                                     OneHotEncoder(handle...\n",
       "                                                     StandardScaler(with_mean=False,\n",
       "                                                                    with_std=False))]),\n",
       "                                    Index(['_sex', 'genhlth', 'addepev3', 'checkup1', '_totinda', '_rfhype6',\n",
       "          'cholmed3', '_rfchol3', 'cvdstrk3', '_asthms1', 'chcscncr', 'chcocncr',\n",
       "          'chccopd3', 'chckdny2', 'diabete4', '_drdxar3', 'marital', '_incomg1',\n",
       "          'employ1', 'decide', 'diffwalk', 'diffdres', '_smoker3', 'usenow3',\n",
       "          'ecignow1', '_metstat', '_imprace', '_educag'],\n",
       "         dtype='object'))])),\n",
       "  ('sampling', RandomOverSampler(random_state=42)),\n",
       "  ('model', LogisticRegression(random_state=42))],\n",
       " 'verbose': False,\n",
       " 'preprocessor': ColumnTransformer(transformers=[('num',\n",
       "                                  Pipeline(steps=[('imputer',\n",
       "                                                   SimpleImputer(strategy='median')),\n",
       "                                                  ('scaler', StandardScaler())]),\n",
       "                                  Index(['physhlth', 'menthlth', 'children', 'htm4', 'wtkg3', '_bmi5',\n",
       "        '_drnkwk1', '_age80', 'ftjuda2_', 'frutda2_', 'grenda1_', 'frnchda_',\n",
       "        'potada1_', 'vegeda2_'],\n",
       "       dtype='object')),\n",
       "                                 ('cat',\n",
       "                                  Pipeline(steps=[('onehot',\n",
       "                                                   OneHotEncoder(handle...\n",
       "                                                   StandardScaler(with_mean=False,\n",
       "                                                                  with_std=False))]),\n",
       "                                  Index(['_sex', 'genhlth', 'addepev3', 'checkup1', '_totinda', '_rfhype6',\n",
       "        'cholmed3', '_rfchol3', 'cvdstrk3', '_asthms1', 'chcscncr', 'chcocncr',\n",
       "        'chccopd3', 'chckdny2', 'diabete4', '_drdxar3', 'marital', '_incomg1',\n",
       "        'employ1', 'decide', 'diffwalk', 'diffdres', '_smoker3', 'usenow3',\n",
       "        'ecignow1', '_metstat', '_imprace', '_educag'],\n",
       "       dtype='object'))]),\n",
       " 'sampling': RandomOverSampler(random_state=42),\n",
       " 'model': LogisticRegression(random_state=42),\n",
       " 'preprocessor__n_jobs': None,\n",
       " 'preprocessor__remainder': 'drop',\n",
       " 'preprocessor__sparse_threshold': 0.3,\n",
       " 'preprocessor__transformer_weights': None,\n",
       " 'preprocessor__transformers': [('num',\n",
       "   Pipeline(steps=[('imputer', SimpleImputer(strategy='median')),\n",
       "                   ('scaler', StandardScaler())]),\n",
       "   Index(['physhlth', 'menthlth', 'children', 'htm4', 'wtkg3', '_bmi5',\n",
       "          '_drnkwk1', '_age80', 'ftjuda2_', 'frutda2_', 'grenda1_', 'frnchda_',\n",
       "          'potada1_', 'vegeda2_'],\n",
       "         dtype='object')),\n",
       "  ('cat',\n",
       "   Pipeline(steps=[('onehot', OneHotEncoder(handle_unknown='ignore')),\n",
       "                   ('scaler', StandardScaler(with_mean=False, with_std=False))]),\n",
       "   Index(['_sex', 'genhlth', 'addepev3', 'checkup1', '_totinda', '_rfhype6',\n",
       "          'cholmed3', '_rfchol3', 'cvdstrk3', '_asthms1', 'chcscncr', 'chcocncr',\n",
       "          'chccopd3', 'chckdny2', 'diabete4', '_drdxar3', 'marital', '_incomg1',\n",
       "          'employ1', 'decide', 'diffwalk', 'diffdres', '_smoker3', 'usenow3',\n",
       "          'ecignow1', '_metstat', '_imprace', '_educag'],\n",
       "         dtype='object'))],\n",
       " 'preprocessor__verbose': False,\n",
       " 'preprocessor__verbose_feature_names_out': True,\n",
       " 'preprocessor__num': Pipeline(steps=[('imputer', SimpleImputer(strategy='median')),\n",
       "                 ('scaler', StandardScaler())]),\n",
       " 'preprocessor__cat': Pipeline(steps=[('onehot', OneHotEncoder(handle_unknown='ignore')),\n",
       "                 ('scaler', StandardScaler(with_mean=False, with_std=False))]),\n",
       " 'preprocessor__num__memory': None,\n",
       " 'preprocessor__num__steps': [('imputer', SimpleImputer(strategy='median')),\n",
       "  ('scaler', StandardScaler())],\n",
       " 'preprocessor__num__verbose': False,\n",
       " 'preprocessor__num__imputer': SimpleImputer(strategy='median'),\n",
       " 'preprocessor__num__scaler': StandardScaler(),\n",
       " 'preprocessor__num__imputer__add_indicator': False,\n",
       " 'preprocessor__num__imputer__copy': True,\n",
       " 'preprocessor__num__imputer__fill_value': None,\n",
       " 'preprocessor__num__imputer__keep_empty_features': False,\n",
       " 'preprocessor__num__imputer__missing_values': nan,\n",
       " 'preprocessor__num__imputer__strategy': 'median',\n",
       " 'preprocessor__num__imputer__verbose': 'deprecated',\n",
       " 'preprocessor__num__scaler__copy': True,\n",
       " 'preprocessor__num__scaler__with_mean': True,\n",
       " 'preprocessor__num__scaler__with_std': True,\n",
       " 'preprocessor__cat__memory': None,\n",
       " 'preprocessor__cat__steps': [('onehot',\n",
       "   OneHotEncoder(handle_unknown='ignore')),\n",
       "  ('scaler', StandardScaler(with_mean=False, with_std=False))],\n",
       " 'preprocessor__cat__verbose': False,\n",
       " 'preprocessor__cat__onehot': OneHotEncoder(handle_unknown='ignore'),\n",
       " 'preprocessor__cat__scaler': StandardScaler(with_mean=False, with_std=False),\n",
       " 'preprocessor__cat__onehot__categories': 'auto',\n",
       " 'preprocessor__cat__onehot__drop': None,\n",
       " 'preprocessor__cat__onehot__dtype': numpy.float64,\n",
       " 'preprocessor__cat__onehot__handle_unknown': 'ignore',\n",
       " 'preprocessor__cat__onehot__max_categories': None,\n",
       " 'preprocessor__cat__onehot__min_frequency': None,\n",
       " 'preprocessor__cat__onehot__sparse': 'deprecated',\n",
       " 'preprocessor__cat__onehot__sparse_output': True,\n",
       " 'preprocessor__cat__scaler__copy': True,\n",
       " 'preprocessor__cat__scaler__with_mean': False,\n",
       " 'preprocessor__cat__scaler__with_std': False,\n",
       " 'sampling__random_state': 42,\n",
       " 'sampling__sampling_strategy': 'auto',\n",
       " 'sampling__shrinkage': None,\n",
       " 'model__C': 1.0,\n",
       " 'model__class_weight': None,\n",
       " 'model__dual': False,\n",
       " 'model__fit_intercept': True,\n",
       " 'model__intercept_scaling': 1,\n",
       " 'model__l1_ratio': None,\n",
       " 'model__max_iter': 100,\n",
       " 'model__multi_class': 'auto',\n",
       " 'model__n_jobs': None,\n",
       " 'model__penalty': 'l2',\n",
       " 'model__random_state': 42,\n",
       " 'model__solver': 'lbfgs',\n",
       " 'model__tol': 0.0001,\n",
       " 'model__verbose': 0,\n",
       " 'model__warm_start': False}"
      ]
     },
<<<<<<< HEAD
     "execution_count": 23,
=======
     "execution_count": 24,
>>>>>>> main
     "metadata": {},
     "output_type": "execute_result"
    }
   ],
   "source": [
    "pipe_oversample.get_params()"
   ]
  },
  {
   "cell_type": "code",
<<<<<<< HEAD
   "execution_count": 24,
=======
   "execution_count": 25,
>>>>>>> main
   "id": "362f9da2-186c-41ba-84bf-d339b9c1a521",
   "metadata": {},
   "outputs": [],
   "source": [
    "lg_oversample_params = {\n",
    "    'sampling__sampling_strategy': [.25, .75],\n",
    "    'model__max_iter': [1000]\n",
    "}"
   ]
  },
  {
   "cell_type": "code",
<<<<<<< HEAD
   "execution_count": 25,
=======
   "execution_count": 26,
>>>>>>> main
   "id": "02fffa40-c857-41c1-b7e6-7503f377acf9",
   "metadata": {},
   "outputs": [],
   "source": [
    "gs_lg_oversample = GridSearchCV(pipe_oversample, param_grid=lg_oversample_params, cv = 3)"
   ]
  },
  {
   "cell_type": "code",
<<<<<<< HEAD
   "execution_count": 26,
=======
   "execution_count": 27,
>>>>>>> main
   "id": "e60e3d40-7aca-455d-b7b5-c4c27e40970d",
   "metadata": {
    "scrolled": true,
    "tags": []
   },
   "outputs": [
    {
     "data": {
      "text/html": [
       "<style>#sk-container-id-2 {color: black;background-color: white;}#sk-container-id-2 pre{padding: 0;}#sk-container-id-2 div.sk-toggleable {background-color: white;}#sk-container-id-2 label.sk-toggleable__label {cursor: pointer;display: block;width: 100%;margin-bottom: 0;padding: 0.3em;box-sizing: border-box;text-align: center;}#sk-container-id-2 label.sk-toggleable__label-arrow:before {content: \"▸\";float: left;margin-right: 0.25em;color: #696969;}#sk-container-id-2 label.sk-toggleable__label-arrow:hover:before {color: black;}#sk-container-id-2 div.sk-estimator:hover label.sk-toggleable__label-arrow:before {color: black;}#sk-container-id-2 div.sk-toggleable__content {max-height: 0;max-width: 0;overflow: hidden;text-align: left;background-color: #f0f8ff;}#sk-container-id-2 div.sk-toggleable__content pre {margin: 0.2em;color: black;border-radius: 0.25em;background-color: #f0f8ff;}#sk-container-id-2 input.sk-toggleable__control:checked~div.sk-toggleable__content {max-height: 200px;max-width: 100%;overflow: auto;}#sk-container-id-2 input.sk-toggleable__control:checked~label.sk-toggleable__label-arrow:before {content: \"▾\";}#sk-container-id-2 div.sk-estimator input.sk-toggleable__control:checked~label.sk-toggleable__label {background-color: #d4ebff;}#sk-container-id-2 div.sk-label input.sk-toggleable__control:checked~label.sk-toggleable__label {background-color: #d4ebff;}#sk-container-id-2 input.sk-hidden--visually {border: 0;clip: rect(1px 1px 1px 1px);clip: rect(1px, 1px, 1px, 1px);height: 1px;margin: -1px;overflow: hidden;padding: 0;position: absolute;width: 1px;}#sk-container-id-2 div.sk-estimator {font-family: monospace;background-color: #f0f8ff;border: 1px dotted black;border-radius: 0.25em;box-sizing: border-box;margin-bottom: 0.5em;}#sk-container-id-2 div.sk-estimator:hover {background-color: #d4ebff;}#sk-container-id-2 div.sk-parallel-item::after {content: \"\";width: 100%;border-bottom: 1px solid gray;flex-grow: 1;}#sk-container-id-2 div.sk-label:hover label.sk-toggleable__label {background-color: #d4ebff;}#sk-container-id-2 div.sk-serial::before {content: \"\";position: absolute;border-left: 1px solid gray;box-sizing: border-box;top: 0;bottom: 0;left: 50%;z-index: 0;}#sk-container-id-2 div.sk-serial {display: flex;flex-direction: column;align-items: center;background-color: white;padding-right: 0.2em;padding-left: 0.2em;position: relative;}#sk-container-id-2 div.sk-item {position: relative;z-index: 1;}#sk-container-id-2 div.sk-parallel {display: flex;align-items: stretch;justify-content: center;background-color: white;position: relative;}#sk-container-id-2 div.sk-item::before, #sk-container-id-2 div.sk-parallel-item::before {content: \"\";position: absolute;border-left: 1px solid gray;box-sizing: border-box;top: 0;bottom: 0;left: 50%;z-index: -1;}#sk-container-id-2 div.sk-parallel-item {display: flex;flex-direction: column;z-index: 1;position: relative;background-color: white;}#sk-container-id-2 div.sk-parallel-item:first-child::after {align-self: flex-end;width: 50%;}#sk-container-id-2 div.sk-parallel-item:last-child::after {align-self: flex-start;width: 50%;}#sk-container-id-2 div.sk-parallel-item:only-child::after {width: 0;}#sk-container-id-2 div.sk-dashed-wrapped {border: 1px dashed gray;margin: 0 0.4em 0.5em 0.4em;box-sizing: border-box;padding-bottom: 0.4em;background-color: white;}#sk-container-id-2 div.sk-label label {font-family: monospace;font-weight: bold;display: inline-block;line-height: 1.2em;}#sk-container-id-2 div.sk-label-container {text-align: center;}#sk-container-id-2 div.sk-container {/* jupyter's `normalize.less` sets `[hidden] { display: none; }` but bootstrap.min.css set `[hidden] { display: none !important; }` so we also need the `!important` here to be able to override the default hidden behavior on the sphinx rendered scikit-learn.org. See: https://github.com/scikit-learn/scikit-learn/issues/21755 */display: inline-block !important;position: relative;}#sk-container-id-2 div.sk-text-repr-fallback {display: none;}</style><div id=\"sk-container-id-2\" class=\"sk-top-container\"><div class=\"sk-text-repr-fallback\"><pre>GridSearchCV(cv=3,\n",
       "             estimator=Pipeline(steps=[(&#x27;preprocessor&#x27;,\n",
       "                                        ColumnTransformer(transformers=[(&#x27;num&#x27;,\n",
       "                                                                         Pipeline(steps=[(&#x27;imputer&#x27;,\n",
       "                                                                                          SimpleImputer(strategy=&#x27;median&#x27;)),\n",
       "                                                                                         (&#x27;scaler&#x27;,\n",
       "                                                                                          StandardScaler())]),\n",
       "                                                                         Index([&#x27;physhlth&#x27;, &#x27;menthlth&#x27;, &#x27;children&#x27;, &#x27;htm4&#x27;, &#x27;wtkg3&#x27;, &#x27;_bmi5&#x27;,\n",
       "       &#x27;_drnkwk1&#x27;, &#x27;_age80&#x27;, &#x27;ftjuda2_&#x27;, &#x27;frutda2_&#x27;, &#x27;grenda1_&#x27;, &#x27;frnchda_&#x27;,\n",
       "       &#x27;potada1_&#x27;, &#x27;vegeda2_&#x27;],\n",
       "      dtype=&#x27;obj...\n",
       "       &#x27;chccopd3&#x27;, &#x27;chckdny2&#x27;, &#x27;diabete4&#x27;, &#x27;_drdxar3&#x27;, &#x27;marital&#x27;, &#x27;_incomg1&#x27;,\n",
       "       &#x27;employ1&#x27;, &#x27;decide&#x27;, &#x27;diffwalk&#x27;, &#x27;diffdres&#x27;, &#x27;_smoker3&#x27;, &#x27;usenow3&#x27;,\n",
       "       &#x27;ecignow1&#x27;, &#x27;_metstat&#x27;, &#x27;_imprace&#x27;, &#x27;_educag&#x27;],\n",
       "      dtype=&#x27;object&#x27;))])),\n",
       "                                       (&#x27;sampling&#x27;,\n",
       "                                        RandomOverSampler(random_state=42)),\n",
       "                                       (&#x27;model&#x27;, LogisticRegression())]),\n",
       "             param_grid={&#x27;model__max_iter&#x27;: [1000],\n",
       "                         &#x27;sampling__sampling_strategy&#x27;: [0.25, 0.75]})</pre><b>In a Jupyter environment, please rerun this cell to show the HTML representation or trust the notebook. <br />On GitHub, the HTML representation is unable to render, please try loading this page with nbviewer.org.</b></div><div class=\"sk-container\" hidden><div class=\"sk-item sk-dashed-wrapped\"><div class=\"sk-label-container\"><div class=\"sk-label sk-toggleable\"><input class=\"sk-toggleable__control sk-hidden--visually\" id=\"sk-estimator-id-11\" type=\"checkbox\" ><label for=\"sk-estimator-id-11\" class=\"sk-toggleable__label sk-toggleable__label-arrow\">GridSearchCV</label><div class=\"sk-toggleable__content\"><pre>GridSearchCV(cv=3,\n",
       "             estimator=Pipeline(steps=[(&#x27;preprocessor&#x27;,\n",
       "                                        ColumnTransformer(transformers=[(&#x27;num&#x27;,\n",
       "                                                                         Pipeline(steps=[(&#x27;imputer&#x27;,\n",
       "                                                                                          SimpleImputer(strategy=&#x27;median&#x27;)),\n",
       "                                                                                         (&#x27;scaler&#x27;,\n",
       "                                                                                          StandardScaler())]),\n",
       "                                                                         Index([&#x27;physhlth&#x27;, &#x27;menthlth&#x27;, &#x27;children&#x27;, &#x27;htm4&#x27;, &#x27;wtkg3&#x27;, &#x27;_bmi5&#x27;,\n",
       "       &#x27;_drnkwk1&#x27;, &#x27;_age80&#x27;, &#x27;ftjuda2_&#x27;, &#x27;frutda2_&#x27;, &#x27;grenda1_&#x27;, &#x27;frnchda_&#x27;,\n",
       "       &#x27;potada1_&#x27;, &#x27;vegeda2_&#x27;],\n",
       "      dtype=&#x27;obj...\n",
       "       &#x27;chccopd3&#x27;, &#x27;chckdny2&#x27;, &#x27;diabete4&#x27;, &#x27;_drdxar3&#x27;, &#x27;marital&#x27;, &#x27;_incomg1&#x27;,\n",
       "       &#x27;employ1&#x27;, &#x27;decide&#x27;, &#x27;diffwalk&#x27;, &#x27;diffdres&#x27;, &#x27;_smoker3&#x27;, &#x27;usenow3&#x27;,\n",
       "       &#x27;ecignow1&#x27;, &#x27;_metstat&#x27;, &#x27;_imprace&#x27;, &#x27;_educag&#x27;],\n",
       "      dtype=&#x27;object&#x27;))])),\n",
       "                                       (&#x27;sampling&#x27;,\n",
       "                                        RandomOverSampler(random_state=42)),\n",
       "                                       (&#x27;model&#x27;, LogisticRegression())]),\n",
       "             param_grid={&#x27;model__max_iter&#x27;: [1000],\n",
       "                         &#x27;sampling__sampling_strategy&#x27;: [0.25, 0.75]})</pre></div></div></div><div class=\"sk-parallel\"><div class=\"sk-parallel-item\"><div class=\"sk-item\"><div class=\"sk-label-container\"><div class=\"sk-label sk-toggleable\"><input class=\"sk-toggleable__control sk-hidden--visually\" id=\"sk-estimator-id-12\" type=\"checkbox\" ><label for=\"sk-estimator-id-12\" class=\"sk-toggleable__label sk-toggleable__label-arrow\">estimator: Pipeline</label><div class=\"sk-toggleable__content\"><pre>Pipeline(steps=[(&#x27;preprocessor&#x27;,\n",
       "                 ColumnTransformer(transformers=[(&#x27;num&#x27;,\n",
       "                                                  Pipeline(steps=[(&#x27;imputer&#x27;,\n",
       "                                                                   SimpleImputer(strategy=&#x27;median&#x27;)),\n",
       "                                                                  (&#x27;scaler&#x27;,\n",
       "                                                                   StandardScaler())]),\n",
       "                                                  Index([&#x27;physhlth&#x27;, &#x27;menthlth&#x27;, &#x27;children&#x27;, &#x27;htm4&#x27;, &#x27;wtkg3&#x27;, &#x27;_bmi5&#x27;,\n",
       "       &#x27;_drnkwk1&#x27;, &#x27;_age80&#x27;, &#x27;ftjuda2_&#x27;, &#x27;frutda2_&#x27;, &#x27;grenda1_&#x27;, &#x27;frnchda_&#x27;,\n",
       "       &#x27;potada1_&#x27;, &#x27;vegeda2_&#x27;],\n",
       "      dtype=&#x27;object&#x27;)),\n",
       "                                                 (&#x27;cat&#x27;,\n",
       "                                                  Pipeline(steps...\n",
       "                                                  Index([&#x27;_sex&#x27;, &#x27;genhlth&#x27;, &#x27;addepev3&#x27;, &#x27;checkup1&#x27;, &#x27;_totinda&#x27;, &#x27;_rfhype6&#x27;,\n",
       "       &#x27;cholmed3&#x27;, &#x27;_rfchol3&#x27;, &#x27;cvdstrk3&#x27;, &#x27;_asthms1&#x27;, &#x27;chcscncr&#x27;, &#x27;chcocncr&#x27;,\n",
       "       &#x27;chccopd3&#x27;, &#x27;chckdny2&#x27;, &#x27;diabete4&#x27;, &#x27;_drdxar3&#x27;, &#x27;marital&#x27;, &#x27;_incomg1&#x27;,\n",
       "       &#x27;employ1&#x27;, &#x27;decide&#x27;, &#x27;diffwalk&#x27;, &#x27;diffdres&#x27;, &#x27;_smoker3&#x27;, &#x27;usenow3&#x27;,\n",
       "       &#x27;ecignow1&#x27;, &#x27;_metstat&#x27;, &#x27;_imprace&#x27;, &#x27;_educag&#x27;],\n",
       "      dtype=&#x27;object&#x27;))])),\n",
       "                (&#x27;sampling&#x27;, RandomOverSampler(random_state=42)),\n",
       "                (&#x27;model&#x27;, LogisticRegression())])</pre></div></div></div><div class=\"sk-serial\"><div class=\"sk-item\"><div class=\"sk-serial\"><div class=\"sk-item sk-dashed-wrapped\"><div class=\"sk-label-container\"><div class=\"sk-label sk-toggleable\"><input class=\"sk-toggleable__control sk-hidden--visually\" id=\"sk-estimator-id-13\" type=\"checkbox\" ><label for=\"sk-estimator-id-13\" class=\"sk-toggleable__label sk-toggleable__label-arrow\">preprocessor: ColumnTransformer</label><div class=\"sk-toggleable__content\"><pre>ColumnTransformer(transformers=[(&#x27;num&#x27;,\n",
       "                                 Pipeline(steps=[(&#x27;imputer&#x27;,\n",
       "                                                  SimpleImputer(strategy=&#x27;median&#x27;)),\n",
       "                                                 (&#x27;scaler&#x27;, StandardScaler())]),\n",
       "                                 Index([&#x27;physhlth&#x27;, &#x27;menthlth&#x27;, &#x27;children&#x27;, &#x27;htm4&#x27;, &#x27;wtkg3&#x27;, &#x27;_bmi5&#x27;,\n",
       "       &#x27;_drnkwk1&#x27;, &#x27;_age80&#x27;, &#x27;ftjuda2_&#x27;, &#x27;frutda2_&#x27;, &#x27;grenda1_&#x27;, &#x27;frnchda_&#x27;,\n",
       "       &#x27;potada1_&#x27;, &#x27;vegeda2_&#x27;],\n",
       "      dtype=&#x27;object&#x27;)),\n",
       "                                (&#x27;cat&#x27;,\n",
       "                                 Pipeline(steps=[(&#x27;onehot&#x27;,\n",
       "                                                  OneHotEncoder(handle...\n",
       "                                                  StandardScaler(with_mean=False,\n",
       "                                                                 with_std=False))]),\n",
       "                                 Index([&#x27;_sex&#x27;, &#x27;genhlth&#x27;, &#x27;addepev3&#x27;, &#x27;checkup1&#x27;, &#x27;_totinda&#x27;, &#x27;_rfhype6&#x27;,\n",
       "       &#x27;cholmed3&#x27;, &#x27;_rfchol3&#x27;, &#x27;cvdstrk3&#x27;, &#x27;_asthms1&#x27;, &#x27;chcscncr&#x27;, &#x27;chcocncr&#x27;,\n",
       "       &#x27;chccopd3&#x27;, &#x27;chckdny2&#x27;, &#x27;diabete4&#x27;, &#x27;_drdxar3&#x27;, &#x27;marital&#x27;, &#x27;_incomg1&#x27;,\n",
       "       &#x27;employ1&#x27;, &#x27;decide&#x27;, &#x27;diffwalk&#x27;, &#x27;diffdres&#x27;, &#x27;_smoker3&#x27;, &#x27;usenow3&#x27;,\n",
       "       &#x27;ecignow1&#x27;, &#x27;_metstat&#x27;, &#x27;_imprace&#x27;, &#x27;_educag&#x27;],\n",
       "      dtype=&#x27;object&#x27;))])</pre></div></div></div><div class=\"sk-parallel\"><div class=\"sk-parallel-item\"><div class=\"sk-item\"><div class=\"sk-label-container\"><div class=\"sk-label sk-toggleable\"><input class=\"sk-toggleable__control sk-hidden--visually\" id=\"sk-estimator-id-14\" type=\"checkbox\" ><label for=\"sk-estimator-id-14\" class=\"sk-toggleable__label sk-toggleable__label-arrow\">num</label><div class=\"sk-toggleable__content\"><pre>Index([&#x27;physhlth&#x27;, &#x27;menthlth&#x27;, &#x27;children&#x27;, &#x27;htm4&#x27;, &#x27;wtkg3&#x27;, &#x27;_bmi5&#x27;,\n",
       "       &#x27;_drnkwk1&#x27;, &#x27;_age80&#x27;, &#x27;ftjuda2_&#x27;, &#x27;frutda2_&#x27;, &#x27;grenda1_&#x27;, &#x27;frnchda_&#x27;,\n",
       "       &#x27;potada1_&#x27;, &#x27;vegeda2_&#x27;],\n",
       "      dtype=&#x27;object&#x27;)</pre></div></div></div><div class=\"sk-serial\"><div class=\"sk-item\"><div class=\"sk-serial\"><div class=\"sk-item\"><div class=\"sk-estimator sk-toggleable\"><input class=\"sk-toggleable__control sk-hidden--visually\" id=\"sk-estimator-id-15\" type=\"checkbox\" ><label for=\"sk-estimator-id-15\" class=\"sk-toggleable__label sk-toggleable__label-arrow\">SimpleImputer</label><div class=\"sk-toggleable__content\"><pre>SimpleImputer(strategy=&#x27;median&#x27;)</pre></div></div></div><div class=\"sk-item\"><div class=\"sk-estimator sk-toggleable\"><input class=\"sk-toggleable__control sk-hidden--visually\" id=\"sk-estimator-id-16\" type=\"checkbox\" ><label for=\"sk-estimator-id-16\" class=\"sk-toggleable__label sk-toggleable__label-arrow\">StandardScaler</label><div class=\"sk-toggleable__content\"><pre>StandardScaler()</pre></div></div></div></div></div></div></div></div><div class=\"sk-parallel-item\"><div class=\"sk-item\"><div class=\"sk-label-container\"><div class=\"sk-label sk-toggleable\"><input class=\"sk-toggleable__control sk-hidden--visually\" id=\"sk-estimator-id-17\" type=\"checkbox\" ><label for=\"sk-estimator-id-17\" class=\"sk-toggleable__label sk-toggleable__label-arrow\">cat</label><div class=\"sk-toggleable__content\"><pre>Index([&#x27;_sex&#x27;, &#x27;genhlth&#x27;, &#x27;addepev3&#x27;, &#x27;checkup1&#x27;, &#x27;_totinda&#x27;, &#x27;_rfhype6&#x27;,\n",
       "       &#x27;cholmed3&#x27;, &#x27;_rfchol3&#x27;, &#x27;cvdstrk3&#x27;, &#x27;_asthms1&#x27;, &#x27;chcscncr&#x27;, &#x27;chcocncr&#x27;,\n",
       "       &#x27;chccopd3&#x27;, &#x27;chckdny2&#x27;, &#x27;diabete4&#x27;, &#x27;_drdxar3&#x27;, &#x27;marital&#x27;, &#x27;_incomg1&#x27;,\n",
       "       &#x27;employ1&#x27;, &#x27;decide&#x27;, &#x27;diffwalk&#x27;, &#x27;diffdres&#x27;, &#x27;_smoker3&#x27;, &#x27;usenow3&#x27;,\n",
       "       &#x27;ecignow1&#x27;, &#x27;_metstat&#x27;, &#x27;_imprace&#x27;, &#x27;_educag&#x27;],\n",
       "      dtype=&#x27;object&#x27;)</pre></div></div></div><div class=\"sk-serial\"><div class=\"sk-item\"><div class=\"sk-serial\"><div class=\"sk-item\"><div class=\"sk-estimator sk-toggleable\"><input class=\"sk-toggleable__control sk-hidden--visually\" id=\"sk-estimator-id-18\" type=\"checkbox\" ><label for=\"sk-estimator-id-18\" class=\"sk-toggleable__label sk-toggleable__label-arrow\">OneHotEncoder</label><div class=\"sk-toggleable__content\"><pre>OneHotEncoder(handle_unknown=&#x27;ignore&#x27;)</pre></div></div></div><div class=\"sk-item\"><div class=\"sk-estimator sk-toggleable\"><input class=\"sk-toggleable__control sk-hidden--visually\" id=\"sk-estimator-id-19\" type=\"checkbox\" ><label for=\"sk-estimator-id-19\" class=\"sk-toggleable__label sk-toggleable__label-arrow\">StandardScaler</label><div class=\"sk-toggleable__content\"><pre>StandardScaler(with_mean=False, with_std=False)</pre></div></div></div></div></div></div></div></div></div></div><div class=\"sk-item\"><div class=\"sk-estimator sk-toggleable\"><input class=\"sk-toggleable__control sk-hidden--visually\" id=\"sk-estimator-id-20\" type=\"checkbox\" ><label for=\"sk-estimator-id-20\" class=\"sk-toggleable__label sk-toggleable__label-arrow\">RandomOverSampler</label><div class=\"sk-toggleable__content\"><pre>RandomOverSampler(random_state=42)</pre></div></div></div><div class=\"sk-item\"><div class=\"sk-estimator sk-toggleable\"><input class=\"sk-toggleable__control sk-hidden--visually\" id=\"sk-estimator-id-21\" type=\"checkbox\" ><label for=\"sk-estimator-id-21\" class=\"sk-toggleable__label sk-toggleable__label-arrow\">LogisticRegression</label><div class=\"sk-toggleable__content\"><pre>LogisticRegression()</pre></div></div></div></div></div></div></div></div></div></div></div></div>"
      ],
      "text/plain": [
       "GridSearchCV(cv=3,\n",
       "             estimator=Pipeline(steps=[('preprocessor',\n",
       "                                        ColumnTransformer(transformers=[('num',\n",
       "                                                                         Pipeline(steps=[('imputer',\n",
       "                                                                                          SimpleImputer(strategy='median')),\n",
       "                                                                                         ('scaler',\n",
       "                                                                                          StandardScaler())]),\n",
       "                                                                         Index(['physhlth', 'menthlth', 'children', 'htm4', 'wtkg3', '_bmi5',\n",
       "       '_drnkwk1', '_age80', 'ftjuda2_', 'frutda2_', 'grenda1_', 'frnchda_',\n",
       "       'potada1_', 'vegeda2_'],\n",
       "      dtype='obj...\n",
       "       'chccopd3', 'chckdny2', 'diabete4', '_drdxar3', 'marital', '_incomg1',\n",
       "       'employ1', 'decide', 'diffwalk', 'diffdres', '_smoker3', 'usenow3',\n",
       "       'ecignow1', '_metstat', '_imprace', '_educag'],\n",
       "      dtype='object'))])),\n",
       "                                       ('sampling',\n",
       "                                        RandomOverSampler(random_state=42)),\n",
       "                                       ('model',\n",
       "                                        LogisticRegression(random_state=42))]),\n",
       "             param_grid={'model__max_iter': [1000],\n",
       "                         'sampling__sampling_strategy': [0.25, 0.75]})"
      ]
     },
<<<<<<< HEAD
     "execution_count": 26,
=======
     "execution_count": 27,
>>>>>>> main
     "metadata": {},
     "output_type": "execute_result"
    }
   ],
   "source": [
    "gs_lg_oversample.fit(X_train, y_train)"
   ]
  },
  {
   "cell_type": "code",
<<<<<<< HEAD
   "execution_count": 27,
=======
   "execution_count": 28,
>>>>>>> main
   "id": "99f911c7-871f-4f3b-9143-64e0af6ff058",
   "metadata": {},
   "outputs": [
    {
     "name": "stdout",
     "output_type": "stream",
     "text": [
      "balanced_accuracy: 0.6714248812432339\n",
      "recall: 0.4019262391355415\n",
      "precision: 0.3784979537661763\n",
      "f1 score: 0.3898604386214754\n"
     ]
    },
    {
     "data": {
      "image/png": "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",
      "text/plain": [
       "<Figure size 640x480 with 2 Axes>"
      ]
     },
     "metadata": {},
     "output_type": "display_data"
    }
   ],
   "source": [
    "scores.append(evaluation(X_test, y_test, gs_lg_oversample.predict(X_test), gs_lg_oversample))"
   ]
  },
  {
   "cell_type": "markdown",
   "id": "5e7965c1-1b72-4c1b-a2f3-54782952b653",
   "metadata": {},
   "source": [
    "Once I implemented oversampling on the minority class, there was an improvement in balanced accuracy. However, the recall value remained low."
   ]
  },
  {
   "cell_type": "code",
<<<<<<< HEAD
   "execution_count": 28,
=======
   "execution_count": 29,
>>>>>>> main
   "id": "ad2f2841-f9b6-4776-9693-470c758841ee",
   "metadata": {},
   "outputs": [
    {
     "data": {
      "text/html": [
       "<style>#sk-container-id-3 {color: black;background-color: white;}#sk-container-id-3 pre{padding: 0;}#sk-container-id-3 div.sk-toggleable {background-color: white;}#sk-container-id-3 label.sk-toggleable__label {cursor: pointer;display: block;width: 100%;margin-bottom: 0;padding: 0.3em;box-sizing: border-box;text-align: center;}#sk-container-id-3 label.sk-toggleable__label-arrow:before {content: \"▸\";float: left;margin-right: 0.25em;color: #696969;}#sk-container-id-3 label.sk-toggleable__label-arrow:hover:before {color: black;}#sk-container-id-3 div.sk-estimator:hover label.sk-toggleable__label-arrow:before {color: black;}#sk-container-id-3 div.sk-toggleable__content {max-height: 0;max-width: 0;overflow: hidden;text-align: left;background-color: #f0f8ff;}#sk-container-id-3 div.sk-toggleable__content pre {margin: 0.2em;color: black;border-radius: 0.25em;background-color: #f0f8ff;}#sk-container-id-3 input.sk-toggleable__control:checked~div.sk-toggleable__content {max-height: 200px;max-width: 100%;overflow: auto;}#sk-container-id-3 input.sk-toggleable__control:checked~label.sk-toggleable__label-arrow:before {content: \"▾\";}#sk-container-id-3 div.sk-estimator input.sk-toggleable__control:checked~label.sk-toggleable__label {background-color: #d4ebff;}#sk-container-id-3 div.sk-label input.sk-toggleable__control:checked~label.sk-toggleable__label {background-color: #d4ebff;}#sk-container-id-3 input.sk-hidden--visually {border: 0;clip: rect(1px 1px 1px 1px);clip: rect(1px, 1px, 1px, 1px);height: 1px;margin: -1px;overflow: hidden;padding: 0;position: absolute;width: 1px;}#sk-container-id-3 div.sk-estimator {font-family: monospace;background-color: #f0f8ff;border: 1px dotted black;border-radius: 0.25em;box-sizing: border-box;margin-bottom: 0.5em;}#sk-container-id-3 div.sk-estimator:hover {background-color: #d4ebff;}#sk-container-id-3 div.sk-parallel-item::after {content: \"\";width: 100%;border-bottom: 1px solid gray;flex-grow: 1;}#sk-container-id-3 div.sk-label:hover label.sk-toggleable__label {background-color: #d4ebff;}#sk-container-id-3 div.sk-serial::before {content: \"\";position: absolute;border-left: 1px solid gray;box-sizing: border-box;top: 0;bottom: 0;left: 50%;z-index: 0;}#sk-container-id-3 div.sk-serial {display: flex;flex-direction: column;align-items: center;background-color: white;padding-right: 0.2em;padding-left: 0.2em;position: relative;}#sk-container-id-3 div.sk-item {position: relative;z-index: 1;}#sk-container-id-3 div.sk-parallel {display: flex;align-items: stretch;justify-content: center;background-color: white;position: relative;}#sk-container-id-3 div.sk-item::before, #sk-container-id-3 div.sk-parallel-item::before {content: \"\";position: absolute;border-left: 1px solid gray;box-sizing: border-box;top: 0;bottom: 0;left: 50%;z-index: -1;}#sk-container-id-3 div.sk-parallel-item {display: flex;flex-direction: column;z-index: 1;position: relative;background-color: white;}#sk-container-id-3 div.sk-parallel-item:first-child::after {align-self: flex-end;width: 50%;}#sk-container-id-3 div.sk-parallel-item:last-child::after {align-self: flex-start;width: 50%;}#sk-container-id-3 div.sk-parallel-item:only-child::after {width: 0;}#sk-container-id-3 div.sk-dashed-wrapped {border: 1px dashed gray;margin: 0 0.4em 0.5em 0.4em;box-sizing: border-box;padding-bottom: 0.4em;background-color: white;}#sk-container-id-3 div.sk-label label {font-family: monospace;font-weight: bold;display: inline-block;line-height: 1.2em;}#sk-container-id-3 div.sk-label-container {text-align: center;}#sk-container-id-3 div.sk-container {/* jupyter's `normalize.less` sets `[hidden] { display: none; }` but bootstrap.min.css set `[hidden] { display: none !important; }` so we also need the `!important` here to be able to override the default hidden behavior on the sphinx rendered scikit-learn.org. See: https://github.com/scikit-learn/scikit-learn/issues/21755 */display: inline-block !important;position: relative;}#sk-container-id-3 div.sk-text-repr-fallback {display: none;}</style><div id=\"sk-container-id-3\" class=\"sk-top-container\"><div class=\"sk-text-repr-fallback\"><pre>GridSearchCV(cv=3,\n",
       "             estimator=Pipeline(steps=[(&#x27;preprocessor&#x27;,\n",
       "                                        ColumnTransformer(transformers=[(&#x27;num&#x27;,\n",
       "                                                                         Pipeline(steps=[(&#x27;imputer&#x27;,\n",
       "                                                                                          SimpleImputer(strategy=&#x27;median&#x27;)),\n",
       "                                                                                         (&#x27;scaler&#x27;,\n",
       "                                                                                          StandardScaler())]),\n",
       "                                                                         Index([&#x27;physhlth&#x27;, &#x27;menthlth&#x27;, &#x27;children&#x27;, &#x27;htm4&#x27;, &#x27;wtkg3&#x27;, &#x27;_bmi5&#x27;,\n",
       "       &#x27;_drnkwk1&#x27;, &#x27;_age80&#x27;, &#x27;ftjuda2_&#x27;, &#x27;frutda2_&#x27;, &#x27;grenda1_&#x27;, &#x27;frnchda_&#x27;,\n",
       "       &#x27;potada1_&#x27;, &#x27;vegeda2_&#x27;],\n",
       "      dtype=&#x27;obj...\n",
       "       &#x27;chccopd3&#x27;, &#x27;chckdny2&#x27;, &#x27;diabete4&#x27;, &#x27;_drdxar3&#x27;, &#x27;marital&#x27;, &#x27;_incomg1&#x27;,\n",
       "       &#x27;employ1&#x27;, &#x27;decide&#x27;, &#x27;diffwalk&#x27;, &#x27;diffdres&#x27;, &#x27;_smoker3&#x27;, &#x27;usenow3&#x27;,\n",
       "       &#x27;ecignow1&#x27;, &#x27;_metstat&#x27;, &#x27;_imprace&#x27;, &#x27;_educag&#x27;],\n",
       "      dtype=&#x27;object&#x27;))])),\n",
       "                                       (&#x27;sampling&#x27;,\n",
       "                                        RandomOverSampler(random_state=42)),\n",
       "                                       (&#x27;model&#x27;, LogisticRegression())]),\n",
       "             param_grid={&#x27;model__max_iter&#x27;: [1000],\n",
       "                         &#x27;sampling__sampling_strategy&#x27;: [0.25, 0.75]},\n",
       "             scoring=&#x27;balanced_accuracy&#x27;)</pre><b>In a Jupyter environment, please rerun this cell to show the HTML representation or trust the notebook. <br />On GitHub, the HTML representation is unable to render, please try loading this page with nbviewer.org.</b></div><div class=\"sk-container\" hidden><div class=\"sk-item sk-dashed-wrapped\"><div class=\"sk-label-container\"><div class=\"sk-label sk-toggleable\"><input class=\"sk-toggleable__control sk-hidden--visually\" id=\"sk-estimator-id-22\" type=\"checkbox\" ><label for=\"sk-estimator-id-22\" class=\"sk-toggleable__label sk-toggleable__label-arrow\">GridSearchCV</label><div class=\"sk-toggleable__content\"><pre>GridSearchCV(cv=3,\n",
       "             estimator=Pipeline(steps=[(&#x27;preprocessor&#x27;,\n",
       "                                        ColumnTransformer(transformers=[(&#x27;num&#x27;,\n",
       "                                                                         Pipeline(steps=[(&#x27;imputer&#x27;,\n",
       "                                                                                          SimpleImputer(strategy=&#x27;median&#x27;)),\n",
       "                                                                                         (&#x27;scaler&#x27;,\n",
       "                                                                                          StandardScaler())]),\n",
       "                                                                         Index([&#x27;physhlth&#x27;, &#x27;menthlth&#x27;, &#x27;children&#x27;, &#x27;htm4&#x27;, &#x27;wtkg3&#x27;, &#x27;_bmi5&#x27;,\n",
       "       &#x27;_drnkwk1&#x27;, &#x27;_age80&#x27;, &#x27;ftjuda2_&#x27;, &#x27;frutda2_&#x27;, &#x27;grenda1_&#x27;, &#x27;frnchda_&#x27;,\n",
       "       &#x27;potada1_&#x27;, &#x27;vegeda2_&#x27;],\n",
       "      dtype=&#x27;obj...\n",
       "       &#x27;chccopd3&#x27;, &#x27;chckdny2&#x27;, &#x27;diabete4&#x27;, &#x27;_drdxar3&#x27;, &#x27;marital&#x27;, &#x27;_incomg1&#x27;,\n",
       "       &#x27;employ1&#x27;, &#x27;decide&#x27;, &#x27;diffwalk&#x27;, &#x27;diffdres&#x27;, &#x27;_smoker3&#x27;, &#x27;usenow3&#x27;,\n",
       "       &#x27;ecignow1&#x27;, &#x27;_metstat&#x27;, &#x27;_imprace&#x27;, &#x27;_educag&#x27;],\n",
       "      dtype=&#x27;object&#x27;))])),\n",
       "                                       (&#x27;sampling&#x27;,\n",
       "                                        RandomOverSampler(random_state=42)),\n",
       "                                       (&#x27;model&#x27;, LogisticRegression())]),\n",
       "             param_grid={&#x27;model__max_iter&#x27;: [1000],\n",
       "                         &#x27;sampling__sampling_strategy&#x27;: [0.25, 0.75]},\n",
       "             scoring=&#x27;balanced_accuracy&#x27;)</pre></div></div></div><div class=\"sk-parallel\"><div class=\"sk-parallel-item\"><div class=\"sk-item\"><div class=\"sk-label-container\"><div class=\"sk-label sk-toggleable\"><input class=\"sk-toggleable__control sk-hidden--visually\" id=\"sk-estimator-id-23\" type=\"checkbox\" ><label for=\"sk-estimator-id-23\" class=\"sk-toggleable__label sk-toggleable__label-arrow\">estimator: Pipeline</label><div class=\"sk-toggleable__content\"><pre>Pipeline(steps=[(&#x27;preprocessor&#x27;,\n",
       "                 ColumnTransformer(transformers=[(&#x27;num&#x27;,\n",
       "                                                  Pipeline(steps=[(&#x27;imputer&#x27;,\n",
       "                                                                   SimpleImputer(strategy=&#x27;median&#x27;)),\n",
       "                                                                  (&#x27;scaler&#x27;,\n",
       "                                                                   StandardScaler())]),\n",
       "                                                  Index([&#x27;physhlth&#x27;, &#x27;menthlth&#x27;, &#x27;children&#x27;, &#x27;htm4&#x27;, &#x27;wtkg3&#x27;, &#x27;_bmi5&#x27;,\n",
       "       &#x27;_drnkwk1&#x27;, &#x27;_age80&#x27;, &#x27;ftjuda2_&#x27;, &#x27;frutda2_&#x27;, &#x27;grenda1_&#x27;, &#x27;frnchda_&#x27;,\n",
       "       &#x27;potada1_&#x27;, &#x27;vegeda2_&#x27;],\n",
       "      dtype=&#x27;object&#x27;)),\n",
       "                                                 (&#x27;cat&#x27;,\n",
       "                                                  Pipeline(steps...\n",
       "                                                  Index([&#x27;_sex&#x27;, &#x27;genhlth&#x27;, &#x27;addepev3&#x27;, &#x27;checkup1&#x27;, &#x27;_totinda&#x27;, &#x27;_rfhype6&#x27;,\n",
       "       &#x27;cholmed3&#x27;, &#x27;_rfchol3&#x27;, &#x27;cvdstrk3&#x27;, &#x27;_asthms1&#x27;, &#x27;chcscncr&#x27;, &#x27;chcocncr&#x27;,\n",
       "       &#x27;chccopd3&#x27;, &#x27;chckdny2&#x27;, &#x27;diabete4&#x27;, &#x27;_drdxar3&#x27;, &#x27;marital&#x27;, &#x27;_incomg1&#x27;,\n",
       "       &#x27;employ1&#x27;, &#x27;decide&#x27;, &#x27;diffwalk&#x27;, &#x27;diffdres&#x27;, &#x27;_smoker3&#x27;, &#x27;usenow3&#x27;,\n",
       "       &#x27;ecignow1&#x27;, &#x27;_metstat&#x27;, &#x27;_imprace&#x27;, &#x27;_educag&#x27;],\n",
       "      dtype=&#x27;object&#x27;))])),\n",
       "                (&#x27;sampling&#x27;, RandomOverSampler(random_state=42)),\n",
       "                (&#x27;model&#x27;, LogisticRegression())])</pre></div></div></div><div class=\"sk-serial\"><div class=\"sk-item\"><div class=\"sk-serial\"><div class=\"sk-item sk-dashed-wrapped\"><div class=\"sk-label-container\"><div class=\"sk-label sk-toggleable\"><input class=\"sk-toggleable__control sk-hidden--visually\" id=\"sk-estimator-id-24\" type=\"checkbox\" ><label for=\"sk-estimator-id-24\" class=\"sk-toggleable__label sk-toggleable__label-arrow\">preprocessor: ColumnTransformer</label><div class=\"sk-toggleable__content\"><pre>ColumnTransformer(transformers=[(&#x27;num&#x27;,\n",
       "                                 Pipeline(steps=[(&#x27;imputer&#x27;,\n",
       "                                                  SimpleImputer(strategy=&#x27;median&#x27;)),\n",
       "                                                 (&#x27;scaler&#x27;, StandardScaler())]),\n",
       "                                 Index([&#x27;physhlth&#x27;, &#x27;menthlth&#x27;, &#x27;children&#x27;, &#x27;htm4&#x27;, &#x27;wtkg3&#x27;, &#x27;_bmi5&#x27;,\n",
       "       &#x27;_drnkwk1&#x27;, &#x27;_age80&#x27;, &#x27;ftjuda2_&#x27;, &#x27;frutda2_&#x27;, &#x27;grenda1_&#x27;, &#x27;frnchda_&#x27;,\n",
       "       &#x27;potada1_&#x27;, &#x27;vegeda2_&#x27;],\n",
       "      dtype=&#x27;object&#x27;)),\n",
       "                                (&#x27;cat&#x27;,\n",
       "                                 Pipeline(steps=[(&#x27;onehot&#x27;,\n",
       "                                                  OneHotEncoder(handle...\n",
       "                                                  StandardScaler(with_mean=False,\n",
       "                                                                 with_std=False))]),\n",
       "                                 Index([&#x27;_sex&#x27;, &#x27;genhlth&#x27;, &#x27;addepev3&#x27;, &#x27;checkup1&#x27;, &#x27;_totinda&#x27;, &#x27;_rfhype6&#x27;,\n",
       "       &#x27;cholmed3&#x27;, &#x27;_rfchol3&#x27;, &#x27;cvdstrk3&#x27;, &#x27;_asthms1&#x27;, &#x27;chcscncr&#x27;, &#x27;chcocncr&#x27;,\n",
       "       &#x27;chccopd3&#x27;, &#x27;chckdny2&#x27;, &#x27;diabete4&#x27;, &#x27;_drdxar3&#x27;, &#x27;marital&#x27;, &#x27;_incomg1&#x27;,\n",
       "       &#x27;employ1&#x27;, &#x27;decide&#x27;, &#x27;diffwalk&#x27;, &#x27;diffdres&#x27;, &#x27;_smoker3&#x27;, &#x27;usenow3&#x27;,\n",
       "       &#x27;ecignow1&#x27;, &#x27;_metstat&#x27;, &#x27;_imprace&#x27;, &#x27;_educag&#x27;],\n",
       "      dtype=&#x27;object&#x27;))])</pre></div></div></div><div class=\"sk-parallel\"><div class=\"sk-parallel-item\"><div class=\"sk-item\"><div class=\"sk-label-container\"><div class=\"sk-label sk-toggleable\"><input class=\"sk-toggleable__control sk-hidden--visually\" id=\"sk-estimator-id-25\" type=\"checkbox\" ><label for=\"sk-estimator-id-25\" class=\"sk-toggleable__label sk-toggleable__label-arrow\">num</label><div class=\"sk-toggleable__content\"><pre>Index([&#x27;physhlth&#x27;, &#x27;menthlth&#x27;, &#x27;children&#x27;, &#x27;htm4&#x27;, &#x27;wtkg3&#x27;, &#x27;_bmi5&#x27;,\n",
       "       &#x27;_drnkwk1&#x27;, &#x27;_age80&#x27;, &#x27;ftjuda2_&#x27;, &#x27;frutda2_&#x27;, &#x27;grenda1_&#x27;, &#x27;frnchda_&#x27;,\n",
       "       &#x27;potada1_&#x27;, &#x27;vegeda2_&#x27;],\n",
       "      dtype=&#x27;object&#x27;)</pre></div></div></div><div class=\"sk-serial\"><div class=\"sk-item\"><div class=\"sk-serial\"><div class=\"sk-item\"><div class=\"sk-estimator sk-toggleable\"><input class=\"sk-toggleable__control sk-hidden--visually\" id=\"sk-estimator-id-26\" type=\"checkbox\" ><label for=\"sk-estimator-id-26\" class=\"sk-toggleable__label sk-toggleable__label-arrow\">SimpleImputer</label><div class=\"sk-toggleable__content\"><pre>SimpleImputer(strategy=&#x27;median&#x27;)</pre></div></div></div><div class=\"sk-item\"><div class=\"sk-estimator sk-toggleable\"><input class=\"sk-toggleable__control sk-hidden--visually\" id=\"sk-estimator-id-27\" type=\"checkbox\" ><label for=\"sk-estimator-id-27\" class=\"sk-toggleable__label sk-toggleable__label-arrow\">StandardScaler</label><div class=\"sk-toggleable__content\"><pre>StandardScaler()</pre></div></div></div></div></div></div></div></div><div class=\"sk-parallel-item\"><div class=\"sk-item\"><div class=\"sk-label-container\"><div class=\"sk-label sk-toggleable\"><input class=\"sk-toggleable__control sk-hidden--visually\" id=\"sk-estimator-id-28\" type=\"checkbox\" ><label for=\"sk-estimator-id-28\" class=\"sk-toggleable__label sk-toggleable__label-arrow\">cat</label><div class=\"sk-toggleable__content\"><pre>Index([&#x27;_sex&#x27;, &#x27;genhlth&#x27;, &#x27;addepev3&#x27;, &#x27;checkup1&#x27;, &#x27;_totinda&#x27;, &#x27;_rfhype6&#x27;,\n",
       "       &#x27;cholmed3&#x27;, &#x27;_rfchol3&#x27;, &#x27;cvdstrk3&#x27;, &#x27;_asthms1&#x27;, &#x27;chcscncr&#x27;, &#x27;chcocncr&#x27;,\n",
       "       &#x27;chccopd3&#x27;, &#x27;chckdny2&#x27;, &#x27;diabete4&#x27;, &#x27;_drdxar3&#x27;, &#x27;marital&#x27;, &#x27;_incomg1&#x27;,\n",
       "       &#x27;employ1&#x27;, &#x27;decide&#x27;, &#x27;diffwalk&#x27;, &#x27;diffdres&#x27;, &#x27;_smoker3&#x27;, &#x27;usenow3&#x27;,\n",
       "       &#x27;ecignow1&#x27;, &#x27;_metstat&#x27;, &#x27;_imprace&#x27;, &#x27;_educag&#x27;],\n",
       "      dtype=&#x27;object&#x27;)</pre></div></div></div><div class=\"sk-serial\"><div class=\"sk-item\"><div class=\"sk-serial\"><div class=\"sk-item\"><div class=\"sk-estimator sk-toggleable\"><input class=\"sk-toggleable__control sk-hidden--visually\" id=\"sk-estimator-id-29\" type=\"checkbox\" ><label for=\"sk-estimator-id-29\" class=\"sk-toggleable__label sk-toggleable__label-arrow\">OneHotEncoder</label><div class=\"sk-toggleable__content\"><pre>OneHotEncoder(handle_unknown=&#x27;ignore&#x27;)</pre></div></div></div><div class=\"sk-item\"><div class=\"sk-estimator sk-toggleable\"><input class=\"sk-toggleable__control sk-hidden--visually\" id=\"sk-estimator-id-30\" type=\"checkbox\" ><label for=\"sk-estimator-id-30\" class=\"sk-toggleable__label sk-toggleable__label-arrow\">StandardScaler</label><div class=\"sk-toggleable__content\"><pre>StandardScaler(with_mean=False, with_std=False)</pre></div></div></div></div></div></div></div></div></div></div><div class=\"sk-item\"><div class=\"sk-estimator sk-toggleable\"><input class=\"sk-toggleable__control sk-hidden--visually\" id=\"sk-estimator-id-31\" type=\"checkbox\" ><label for=\"sk-estimator-id-31\" class=\"sk-toggleable__label sk-toggleable__label-arrow\">RandomOverSampler</label><div class=\"sk-toggleable__content\"><pre>RandomOverSampler(random_state=42)</pre></div></div></div><div class=\"sk-item\"><div class=\"sk-estimator sk-toggleable\"><input class=\"sk-toggleable__control sk-hidden--visually\" id=\"sk-estimator-id-32\" type=\"checkbox\" ><label for=\"sk-estimator-id-32\" class=\"sk-toggleable__label sk-toggleable__label-arrow\">LogisticRegression</label><div class=\"sk-toggleable__content\"><pre>LogisticRegression()</pre></div></div></div></div></div></div></div></div></div></div></div></div>"
      ],
      "text/plain": [
       "GridSearchCV(cv=3,\n",
       "             estimator=Pipeline(steps=[('preprocessor',\n",
       "                                        ColumnTransformer(transformers=[('num',\n",
       "                                                                         Pipeline(steps=[('imputer',\n",
       "                                                                                          SimpleImputer(strategy='median')),\n",
       "                                                                                         ('scaler',\n",
       "                                                                                          StandardScaler())]),\n",
       "                                                                         Index(['physhlth', 'menthlth', 'children', 'htm4', 'wtkg3', '_bmi5',\n",
       "       '_drnkwk1', '_age80', 'ftjuda2_', 'frutda2_', 'grenda1_', 'frnchda_',\n",
       "       'potada1_', 'vegeda2_'],\n",
       "      dtype='obj...\n",
       "       'chccopd3', 'chckdny2', 'diabete4', '_drdxar3', 'marital', '_incomg1',\n",
       "       'employ1', 'decide', 'diffwalk', 'diffdres', '_smoker3', 'usenow3',\n",
       "       'ecignow1', '_metstat', '_imprace', '_educag'],\n",
       "      dtype='object'))])),\n",
       "                                       ('sampling',\n",
       "                                        RandomOverSampler(random_state=42)),\n",
       "                                       ('model',\n",
       "                                        LogisticRegression(random_state=42))]),\n",
       "             param_grid={'model__max_iter': [1000],\n",
       "                         'sampling__sampling_strategy': [0.25, 0.75]},\n",
       "             scoring='balanced_accuracy')"
      ]
     },
<<<<<<< HEAD
     "execution_count": 28,
=======
     "execution_count": 29,
>>>>>>> main
     "metadata": {},
     "output_type": "execute_result"
    }
   ],
   "source": [
    "# Change the scoring metric to balanced-accuracy\n",
    "gs_lg_oversample_bcc = GridSearchCV(pipe_oversample, param_grid=lg_oversample_params, cv = 3, scoring='balanced_accuracy')\n",
    "gs_lg_oversample_bcc.fit(X_train, y_train)"
   ]
  },
  {
   "cell_type": "code",
<<<<<<< HEAD
   "execution_count": 29,
=======
   "execution_count": 30,
>>>>>>> main
   "id": "d2781164-468a-4d57-a40e-fc7769e91370",
   "metadata": {},
   "outputs": [
    {
     "name": "stdout",
     "output_type": "stream",
     "text": [
      "balanced_accuracy: 0.7763016650089005\n",
      "recall: 0.7474747474747475\n",
      "precision: 0.25559259408008356\n",
      "f1 score: 0.3809295783078443\n"
     ]
    },
    {
     "data": {
      "image/png": "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",
      "text/plain": [
       "<Figure size 640x480 with 2 Axes>"
      ]
     },
     "metadata": {},
     "output_type": "display_data"
    }
   ],
   "source": [
    "scores.append(evaluation(X_test, y_test, gs_lg_oversample_bcc.predict(X_test), gs_lg_oversample_bcc))"
   ]
  },
  {
   "cell_type": "markdown",
   "id": "326074cf-60ca-45da-8a65-078d3943be72",
   "metadata": {},
   "source": [
    "Compare to previous models, Once I adjusted the metric to balanced accuracy, the recall saw a significant increase."
   ]
  },
  {
   "cell_type": "markdown",
   "id": "e31cdbc6-63a8-442e-a146-e577d2b1ecf4",
   "metadata": {},
   "source": [
    "### SMOTE"
   ]
  },
  {
   "cell_type": "code",
<<<<<<< HEAD
   "execution_count": 30,
=======
   "execution_count": 31,
>>>>>>> main
   "id": "971a17f8-8ef4-489d-843c-767f033f93ea",
   "metadata": {},
   "outputs": [],
   "source": [
    "pipe_smote = ImbPipeline(steps = [\n",
    "    ('preprocessor', preprocessor),\n",
    "    ('sampling', SMOTE(random_state = 42)),\n",
    "    ('model', LogisticRegression(random_state=42))\n",
    "])"
   ]
  },
  {
   "cell_type": "code",
<<<<<<< HEAD
   "execution_count": 31,
=======
   "execution_count": 32,
>>>>>>> main
   "id": "4f52aca4-5a3b-40a8-b064-5d825c7d7b59",
   "metadata": {},
   "outputs": [],
   "source": [
    "lg_smote_params = {\n",
    "    'model__max_iter': [1000]\n",
    "}"
   ]
  },
  {
   "cell_type": "code",
<<<<<<< HEAD
   "execution_count": 32,
=======
   "execution_count": 33,
>>>>>>> main
   "id": "7383579f-54b4-4e62-9cdd-e407f011b7dd",
   "metadata": {},
   "outputs": [
    {
     "data": {
      "text/html": [
       "<style>#sk-container-id-4 {color: black;background-color: white;}#sk-container-id-4 pre{padding: 0;}#sk-container-id-4 div.sk-toggleable {background-color: white;}#sk-container-id-4 label.sk-toggleable__label {cursor: pointer;display: block;width: 100%;margin-bottom: 0;padding: 0.3em;box-sizing: border-box;text-align: center;}#sk-container-id-4 label.sk-toggleable__label-arrow:before {content: \"▸\";float: left;margin-right: 0.25em;color: #696969;}#sk-container-id-4 label.sk-toggleable__label-arrow:hover:before {color: black;}#sk-container-id-4 div.sk-estimator:hover label.sk-toggleable__label-arrow:before {color: black;}#sk-container-id-4 div.sk-toggleable__content {max-height: 0;max-width: 0;overflow: hidden;text-align: left;background-color: #f0f8ff;}#sk-container-id-4 div.sk-toggleable__content pre {margin: 0.2em;color: black;border-radius: 0.25em;background-color: #f0f8ff;}#sk-container-id-4 input.sk-toggleable__control:checked~div.sk-toggleable__content {max-height: 200px;max-width: 100%;overflow: auto;}#sk-container-id-4 input.sk-toggleable__control:checked~label.sk-toggleable__label-arrow:before {content: \"▾\";}#sk-container-id-4 div.sk-estimator input.sk-toggleable__control:checked~label.sk-toggleable__label {background-color: #d4ebff;}#sk-container-id-4 div.sk-label input.sk-toggleable__control:checked~label.sk-toggleable__label {background-color: #d4ebff;}#sk-container-id-4 input.sk-hidden--visually {border: 0;clip: rect(1px 1px 1px 1px);clip: rect(1px, 1px, 1px, 1px);height: 1px;margin: -1px;overflow: hidden;padding: 0;position: absolute;width: 1px;}#sk-container-id-4 div.sk-estimator {font-family: monospace;background-color: #f0f8ff;border: 1px dotted black;border-radius: 0.25em;box-sizing: border-box;margin-bottom: 0.5em;}#sk-container-id-4 div.sk-estimator:hover {background-color: #d4ebff;}#sk-container-id-4 div.sk-parallel-item::after {content: \"\";width: 100%;border-bottom: 1px solid gray;flex-grow: 1;}#sk-container-id-4 div.sk-label:hover label.sk-toggleable__label {background-color: #d4ebff;}#sk-container-id-4 div.sk-serial::before {content: \"\";position: absolute;border-left: 1px solid gray;box-sizing: border-box;top: 0;bottom: 0;left: 50%;z-index: 0;}#sk-container-id-4 div.sk-serial {display: flex;flex-direction: column;align-items: center;background-color: white;padding-right: 0.2em;padding-left: 0.2em;position: relative;}#sk-container-id-4 div.sk-item {position: relative;z-index: 1;}#sk-container-id-4 div.sk-parallel {display: flex;align-items: stretch;justify-content: center;background-color: white;position: relative;}#sk-container-id-4 div.sk-item::before, #sk-container-id-4 div.sk-parallel-item::before {content: \"\";position: absolute;border-left: 1px solid gray;box-sizing: border-box;top: 0;bottom: 0;left: 50%;z-index: -1;}#sk-container-id-4 div.sk-parallel-item {display: flex;flex-direction: column;z-index: 1;position: relative;background-color: white;}#sk-container-id-4 div.sk-parallel-item:first-child::after {align-self: flex-end;width: 50%;}#sk-container-id-4 div.sk-parallel-item:last-child::after {align-self: flex-start;width: 50%;}#sk-container-id-4 div.sk-parallel-item:only-child::after {width: 0;}#sk-container-id-4 div.sk-dashed-wrapped {border: 1px dashed gray;margin: 0 0.4em 0.5em 0.4em;box-sizing: border-box;padding-bottom: 0.4em;background-color: white;}#sk-container-id-4 div.sk-label label {font-family: monospace;font-weight: bold;display: inline-block;line-height: 1.2em;}#sk-container-id-4 div.sk-label-container {text-align: center;}#sk-container-id-4 div.sk-container {/* jupyter's `normalize.less` sets `[hidden] { display: none; }` but bootstrap.min.css set `[hidden] { display: none !important; }` so we also need the `!important` here to be able to override the default hidden behavior on the sphinx rendered scikit-learn.org. See: https://github.com/scikit-learn/scikit-learn/issues/21755 */display: inline-block !important;position: relative;}#sk-container-id-4 div.sk-text-repr-fallback {display: none;}</style><div id=\"sk-container-id-4\" class=\"sk-top-container\"><div class=\"sk-text-repr-fallback\"><pre>GridSearchCV(cv=3,\n",
       "             estimator=Pipeline(steps=[(&#x27;preprocessor&#x27;,\n",
       "                                        ColumnTransformer(transformers=[(&#x27;num&#x27;,\n",
       "                                                                         Pipeline(steps=[(&#x27;imputer&#x27;,\n",
       "                                                                                          SimpleImputer(strategy=&#x27;median&#x27;)),\n",
       "                                                                                         (&#x27;scaler&#x27;,\n",
       "                                                                                          StandardScaler())]),\n",
       "                                                                         Index([&#x27;physhlth&#x27;, &#x27;menthlth&#x27;, &#x27;children&#x27;, &#x27;htm4&#x27;, &#x27;wtkg3&#x27;, &#x27;_bmi5&#x27;,\n",
       "       &#x27;_drnkwk1&#x27;, &#x27;_age80&#x27;, &#x27;ftjuda2_&#x27;, &#x27;frutda2_&#x27;, &#x27;grenda1_&#x27;, &#x27;frnchda_&#x27;,\n",
       "       &#x27;potada1_&#x27;, &#x27;vegeda2_&#x27;],\n",
       "      dtype=&#x27;obj...\n",
       "       &#x27;cholmed3&#x27;, &#x27;_rfchol3&#x27;, &#x27;cvdstrk3&#x27;, &#x27;_asthms1&#x27;, &#x27;chcscncr&#x27;, &#x27;chcocncr&#x27;,\n",
       "       &#x27;chccopd3&#x27;, &#x27;chckdny2&#x27;, &#x27;diabete4&#x27;, &#x27;_drdxar3&#x27;, &#x27;marital&#x27;, &#x27;_incomg1&#x27;,\n",
       "       &#x27;employ1&#x27;, &#x27;decide&#x27;, &#x27;diffwalk&#x27;, &#x27;diffdres&#x27;, &#x27;_smoker3&#x27;, &#x27;usenow3&#x27;,\n",
       "       &#x27;ecignow1&#x27;, &#x27;_metstat&#x27;, &#x27;_imprace&#x27;, &#x27;_educag&#x27;],\n",
       "      dtype=&#x27;object&#x27;))])),\n",
       "                                       (&#x27;sampling&#x27;, SMOTE(random_state=42)),\n",
       "                                       (&#x27;model&#x27;, LogisticRegression())]),\n",
       "             param_grid={&#x27;model__max_iter&#x27;: [1000]},\n",
       "             scoring=&#x27;balanced_accuracy&#x27;)</pre><b>In a Jupyter environment, please rerun this cell to show the HTML representation or trust the notebook. <br />On GitHub, the HTML representation is unable to render, please try loading this page with nbviewer.org.</b></div><div class=\"sk-container\" hidden><div class=\"sk-item sk-dashed-wrapped\"><div class=\"sk-label-container\"><div class=\"sk-label sk-toggleable\"><input class=\"sk-toggleable__control sk-hidden--visually\" id=\"sk-estimator-id-33\" type=\"checkbox\" ><label for=\"sk-estimator-id-33\" class=\"sk-toggleable__label sk-toggleable__label-arrow\">GridSearchCV</label><div class=\"sk-toggleable__content\"><pre>GridSearchCV(cv=3,\n",
       "             estimator=Pipeline(steps=[(&#x27;preprocessor&#x27;,\n",
       "                                        ColumnTransformer(transformers=[(&#x27;num&#x27;,\n",
       "                                                                         Pipeline(steps=[(&#x27;imputer&#x27;,\n",
       "                                                                                          SimpleImputer(strategy=&#x27;median&#x27;)),\n",
       "                                                                                         (&#x27;scaler&#x27;,\n",
       "                                                                                          StandardScaler())]),\n",
       "                                                                         Index([&#x27;physhlth&#x27;, &#x27;menthlth&#x27;, &#x27;children&#x27;, &#x27;htm4&#x27;, &#x27;wtkg3&#x27;, &#x27;_bmi5&#x27;,\n",
       "       &#x27;_drnkwk1&#x27;, &#x27;_age80&#x27;, &#x27;ftjuda2_&#x27;, &#x27;frutda2_&#x27;, &#x27;grenda1_&#x27;, &#x27;frnchda_&#x27;,\n",
       "       &#x27;potada1_&#x27;, &#x27;vegeda2_&#x27;],\n",
       "      dtype=&#x27;obj...\n",
       "       &#x27;cholmed3&#x27;, &#x27;_rfchol3&#x27;, &#x27;cvdstrk3&#x27;, &#x27;_asthms1&#x27;, &#x27;chcscncr&#x27;, &#x27;chcocncr&#x27;,\n",
       "       &#x27;chccopd3&#x27;, &#x27;chckdny2&#x27;, &#x27;diabete4&#x27;, &#x27;_drdxar3&#x27;, &#x27;marital&#x27;, &#x27;_incomg1&#x27;,\n",
       "       &#x27;employ1&#x27;, &#x27;decide&#x27;, &#x27;diffwalk&#x27;, &#x27;diffdres&#x27;, &#x27;_smoker3&#x27;, &#x27;usenow3&#x27;,\n",
       "       &#x27;ecignow1&#x27;, &#x27;_metstat&#x27;, &#x27;_imprace&#x27;, &#x27;_educag&#x27;],\n",
       "      dtype=&#x27;object&#x27;))])),\n",
       "                                       (&#x27;sampling&#x27;, SMOTE(random_state=42)),\n",
       "                                       (&#x27;model&#x27;, LogisticRegression())]),\n",
       "             param_grid={&#x27;model__max_iter&#x27;: [1000]},\n",
       "             scoring=&#x27;balanced_accuracy&#x27;)</pre></div></div></div><div class=\"sk-parallel\"><div class=\"sk-parallel-item\"><div class=\"sk-item\"><div class=\"sk-label-container\"><div class=\"sk-label sk-toggleable\"><input class=\"sk-toggleable__control sk-hidden--visually\" id=\"sk-estimator-id-34\" type=\"checkbox\" ><label for=\"sk-estimator-id-34\" class=\"sk-toggleable__label sk-toggleable__label-arrow\">estimator: Pipeline</label><div class=\"sk-toggleable__content\"><pre>Pipeline(steps=[(&#x27;preprocessor&#x27;,\n",
       "                 ColumnTransformer(transformers=[(&#x27;num&#x27;,\n",
       "                                                  Pipeline(steps=[(&#x27;imputer&#x27;,\n",
       "                                                                   SimpleImputer(strategy=&#x27;median&#x27;)),\n",
       "                                                                  (&#x27;scaler&#x27;,\n",
       "                                                                   StandardScaler())]),\n",
       "                                                  Index([&#x27;physhlth&#x27;, &#x27;menthlth&#x27;, &#x27;children&#x27;, &#x27;htm4&#x27;, &#x27;wtkg3&#x27;, &#x27;_bmi5&#x27;,\n",
       "       &#x27;_drnkwk1&#x27;, &#x27;_age80&#x27;, &#x27;ftjuda2_&#x27;, &#x27;frutda2_&#x27;, &#x27;grenda1_&#x27;, &#x27;frnchda_&#x27;,\n",
       "       &#x27;potada1_&#x27;, &#x27;vegeda2_&#x27;],\n",
       "      dtype=&#x27;object&#x27;)),\n",
       "                                                 (&#x27;cat&#x27;,\n",
       "                                                  Pipeline(steps...\n",
       "                                                  Index([&#x27;_sex&#x27;, &#x27;genhlth&#x27;, &#x27;addepev3&#x27;, &#x27;checkup1&#x27;, &#x27;_totinda&#x27;, &#x27;_rfhype6&#x27;,\n",
       "       &#x27;cholmed3&#x27;, &#x27;_rfchol3&#x27;, &#x27;cvdstrk3&#x27;, &#x27;_asthms1&#x27;, &#x27;chcscncr&#x27;, &#x27;chcocncr&#x27;,\n",
       "       &#x27;chccopd3&#x27;, &#x27;chckdny2&#x27;, &#x27;diabete4&#x27;, &#x27;_drdxar3&#x27;, &#x27;marital&#x27;, &#x27;_incomg1&#x27;,\n",
       "       &#x27;employ1&#x27;, &#x27;decide&#x27;, &#x27;diffwalk&#x27;, &#x27;diffdres&#x27;, &#x27;_smoker3&#x27;, &#x27;usenow3&#x27;,\n",
       "       &#x27;ecignow1&#x27;, &#x27;_metstat&#x27;, &#x27;_imprace&#x27;, &#x27;_educag&#x27;],\n",
       "      dtype=&#x27;object&#x27;))])),\n",
       "                (&#x27;sampling&#x27;, SMOTE(random_state=42)),\n",
       "                (&#x27;model&#x27;, LogisticRegression())])</pre></div></div></div><div class=\"sk-serial\"><div class=\"sk-item\"><div class=\"sk-serial\"><div class=\"sk-item sk-dashed-wrapped\"><div class=\"sk-label-container\"><div class=\"sk-label sk-toggleable\"><input class=\"sk-toggleable__control sk-hidden--visually\" id=\"sk-estimator-id-35\" type=\"checkbox\" ><label for=\"sk-estimator-id-35\" class=\"sk-toggleable__label sk-toggleable__label-arrow\">preprocessor: ColumnTransformer</label><div class=\"sk-toggleable__content\"><pre>ColumnTransformer(transformers=[(&#x27;num&#x27;,\n",
       "                                 Pipeline(steps=[(&#x27;imputer&#x27;,\n",
       "                                                  SimpleImputer(strategy=&#x27;median&#x27;)),\n",
       "                                                 (&#x27;scaler&#x27;, StandardScaler())]),\n",
       "                                 Index([&#x27;physhlth&#x27;, &#x27;menthlth&#x27;, &#x27;children&#x27;, &#x27;htm4&#x27;, &#x27;wtkg3&#x27;, &#x27;_bmi5&#x27;,\n",
       "       &#x27;_drnkwk1&#x27;, &#x27;_age80&#x27;, &#x27;ftjuda2_&#x27;, &#x27;frutda2_&#x27;, &#x27;grenda1_&#x27;, &#x27;frnchda_&#x27;,\n",
       "       &#x27;potada1_&#x27;, &#x27;vegeda2_&#x27;],\n",
       "      dtype=&#x27;object&#x27;)),\n",
       "                                (&#x27;cat&#x27;,\n",
       "                                 Pipeline(steps=[(&#x27;onehot&#x27;,\n",
       "                                                  OneHotEncoder(handle...\n",
       "                                                  StandardScaler(with_mean=False,\n",
       "                                                                 with_std=False))]),\n",
       "                                 Index([&#x27;_sex&#x27;, &#x27;genhlth&#x27;, &#x27;addepev3&#x27;, &#x27;checkup1&#x27;, &#x27;_totinda&#x27;, &#x27;_rfhype6&#x27;,\n",
       "       &#x27;cholmed3&#x27;, &#x27;_rfchol3&#x27;, &#x27;cvdstrk3&#x27;, &#x27;_asthms1&#x27;, &#x27;chcscncr&#x27;, &#x27;chcocncr&#x27;,\n",
       "       &#x27;chccopd3&#x27;, &#x27;chckdny2&#x27;, &#x27;diabete4&#x27;, &#x27;_drdxar3&#x27;, &#x27;marital&#x27;, &#x27;_incomg1&#x27;,\n",
       "       &#x27;employ1&#x27;, &#x27;decide&#x27;, &#x27;diffwalk&#x27;, &#x27;diffdres&#x27;, &#x27;_smoker3&#x27;, &#x27;usenow3&#x27;,\n",
       "       &#x27;ecignow1&#x27;, &#x27;_metstat&#x27;, &#x27;_imprace&#x27;, &#x27;_educag&#x27;],\n",
       "      dtype=&#x27;object&#x27;))])</pre></div></div></div><div class=\"sk-parallel\"><div class=\"sk-parallel-item\"><div class=\"sk-item\"><div class=\"sk-label-container\"><div class=\"sk-label sk-toggleable\"><input class=\"sk-toggleable__control sk-hidden--visually\" id=\"sk-estimator-id-36\" type=\"checkbox\" ><label for=\"sk-estimator-id-36\" class=\"sk-toggleable__label sk-toggleable__label-arrow\">num</label><div class=\"sk-toggleable__content\"><pre>Index([&#x27;physhlth&#x27;, &#x27;menthlth&#x27;, &#x27;children&#x27;, &#x27;htm4&#x27;, &#x27;wtkg3&#x27;, &#x27;_bmi5&#x27;,\n",
       "       &#x27;_drnkwk1&#x27;, &#x27;_age80&#x27;, &#x27;ftjuda2_&#x27;, &#x27;frutda2_&#x27;, &#x27;grenda1_&#x27;, &#x27;frnchda_&#x27;,\n",
       "       &#x27;potada1_&#x27;, &#x27;vegeda2_&#x27;],\n",
       "      dtype=&#x27;object&#x27;)</pre></div></div></div><div class=\"sk-serial\"><div class=\"sk-item\"><div class=\"sk-serial\"><div class=\"sk-item\"><div class=\"sk-estimator sk-toggleable\"><input class=\"sk-toggleable__control sk-hidden--visually\" id=\"sk-estimator-id-37\" type=\"checkbox\" ><label for=\"sk-estimator-id-37\" class=\"sk-toggleable__label sk-toggleable__label-arrow\">SimpleImputer</label><div class=\"sk-toggleable__content\"><pre>SimpleImputer(strategy=&#x27;median&#x27;)</pre></div></div></div><div class=\"sk-item\"><div class=\"sk-estimator sk-toggleable\"><input class=\"sk-toggleable__control sk-hidden--visually\" id=\"sk-estimator-id-38\" type=\"checkbox\" ><label for=\"sk-estimator-id-38\" class=\"sk-toggleable__label sk-toggleable__label-arrow\">StandardScaler</label><div class=\"sk-toggleable__content\"><pre>StandardScaler()</pre></div></div></div></div></div></div></div></div><div class=\"sk-parallel-item\"><div class=\"sk-item\"><div class=\"sk-label-container\"><div class=\"sk-label sk-toggleable\"><input class=\"sk-toggleable__control sk-hidden--visually\" id=\"sk-estimator-id-39\" type=\"checkbox\" ><label for=\"sk-estimator-id-39\" class=\"sk-toggleable__label sk-toggleable__label-arrow\">cat</label><div class=\"sk-toggleable__content\"><pre>Index([&#x27;_sex&#x27;, &#x27;genhlth&#x27;, &#x27;addepev3&#x27;, &#x27;checkup1&#x27;, &#x27;_totinda&#x27;, &#x27;_rfhype6&#x27;,\n",
       "       &#x27;cholmed3&#x27;, &#x27;_rfchol3&#x27;, &#x27;cvdstrk3&#x27;, &#x27;_asthms1&#x27;, &#x27;chcscncr&#x27;, &#x27;chcocncr&#x27;,\n",
       "       &#x27;chccopd3&#x27;, &#x27;chckdny2&#x27;, &#x27;diabete4&#x27;, &#x27;_drdxar3&#x27;, &#x27;marital&#x27;, &#x27;_incomg1&#x27;,\n",
       "       &#x27;employ1&#x27;, &#x27;decide&#x27;, &#x27;diffwalk&#x27;, &#x27;diffdres&#x27;, &#x27;_smoker3&#x27;, &#x27;usenow3&#x27;,\n",
       "       &#x27;ecignow1&#x27;, &#x27;_metstat&#x27;, &#x27;_imprace&#x27;, &#x27;_educag&#x27;],\n",
       "      dtype=&#x27;object&#x27;)</pre></div></div></div><div class=\"sk-serial\"><div class=\"sk-item\"><div class=\"sk-serial\"><div class=\"sk-item\"><div class=\"sk-estimator sk-toggleable\"><input class=\"sk-toggleable__control sk-hidden--visually\" id=\"sk-estimator-id-40\" type=\"checkbox\" ><label for=\"sk-estimator-id-40\" class=\"sk-toggleable__label sk-toggleable__label-arrow\">OneHotEncoder</label><div class=\"sk-toggleable__content\"><pre>OneHotEncoder(handle_unknown=&#x27;ignore&#x27;)</pre></div></div></div><div class=\"sk-item\"><div class=\"sk-estimator sk-toggleable\"><input class=\"sk-toggleable__control sk-hidden--visually\" id=\"sk-estimator-id-41\" type=\"checkbox\" ><label for=\"sk-estimator-id-41\" class=\"sk-toggleable__label sk-toggleable__label-arrow\">StandardScaler</label><div class=\"sk-toggleable__content\"><pre>StandardScaler(with_mean=False, with_std=False)</pre></div></div></div></div></div></div></div></div></div></div><div class=\"sk-item\"><div class=\"sk-estimator sk-toggleable\"><input class=\"sk-toggleable__control sk-hidden--visually\" id=\"sk-estimator-id-42\" type=\"checkbox\" ><label for=\"sk-estimator-id-42\" class=\"sk-toggleable__label sk-toggleable__label-arrow\">SMOTE</label><div class=\"sk-toggleable__content\"><pre>SMOTE(random_state=42)</pre></div></div></div><div class=\"sk-item\"><div class=\"sk-estimator sk-toggleable\"><input class=\"sk-toggleable__control sk-hidden--visually\" id=\"sk-estimator-id-43\" type=\"checkbox\" ><label for=\"sk-estimator-id-43\" class=\"sk-toggleable__label sk-toggleable__label-arrow\">LogisticRegression</label><div class=\"sk-toggleable__content\"><pre>LogisticRegression()</pre></div></div></div></div></div></div></div></div></div></div></div></div>"
      ],
      "text/plain": [
       "GridSearchCV(cv=3,\n",
       "             estimator=Pipeline(steps=[('preprocessor',\n",
       "                                        ColumnTransformer(transformers=[('num',\n",
       "                                                                         Pipeline(steps=[('imputer',\n",
       "                                                                                          SimpleImputer(strategy='median')),\n",
       "                                                                                         ('scaler',\n",
       "                                                                                          StandardScaler())]),\n",
       "                                                                         Index(['physhlth', 'menthlth', 'children', 'htm4', 'wtkg3', '_bmi5',\n",
       "       '_drnkwk1', '_age80', 'ftjuda2_', 'frutda2_', 'grenda1_', 'frnchda_',\n",
       "       'potada1_', 'vegeda2_'],\n",
       "      dtype='obj...\n",
       "       'cholmed3', '_rfchol3', 'cvdstrk3', '_asthms1', 'chcscncr', 'chcocncr',\n",
       "       'chccopd3', 'chckdny2', 'diabete4', '_drdxar3', 'marital', '_incomg1',\n",
       "       'employ1', 'decide', 'diffwalk', 'diffdres', '_smoker3', 'usenow3',\n",
       "       'ecignow1', '_metstat', '_imprace', '_educag'],\n",
       "      dtype='object'))])),\n",
       "                                       ('sampling', SMOTE(random_state=42)),\n",
       "                                       ('model',\n",
       "                                        LogisticRegression(random_state=42))]),\n",
       "             param_grid={'model__max_iter': [1000]},\n",
       "             scoring='balanced_accuracy')"
      ]
     },
<<<<<<< HEAD
     "execution_count": 32,
=======
     "execution_count": 33,
>>>>>>> main
     "metadata": {},
     "output_type": "execute_result"
    }
   ],
   "source": [
    "gs_lg_smote = GridSearchCV(pipe_smote, param_grid=lg_smote_params, cv = 3, scoring='balanced_accuracy')\n",
    "gs_lg_smote.fit(X_train, y_train)"
   ]
  },
  {
   "cell_type": "code",
<<<<<<< HEAD
   "execution_count": 33,
=======
   "execution_count": 34,
>>>>>>> main
   "id": "5e3e96b4-ef2b-41cb-80d3-89cdf39077fa",
   "metadata": {},
   "outputs": [
    {
     "name": "stdout",
     "output_type": "stream",
     "text": [
      "balanced_accuracy: 0.7787472720012668\n",
      "recall: 0.7976274371623209\n",
      "precision: 0.22918565016367992\n",
      "f1 score: 0.3560623934984926\n"
     ]
    },
    {
     "data": {
      "image/png": "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",
      "text/plain": [
       "<Figure size 640x480 with 2 Axes>"
      ]
     },
     "metadata": {},
     "output_type": "display_data"
    }
   ],
   "source": [
    "scores.append(evaluation(X_test, y_test, gs_lg_smote.predict(X_test), gs_lg_smote))"
   ]
  },
  {
   "cell_type": "markdown",
   "id": "1a6d0f0d-0faf-4794-b3fa-483a8b33762a",
   "metadata": {},
   "source": [
    "Compare to previous models, Employing the SMOTE sampling method resulted in an enhanced recall, without compromising the balanced accuracy."
   ]
  },
  {
   "cell_type": "markdown",
   "id": "3f10d6e4-f9f7-4502-b59e-343ffd2f36f3",
   "metadata": {},
   "source": [
    "### ADASYN"
   ]
  },
  {
   "cell_type": "code",
<<<<<<< HEAD
   "execution_count": 34,
=======
   "execution_count": 35,
>>>>>>> main
   "id": "abd56189-1726-480f-88fb-b09c72bfa936",
   "metadata": {},
   "outputs": [],
   "source": [
    "pipe_adasyn = ImbPipeline(steps = [\n",
    "    ('preprocessor', preprocessor),\n",
    "    ('sampling', ADASYN(random_state = 42)),\n",
    "    ('model', LogisticRegression(random_state=42))\n",
    "])"
   ]
  },
  {
   "cell_type": "code",
<<<<<<< HEAD
   "execution_count": 35,
=======
   "execution_count": 36,
>>>>>>> main
   "id": "6d8b954c-2ce5-462c-ac94-b5941a74b5ad",
   "metadata": {},
   "outputs": [],
   "source": [
    "lg_adasyn_params = {\n",
    "    'model__max_iter': [1000]\n",
    "}"
   ]
  },
  {
   "cell_type": "code",
<<<<<<< HEAD
   "execution_count": 36,
   "id": "c48e2c1d-0336-45dc-a6ab-6de8c8ac49d5",
   "metadata": {},
   "outputs": [
    {
     "data": {
      "text/plain": [
       "GridSearchCV(cv=3,\n",
       "             estimator=Pipeline(steps=[('preprocessor',\n",
       "                                        ColumnTransformer(transformers=[('num',\n",
       "                                                                         Pipeline(steps=[('imputer',\n",
       "                                                                                          SimpleImputer(strategy='median')),\n",
       "                                                                                         ('scaler',\n",
       "                                                                                          StandardScaler())]),\n",
       "                                                                         Index(['physhlth', 'menthlth', 'children', 'htm4', 'wtkg3', '_bmi5',\n",
       "       '_drnkwk1', '_age80', 'ftjuda2_', 'frutda2_', 'grenda1_', 'frnchda_',\n",
       "       'potada1_', 'vegeda2_'],\n",
       "      dtype='obj...\n",
       "       'cholmed3', '_rfchol3', 'cvdstrk3', '_asthms1', 'chcscncr', 'chcocncr',\n",
       "       'chccopd3', 'chckdny2', 'diabete4', '_drdxar3', 'marital', '_incomg1',\n",
       "       'employ1', 'decide', 'diffwalk', 'diffdres', '_smoker3', 'usenow3',\n",
       "       'ecignow1', '_metstat', '_imprace', '_educag'],\n",
       "      dtype='object'))])),\n",
       "                                       ('sampling', ADASYN(random_state=42)),\n",
       "                                       ('model',\n",
       "                                        LogisticRegression(random_state=42))]),\n",
       "             param_grid={'model__max_iter': [1000]},\n",
       "             scoring='balanced_accuracy')"
      ]
     },
     "execution_count": 36,
     "metadata": {},
     "output_type": "execute_result"
    }
   ],
=======
   "execution_count": null,
   "id": "c48e2c1d-0336-45dc-a6ab-6de8c8ac49d5",
   "metadata": {},
   "outputs": [],
>>>>>>> main
   "source": [
    "gs_lg_adasyn = GridSearchCV(pipe_adasyn, param_grid=lg_adasyn_params, cv = 3, scoring='balanced_accuracy')\n",
    "gs_lg_adasyn.fit(X_train, y_train)"
   ]
  },
  {
   "cell_type": "code",
<<<<<<< HEAD
   "execution_count": 37,
=======
   "execution_count": null,
>>>>>>> main
   "id": "87f0f38f-490c-43b2-aa00-8c1f66c8260f",
   "metadata": {},
   "outputs": [],
   "source": [
    "scores.append(evaluation(X_test, y_test, gs_lg_adasyn.predict(X_test), gs_lg_adasyn))"
   ]
  },
  {
   "cell_type": "markdown",
   "id": "1d3061bd-f4ff-4ca8-be30-e3b95c3229fc",
   "metadata": {},
   "source": [
    "Compare to previous models, Employing the ADASYN sampling method resulted in an enhanced recall, without compromising the balanced accuracy."
   ]
  },
  {
   "cell_type": "markdown",
   "id": "d2c4170a-6228-416a-a6f8-c818011f4a98",
   "metadata": {},
   "source": [
    "### OverWeight"
   ]
  },
  {
   "cell_type": "code",
<<<<<<< HEAD
   "execution_count": 38,
=======
   "execution_count": null,
>>>>>>> main
   "id": "98ff78e7-a0b9-4e6e-ad35-16488bf54b17",
   "metadata": {},
   "outputs": [],
   "source": [
    "pipe_weight = Pipeline(steps = [\n",
    "    ('preprocessor', preprocessor),\n",
    "    ('model', LogisticRegression(class_weight='balanced', random_state=42))\n",
    "])"
   ]
  },
  {
   "cell_type": "code",
<<<<<<< HEAD
   "execution_count": 39,
=======
   "execution_count": null,
>>>>>>> main
   "id": "af55c1f0-1de4-4b07-879a-890c99849bb1",
   "metadata": {
    "scrolled": true,
    "tags": []
   },
<<<<<<< HEAD
   "outputs": [
    {
     "data": {
      "text/plain": [
       "{'memory': None,\n",
       " 'steps': [('preprocessor',\n",
       "   ColumnTransformer(transformers=[('num',\n",
       "                                    Pipeline(steps=[('imputer',\n",
       "                                                     SimpleImputer(strategy='median')),\n",
       "                                                    ('scaler', StandardScaler())]),\n",
       "                                    Index(['physhlth', 'menthlth', 'children', 'htm4', 'wtkg3', '_bmi5',\n",
       "          '_drnkwk1', '_age80', 'ftjuda2_', 'frutda2_', 'grenda1_', 'frnchda_',\n",
       "          'potada1_', 'vegeda2_'],\n",
       "         dtype='object')),\n",
       "                                   ('cat',\n",
       "                                    Pipeline(steps=[('onehot',\n",
       "                                                     OneHotEncoder(handle...\n",
       "                                                     StandardScaler(with_mean=False,\n",
       "                                                                    with_std=False))]),\n",
       "                                    Index(['_sex', 'genhlth', 'addepev3', 'checkup1', '_totinda', '_rfhype6',\n",
       "          'cholmed3', '_rfchol3', 'cvdstrk3', '_asthms1', 'chcscncr', 'chcocncr',\n",
       "          'chccopd3', 'chckdny2', 'diabete4', '_drdxar3', 'marital', '_incomg1',\n",
       "          'employ1', 'decide', 'diffwalk', 'diffdres', '_smoker3', 'usenow3',\n",
       "          'ecignow1', '_metstat', '_imprace', '_educag'],\n",
       "         dtype='object'))])),\n",
       "  ('model', LogisticRegression(class_weight='balanced', random_state=42))],\n",
       " 'verbose': False,\n",
       " 'preprocessor': ColumnTransformer(transformers=[('num',\n",
       "                                  Pipeline(steps=[('imputer',\n",
       "                                                   SimpleImputer(strategy='median')),\n",
       "                                                  ('scaler', StandardScaler())]),\n",
       "                                  Index(['physhlth', 'menthlth', 'children', 'htm4', 'wtkg3', '_bmi5',\n",
       "        '_drnkwk1', '_age80', 'ftjuda2_', 'frutda2_', 'grenda1_', 'frnchda_',\n",
       "        'potada1_', 'vegeda2_'],\n",
       "       dtype='object')),\n",
       "                                 ('cat',\n",
       "                                  Pipeline(steps=[('onehot',\n",
       "                                                   OneHotEncoder(handle...\n",
       "                                                   StandardScaler(with_mean=False,\n",
       "                                                                  with_std=False))]),\n",
       "                                  Index(['_sex', 'genhlth', 'addepev3', 'checkup1', '_totinda', '_rfhype6',\n",
       "        'cholmed3', '_rfchol3', 'cvdstrk3', '_asthms1', 'chcscncr', 'chcocncr',\n",
       "        'chccopd3', 'chckdny2', 'diabete4', '_drdxar3', 'marital', '_incomg1',\n",
       "        'employ1', 'decide', 'diffwalk', 'diffdres', '_smoker3', 'usenow3',\n",
       "        'ecignow1', '_metstat', '_imprace', '_educag'],\n",
       "       dtype='object'))]),\n",
       " 'model': LogisticRegression(class_weight='balanced', random_state=42),\n",
       " 'preprocessor__n_jobs': None,\n",
       " 'preprocessor__remainder': 'drop',\n",
       " 'preprocessor__sparse_threshold': 0.3,\n",
       " 'preprocessor__transformer_weights': None,\n",
       " 'preprocessor__transformers': [('num',\n",
       "   Pipeline(steps=[('imputer', SimpleImputer(strategy='median')),\n",
       "                   ('scaler', StandardScaler())]),\n",
       "   Index(['physhlth', 'menthlth', 'children', 'htm4', 'wtkg3', '_bmi5',\n",
       "          '_drnkwk1', '_age80', 'ftjuda2_', 'frutda2_', 'grenda1_', 'frnchda_',\n",
       "          'potada1_', 'vegeda2_'],\n",
       "         dtype='object')),\n",
       "  ('cat',\n",
       "   Pipeline(steps=[('onehot', OneHotEncoder(handle_unknown='ignore')),\n",
       "                   ('scaler', StandardScaler(with_mean=False, with_std=False))]),\n",
       "   Index(['_sex', 'genhlth', 'addepev3', 'checkup1', '_totinda', '_rfhype6',\n",
       "          'cholmed3', '_rfchol3', 'cvdstrk3', '_asthms1', 'chcscncr', 'chcocncr',\n",
       "          'chccopd3', 'chckdny2', 'diabete4', '_drdxar3', 'marital', '_incomg1',\n",
       "          'employ1', 'decide', 'diffwalk', 'diffdres', '_smoker3', 'usenow3',\n",
       "          'ecignow1', '_metstat', '_imprace', '_educag'],\n",
       "         dtype='object'))],\n",
       " 'preprocessor__verbose': False,\n",
       " 'preprocessor__verbose_feature_names_out': True,\n",
       " 'preprocessor__num': Pipeline(steps=[('imputer', SimpleImputer(strategy='median')),\n",
       "                 ('scaler', StandardScaler())]),\n",
       " 'preprocessor__cat': Pipeline(steps=[('onehot', OneHotEncoder(handle_unknown='ignore')),\n",
       "                 ('scaler', StandardScaler(with_mean=False, with_std=False))]),\n",
       " 'preprocessor__num__memory': None,\n",
       " 'preprocessor__num__steps': [('imputer', SimpleImputer(strategy='median')),\n",
       "  ('scaler', StandardScaler())],\n",
       " 'preprocessor__num__verbose': False,\n",
       " 'preprocessor__num__imputer': SimpleImputer(strategy='median'),\n",
       " 'preprocessor__num__scaler': StandardScaler(),\n",
       " 'preprocessor__num__imputer__add_indicator': False,\n",
       " 'preprocessor__num__imputer__copy': True,\n",
       " 'preprocessor__num__imputer__fill_value': None,\n",
       " 'preprocessor__num__imputer__missing_values': nan,\n",
       " 'preprocessor__num__imputer__strategy': 'median',\n",
       " 'preprocessor__num__imputer__verbose': 0,\n",
       " 'preprocessor__num__scaler__copy': True,\n",
       " 'preprocessor__num__scaler__with_mean': True,\n",
       " 'preprocessor__num__scaler__with_std': True,\n",
       " 'preprocessor__cat__memory': None,\n",
       " 'preprocessor__cat__steps': [('onehot',\n",
       "   OneHotEncoder(handle_unknown='ignore')),\n",
       "  ('scaler', StandardScaler(with_mean=False, with_std=False))],\n",
       " 'preprocessor__cat__verbose': False,\n",
       " 'preprocessor__cat__onehot': OneHotEncoder(handle_unknown='ignore'),\n",
       " 'preprocessor__cat__scaler': StandardScaler(with_mean=False, with_std=False),\n",
       " 'preprocessor__cat__onehot__categories': 'auto',\n",
       " 'preprocessor__cat__onehot__drop': None,\n",
       " 'preprocessor__cat__onehot__dtype': numpy.float64,\n",
       " 'preprocessor__cat__onehot__handle_unknown': 'ignore',\n",
       " 'preprocessor__cat__onehot__sparse': True,\n",
       " 'preprocessor__cat__scaler__copy': True,\n",
       " 'preprocessor__cat__scaler__with_mean': False,\n",
       " 'preprocessor__cat__scaler__with_std': False,\n",
       " 'model__C': 1.0,\n",
       " 'model__class_weight': 'balanced',\n",
       " 'model__dual': False,\n",
       " 'model__fit_intercept': True,\n",
       " 'model__intercept_scaling': 1,\n",
       " 'model__l1_ratio': None,\n",
       " 'model__max_iter': 100,\n",
       " 'model__multi_class': 'auto',\n",
       " 'model__n_jobs': None,\n",
       " 'model__penalty': 'l2',\n",
       " 'model__random_state': 42,\n",
       " 'model__solver': 'lbfgs',\n",
       " 'model__tol': 0.0001,\n",
       " 'model__verbose': 0,\n",
       " 'model__warm_start': False}"
      ]
     },
     "execution_count": 39,
     "metadata": {},
     "output_type": "execute_result"
    }
   ],
=======
   "outputs": [],
>>>>>>> main
   "source": [
    "pipe_weight.get_params()"
   ]
  },
  {
   "cell_type": "code",
<<<<<<< HEAD
   "execution_count": 40,
=======
   "execution_count": null,
>>>>>>> main
   "id": "86aa07f3-e1ca-4a69-9efb-2fea3b12d632",
   "metadata": {},
   "outputs": [],
   "source": [
    "lg_weight_params = {\n",
    "    'model__max_iter': [1000]\n",
    "}"
   ]
  },
  {
   "cell_type": "code",
<<<<<<< HEAD
   "execution_count": 41,
   "id": "476740ae-c842-43df-b670-9583ad7fab52",
   "metadata": {},
   "outputs": [
    {
     "data": {
      "text/plain": [
       "GridSearchCV(cv=3,\n",
       "             estimator=Pipeline(steps=[('preprocessor',\n",
       "                                        ColumnTransformer(transformers=[('num',\n",
       "                                                                         Pipeline(steps=[('imputer',\n",
       "                                                                                          SimpleImputer(strategy='median')),\n",
       "                                                                                         ('scaler',\n",
       "                                                                                          StandardScaler())]),\n",
       "                                                                         Index(['physhlth', 'menthlth', 'children', 'htm4', 'wtkg3', '_bmi5',\n",
       "       '_drnkwk1', '_age80', 'ftjuda2_', 'frutda2_', 'grenda1_', 'frnchda_',\n",
       "       'potada1_', 'vegeda2_'],\n",
       "      dtype='obj...\n",
       "       'cholmed3', '_rfchol3', 'cvdstrk3', '_asthms1', 'chcscncr', 'chcocncr',\n",
       "       'chccopd3', 'chckdny2', 'diabete4', '_drdxar3', 'marital', '_incomg1',\n",
       "       'employ1', 'decide', 'diffwalk', 'diffdres', '_smoker3', 'usenow3',\n",
       "       'ecignow1', '_metstat', '_imprace', '_educag'],\n",
       "      dtype='object'))])),\n",
       "                                       ('model',\n",
       "                                        LogisticRegression(class_weight='balanced',\n",
       "                                                           random_state=42))]),\n",
       "             param_grid={'model__max_iter': [1000]},\n",
       "             scoring='balanced_accuracy')"
      ]
     },
     "execution_count": 41,
     "metadata": {},
     "output_type": "execute_result"
    }
   ],
=======
   "execution_count": null,
   "id": "476740ae-c842-43df-b670-9583ad7fab52",
   "metadata": {},
   "outputs": [],
>>>>>>> main
   "source": [
    "gs_lg_weight = GridSearchCV(pipe_weight, param_grid=lg_weight_params, cv = 3, scoring='balanced_accuracy')\n",
    "gs_lg_weight.fit(X_train, y_train)"
   ]
  },
  {
   "cell_type": "code",
<<<<<<< HEAD
   "execution_count": 42,
=======
   "execution_count": null,
>>>>>>> main
   "id": "cee88f13-cac0-4ecb-84d2-c48b10b0c6c9",
   "metadata": {},
   "outputs": [],
   "source": [
    "scores.append(evaluation(X_test, y_test, gs_lg_weight.predict(X_test), gs_lg_weight))"
   ]
  },
  {
   "cell_type": "markdown",
   "id": "7207297d-247b-40bf-85ac-13459cd6ec86",
   "metadata": {},
   "source": [
    "After applying the overweight method, there's a slight increase in balanced accuracy and a small decrease in recall when compared to ADASYN. However, given that overweight is computationally much quicker than ADASYN, the Logistic Regression model with overweight will be my preferred choice."
   ]
  },
  {
   "cell_type": "markdown",
   "id": "d58ada3d-60fa-4350-a378-1d6932f3d086",
   "metadata": {},
   "source": [
    "### Hyper tuning with Overweight Method"
   ]
  },
  {
   "cell_type": "markdown",
   "id": "c0eede91-6e77-4d73-91db-0887071ab5c4",
   "metadata": {},
   "source": [
    "As Overweight runs fast and has the best result, we will hyptertune paramters on this one"
   ]
  },
  {
   "cell_type": "code",
<<<<<<< HEAD
   "execution_count": 43,
=======
   "execution_count": null,
>>>>>>> main
   "id": "dbac1b2d-a2f8-4fbb-9e7e-f4239025a954",
   "metadata": {},
   "outputs": [],
   "source": [
    "pipe_tune = Pipeline(steps=[\n",
    "    ('preprocessor', preprocessor),\n",
    "    ('model', LogisticRegression(class_weight='balanced', random_state=42))\n",
    "])"
   ]
  },
  {
   "cell_type": "code",
<<<<<<< HEAD
   "execution_count": 44,
=======
   "execution_count": null,
>>>>>>> main
   "id": "a72ceea3-01bd-4cf1-8472-09efb6217f63",
   "metadata": {
    "scrolled": true,
    "tags": []
   },
<<<<<<< HEAD
   "outputs": [
    {
     "data": {
      "text/plain": [
       "{'memory': None,\n",
       " 'steps': [('preprocessor',\n",
       "   ColumnTransformer(transformers=[('num',\n",
       "                                    Pipeline(steps=[('imputer',\n",
       "                                                     SimpleImputer(strategy='median')),\n",
       "                                                    ('scaler', StandardScaler())]),\n",
       "                                    Index(['physhlth', 'menthlth', 'children', 'htm4', 'wtkg3', '_bmi5',\n",
       "          '_drnkwk1', '_age80', 'ftjuda2_', 'frutda2_', 'grenda1_', 'frnchda_',\n",
       "          'potada1_', 'vegeda2_'],\n",
       "         dtype='object')),\n",
       "                                   ('cat',\n",
       "                                    Pipeline(steps=[('onehot',\n",
       "                                                     OneHotEncoder(handle...\n",
       "                                                     StandardScaler(with_mean=False,\n",
       "                                                                    with_std=False))]),\n",
       "                                    Index(['_sex', 'genhlth', 'addepev3', 'checkup1', '_totinda', '_rfhype6',\n",
       "          'cholmed3', '_rfchol3', 'cvdstrk3', '_asthms1', 'chcscncr', 'chcocncr',\n",
       "          'chccopd3', 'chckdny2', 'diabete4', '_drdxar3', 'marital', '_incomg1',\n",
       "          'employ1', 'decide', 'diffwalk', 'diffdres', '_smoker3', 'usenow3',\n",
       "          'ecignow1', '_metstat', '_imprace', '_educag'],\n",
       "         dtype='object'))])),\n",
       "  ('model', LogisticRegression(class_weight='balanced', random_state=42))],\n",
       " 'verbose': False,\n",
       " 'preprocessor': ColumnTransformer(transformers=[('num',\n",
       "                                  Pipeline(steps=[('imputer',\n",
       "                                                   SimpleImputer(strategy='median')),\n",
       "                                                  ('scaler', StandardScaler())]),\n",
       "                                  Index(['physhlth', 'menthlth', 'children', 'htm4', 'wtkg3', '_bmi5',\n",
       "        '_drnkwk1', '_age80', 'ftjuda2_', 'frutda2_', 'grenda1_', 'frnchda_',\n",
       "        'potada1_', 'vegeda2_'],\n",
       "       dtype='object')),\n",
       "                                 ('cat',\n",
       "                                  Pipeline(steps=[('onehot',\n",
       "                                                   OneHotEncoder(handle...\n",
       "                                                   StandardScaler(with_mean=False,\n",
       "                                                                  with_std=False))]),\n",
       "                                  Index(['_sex', 'genhlth', 'addepev3', 'checkup1', '_totinda', '_rfhype6',\n",
       "        'cholmed3', '_rfchol3', 'cvdstrk3', '_asthms1', 'chcscncr', 'chcocncr',\n",
       "        'chccopd3', 'chckdny2', 'diabete4', '_drdxar3', 'marital', '_incomg1',\n",
       "        'employ1', 'decide', 'diffwalk', 'diffdres', '_smoker3', 'usenow3',\n",
       "        'ecignow1', '_metstat', '_imprace', '_educag'],\n",
       "       dtype='object'))]),\n",
       " 'model': LogisticRegression(class_weight='balanced', random_state=42),\n",
       " 'preprocessor__n_jobs': None,\n",
       " 'preprocessor__remainder': 'drop',\n",
       " 'preprocessor__sparse_threshold': 0.3,\n",
       " 'preprocessor__transformer_weights': None,\n",
       " 'preprocessor__transformers': [('num',\n",
       "   Pipeline(steps=[('imputer', SimpleImputer(strategy='median')),\n",
       "                   ('scaler', StandardScaler())]),\n",
       "   Index(['physhlth', 'menthlth', 'children', 'htm4', 'wtkg3', '_bmi5',\n",
       "          '_drnkwk1', '_age80', 'ftjuda2_', 'frutda2_', 'grenda1_', 'frnchda_',\n",
       "          'potada1_', 'vegeda2_'],\n",
       "         dtype='object')),\n",
       "  ('cat',\n",
       "   Pipeline(steps=[('onehot', OneHotEncoder(handle_unknown='ignore')),\n",
       "                   ('scaler', StandardScaler(with_mean=False, with_std=False))]),\n",
       "   Index(['_sex', 'genhlth', 'addepev3', 'checkup1', '_totinda', '_rfhype6',\n",
       "          'cholmed3', '_rfchol3', 'cvdstrk3', '_asthms1', 'chcscncr', 'chcocncr',\n",
       "          'chccopd3', 'chckdny2', 'diabete4', '_drdxar3', 'marital', '_incomg1',\n",
       "          'employ1', 'decide', 'diffwalk', 'diffdres', '_smoker3', 'usenow3',\n",
       "          'ecignow1', '_metstat', '_imprace', '_educag'],\n",
       "         dtype='object'))],\n",
       " 'preprocessor__verbose': False,\n",
       " 'preprocessor__verbose_feature_names_out': True,\n",
       " 'preprocessor__num': Pipeline(steps=[('imputer', SimpleImputer(strategy='median')),\n",
       "                 ('scaler', StandardScaler())]),\n",
       " 'preprocessor__cat': Pipeline(steps=[('onehot', OneHotEncoder(handle_unknown='ignore')),\n",
       "                 ('scaler', StandardScaler(with_mean=False, with_std=False))]),\n",
       " 'preprocessor__num__memory': None,\n",
       " 'preprocessor__num__steps': [('imputer', SimpleImputer(strategy='median')),\n",
       "  ('scaler', StandardScaler())],\n",
       " 'preprocessor__num__verbose': False,\n",
       " 'preprocessor__num__imputer': SimpleImputer(strategy='median'),\n",
       " 'preprocessor__num__scaler': StandardScaler(),\n",
       " 'preprocessor__num__imputer__add_indicator': False,\n",
       " 'preprocessor__num__imputer__copy': True,\n",
       " 'preprocessor__num__imputer__fill_value': None,\n",
       " 'preprocessor__num__imputer__missing_values': nan,\n",
       " 'preprocessor__num__imputer__strategy': 'median',\n",
       " 'preprocessor__num__imputer__verbose': 0,\n",
       " 'preprocessor__num__scaler__copy': True,\n",
       " 'preprocessor__num__scaler__with_mean': True,\n",
       " 'preprocessor__num__scaler__with_std': True,\n",
       " 'preprocessor__cat__memory': None,\n",
       " 'preprocessor__cat__steps': [('onehot',\n",
       "   OneHotEncoder(handle_unknown='ignore')),\n",
       "  ('scaler', StandardScaler(with_mean=False, with_std=False))],\n",
       " 'preprocessor__cat__verbose': False,\n",
       " 'preprocessor__cat__onehot': OneHotEncoder(handle_unknown='ignore'),\n",
       " 'preprocessor__cat__scaler': StandardScaler(with_mean=False, with_std=False),\n",
       " 'preprocessor__cat__onehot__categories': 'auto',\n",
       " 'preprocessor__cat__onehot__drop': None,\n",
       " 'preprocessor__cat__onehot__dtype': numpy.float64,\n",
       " 'preprocessor__cat__onehot__handle_unknown': 'ignore',\n",
       " 'preprocessor__cat__onehot__sparse': True,\n",
       " 'preprocessor__cat__scaler__copy': True,\n",
       " 'preprocessor__cat__scaler__with_mean': False,\n",
       " 'preprocessor__cat__scaler__with_std': False,\n",
       " 'model__C': 1.0,\n",
       " 'model__class_weight': 'balanced',\n",
       " 'model__dual': False,\n",
       " 'model__fit_intercept': True,\n",
       " 'model__intercept_scaling': 1,\n",
       " 'model__l1_ratio': None,\n",
       " 'model__max_iter': 100,\n",
       " 'model__multi_class': 'auto',\n",
       " 'model__n_jobs': None,\n",
       " 'model__penalty': 'l2',\n",
       " 'model__random_state': 42,\n",
       " 'model__solver': 'lbfgs',\n",
       " 'model__tol': 0.0001,\n",
       " 'model__verbose': 0,\n",
       " 'model__warm_start': False}"
      ]
     },
     "execution_count": 44,
     "metadata": {},
     "output_type": "execute_result"
    }
   ],
=======
   "outputs": [],
>>>>>>> main
   "source": [
    "pipe_tune.get_params()"
   ]
  },
  {
   "cell_type": "code",
<<<<<<< HEAD
   "execution_count": 45,
=======
   "execution_count": null,
>>>>>>> main
   "id": "2a277ed6-ebdf-4118-9fd2-12d74c7a189c",
   "metadata": {},
   "outputs": [],
   "source": [
    "tune_params = {\n",
    "    'model__max_iter': [1000, 2000],\n",
    "    'model__penalty': ['none', 'l1', 'l2', 'elasticnet'],\n",
    "    'model__solver': ['lbfgs', 'saga'], \n",
    "    'model__C': [1, 10, 100, 1000]\n",
    "}"
   ]
  },
  {
   "cell_type": "code",
<<<<<<< HEAD
   "execution_count": 46,
=======
   "execution_count": null,
>>>>>>> main
   "id": "27be8d1d-3a95-4b08-b3c2-a1ae56a5c248",
   "metadata": {
    "scrolled": true,
    "tags": []
   },
<<<<<<< HEAD
   "outputs": [
    {
     "name": "stderr",
     "output_type": "stream",
     "text": [
      "/Users/ranma/opt/anaconda3/lib/python3.9/site-packages/sklearn/linear_model/_sag.py:352: ConvergenceWarning: The max_iter was reached which means the coef_ did not converge\n",
      "  warnings.warn(\n",
      "/Users/ranma/opt/anaconda3/lib/python3.9/site-packages/sklearn/linear_model/_sag.py:352: ConvergenceWarning: The max_iter was reached which means the coef_ did not converge\n",
      "  warnings.warn(\n",
      "/Users/ranma/opt/anaconda3/lib/python3.9/site-packages/sklearn/linear_model/_sag.py:352: ConvergenceWarning: The max_iter was reached which means the coef_ did not converge\n",
      "  warnings.warn(\n",
      "/Users/ranma/opt/anaconda3/lib/python3.9/site-packages/sklearn/linear_model/_sag.py:352: ConvergenceWarning: The max_iter was reached which means the coef_ did not converge\n",
      "  warnings.warn(\n",
      "/Users/ranma/opt/anaconda3/lib/python3.9/site-packages/sklearn/linear_model/_sag.py:352: ConvergenceWarning: The max_iter was reached which means the coef_ did not converge\n",
      "  warnings.warn(\n",
      "/Users/ranma/opt/anaconda3/lib/python3.9/site-packages/sklearn/linear_model/_sag.py:352: ConvergenceWarning: The max_iter was reached which means the coef_ did not converge\n",
      "  warnings.warn(\n",
      "/Users/ranma/opt/anaconda3/lib/python3.9/site-packages/sklearn/linear_model/_sag.py:352: ConvergenceWarning: The max_iter was reached which means the coef_ did not converge\n",
      "  warnings.warn(\n",
      "/Users/ranma/opt/anaconda3/lib/python3.9/site-packages/sklearn/linear_model/_sag.py:352: ConvergenceWarning: The max_iter was reached which means the coef_ did not converge\n",
      "  warnings.warn(\n",
      "/Users/ranma/opt/anaconda3/lib/python3.9/site-packages/sklearn/linear_model/_sag.py:352: ConvergenceWarning: The max_iter was reached which means the coef_ did not converge\n",
      "  warnings.warn(\n",
      "/Users/ranma/opt/anaconda3/lib/python3.9/site-packages/sklearn/linear_model/_sag.py:352: ConvergenceWarning: The max_iter was reached which means the coef_ did not converge\n",
      "  warnings.warn(\n",
      "/Users/ranma/opt/anaconda3/lib/python3.9/site-packages/sklearn/linear_model/_sag.py:352: ConvergenceWarning: The max_iter was reached which means the coef_ did not converge\n",
      "  warnings.warn(\n",
      "/Users/ranma/opt/anaconda3/lib/python3.9/site-packages/sklearn/linear_model/_sag.py:352: ConvergenceWarning: The max_iter was reached which means the coef_ did not converge\n",
      "  warnings.warn(\n",
      "/Users/ranma/opt/anaconda3/lib/python3.9/site-packages/sklearn/linear_model/_sag.py:352: ConvergenceWarning: The max_iter was reached which means the coef_ did not converge\n",
      "  warnings.warn(\n",
      "/Users/ranma/opt/anaconda3/lib/python3.9/site-packages/sklearn/linear_model/_logistic.py:1483: UserWarning: Setting penalty='none' will ignore the C and l1_ratio parameters\n",
      "  warnings.warn(\n",
      "/Users/ranma/opt/anaconda3/lib/python3.9/site-packages/sklearn/linear_model/_logistic.py:1483: UserWarning: Setting penalty='none' will ignore the C and l1_ratio parameters\n",
      "  warnings.warn(\n",
      "/Users/ranma/opt/anaconda3/lib/python3.9/site-packages/sklearn/linear_model/_logistic.py:1483: UserWarning: Setting penalty='none' will ignore the C and l1_ratio parameters\n",
      "  warnings.warn(\n",
      "/Users/ranma/opt/anaconda3/lib/python3.9/site-packages/sklearn/linear_model/_logistic.py:1483: UserWarning: Setting penalty='none' will ignore the C and l1_ratio parameters\n",
      "  warnings.warn(\n",
      "/Users/ranma/opt/anaconda3/lib/python3.9/site-packages/sklearn/linear_model/_sag.py:352: ConvergenceWarning: The max_iter was reached which means the coef_ did not converge\n",
      "  warnings.warn(\n",
      "/Users/ranma/opt/anaconda3/lib/python3.9/site-packages/sklearn/linear_model/_logistic.py:1483: UserWarning: Setting penalty='none' will ignore the C and l1_ratio parameters\n",
      "  warnings.warn(\n",
      "/Users/ranma/opt/anaconda3/lib/python3.9/site-packages/sklearn/linear_model/_sag.py:352: ConvergenceWarning: The max_iter was reached which means the coef_ did not converge\n",
      "  warnings.warn(\n",
      "/Users/ranma/opt/anaconda3/lib/python3.9/site-packages/sklearn/linear_model/_logistic.py:1483: UserWarning: Setting penalty='none' will ignore the C and l1_ratio parameters\n",
      "  warnings.warn(\n",
      "/Users/ranma/opt/anaconda3/lib/python3.9/site-packages/sklearn/linear_model/_sag.py:352: ConvergenceWarning: The max_iter was reached which means the coef_ did not converge\n",
      "  warnings.warn(\n",
      "/Users/ranma/opt/anaconda3/lib/python3.9/site-packages/sklearn/linear_model/_sag.py:352: ConvergenceWarning: The max_iter was reached which means the coef_ did not converge\n",
      "  warnings.warn(\n",
      "/Users/ranma/opt/anaconda3/lib/python3.9/site-packages/sklearn/linear_model/_sag.py:352: ConvergenceWarning: The max_iter was reached which means the coef_ did not converge\n",
      "  warnings.warn(\n",
      "/Users/ranma/opt/anaconda3/lib/python3.9/site-packages/sklearn/linear_model/_sag.py:352: ConvergenceWarning: The max_iter was reached which means the coef_ did not converge\n",
      "  warnings.warn(\n",
      "/Users/ranma/opt/anaconda3/lib/python3.9/site-packages/sklearn/linear_model/_sag.py:352: ConvergenceWarning: The max_iter was reached which means the coef_ did not converge\n",
      "  warnings.warn(\n",
      "/Users/ranma/opt/anaconda3/lib/python3.9/site-packages/sklearn/linear_model/_sag.py:352: ConvergenceWarning: The max_iter was reached which means the coef_ did not converge\n",
      "  warnings.warn(\n",
      "/Users/ranma/opt/anaconda3/lib/python3.9/site-packages/sklearn/linear_model/_sag.py:352: ConvergenceWarning: The max_iter was reached which means the coef_ did not converge\n",
      "  warnings.warn(\n",
      "/Users/ranma/opt/anaconda3/lib/python3.9/site-packages/sklearn/linear_model/_logistic.py:1483: UserWarning: Setting penalty='none' will ignore the C and l1_ratio parameters\n",
      "  warnings.warn(\n",
      "/Users/ranma/opt/anaconda3/lib/python3.9/site-packages/sklearn/linear_model/_logistic.py:1483: UserWarning: Setting penalty='none' will ignore the C and l1_ratio parameters\n",
      "  warnings.warn(\n",
      "/Users/ranma/opt/anaconda3/lib/python3.9/site-packages/sklearn/linear_model/_logistic.py:1483: UserWarning: Setting penalty='none' will ignore the C and l1_ratio parameters\n",
      "  warnings.warn(\n",
      "/Users/ranma/opt/anaconda3/lib/python3.9/site-packages/sklearn/linear_model/_logistic.py:1483: UserWarning: Setting penalty='none' will ignore the C and l1_ratio parameters\n",
      "  warnings.warn(\n",
      "/Users/ranma/opt/anaconda3/lib/python3.9/site-packages/sklearn/linear_model/_sag.py:352: ConvergenceWarning: The max_iter was reached which means the coef_ did not converge\n",
      "  warnings.warn(\n",
      "/Users/ranma/opt/anaconda3/lib/python3.9/site-packages/sklearn/linear_model/_logistic.py:1483: UserWarning: Setting penalty='none' will ignore the C and l1_ratio parameters\n",
      "  warnings.warn(\n",
      "/Users/ranma/opt/anaconda3/lib/python3.9/site-packages/sklearn/linear_model/_logistic.py:1483: UserWarning: Setting penalty='none' will ignore the C and l1_ratio parameters\n",
      "  warnings.warn(\n",
      "/Users/ranma/opt/anaconda3/lib/python3.9/site-packages/sklearn/linear_model/_sag.py:352: ConvergenceWarning: The max_iter was reached which means the coef_ did not converge\n",
      "  warnings.warn(\n",
      "/Users/ranma/opt/anaconda3/lib/python3.9/site-packages/sklearn/linear_model/_sag.py:352: ConvergenceWarning: The max_iter was reached which means the coef_ did not converge\n",
      "  warnings.warn(\n",
      "/Users/ranma/opt/anaconda3/lib/python3.9/site-packages/sklearn/linear_model/_sag.py:352: ConvergenceWarning: The max_iter was reached which means the coef_ did not converge\n",
      "  warnings.warn(\n",
      "/Users/ranma/opt/anaconda3/lib/python3.9/site-packages/sklearn/linear_model/_sag.py:352: ConvergenceWarning: The max_iter was reached which means the coef_ did not converge\n",
      "  warnings.warn(\n",
      "/Users/ranma/opt/anaconda3/lib/python3.9/site-packages/sklearn/linear_model/_sag.py:352: ConvergenceWarning: The max_iter was reached which means the coef_ did not converge\n",
      "  warnings.warn(\n",
      "/Users/ranma/opt/anaconda3/lib/python3.9/site-packages/sklearn/linear_model/_logistic.py:1483: UserWarning: Setting penalty='none' will ignore the C and l1_ratio parameters\n",
      "  warnings.warn(\n",
      "/Users/ranma/opt/anaconda3/lib/python3.9/site-packages/sklearn/linear_model/_logistic.py:1483: UserWarning: Setting penalty='none' will ignore the C and l1_ratio parameters\n",
      "  warnings.warn(\n",
      "/Users/ranma/opt/anaconda3/lib/python3.9/site-packages/sklearn/linear_model/_logistic.py:1483: UserWarning: Setting penalty='none' will ignore the C and l1_ratio parameters\n",
      "  warnings.warn(\n",
      "/Users/ranma/opt/anaconda3/lib/python3.9/site-packages/sklearn/linear_model/_logistic.py:1483: UserWarning: Setting penalty='none' will ignore the C and l1_ratio parameters\n",
      "  warnings.warn(\n",
      "/Users/ranma/opt/anaconda3/lib/python3.9/site-packages/sklearn/linear_model/_sag.py:352: ConvergenceWarning: The max_iter was reached which means the coef_ did not converge\n",
      "  warnings.warn(\n",
      "/Users/ranma/opt/anaconda3/lib/python3.9/site-packages/sklearn/linear_model/_logistic.py:1483: UserWarning: Setting penalty='none' will ignore the C and l1_ratio parameters\n",
      "  warnings.warn(\n",
      "/Users/ranma/opt/anaconda3/lib/python3.9/site-packages/sklearn/linear_model/_sag.py:352: ConvergenceWarning: The max_iter was reached which means the coef_ did not converge\n",
      "  warnings.warn(\n",
      "/Users/ranma/opt/anaconda3/lib/python3.9/site-packages/sklearn/linear_model/_logistic.py:1483: UserWarning: Setting penalty='none' will ignore the C and l1_ratio parameters\n",
      "  warnings.warn(\n",
      "/Users/ranma/opt/anaconda3/lib/python3.9/site-packages/sklearn/linear_model/_sag.py:352: ConvergenceWarning: The max_iter was reached which means the coef_ did not converge\n",
      "  warnings.warn(\n",
      "/Users/ranma/opt/anaconda3/lib/python3.9/site-packages/sklearn/linear_model/_sag.py:352: ConvergenceWarning: The max_iter was reached which means the coef_ did not converge\n",
      "  warnings.warn(\n",
      "/Users/ranma/opt/anaconda3/lib/python3.9/site-packages/sklearn/linear_model/_sag.py:352: ConvergenceWarning: The max_iter was reached which means the coef_ did not converge\n",
      "  warnings.warn(\n",
      "/Users/ranma/opt/anaconda3/lib/python3.9/site-packages/sklearn/linear_model/_sag.py:352: ConvergenceWarning: The max_iter was reached which means the coef_ did not converge\n",
      "  warnings.warn(\n",
      "/Users/ranma/opt/anaconda3/lib/python3.9/site-packages/sklearn/linear_model/_sag.py:352: ConvergenceWarning: The max_iter was reached which means the coef_ did not converge\n",
      "  warnings.warn(\n",
      "/Users/ranma/opt/anaconda3/lib/python3.9/site-packages/sklearn/linear_model/_sag.py:352: ConvergenceWarning: The max_iter was reached which means the coef_ did not converge\n",
      "  warnings.warn(\n",
      "/Users/ranma/opt/anaconda3/lib/python3.9/site-packages/sklearn/linear_model/_sag.py:352: ConvergenceWarning: The max_iter was reached which means the coef_ did not converge\n",
      "  warnings.warn(\n",
      "/Users/ranma/opt/anaconda3/lib/python3.9/site-packages/sklearn/linear_model/_logistic.py:1483: UserWarning: Setting penalty='none' will ignore the C and l1_ratio parameters\n",
      "  warnings.warn(\n",
      "/Users/ranma/opt/anaconda3/lib/python3.9/site-packages/sklearn/linear_model/_logistic.py:1483: UserWarning: Setting penalty='none' will ignore the C and l1_ratio parameters\n",
      "  warnings.warn(\n",
      "/Users/ranma/opt/anaconda3/lib/python3.9/site-packages/sklearn/linear_model/_logistic.py:1483: UserWarning: Setting penalty='none' will ignore the C and l1_ratio parameters\n",
      "  warnings.warn(\n",
      "/Users/ranma/opt/anaconda3/lib/python3.9/site-packages/sklearn/linear_model/_logistic.py:1483: UserWarning: Setting penalty='none' will ignore the C and l1_ratio parameters\n",
      "  warnings.warn(\n",
      "/Users/ranma/opt/anaconda3/lib/python3.9/site-packages/sklearn/linear_model/_sag.py:352: ConvergenceWarning: The max_iter was reached which means the coef_ did not converge\n",
      "  warnings.warn(\n",
      "/Users/ranma/opt/anaconda3/lib/python3.9/site-packages/sklearn/linear_model/_logistic.py:1483: UserWarning: Setting penalty='none' will ignore the C and l1_ratio parameters\n",
      "  warnings.warn(\n",
      "/Users/ranma/opt/anaconda3/lib/python3.9/site-packages/sklearn/linear_model/_logistic.py:1483: UserWarning: Setting penalty='none' will ignore the C and l1_ratio parameters\n",
      "  warnings.warn(\n",
      "/Users/ranma/opt/anaconda3/lib/python3.9/site-packages/sklearn/linear_model/_sag.py:352: ConvergenceWarning: The max_iter was reached which means the coef_ did not converge\n",
      "  warnings.warn(\n",
      "/Users/ranma/opt/anaconda3/lib/python3.9/site-packages/sklearn/linear_model/_sag.py:352: ConvergenceWarning: The max_iter was reached which means the coef_ did not converge\n",
      "  warnings.warn(\n",
      "/Users/ranma/opt/anaconda3/lib/python3.9/site-packages/sklearn/linear_model/_sag.py:352: ConvergenceWarning: The max_iter was reached which means the coef_ did not converge\n",
      "  warnings.warn(\n",
      "/Users/ranma/opt/anaconda3/lib/python3.9/site-packages/sklearn/linear_model/_sag.py:352: ConvergenceWarning: The max_iter was reached which means the coef_ did not converge\n",
      "  warnings.warn(\n",
      "/Users/ranma/opt/anaconda3/lib/python3.9/site-packages/sklearn/linear_model/_sag.py:352: ConvergenceWarning: The max_iter was reached which means the coef_ did not converge\n",
      "  warnings.warn(\n",
      "/Users/ranma/opt/anaconda3/lib/python3.9/site-packages/sklearn/linear_model/_logistic.py:1483: UserWarning: Setting penalty='none' will ignore the C and l1_ratio parameters\n",
      "  warnings.warn(\n",
      "/Users/ranma/opt/anaconda3/lib/python3.9/site-packages/sklearn/linear_model/_logistic.py:1483: UserWarning: Setting penalty='none' will ignore the C and l1_ratio parameters\n",
      "  warnings.warn(\n",
      "/Users/ranma/opt/anaconda3/lib/python3.9/site-packages/sklearn/linear_model/_logistic.py:1483: UserWarning: Setting penalty='none' will ignore the C and l1_ratio parameters\n",
      "  warnings.warn(\n",
      "/Users/ranma/opt/anaconda3/lib/python3.9/site-packages/sklearn/linear_model/_logistic.py:1483: UserWarning: Setting penalty='none' will ignore the C and l1_ratio parameters\n",
      "  warnings.warn(\n",
      "/Users/ranma/opt/anaconda3/lib/python3.9/site-packages/sklearn/linear_model/_sag.py:352: ConvergenceWarning: The max_iter was reached which means the coef_ did not converge\n",
      "  warnings.warn(\n",
      "/Users/ranma/opt/anaconda3/lib/python3.9/site-packages/sklearn/linear_model/_logistic.py:1483: UserWarning: Setting penalty='none' will ignore the C and l1_ratio parameters\n",
      "  warnings.warn(\n",
      "/Users/ranma/opt/anaconda3/lib/python3.9/site-packages/sklearn/linear_model/_sag.py:352: ConvergenceWarning: The max_iter was reached which means the coef_ did not converge\n",
      "  warnings.warn(\n",
      "/Users/ranma/opt/anaconda3/lib/python3.9/site-packages/sklearn/linear_model/_logistic.py:1483: UserWarning: Setting penalty='none' will ignore the C and l1_ratio parameters\n",
      "  warnings.warn(\n",
      "/Users/ranma/opt/anaconda3/lib/python3.9/site-packages/sklearn/linear_model/_sag.py:352: ConvergenceWarning: The max_iter was reached which means the coef_ did not converge\n",
      "  warnings.warn(\n",
      "/Users/ranma/opt/anaconda3/lib/python3.9/site-packages/sklearn/linear_model/_sag.py:352: ConvergenceWarning: The max_iter was reached which means the coef_ did not converge\n",
      "  warnings.warn(\n",
      "/Users/ranma/opt/anaconda3/lib/python3.9/site-packages/sklearn/linear_model/_sag.py:352: ConvergenceWarning: The max_iter was reached which means the coef_ did not converge\n",
      "  warnings.warn(\n",
      "/Users/ranma/opt/anaconda3/lib/python3.9/site-packages/sklearn/linear_model/_sag.py:352: ConvergenceWarning: The max_iter was reached which means the coef_ did not converge\n",
      "  warnings.warn(\n",
      "/Users/ranma/opt/anaconda3/lib/python3.9/site-packages/sklearn/linear_model/_sag.py:352: ConvergenceWarning: The max_iter was reached which means the coef_ did not converge\n",
      "  warnings.warn(\n",
      "/Users/ranma/opt/anaconda3/lib/python3.9/site-packages/sklearn/linear_model/_sag.py:352: ConvergenceWarning: The max_iter was reached which means the coef_ did not converge\n",
      "  warnings.warn(\n",
      "/Users/ranma/opt/anaconda3/lib/python3.9/site-packages/sklearn/linear_model/_sag.py:352: ConvergenceWarning: The max_iter was reached which means the coef_ did not converge\n",
      "  warnings.warn(\n",
      "/Users/ranma/opt/anaconda3/lib/python3.9/site-packages/sklearn/linear_model/_logistic.py:1483: UserWarning: Setting penalty='none' will ignore the C and l1_ratio parameters\n",
      "  warnings.warn(\n",
      "/Users/ranma/opt/anaconda3/lib/python3.9/site-packages/sklearn/linear_model/_logistic.py:1483: UserWarning: Setting penalty='none' will ignore the C and l1_ratio parameters\n",
      "  warnings.warn(\n",
      "/Users/ranma/opt/anaconda3/lib/python3.9/site-packages/sklearn/linear_model/_logistic.py:1483: UserWarning: Setting penalty='none' will ignore the C and l1_ratio parameters\n",
      "  warnings.warn(\n",
      "/Users/ranma/opt/anaconda3/lib/python3.9/site-packages/sklearn/linear_model/_logistic.py:1483: UserWarning: Setting penalty='none' will ignore the C and l1_ratio parameters\n",
      "  warnings.warn(\n",
      "/Users/ranma/opt/anaconda3/lib/python3.9/site-packages/sklearn/linear_model/_sag.py:352: ConvergenceWarning: The max_iter was reached which means the coef_ did not converge\n",
      "  warnings.warn(\n",
      "/Users/ranma/opt/anaconda3/lib/python3.9/site-packages/sklearn/linear_model/_logistic.py:1483: UserWarning: Setting penalty='none' will ignore the C and l1_ratio parameters\n",
      "  warnings.warn(\n",
      "/Users/ranma/opt/anaconda3/lib/python3.9/site-packages/sklearn/linear_model/_logistic.py:1483: UserWarning: Setting penalty='none' will ignore the C and l1_ratio parameters\n",
      "  warnings.warn(\n",
      "/Users/ranma/opt/anaconda3/lib/python3.9/site-packages/sklearn/linear_model/_sag.py:352: ConvergenceWarning: The max_iter was reached which means the coef_ did not converge\n",
      "  warnings.warn(\n",
      "/Users/ranma/opt/anaconda3/lib/python3.9/site-packages/sklearn/linear_model/_sag.py:352: ConvergenceWarning: The max_iter was reached which means the coef_ did not converge\n",
      "  warnings.warn(\n",
      "/Users/ranma/opt/anaconda3/lib/python3.9/site-packages/sklearn/linear_model/_sag.py:352: ConvergenceWarning: The max_iter was reached which means the coef_ did not converge\n",
      "  warnings.warn(\n",
      "/Users/ranma/opt/anaconda3/lib/python3.9/site-packages/sklearn/linear_model/_sag.py:352: ConvergenceWarning: The max_iter was reached which means the coef_ did not converge\n",
      "  warnings.warn(\n",
      "/Users/ranma/opt/anaconda3/lib/python3.9/site-packages/sklearn/linear_model/_sag.py:352: ConvergenceWarning: The max_iter was reached which means the coef_ did not converge\n",
      "  warnings.warn(\n",
      "/Users/ranma/opt/anaconda3/lib/python3.9/site-packages/sklearn/model_selection/_validation.py:372: FitFailedWarning: \n",
      "72 fits failed out of a total of 192.\n",
      "The score on these train-test partitions for these parameters will be set to nan.\n",
      "If these failures are not expected, you can try to debug them by setting error_score='raise'.\n",
      "\n",
      "Below are more details about the failures:\n",
      "--------------------------------------------------------------------------------\n",
      "24 fits failed with the following error:\n",
      "Traceback (most recent call last):\n",
      "  File \"/Users/ranma/opt/anaconda3/lib/python3.9/site-packages/sklearn/model_selection/_validation.py\", line 680, in _fit_and_score\n",
      "    estimator.fit(X_train, y_train, **fit_params)\n",
      "  File \"/Users/ranma/opt/anaconda3/lib/python3.9/site-packages/sklearn/pipeline.py\", line 394, in fit\n",
      "    self._final_estimator.fit(Xt, y, **fit_params_last_step)\n",
      "  File \"/Users/ranma/opt/anaconda3/lib/python3.9/site-packages/sklearn/linear_model/_logistic.py\", line 1461, in fit\n",
      "    solver = _check_solver(self.solver, self.penalty, self.dual)\n",
      "  File \"/Users/ranma/opt/anaconda3/lib/python3.9/site-packages/sklearn/linear_model/_logistic.py\", line 447, in _check_solver\n",
      "    raise ValueError(\n",
      "ValueError: Solver lbfgs supports only 'l2' or 'none' penalties, got l1 penalty.\n",
      "\n",
      "--------------------------------------------------------------------------------\n",
      "24 fits failed with the following error:\n",
      "Traceback (most recent call last):\n",
      "  File \"/Users/ranma/opt/anaconda3/lib/python3.9/site-packages/sklearn/model_selection/_validation.py\", line 680, in _fit_and_score\n",
      "    estimator.fit(X_train, y_train, **fit_params)\n",
      "  File \"/Users/ranma/opt/anaconda3/lib/python3.9/site-packages/sklearn/pipeline.py\", line 394, in fit\n",
      "    self._final_estimator.fit(Xt, y, **fit_params_last_step)\n",
      "  File \"/Users/ranma/opt/anaconda3/lib/python3.9/site-packages/sklearn/linear_model/_logistic.py\", line 1461, in fit\n",
      "    solver = _check_solver(self.solver, self.penalty, self.dual)\n",
      "  File \"/Users/ranma/opt/anaconda3/lib/python3.9/site-packages/sklearn/linear_model/_logistic.py\", line 447, in _check_solver\n",
      "    raise ValueError(\n",
      "ValueError: Solver lbfgs supports only 'l2' or 'none' penalties, got elasticnet penalty.\n",
      "\n",
      "--------------------------------------------------------------------------------\n",
      "24 fits failed with the following error:\n",
      "Traceback (most recent call last):\n",
      "  File \"/Users/ranma/opt/anaconda3/lib/python3.9/site-packages/sklearn/model_selection/_validation.py\", line 680, in _fit_and_score\n",
      "    estimator.fit(X_train, y_train, **fit_params)\n",
      "  File \"/Users/ranma/opt/anaconda3/lib/python3.9/site-packages/sklearn/pipeline.py\", line 394, in fit\n",
      "    self._final_estimator.fit(Xt, y, **fit_params_last_step)\n",
      "  File \"/Users/ranma/opt/anaconda3/lib/python3.9/site-packages/sklearn/linear_model/_logistic.py\", line 1471, in fit\n",
      "    raise ValueError(\n",
      "ValueError: l1_ratio must be between 0 and 1; got (l1_ratio=None)\n",
      "\n",
      "  warnings.warn(some_fits_failed_message, FitFailedWarning)\n",
      "/Users/ranma/opt/anaconda3/lib/python3.9/site-packages/sklearn/model_selection/_search.py:969: UserWarning: One or more of the test scores are non-finite: [0.78486891 0.78490806        nan 0.78490281 0.78490105 0.78489404\n",
      "        nan        nan 0.78486891 0.78487973        nan 0.78490281\n",
      " 0.78490105 0.78487447        nan        nan 0.78486891 0.78490806\n",
      "        nan 0.7848993  0.78488148 0.78490631        nan        nan\n",
      " 0.78486891 0.78487973        nan 0.78490456 0.78488148 0.78488148\n",
      "        nan        nan 0.78486891 0.78490806        nan 0.78490806\n",
      " 0.78488673 0.78490806        nan        nan 0.78486891 0.78487973\n",
      "        nan 0.78488323 0.78488673 0.78488323        nan        nan\n",
      " 0.78486891 0.78490806        nan 0.78490806 0.78486015 0.78490806\n",
      "        nan        nan 0.78486891 0.78487973        nan 0.78487973\n",
      " 0.78486015 0.78487973        nan        nan]\n",
      "  warnings.warn(\n",
      "/Users/ranma/opt/anaconda3/lib/python3.9/site-packages/sklearn/linear_model/_sag.py:352: ConvergenceWarning: The max_iter was reached which means the coef_ did not converge\n",
      "  warnings.warn(\n"
     ]
    },
    {
     "data": {
      "text/plain": [
       "GridSearchCV(cv=3,\n",
       "             estimator=Pipeline(steps=[('preprocessor',\n",
       "                                        ColumnTransformer(transformers=[('num',\n",
       "                                                                         Pipeline(steps=[('imputer',\n",
       "                                                                                          SimpleImputer(strategy='median')),\n",
       "                                                                                         ('scaler',\n",
       "                                                                                          StandardScaler())]),\n",
       "                                                                         Index(['physhlth', 'menthlth', 'children', 'htm4', 'wtkg3', '_bmi5',\n",
       "       '_drnkwk1', '_age80', 'ftjuda2_', 'frutda2_', 'grenda1_', 'frnchda_',\n",
       "       'potada1_', 'vegeda2_'],\n",
       "      dtype='obj...\n",
       "       'employ1', 'decide', 'diffwalk', 'diffdres', '_smoker3', 'usenow3',\n",
       "       'ecignow1', '_metstat', '_imprace', '_educag'],\n",
       "      dtype='object'))])),\n",
       "                                       ('model',\n",
       "                                        LogisticRegression(class_weight='balanced',\n",
       "                                                           random_state=42))]),\n",
       "             param_grid={'model__C': [1, 10, 100, 1000],\n",
       "                         'model__max_iter': [1000, 2000],\n",
       "                         'model__penalty': ['none', 'l1', 'l2', 'elasticnet'],\n",
       "                         'model__solver': ['lbfgs', 'saga']},\n",
       "             scoring='balanced_accuracy')"
      ]
     },
     "execution_count": 46,
     "metadata": {},
     "output_type": "execute_result"
    }
   ],
=======
   "outputs": [],
>>>>>>> main
   "source": [
    "gs_tune = GridSearchCV(pipe_tune, param_grid=tune_params, cv = 3, scoring='balanced_accuracy')\n",
    "gs_tune.fit(X_train, y_train)"
   ]
  },
  {
   "cell_type": "code",
<<<<<<< HEAD
   "execution_count": 47,
   "id": "1fc0780f-250d-4b48-bd55-d7b3fc6a9a00",
   "metadata": {},
   "outputs": [
    {
     "data": {
      "text/plain": [
       "{'model__C': 1,\n",
       " 'model__max_iter': 1000,\n",
       " 'model__penalty': 'none',\n",
       " 'model__solver': 'saga'}"
      ]
     },
     "execution_count": 47,
     "metadata": {},
     "output_type": "execute_result"
    }
   ],
=======
   "execution_count": null,
   "id": "1fc0780f-250d-4b48-bd55-d7b3fc6a9a00",
   "metadata": {},
   "outputs": [],
>>>>>>> main
   "source": [
    "gs_tune.best_params_"
   ]
  },
  {
   "cell_type": "code",
<<<<<<< HEAD
   "execution_count": 48,
=======
   "execution_count": null,
>>>>>>> main
   "id": "eeba983f-b5eb-46ad-abc5-e0a3e4ab18a1",
   "metadata": {},
   "outputs": [],
   "source": [
    "scores.append(evaluation(X_test, y_test, gs_tune.predict(X_test), gs_tune))"
   ]
  },
  {
   "cell_type": "markdown",
   "id": "651f478d-a107-4115-a839-65eef101cb04",
   "metadata": {},
   "source": [
    "After hyptertune, the recall and balanced accuracy do not improve."
   ]
  },
  {
   "cell_type": "markdown",
   "id": "257594ba-fa28-4e14-b3c4-88bf5b60b56a",
   "metadata": {},
   "source": [
    "# Compare the results"
   ]
  },
  {
   "cell_type": "code",
<<<<<<< HEAD
   "execution_count": 49,
   "id": "40b9cebd-efff-407a-bfc2-19cc51c7d664",
   "metadata": {},
   "outputs": [
    {
     "data": {
      "text/plain": [
       "[{'balanced_accuracy': 0.5596616503354611,\n",
       "  'recall': 0.12966878083157152,\n",
       "  'precision': 0.5287356321839081,\n",
       "  'f1_score': 0.2082625919637804},\n",
       " {'balanced_accuracy': 0.6714836080461467,\n",
       "  'recall': 0.40204369274136714,\n",
       "  'precision': 0.3785666887856669,\n",
       "  'f1_score': 0.3899521531100479},\n",
       " {'balanced_accuracy': 0.7763814192105138,\n",
       "  'recall': 0.7475922010805732,\n",
       "  'precision': 0.25566356041131105,\n",
       "  'f1_score': 0.38102364561508534},\n",
       " {'balanced_accuracy': 0.7786508457941417,\n",
       "  'recall': 0.7973925299506694,\n",
       "  'precision': 0.2291645569620253,\n",
       "  'f1_score': 0.35601352945803505},\n",
       " {'balanced_accuracy': 0.7786936896746863,\n",
       "  'recall': 0.8132487667371389,\n",
       "  'precision': 0.2214971209213052,\n",
       "  'f1_score': 0.34816714436566604},\n",
       " {'balanced_accuracy': 0.7847271959775144,\n",
       "  'recall': 0.8110171482264505,\n",
       "  'precision': 0.23108329707841102,\n",
       "  'f1_score': 0.35968225029300693},\n",
       " {'balanced_accuracy': 0.7846684691746015,\n",
       "  'recall': 0.8108996946206248,\n",
       "  'precision': 0.23105756358768406,\n",
       "  'f1_score': 0.35963952700942853}]"
      ]
     },
     "execution_count": 49,
     "metadata": {},
     "output_type": "execute_result"
    }
   ],
=======
   "execution_count": null,
   "id": "40b9cebd-efff-407a-bfc2-19cc51c7d664",
   "metadata": {},
   "outputs": [],
>>>>>>> main
   "source": [
    "scores"
   ]
  },
  {
   "cell_type": "code",
<<<<<<< HEAD
   "execution_count": 50,
=======
   "execution_count": null,
>>>>>>> main
   "id": "68bcd2ea-69c9-451a-bf16-81d5bf5e5913",
   "metadata": {},
   "outputs": [],
   "source": [
    "evaluations = pd.DataFrame(scores, index = ['lgr', 'lgr_oversample', 'lgr_oversample_bac', 'lgr_smote_bac', 'lgr_adasyn_bac', 'lgr_weight_bac', 'lgr_weight_tune_bac'])\n",
    "\n",
    "evaluations\n",
    "\n",
    "evaluations.to_csv('../data/scores_LogisticRegression.csv')"
   ]
  },
  {
   "cell_type": "markdown",
   "id": "0c128369-1f55-4dfe-8727-3dbdc279c70b",
   "metadata": {},
   "source": [
    "After evaluating various sampling methods for logistic regression, the ADASYN method stands out with the highest recall and a reasonable balanced accuracy."
   ]
  },
  {
   "cell_type": "markdown",
   "id": "a4899a5e-8078-4c73-a8b4-1dd3b11d4b90",
   "metadata": {},
   "source": [
    "### Use Logistic Regression with ADASYN to analyze"
   ]
  },
  {
   "cell_type": "code",
<<<<<<< HEAD
   "execution_count": 51,
=======
   "execution_count": null,
>>>>>>> main
   "id": "3c9d67da-bbba-4ec9-a2c8-4cba53aca57c",
   "metadata": {},
   "outputs": [],
   "source": [
    "RocCurveDisplay.from_estimator(gs_lg_adasyn, X_test, y_test);"
   ]
  },
  {
   "cell_type": "markdown",
   "id": "25fda9cd-5e92-4f67-b7cf-012c3a0f4e68",
   "metadata": {},
   "source": [
    "The Roc curve is not bad as the it is not far away the top left corner."
   ]
  },
  {
   "cell_type": "markdown",
   "id": "15fd65ee-47c0-480d-a137-b443690a7d80",
   "metadata": {},
   "source": [
    "### Find coefficient"
   ]
  },
  {
   "cell_type": "code",
<<<<<<< HEAD
   "execution_count": 52,
=======
   "execution_count": null,
>>>>>>> main
   "id": "48035310-a2fd-48b8-91d7-23fe67d5920a",
   "metadata": {},
   "outputs": [],
   "source": [
    "lg_num = gs_lg_adasyn.best_estimator_['preprocessor'].transformers_[0][2]"
   ]
  },
  {
   "cell_type": "code",
<<<<<<< HEAD
   "execution_count": 53,
=======
   "execution_count": null,
>>>>>>> main
   "id": "6047497d-2b47-4b50-a2ab-984638b9dc33",
   "metadata": {},
   "outputs": [],
   "source": [
    "lg_cat = gs_lg_adasyn.best_estimator_['preprocessor'].transformers_[1][1].named_steps['onehot'].get_feature_names_out(input_features=df_cat.columns)"
   ]
  },
  {
   "cell_type": "code",
<<<<<<< HEAD
   "execution_count": 54,
=======
   "execution_count": null,
>>>>>>> main
   "id": "4306f6fc-7423-4b2e-9ef6-07aa424c5783",
   "metadata": {},
   "outputs": [],
   "source": [
    "feature_names = np.concatenate([lg_num, lg_cat])"
   ]
  },
  {
   "cell_type": "code",
<<<<<<< HEAD
   "execution_count": 55,
=======
   "execution_count": null,
>>>>>>> main
   "id": "8ac83899-2dd4-49b3-a602-062f56c80a47",
   "metadata": {},
   "outputs": [],
   "source": [
    "coef_features = pd.DataFrame(gs_lg_adasyn.best_estimator_.named_steps['model'].coef_[0],\n",
    "                             index = feature_names, \n",
    "                             columns = ['coefficient'])"
   ]
  },
  {
   "cell_type": "code",
<<<<<<< HEAD
   "execution_count": 56,
   "id": "a81948e5-e678-4263-b487-96a2909183d4",
   "metadata": {},
   "outputs": [
    {
     "data": {
      "text/html": [
       "<div>\n",
       "<style scoped>\n",
       "    .dataframe tbody tr th:only-of-type {\n",
       "        vertical-align: middle;\n",
       "    }\n",
       "\n",
       "    .dataframe tbody tr th {\n",
       "        vertical-align: top;\n",
       "    }\n",
       "\n",
       "    .dataframe thead th {\n",
       "        text-align: right;\n",
       "    }\n",
       "</style>\n",
       "<table border=\"1\" class=\"dataframe\">\n",
       "  <thead>\n",
       "    <tr style=\"text-align: right;\">\n",
       "      <th></th>\n",
       "      <th>coefficient</th>\n",
       "    </tr>\n",
       "  </thead>\n",
       "  <tbody>\n",
       "    <tr>\n",
       "      <th>physhlth</th>\n",
       "      <td>0.001950</td>\n",
       "    </tr>\n",
       "    <tr>\n",
       "      <th>menthlth</th>\n",
       "      <td>0.046507</td>\n",
       "    </tr>\n",
       "    <tr>\n",
       "      <th>children</th>\n",
       "      <td>0.018230</td>\n",
       "    </tr>\n",
       "    <tr>\n",
       "      <th>htm4</th>\n",
       "      <td>0.019069</td>\n",
       "    </tr>\n",
       "    <tr>\n",
       "      <th>wtkg3</th>\n",
       "      <td>-0.110322</td>\n",
       "    </tr>\n",
       "    <tr>\n",
       "      <th>...</th>\n",
       "      <td>...</td>\n",
       "    </tr>\n",
       "    <tr>\n",
       "      <th>_educag_attended college</th>\n",
       "      <td>0.036788</td>\n",
       "    </tr>\n",
       "    <tr>\n",
       "      <th>_educag_graduated college</th>\n",
       "      <td>-0.057047</td>\n",
       "    </tr>\n",
       "    <tr>\n",
       "      <th>_educag_highschool</th>\n",
       "      <td>-0.016531</td>\n",
       "    </tr>\n",
       "    <tr>\n",
       "      <th>_educag_missing</th>\n",
       "      <td>-0.126394</td>\n",
       "    </tr>\n",
       "    <tr>\n",
       "      <th>_educag_no highschool</th>\n",
       "      <td>-0.062265</td>\n",
       "    </tr>\n",
       "  </tbody>\n",
       "</table>\n",
       "<p>152 rows × 1 columns</p>\n",
       "</div>"
      ],
      "text/plain": [
       "                           coefficient\n",
       "physhlth                      0.001950\n",
       "menthlth                      0.046507\n",
       "children                      0.018230\n",
       "htm4                          0.019069\n",
       "wtkg3                        -0.110322\n",
       "...                                ...\n",
       "_educag_attended college      0.036788\n",
       "_educag_graduated college    -0.057047\n",
       "_educag_highschool           -0.016531\n",
       "_educag_missing              -0.126394\n",
       "_educag_no highschool        -0.062265\n",
       "\n",
       "[152 rows x 1 columns]"
      ]
     },
     "execution_count": 56,
     "metadata": {},
     "output_type": "execute_result"
    }
   ],
=======
   "execution_count": null,
   "id": "a81948e5-e678-4263-b487-96a2909183d4",
   "metadata": {},
   "outputs": [],
>>>>>>> main
   "source": [
    "coef_features"
   ]
  },
  {
   "cell_type": "markdown",
   "id": "eb3d2235-632a-4ad8-9f96-98d4ed4c9334",
   "metadata": {},
   "source": [
    "### Top Five Coefficient"
   ]
  },
  {
   "cell_type": "code",
<<<<<<< HEAD
   "execution_count": 57,
   "id": "92546c78-9a2a-41ab-bdbc-fdb9613a3a8e",
   "metadata": {},
   "outputs": [
    {
     "data": {
      "text/html": [
       "<div>\n",
       "<style scoped>\n",
       "    .dataframe tbody tr th:only-of-type {\n",
       "        vertical-align: middle;\n",
       "    }\n",
       "\n",
       "    .dataframe tbody tr th {\n",
       "        vertical-align: top;\n",
       "    }\n",
       "\n",
       "    .dataframe thead th {\n",
       "        text-align: right;\n",
       "    }\n",
       "</style>\n",
       "<table border=\"1\" class=\"dataframe\">\n",
       "  <thead>\n",
       "    <tr style=\"text-align: right;\">\n",
       "      <th></th>\n",
       "      <th>coefficient</th>\n",
       "    </tr>\n",
       "  </thead>\n",
       "  <tbody>\n",
       "    <tr>\n",
       "      <th>genhlth_Poor</th>\n",
       "      <td>0.784153</td>\n",
       "    </tr>\n",
       "    <tr>\n",
       "      <th>_age80</th>\n",
       "      <td>0.682038</td>\n",
       "    </tr>\n",
       "    <tr>\n",
       "      <th>cholmed3_Yes</th>\n",
       "      <td>0.669721</td>\n",
       "    </tr>\n",
       "    <tr>\n",
       "      <th>usenow3_not sure</th>\n",
       "      <td>0.501643</td>\n",
       "    </tr>\n",
       "    <tr>\n",
       "      <th>cvdstrk3_Yes</th>\n",
       "      <td>0.439639</td>\n",
       "    </tr>\n",
       "  </tbody>\n",
       "</table>\n",
       "</div>"
      ],
      "text/plain": [
       "                  coefficient\n",
       "genhlth_Poor         0.784153\n",
       "_age80               0.682038\n",
       "cholmed3_Yes         0.669721\n",
       "usenow3_not sure     0.501643\n",
       "cvdstrk3_Yes         0.439639"
      ]
     },
     "execution_count": 57,
     "metadata": {},
     "output_type": "execute_result"
    }
   ],
=======
   "execution_count": null,
   "id": "92546c78-9a2a-41ab-bdbc-fdb9613a3a8e",
   "metadata": {},
   "outputs": [],
>>>>>>> main
   "source": [
    "features_top_coef = coef_features.sort_values('coefficient', ascending = False)[: 5]\n",
    "\n",
    "features_top_coef"
   ]
  },
  {
   "cell_type": "markdown",
   "id": "2ccd926e-14c0-4088-aabc-bd57d99d2331",
   "metadata": {},
   "source": [
    "### Bottom Five Coefficient"
   ]
  },
  {
   "cell_type": "code",
<<<<<<< HEAD
   "execution_count": 58,
   "id": "304e0ae8-7704-4031-bb2e-b89ab8cc635f",
   "metadata": {},
   "outputs": [
    {
     "data": {
      "text/html": [
       "<div>\n",
       "<style scoped>\n",
       "    .dataframe tbody tr th:only-of-type {\n",
       "        vertical-align: middle;\n",
       "    }\n",
       "\n",
       "    .dataframe tbody tr th {\n",
       "        vertical-align: top;\n",
       "    }\n",
       "\n",
       "    .dataframe thead th {\n",
       "        text-align: right;\n",
       "    }\n",
       "</style>\n",
       "<table border=\"1\" class=\"dataframe\">\n",
       "  <thead>\n",
       "    <tr style=\"text-align: right;\">\n",
       "      <th></th>\n",
       "      <th>coefficient</th>\n",
       "    </tr>\n",
       "  </thead>\n",
       "  <tbody>\n",
       "    <tr>\n",
       "      <th>genhlth_Excellent</th>\n",
       "      <td>-1.043458</td>\n",
       "    </tr>\n",
       "    <tr>\n",
       "      <th>diffwalk_refused</th>\n",
       "      <td>-0.585811</td>\n",
       "    </tr>\n",
       "    <tr>\n",
       "      <th>genhlth_Very good</th>\n",
       "      <td>-0.548534</td>\n",
       "    </tr>\n",
       "    <tr>\n",
       "      <th>cholmed3_Refused</th>\n",
       "      <td>-0.540574</td>\n",
       "    </tr>\n",
       "    <tr>\n",
       "      <th>cvdstrk3_No</th>\n",
       "      <td>-0.505347</td>\n",
       "    </tr>\n",
       "  </tbody>\n",
       "</table>\n",
       "</div>"
      ],
      "text/plain": [
       "                   coefficient\n",
       "genhlth_Excellent    -1.043458\n",
       "diffwalk_refused     -0.585811\n",
       "genhlth_Very good    -0.548534\n",
       "cholmed3_Refused     -0.540574\n",
       "cvdstrk3_No          -0.505347"
      ]
     },
     "execution_count": 58,
     "metadata": {},
     "output_type": "execute_result"
    }
   ],
=======
   "execution_count": null,
   "id": "304e0ae8-7704-4031-bb2e-b89ab8cc635f",
   "metadata": {},
   "outputs": [],
>>>>>>> main
   "source": [
    "features_bot_coef = coef_features.sort_values('coefficient')[: 5]\n",
    "\n",
    "features_bot_coef"
   ]
  },
  {
   "cell_type": "code",
<<<<<<< HEAD
   "execution_count": 59,
=======
   "execution_count": null,
>>>>>>> main
   "id": "d7e45e81-3035-4270-9351-0539d2d6e287",
   "metadata": {},
   "outputs": [],
   "source": [
    "fig, ax = plt.subplots(1, 2, figsize = (16, 8))\n",
    "plt.subplots_adjust(wspace=0.3)\n",
    "\n",
    "sns.barplot(x = features_top_coef.coefficient, y = features_top_coef.index, ax = ax[0])\n",
    "sns.barplot(x = features_bot_coef.coefficient, y = features_bot_coef.index, ax = ax[1])\n",
    "\n",
    "ax[0].set(title = 'Top 5 Positive Coefficient for Heart Disease', xlabel = 'Positive Coefficient')\n",
    "ax[1].set(title = 'Top 5 Negative Coefficient for Heart Disease', xlabel = 'Negative Coefficient')\n",
    "\n",
    "fig.suptitle('Coefficient in Logistic Regression', fontsize = 20)\n",
    "\n",
    "plt.savefig('../graph/logistic_coefficient.png');"
   ]
  },
  {
   "cell_type": "markdown",
   "id": "49b1873e-6fcd-4d9a-839d-4ffcebee5219",
   "metadata": {},
   "source": [
    "On the left barchart, we have the top 5 positive coefficents for the heart disease. These include important terms like poor general health, age over 80, takeing medicine for your cholesterol and had a stroke before. The higher the coefficient, the more likely the person will have a heart disease. On the right barchart, we have the top negtive coefficients for the heart disease. These terms include excellent/good health and not have stroke. The more negative the coefficient, the less probability the person will have a heart disease."
   ]
  },
  {
   "cell_type": "code",
   "execution_count": null,
   "id": "a3b6bd95-cf38-48bc-a6cc-9c689868205b",
   "metadata": {},
   "outputs": [],
   "source": []
  }
 ],
 "metadata": {
  "kernelspec": {
   "display_name": "Python 3 (ipykernel)",
   "language": "python",
   "name": "python3"
  },
  "language_info": {
   "codemirror_mode": {
    "name": "ipython",
    "version": 3
   },
   "file_extension": ".py",
   "mimetype": "text/x-python",
   "name": "python",
   "nbconvert_exporter": "python",
   "pygments_lexer": "ipython3",
   "version": "3.9.13"
  }
 },
 "nbformat": 4,
 "nbformat_minor": 5
}
