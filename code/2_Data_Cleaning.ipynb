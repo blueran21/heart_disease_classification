{
 "cells": [
  {
   "cell_type": "code",
   "execution_count": 1,
   "id": "30c9bce5-76d5-420f-be6c-5d5013fba155",
   "metadata": {},
   "outputs": [],
   "source": [
    "# Import Libraries\n",
    "import pandas as pd\n",
    "import numpy as np"
   ]
  },
  {
   "cell_type": "code",
   "execution_count": 2,
   "id": "635b5053-f275-477e-9c29-a04388029124",
   "metadata": {},
   "outputs": [],
   "source": [
    "# Import Data\n",
    "df = pd.read_csv('../data/2021_heart.csv.zip')"
   ]
  },
  {
   "cell_type": "code",
   "execution_count": 3,
   "id": "1c36360b-c67b-42c6-b0b4-eade5f9538c7",
   "metadata": {},
   "outputs": [
    {
     "data": {
      "text/html": [
       "<div>\n",
       "<style scoped>\n",
       "    .dataframe tbody tr th:only-of-type {\n",
       "        vertical-align: middle;\n",
       "    }\n",
       "\n",
       "    .dataframe tbody tr th {\n",
       "        vertical-align: top;\n",
       "    }\n",
       "\n",
       "    .dataframe thead th {\n",
       "        text-align: right;\n",
       "    }\n",
       "</style>\n",
       "<table border=\"1\" class=\"dataframe\">\n",
       "  <thead>\n",
       "    <tr style=\"text-align: right;\">\n",
       "      <th></th>\n",
       "      <th>_STATE</th>\n",
       "      <th>FMONTH</th>\n",
       "      <th>IDATE</th>\n",
       "      <th>IMONTH</th>\n",
       "      <th>IDAY</th>\n",
       "      <th>IYEAR</th>\n",
       "      <th>DISPCODE</th>\n",
       "      <th>SEQNO</th>\n",
       "      <th>_PSU</th>\n",
       "      <th>CTELENM1</th>\n",
       "      <th>...</th>\n",
       "      <th>_FRTRES1</th>\n",
       "      <th>_VEGRES1</th>\n",
       "      <th>_FRUTSU1</th>\n",
       "      <th>_VEGESU1</th>\n",
       "      <th>_FRTLT1A</th>\n",
       "      <th>_VEGLT1A</th>\n",
       "      <th>_FRT16A</th>\n",
       "      <th>_VEG23A</th>\n",
       "      <th>_FRUITE1</th>\n",
       "      <th>_VEGETE1</th>\n",
       "    </tr>\n",
       "  </thead>\n",
       "  <tbody>\n",
       "    <tr>\n",
       "      <th>0</th>\n",
       "      <td>1.0</td>\n",
       "      <td>1.0</td>\n",
       "      <td>b'01192021'</td>\n",
       "      <td>b'01'</td>\n",
       "      <td>b'19'</td>\n",
       "      <td>b'2021'</td>\n",
       "      <td>1100.0</td>\n",
       "      <td>b'2021000001'</td>\n",
       "      <td>2.021000e+09</td>\n",
       "      <td>1.0</td>\n",
       "      <td>...</td>\n",
       "      <td>1.0</td>\n",
       "      <td>1.0</td>\n",
       "      <td>100.0</td>\n",
       "      <td>214.0</td>\n",
       "      <td>1.0</td>\n",
       "      <td>1.0</td>\n",
       "      <td>1.0</td>\n",
       "      <td>1.0</td>\n",
       "      <td>5.397605e-79</td>\n",
       "      <td>5.397605e-79</td>\n",
       "    </tr>\n",
       "    <tr>\n",
       "      <th>1</th>\n",
       "      <td>1.0</td>\n",
       "      <td>1.0</td>\n",
       "      <td>b'01212021'</td>\n",
       "      <td>b'01'</td>\n",
       "      <td>b'21'</td>\n",
       "      <td>b'2021'</td>\n",
       "      <td>1100.0</td>\n",
       "      <td>b'2021000002'</td>\n",
       "      <td>2.021000e+09</td>\n",
       "      <td>1.0</td>\n",
       "      <td>...</td>\n",
       "      <td>1.0</td>\n",
       "      <td>1.0</td>\n",
       "      <td>100.0</td>\n",
       "      <td>128.0</td>\n",
       "      <td>1.0</td>\n",
       "      <td>1.0</td>\n",
       "      <td>1.0</td>\n",
       "      <td>1.0</td>\n",
       "      <td>5.397605e-79</td>\n",
       "      <td>5.397605e-79</td>\n",
       "    </tr>\n",
       "    <tr>\n",
       "      <th>2</th>\n",
       "      <td>1.0</td>\n",
       "      <td>1.0</td>\n",
       "      <td>b'01212021'</td>\n",
       "      <td>b'01'</td>\n",
       "      <td>b'21'</td>\n",
       "      <td>b'2021'</td>\n",
       "      <td>1100.0</td>\n",
       "      <td>b'2021000003'</td>\n",
       "      <td>2.021000e+09</td>\n",
       "      <td>1.0</td>\n",
       "      <td>...</td>\n",
       "      <td>1.0</td>\n",
       "      <td>1.0</td>\n",
       "      <td>100.0</td>\n",
       "      <td>71.0</td>\n",
       "      <td>1.0</td>\n",
       "      <td>2.0</td>\n",
       "      <td>1.0</td>\n",
       "      <td>1.0</td>\n",
       "      <td>5.397605e-79</td>\n",
       "      <td>5.397605e-79</td>\n",
       "    </tr>\n",
       "    <tr>\n",
       "      <th>3</th>\n",
       "      <td>1.0</td>\n",
       "      <td>1.0</td>\n",
       "      <td>b'01172021'</td>\n",
       "      <td>b'01'</td>\n",
       "      <td>b'17'</td>\n",
       "      <td>b'2021'</td>\n",
       "      <td>1100.0</td>\n",
       "      <td>b'2021000004'</td>\n",
       "      <td>2.021000e+09</td>\n",
       "      <td>1.0</td>\n",
       "      <td>...</td>\n",
       "      <td>1.0</td>\n",
       "      <td>1.0</td>\n",
       "      <td>114.0</td>\n",
       "      <td>165.0</td>\n",
       "      <td>1.0</td>\n",
       "      <td>1.0</td>\n",
       "      <td>1.0</td>\n",
       "      <td>1.0</td>\n",
       "      <td>5.397605e-79</td>\n",
       "      <td>5.397605e-79</td>\n",
       "    </tr>\n",
       "    <tr>\n",
       "      <th>4</th>\n",
       "      <td>1.0</td>\n",
       "      <td>1.0</td>\n",
       "      <td>b'01152021'</td>\n",
       "      <td>b'01'</td>\n",
       "      <td>b'15'</td>\n",
       "      <td>b'2021'</td>\n",
       "      <td>1100.0</td>\n",
       "      <td>b'2021000005'</td>\n",
       "      <td>2.021000e+09</td>\n",
       "      <td>1.0</td>\n",
       "      <td>...</td>\n",
       "      <td>1.0</td>\n",
       "      <td>1.0</td>\n",
       "      <td>100.0</td>\n",
       "      <td>258.0</td>\n",
       "      <td>1.0</td>\n",
       "      <td>1.0</td>\n",
       "      <td>1.0</td>\n",
       "      <td>1.0</td>\n",
       "      <td>5.397605e-79</td>\n",
       "      <td>5.397605e-79</td>\n",
       "    </tr>\n",
       "  </tbody>\n",
       "</table>\n",
       "<p>5 rows × 303 columns</p>\n",
       "</div>"
      ],
      "text/plain": [
       "   _STATE  FMONTH        IDATE IMONTH   IDAY    IYEAR  DISPCODE  \\\n",
       "0     1.0     1.0  b'01192021'  b'01'  b'19'  b'2021'    1100.0   \n",
       "1     1.0     1.0  b'01212021'  b'01'  b'21'  b'2021'    1100.0   \n",
       "2     1.0     1.0  b'01212021'  b'01'  b'21'  b'2021'    1100.0   \n",
       "3     1.0     1.0  b'01172021'  b'01'  b'17'  b'2021'    1100.0   \n",
       "4     1.0     1.0  b'01152021'  b'01'  b'15'  b'2021'    1100.0   \n",
       "\n",
       "           SEQNO          _PSU  CTELENM1  ...  _FRTRES1  _VEGRES1  _FRUTSU1  \\\n",
       "0  b'2021000001'  2.021000e+09       1.0  ...       1.0       1.0     100.0   \n",
       "1  b'2021000002'  2.021000e+09       1.0  ...       1.0       1.0     100.0   \n",
       "2  b'2021000003'  2.021000e+09       1.0  ...       1.0       1.0     100.0   \n",
       "3  b'2021000004'  2.021000e+09       1.0  ...       1.0       1.0     114.0   \n",
       "4  b'2021000005'  2.021000e+09       1.0  ...       1.0       1.0     100.0   \n",
       "\n",
       "   _VEGESU1  _FRTLT1A  _VEGLT1A  _FRT16A  _VEG23A      _FRUITE1      _VEGETE1  \n",
       "0     214.0       1.0       1.0      1.0      1.0  5.397605e-79  5.397605e-79  \n",
       "1     128.0       1.0       1.0      1.0      1.0  5.397605e-79  5.397605e-79  \n",
       "2      71.0       1.0       2.0      1.0      1.0  5.397605e-79  5.397605e-79  \n",
       "3     165.0       1.0       1.0      1.0      1.0  5.397605e-79  5.397605e-79  \n",
       "4     258.0       1.0       1.0      1.0      1.0  5.397605e-79  5.397605e-79  \n",
       "\n",
       "[5 rows x 303 columns]"
      ]
     },
     "execution_count": 3,
     "metadata": {},
     "output_type": "execute_result"
    }
   ],
   "source": [
    "df.head()"
   ]
  },
  {
   "cell_type": "markdown",
   "id": "4d83987f-c591-473c-af73-f630f83ed483",
   "metadata": {},
   "source": [
    "# 1. Initial Data Cleaning"
   ]
  },
  {
   "cell_type": "code",
   "execution_count": 4,
   "id": "ef8f3803-721b-48c2-aa7b-fd8ab09cc9f1",
   "metadata": {},
   "outputs": [
    {
     "data": {
      "text/plain": [
       "(438693, 303)"
      ]
     },
     "execution_count": 4,
     "metadata": {},
     "output_type": "execute_result"
    }
   ],
   "source": [
    "df.shape"
   ]
  },
  {
   "cell_type": "code",
   "execution_count": 5,
   "id": "a0731b19-5f70-467b-b4c8-cd172440477d",
   "metadata": {},
   "outputs": [],
   "source": [
    "missing_values = df.isnull().sum()"
   ]
  },
  {
   "cell_type": "markdown",
   "id": "66ab4a2e-64a9-4d95-9de3-3114443c6153",
   "metadata": {},
   "source": [
    "## 1.1 Discard columns with excessive missing data"
   ]
  },
  {
   "cell_type": "code",
   "execution_count": 6,
   "id": "0172aa6f-e986-4c51-8496-b5ca2cf0d154",
   "metadata": {},
   "outputs": [],
   "source": [
    "columns_with_more_than_100k_missing_values = missing_values[missing_values > 100_000]"
   ]
  },
  {
   "cell_type": "code",
   "execution_count": 7,
   "id": "42372587-9c83-494e-81a9-e1e00ededcd9",
   "metadata": {},
   "outputs": [],
   "source": [
    "df = df.drop(columns = list(columns_with_more_than_100k_missing_values.index))"
   ]
  },
  {
   "cell_type": "code",
   "execution_count": 8,
   "id": "10fa7872-364d-410e-a517-5d98278197db",
   "metadata": {},
   "outputs": [
    {
     "data": {
      "text/plain": [
       "(438693, 138)"
      ]
     },
     "execution_count": 8,
     "metadata": {},
     "output_type": "execute_result"
    }
   ],
   "source": [
    "df.shape"
   ]
  },
  {
   "cell_type": "markdown",
   "id": "9ea92c1f-0008-430a-b3ae-963283ee91e2",
   "metadata": {},
   "source": [
    "##  1.2 Eliminate columns that don't pertain to our analysis"
   ]
  },
  {
   "cell_type": "code",
   "execution_count": 9,
   "id": "78846ead-cea5-40ee-aa31-0750c1920d7e",
   "metadata": {},
   "outputs": [],
   "source": [
    "initial_removed_columns = ['FMONTH', 'IDATE', 'IMONTH', 'IDAY', \n",
    "                           'IYEAR', 'SEQNO', '_PSU', 'PRIMINSR', \n",
    "                           'PERSDOC3', 'MEDCOST1', 'CHOLCHK3', 'CVDINFR4', \n",
    "                           'CVDCRHD4', 'EDUCA', 'RENTHOM1', 'CPDEMO1B', \n",
    "                           'VETERAN3', 'DEAF', 'BLIND', 'DIFFALON', \n",
    "                           'FLUSHOT7','PNEUVAC4', 'HIVTST7', \n",
    "                           'VEGETAB2', 'QSTVER', 'QSTLANG', '_STSTR', \n",
    "                           '_STRWT','_RAWRAKE', '_WT2RAKE', '_DUALUSE', \n",
    "                           '_LLCPWT2', '_LLCPWT', '_HLTHPLN', '_HCVU652',\n",
    "                           '_LTASTH1', '_CASTHM1', '_LMTACT3', '_LMTWRK3', \n",
    "                           '_MRACE1', '_HISPANC', '_RACEG21','_RACEPRV', \n",
    "                           '_BMI5CAT', '_RFBMI5', '_RFSMOK3', '_CURECI1', \n",
    "                           '_RFBING5', '_RFDRHV7', '_AIDTST4', '_MISFRT1', \n",
    "                           '_MISVEG1', '_FRTRES1', '_VEGRES1','_FRTLT1A', \n",
    "                           '_VEGLT1A', '_FRT16A', '_VEG23A', '_FRUITE1', \n",
    "                           '_VEGETE1', 'DRNKANY5', 'ALCDAY5', 'DROCDY3_', \n",
    "                           'SEXVAR', '_AGE65YR', 'HEIGHT3', 'HTIN4', \n",
    "                           'WEIGHT2', '_PRACE1', '_RACE', '_RACEGR3', \n",
    "                           'INCOME3', 'EXERANY2', '_CHLDCNT', '_CHOLCH3',\n",
    "                           'TOLDHI3', 'BPHIGH6', '_MENT14D', '_PHYS14D',\n",
    "                           'FRUIT2', 'FRUITJU2', 'FVGREEN1', 'FRENCHF1',\n",
    "                           'POTATOE1', '_FRUTSU1', '_VEGESU1', 'DISPCODE', '_RFHLTH', 'ASTHMA3', 'SMOKE100',\n",
    "                           '_URBSTAT', 'HAVARTH5', '_AGEG5YR', '_AGE_G'\n",
    "                    ]"
   ]
  },
  {
   "cell_type": "code",
   "execution_count": 10,
   "id": "890c38fb-aabb-417d-ac55-02ec73c8889c",
   "metadata": {},
   "outputs": [
    {
     "data": {
      "text/plain": [
       "94"
      ]
     },
     "execution_count": 10,
     "metadata": {},
     "output_type": "execute_result"
    }
   ],
   "source": [
    "# The number of columns to be removed\n",
    "len(initial_removed_columns)"
   ]
  },
  {
   "cell_type": "code",
   "execution_count": 11,
   "id": "193bec58-d145-4fb0-94c3-53f93875ddfe",
   "metadata": {},
   "outputs": [],
   "source": [
    "df_after_initial = df.drop(columns = initial_removed_columns)"
   ]
  },
  {
   "cell_type": "code",
   "execution_count": 12,
   "id": "59b92d98-82c5-42b7-b8e8-b32f286d50cb",
   "metadata": {},
   "outputs": [
    {
     "data": {
      "text/html": [
       "<div>\n",
       "<style scoped>\n",
       "    .dataframe tbody tr th:only-of-type {\n",
       "        vertical-align: middle;\n",
       "    }\n",
       "\n",
       "    .dataframe tbody tr th {\n",
       "        vertical-align: top;\n",
       "    }\n",
       "\n",
       "    .dataframe thead th {\n",
       "        text-align: right;\n",
       "    }\n",
       "</style>\n",
       "<table border=\"1\" class=\"dataframe\">\n",
       "  <thead>\n",
       "    <tr style=\"text-align: right;\">\n",
       "      <th></th>\n",
       "      <th>_STATE</th>\n",
       "      <th>GENHLTH</th>\n",
       "      <th>PHYSHLTH</th>\n",
       "      <th>MENTHLTH</th>\n",
       "      <th>CHECKUP1</th>\n",
       "      <th>CHOLMED3</th>\n",
       "      <th>CVDSTRK3</th>\n",
       "      <th>CHCSCNCR</th>\n",
       "      <th>CHCOCNCR</th>\n",
       "      <th>CHCCOPD3</th>\n",
       "      <th>...</th>\n",
       "      <th>_EDUCAG</th>\n",
       "      <th>_INCOMG1</th>\n",
       "      <th>_SMOKER3</th>\n",
       "      <th>_DRNKWK1</th>\n",
       "      <th>FTJUDA2_</th>\n",
       "      <th>FRUTDA2_</th>\n",
       "      <th>GRENDA1_</th>\n",
       "      <th>FRNCHDA_</th>\n",
       "      <th>POTADA1_</th>\n",
       "      <th>VEGEDA2_</th>\n",
       "    </tr>\n",
       "  </thead>\n",
       "  <tbody>\n",
       "    <tr>\n",
       "      <th>0</th>\n",
       "      <td>1.0</td>\n",
       "      <td>5.0</td>\n",
       "      <td>20.0</td>\n",
       "      <td>10.0</td>\n",
       "      <td>2.0</td>\n",
       "      <td>1.0</td>\n",
       "      <td>2.0</td>\n",
       "      <td>2.0</td>\n",
       "      <td>2.0</td>\n",
       "      <td>1.0</td>\n",
       "      <td>...</td>\n",
       "      <td>2.0</td>\n",
       "      <td>3.0</td>\n",
       "      <td>3.0</td>\n",
       "      <td>5.397605e-79</td>\n",
       "      <td>5.397605e-79</td>\n",
       "      <td>100.0</td>\n",
       "      <td>5.700000e+01</td>\n",
       "      <td>4.300000e+01</td>\n",
       "      <td>14.0</td>\n",
       "      <td>100.0</td>\n",
       "    </tr>\n",
       "    <tr>\n",
       "      <th>1</th>\n",
       "      <td>1.0</td>\n",
       "      <td>3.0</td>\n",
       "      <td>88.0</td>\n",
       "      <td>88.0</td>\n",
       "      <td>1.0</td>\n",
       "      <td>1.0</td>\n",
       "      <td>2.0</td>\n",
       "      <td>2.0</td>\n",
       "      <td>2.0</td>\n",
       "      <td>2.0</td>\n",
       "      <td>...</td>\n",
       "      <td>4.0</td>\n",
       "      <td>9.0</td>\n",
       "      <td>4.0</td>\n",
       "      <td>5.397605e-79</td>\n",
       "      <td>5.397605e-79</td>\n",
       "      <td>100.0</td>\n",
       "      <td>1.400000e+01</td>\n",
       "      <td>5.397605e-79</td>\n",
       "      <td>14.0</td>\n",
       "      <td>100.0</td>\n",
       "    </tr>\n",
       "    <tr>\n",
       "      <th>2</th>\n",
       "      <td>1.0</td>\n",
       "      <td>2.0</td>\n",
       "      <td>88.0</td>\n",
       "      <td>88.0</td>\n",
       "      <td>1.0</td>\n",
       "      <td>2.0</td>\n",
       "      <td>2.0</td>\n",
       "      <td>2.0</td>\n",
       "      <td>2.0</td>\n",
       "      <td>2.0</td>\n",
       "      <td>...</td>\n",
       "      <td>2.0</td>\n",
       "      <td>2.0</td>\n",
       "      <td>4.0</td>\n",
       "      <td>5.397605e-79</td>\n",
       "      <td>5.397605e-79</td>\n",
       "      <td>100.0</td>\n",
       "      <td>5.397605e-79</td>\n",
       "      <td>1.400000e+01</td>\n",
       "      <td>14.0</td>\n",
       "      <td>43.0</td>\n",
       "    </tr>\n",
       "    <tr>\n",
       "      <th>3</th>\n",
       "      <td>1.0</td>\n",
       "      <td>2.0</td>\n",
       "      <td>88.0</td>\n",
       "      <td>10.0</td>\n",
       "      <td>1.0</td>\n",
       "      <td>2.0</td>\n",
       "      <td>2.0</td>\n",
       "      <td>2.0</td>\n",
       "      <td>2.0</td>\n",
       "      <td>2.0</td>\n",
       "      <td>...</td>\n",
       "      <td>2.0</td>\n",
       "      <td>5.0</td>\n",
       "      <td>4.0</td>\n",
       "      <td>3.000000e+02</td>\n",
       "      <td>7.100000e+01</td>\n",
       "      <td>43.0</td>\n",
       "      <td>1.000000e+01</td>\n",
       "      <td>5.700000e+01</td>\n",
       "      <td>27.0</td>\n",
       "      <td>71.0</td>\n",
       "    </tr>\n",
       "    <tr>\n",
       "      <th>4</th>\n",
       "      <td>1.0</td>\n",
       "      <td>5.0</td>\n",
       "      <td>30.0</td>\n",
       "      <td>88.0</td>\n",
       "      <td>1.0</td>\n",
       "      <td>1.0</td>\n",
       "      <td>1.0</td>\n",
       "      <td>2.0</td>\n",
       "      <td>2.0</td>\n",
       "      <td>2.0</td>\n",
       "      <td>...</td>\n",
       "      <td>1.0</td>\n",
       "      <td>2.0</td>\n",
       "      <td>4.0</td>\n",
       "      <td>5.397605e-79</td>\n",
       "      <td>5.397605e-79</td>\n",
       "      <td>100.0</td>\n",
       "      <td>1.000000e+02</td>\n",
       "      <td>2.900000e+01</td>\n",
       "      <td>29.0</td>\n",
       "      <td>100.0</td>\n",
       "    </tr>\n",
       "  </tbody>\n",
       "</table>\n",
       "<p>5 rows × 44 columns</p>\n",
       "</div>"
      ],
      "text/plain": [
       "   _STATE  GENHLTH  PHYSHLTH  MENTHLTH  CHECKUP1  CHOLMED3  CVDSTRK3  \\\n",
       "0     1.0      5.0      20.0      10.0       2.0       1.0       2.0   \n",
       "1     1.0      3.0      88.0      88.0       1.0       1.0       2.0   \n",
       "2     1.0      2.0      88.0      88.0       1.0       2.0       2.0   \n",
       "3     1.0      2.0      88.0      10.0       1.0       2.0       2.0   \n",
       "4     1.0      5.0      30.0      88.0       1.0       1.0       1.0   \n",
       "\n",
       "   CHCSCNCR  CHCOCNCR  CHCCOPD3  ...  _EDUCAG  _INCOMG1  _SMOKER3  \\\n",
       "0       2.0       2.0       1.0  ...      2.0       3.0       3.0   \n",
       "1       2.0       2.0       2.0  ...      4.0       9.0       4.0   \n",
       "2       2.0       2.0       2.0  ...      2.0       2.0       4.0   \n",
       "3       2.0       2.0       2.0  ...      2.0       5.0       4.0   \n",
       "4       2.0       2.0       2.0  ...      1.0       2.0       4.0   \n",
       "\n",
       "       _DRNKWK1      FTJUDA2_  FRUTDA2_      GRENDA1_      FRNCHDA_  POTADA1_  \\\n",
       "0  5.397605e-79  5.397605e-79     100.0  5.700000e+01  4.300000e+01      14.0   \n",
       "1  5.397605e-79  5.397605e-79     100.0  1.400000e+01  5.397605e-79      14.0   \n",
       "2  5.397605e-79  5.397605e-79     100.0  5.397605e-79  1.400000e+01      14.0   \n",
       "3  3.000000e+02  7.100000e+01      43.0  1.000000e+01  5.700000e+01      27.0   \n",
       "4  5.397605e-79  5.397605e-79     100.0  1.000000e+02  2.900000e+01      29.0   \n",
       "\n",
       "   VEGEDA2_  \n",
       "0     100.0  \n",
       "1     100.0  \n",
       "2      43.0  \n",
       "3      71.0  \n",
       "4     100.0  \n",
       "\n",
       "[5 rows x 44 columns]"
      ]
     },
     "execution_count": 12,
     "metadata": {},
     "output_type": "execute_result"
    }
   ],
   "source": [
    "df_after_initial.head()"
   ]
  },
  {
   "cell_type": "markdown",
   "id": "70a79caa-1a79-4208-9cdc-6964f6c6a1ad",
   "metadata": {},
   "source": [
    "## 1.3 Delete rows without label of target variable"
   ]
  },
  {
   "cell_type": "code",
   "execution_count": 13,
   "id": "14d23bda-e765-47e9-ad42-41c1525f7434",
   "metadata": {},
   "outputs": [
    {
     "data": {
      "text/plain": [
       "(434058, 44)"
      ]
     },
     "execution_count": 13,
     "metadata": {},
     "output_type": "execute_result"
    }
   ],
   "source": [
    "# Delete rows without target variables\n",
    "df_target_no_nulls = df_after_initial[df_after_initial['_MICHD'].isnull() == False]\n",
    "df_target_no_nulls.shape"
   ]
  },
  {
   "cell_type": "markdown",
   "id": "59c9ef48-9ccf-4aa5-9ba0-7a7d335d116d",
   "metadata": {},
   "source": [
    "## 1.4 Remove rows with numerous missing values."
   ]
  },
  {
   "cell_type": "code",
   "execution_count": 14,
   "id": "bf225420-c246-4aef-8adb-98c42ec5f7f8",
   "metadata": {},
   "outputs": [],
   "source": [
    "# Delete rows with more than 10 missing columns\n",
    "colums_missing = df_target_no_nulls.isnull().sum(axis = 1)"
   ]
  },
  {
   "cell_type": "code",
   "execution_count": 15,
   "id": "da17b3e6-748b-4de7-826c-f9ec7bfeee59",
   "metadata": {},
   "outputs": [],
   "source": [
    "indexes = colums_missing[colums_missing.values >= 10].index"
   ]
  },
  {
   "cell_type": "code",
   "execution_count": 16,
   "id": "39c1ed44-e935-4949-b378-fea9ec39c1d7",
   "metadata": {},
   "outputs": [
    {
     "data": {
      "text/plain": [
       "19547"
      ]
     },
     "execution_count": 16,
     "metadata": {},
     "output_type": "execute_result"
    }
   ],
   "source": [
    "len(indexes)"
   ]
  },
  {
   "cell_type": "code",
   "execution_count": 17,
   "id": "778b0646-0163-4a82-afb1-4894d4a0ada8",
   "metadata": {},
   "outputs": [],
   "source": [
    "df_cleaning = df_target_no_nulls.drop(indexes)"
   ]
  },
  {
   "cell_type": "code",
   "execution_count": 18,
   "id": "0932985d-5c64-4bce-bab7-5e88d2e9273f",
   "metadata": {},
   "outputs": [
    {
     "data": {
      "text/plain": [
       "(414511, 44)"
      ]
     },
     "execution_count": 18,
     "metadata": {},
     "output_type": "execute_result"
    }
   ],
   "source": [
    "df_cleaning.shape"
   ]
  },
  {
   "cell_type": "code",
   "execution_count": 19,
   "id": "cc8ec0a7-d061-4498-bced-4bccc3d07d28",
   "metadata": {},
   "outputs": [
    {
     "data": {
      "text/plain": [
       "434058"
      ]
     },
     "execution_count": 19,
     "metadata": {},
     "output_type": "execute_result"
    }
   ],
   "source": [
    "df_cleaning.shape[0] + len(indexes)"
   ]
  },
  {
   "cell_type": "markdown",
   "id": "6cfb7cd8-7445-4a4c-a534-5a32a4e208be",
   "metadata": {},
   "source": [
    "## 1.5 Remove duplicated rows"
   ]
  },
  {
   "cell_type": "code",
   "execution_count": 20,
   "id": "6242b89c-2a57-4550-8b2c-f8b2006fa8f3",
   "metadata": {},
   "outputs": [
    {
     "data": {
      "text/plain": [
       "0"
      ]
     },
     "execution_count": 20,
     "metadata": {},
     "output_type": "execute_result"
    }
   ],
   "source": [
    "# Check duplicated rows\n",
    "df_cleaning.duplicated().sum()"
   ]
  },
  {
   "cell_type": "code",
   "execution_count": 21,
   "id": "6e5af21c-78e3-468a-a575-a4961117b45c",
   "metadata": {},
   "outputs": [
    {
     "data": {
      "text/plain": [
       "_STATE          0\n",
       "GENHLTH         3\n",
       "PHYSHLTH        2\n",
       "MENTHLTH        0\n",
       "CHECKUP1        0\n",
       "CHOLMED3    56662\n",
       "CVDSTRK3        0\n",
       "CHCSCNCR        0\n",
       "CHCOCNCR        0\n",
       "CHCCOPD3        0\n",
       "ADDEPEV3        0\n",
       "CHCKDNY2        0\n",
       "DIABETE4        0\n",
       "MARITAL         1\n",
       "EMPLOY1         1\n",
       "CHILDREN        2\n",
       "DECIDE          0\n",
       "DIFFWALK        0\n",
       "DIFFDRES      494\n",
       "USENOW3      2715\n",
       "ECIGNOW1     3648\n",
       "_METSTAT     6812\n",
       "_IMPRACE        0\n",
       "_TOTINDA        0\n",
       "_RFHYPE6        0\n",
       "_RFCHOL3    56248\n",
       "_MICHD          0\n",
       "_ASTHMS1        0\n",
       "_DRDXAR3     2332\n",
       "_SEX            0\n",
       "_AGE80          0\n",
       "HTM4         9849\n",
       "WTKG3       25486\n",
       "_BMI5       30786\n",
       "_EDUCAG         0\n",
       "_INCOMG1        0\n",
       "_SMOKER3        0\n",
       "_DRNKWK1        0\n",
       "FTJUDA2_    24072\n",
       "FRUTDA2_    23649\n",
       "GRENDA1_    23943\n",
       "FRNCHDA_    24471\n",
       "POTADA1_    28095\n",
       "VEGEDA2_    28150\n",
       "dtype: int64"
      ]
     },
     "execution_count": 21,
     "metadata": {},
     "output_type": "execute_result"
    }
   ],
   "source": [
    "df_cleaning.isnull().sum()"
   ]
  },
  {
   "cell_type": "markdown",
   "id": "837a2a71-2b25-4b58-9a1d-6177da01ae27",
   "metadata": {},
   "source": [
    "# 2. Secondary Data Cleaning"
   ]
  },
  {
   "cell_type": "markdown",
   "id": "f3181012-a84f-4e72-869c-3f5ae51997e7",
   "metadata": {},
   "source": [
    "- Categorical Columns: \n",
    "    - We'll identify and match the values to their respective category names, using the code book as our guide.\n",
    "    - Any missing values will be labeled and treated as a new category - we'll call it \"missing\"\n",
    "- Numerical Columns:\n",
    "    - We'll label and assign the values as per the instructions given in the code book."
   ]
  },
  {
   "cell_type": "markdown",
   "id": "8e204eb8-11d9-4f21-8428-08d5f58487ba",
   "metadata": {},
   "source": [
    "## 2.1 Group One Columns"
   ]
  },
  {
   "cell_type": "code",
   "execution_count": 22,
   "id": "ba602352-ae34-4f93-a7d1-f90a39215f59",
   "metadata": {},
   "outputs": [],
   "source": [
    "lucas_df = df_cleaning[['_SMOKER3','USENOW3','ECIGNOW1','_DRNKWK1',\n",
    "'_METSTAT','_IMPRACE','_AGE80','_EDUCAG',\n",
    "'FTJUDA2_','FRUTDA2_','GRENDA1_','FRNCHDA_',\n",
    "'POTADA1_','VEGEDA2_']].copy()"
   ]
  },
  {
   "cell_type": "markdown",
   "id": "b9ab7b18-0875-417b-985b-7a51942817b8",
   "metadata": {},
   "source": [
    "# SMOKER3\n",
    "Four-level smoker status: Everyday smoker, Someday smoker, Former smoker, Non-smoker"
   ]
  },
  {
   "cell_type": "code",
   "execution_count": 23,
   "id": "9e0fd8e4-fdd7-4fda-a780-9117dd0b1fae",
   "metadata": {},
   "outputs": [],
   "source": [
    "#Change smoker values\n",
    "smoker_labels = {9 : 'missing', 4 : 'never smoked', 3: 'former smoker', 2: 'someday smoker', 1: 'everday smoker'}\n",
    "\n",
    "lucas_df['_SMOKER3'] = lucas_df['_SMOKER3'].map(smoker_labels)"
   ]
  },
  {
   "cell_type": "code",
   "execution_count": 24,
   "id": "8fd98e2f-6806-4c05-b4f8-013f41587d4d",
   "metadata": {},
   "outputs": [
    {
     "data": {
      "text/plain": [
       "never smoked      244013\n",
       "former smoker     111829\n",
       "everday smoker     38387\n",
       "someday smoker     14711\n",
       "missing             5571\n",
       "Name: _SMOKER3, dtype: int64"
      ]
     },
     "execution_count": 24,
     "metadata": {},
     "output_type": "execute_result"
    }
   ],
   "source": [
    "lucas_df['_SMOKER3'].value_counts(dropna = False)"
   ]
  },
  {
   "cell_type": "markdown",
   "id": "a253ac82-5c6d-45aa-851f-3b0ec39d85a7",
   "metadata": {},
   "source": [
    "# USENOW3\n",
    "Frequency of using chewing tobacco"
   ]
  },
  {
   "cell_type": "code",
   "execution_count": 25,
   "id": "3c50f2db-a447-4d69-a121-97b8a7ccd1a7",
   "metadata": {},
   "outputs": [],
   "source": [
    "#Change usenow values\n",
    "usenow_labels = {1: 'every day', 2: 'some days', 3: 'no', 7: 'not sure', 9: 'refused', None: 'missing'}\n",
    "\n",
    "lucas_df['USENOW3'] = lucas_df['USENOW3'].map(usenow_labels)"
   ]
  },
  {
   "cell_type": "code",
   "execution_count": 26,
   "id": "0fd315a9-de3b-4446-84d4-b3091e5741e6",
   "metadata": {},
   "outputs": [
    {
     "data": {
      "text/plain": [
       "no           398041\n",
       "every day      7671\n",
       "some days      5393\n",
       "missing        2715\n",
       "refused         506\n",
       "not sure        185\n",
       "Name: USENOW3, dtype: int64"
      ]
     },
     "execution_count": 26,
     "metadata": {},
     "output_type": "execute_result"
    }
   ],
   "source": [
    "lucas_df['USENOW3'].value_counts(dropna = False)"
   ]
  },
  {
   "cell_type": "markdown",
   "id": "ade98bc9-ac6f-4b51-a5df-bd4ff07b8f13",
   "metadata": {},
   "source": [
    "# ECIGNOW1\n",
    "Do you now use e-cigarettes, every day, some days, or not at all?"
   ]
  },
  {
   "cell_type": "code",
   "execution_count": 27,
   "id": "a044b262-92c1-48d2-9dbe-1b29013505e7",
   "metadata": {},
   "outputs": [],
   "source": [
    "#Changing ECIGNOW1 values\n",
    "ECIGNOW1_labels = {1: 'everyday', 2: 'somedays', 3: 'no', 4: 'never', 7: 'not sure', 9: 'refused', None: 'missing'}\n",
    "\n",
    "lucas_df['ECIGNOW1'] = lucas_df['ECIGNOW1'].map(ECIGNOW1_labels)"
   ]
  },
  {
   "cell_type": "code",
   "execution_count": 28,
   "id": "a1d253bb-ebf5-41e3-85d4-823ddf8d51ad",
   "metadata": {},
   "outputs": [
    {
     "data": {
      "text/plain": [
       "no          307990\n",
       "never        82978\n",
       "somedays     10182\n",
       "everyday      8977\n",
       "missing       3648\n",
       "refused        497\n",
       "not sure       239\n",
       "Name: ECIGNOW1, dtype: int64"
      ]
     },
     "execution_count": 28,
     "metadata": {},
     "output_type": "execute_result"
    }
   ],
   "source": [
    "lucas_df['ECIGNOW1'].value_counts(dropna = False)"
   ]
  },
  {
   "cell_type": "markdown",
   "id": "b354ae5e-dcae-45ee-bcd7-5ec35ea8501f",
   "metadata": {},
   "source": [
    "# _DRNKWK1\n",
    "Calculated total number of alcoholic beverages consumed per week."
   ]
  },
  {
   "cell_type": "code",
   "execution_count": 29,
   "id": "80083373-6fa7-4488-96b9-d53ebe68b627",
   "metadata": {},
   "outputs": [],
   "source": [
    "#Changing _DRNKWK1 values: if it is equal to 999000 it is Null\n",
    "\n",
    "lucas_df['_DRNKWK1'] = lucas_df['_DRNKWK1'].map(lambda x: x if x < 99900 else None)"
   ]
  },
  {
   "cell_type": "code",
   "execution_count": 30,
   "id": "0b87bc94-3ba4-4d2b-8017-b14f4561412e",
   "metadata": {},
   "outputs": [
    {
     "data": {
      "text/plain": [
       "15125"
      ]
     },
     "execution_count": 30,
     "metadata": {},
     "output_type": "execute_result"
    }
   ],
   "source": [
    "lucas_df['_DRNKWK1'].isnull().sum()"
   ]
  },
  {
   "cell_type": "markdown",
   "id": "72dfe9af-dae8-46b2-8632-7475670e427f",
   "metadata": {},
   "source": [
    "# _METSTAT\n",
    "Metropolitan Status"
   ]
  },
  {
   "cell_type": "code",
   "execution_count": 31,
   "id": "3aac554a-e140-4629-8c1a-00b9bd36399d",
   "metadata": {},
   "outputs": [],
   "source": [
    "#Changing _METSTAT values\n",
    "_METSTAT_labels = {1: 'yes', 2: 'no', None: 'missing'}\n",
    "\n",
    "lucas_df['_METSTAT'] = lucas_df['_METSTAT'].map(_METSTAT_labels)"
   ]
  },
  {
   "cell_type": "code",
   "execution_count": 32,
   "id": "2f53d288-6842-4474-8729-1898aa1ad1dd",
   "metadata": {},
   "outputs": [
    {
     "data": {
      "text/plain": [
       "yes        283103\n",
       "no         124596\n",
       "missing      6812\n",
       "Name: _METSTAT, dtype: int64"
      ]
     },
     "execution_count": 32,
     "metadata": {},
     "output_type": "execute_result"
    }
   ],
   "source": [
    "lucas_df['_METSTAT'].value_counts(dropna = False)"
   ]
  },
  {
   "cell_type": "markdown",
   "id": "b1871892-cb23-4f74-89ff-4201ad852e24",
   "metadata": {},
   "source": [
    "# _IMPRACE\n",
    "Imputed race/ethnicity value (If no response, imputed with most common race for that region)\n"
   ]
  },
  {
   "cell_type": "code",
   "execution_count": 33,
   "id": "39116df8-f655-4d83-903e-7b73e3574609",
   "metadata": {},
   "outputs": [],
   "source": [
    "#Changing _IMPRACE values\n",
    "_IMPRACE_labels = {1: 'white', 2: 'black', 3: 'asian', 4: 'native american', 5: 'hispanic', 6: 'other race'}\n",
    "\n",
    "lucas_df['_IMPRACE'] = lucas_df['_IMPRACE'].map(_IMPRACE_labels)"
   ]
  },
  {
   "cell_type": "code",
   "execution_count": 34,
   "id": "fd85b9b1-26c2-4b32-9792-838c3748ba73",
   "metadata": {},
   "outputs": [
    {
     "data": {
      "text/plain": [
       "white              315667\n",
       "hispanic            36145\n",
       "black               30488\n",
       "other race          14654\n",
       "asian               10630\n",
       "native american      6927\n",
       "Name: _IMPRACE, dtype: int64"
      ]
     },
     "execution_count": 34,
     "metadata": {},
     "output_type": "execute_result"
    }
   ],
   "source": [
    "lucas_df['_IMPRACE'].value_counts(dropna = False)"
   ]
  },
  {
   "cell_type": "markdown",
   "id": "65bb62d2-90e5-43d3-9c27-1fba50c82093",
   "metadata": {},
   "source": [
    "# _AGE80\n",
    "Imputed Age value collapsed above 80"
   ]
  },
  {
   "cell_type": "code",
   "execution_count": 35,
   "id": "25fb2582-2c81-4e24-820c-1474e98ebbc7",
   "metadata": {},
   "outputs": [
    {
     "data": {
      "text/plain": [
       "count    414511.000000\n",
       "mean         54.722048\n",
       "std          17.569839\n",
       "min          18.000000\n",
       "25%          41.000000\n",
       "50%          57.000000\n",
       "75%          69.000000\n",
       "max          80.000000\n",
       "Name: _AGE80, dtype: float64"
      ]
     },
     "execution_count": 35,
     "metadata": {},
     "output_type": "execute_result"
    }
   ],
   "source": [
    "lucas_df['_AGE80'].describe()"
   ]
  },
  {
   "cell_type": "markdown",
   "id": "c94eb11d-241a-4a4c-96c8-baca4f43a36a",
   "metadata": {},
   "source": [
    "# _EDUCAG\n",
    "Level of education completed"
   ]
  },
  {
   "cell_type": "code",
   "execution_count": 36,
   "id": "e6dd4ed5-5378-4e3c-abd0-8ebe67314dc9",
   "metadata": {},
   "outputs": [],
   "source": [
    "#Changing _IMPRACE values\n",
    "_EDUCAG_labels = {1: 'no highschool', 2: 'highschool', 3: 'attended college', 4: 'graduated college', 9: 'missing'}\n",
    "\n",
    "lucas_df['_EDUCAG'] = lucas_df['_EDUCAG'].map(_EDUCAG_labels)"
   ]
  },
  {
   "cell_type": "code",
   "execution_count": 37,
   "id": "629eba2c-43a5-453e-a270-1d6941f63788",
   "metadata": {},
   "outputs": [
    {
     "data": {
      "text/plain": [
       "graduated college    170496\n",
       "attended college     114027\n",
       "highschool           104345\n",
       "no highschool         23877\n",
       "missing                1766\n",
       "Name: _EDUCAG, dtype: int64"
      ]
     },
     "execution_count": 37,
     "metadata": {},
     "output_type": "execute_result"
    }
   ],
   "source": [
    "lucas_df['_EDUCAG'].value_counts(dropna = False)"
   ]
  },
  {
   "cell_type": "markdown",
   "id": "40c8d025-cba7-4fb5-8e27-34f770adb966",
   "metadata": {},
   "source": [
    "# FTJUDA2_\n",
    "Computed Fruit Juice intake in times per day"
   ]
  },
  {
   "cell_type": "code",
   "execution_count": 38,
   "id": "9a319c04-f508-44d9-9004-ad1b2d5e4430",
   "metadata": {},
   "outputs": [
    {
     "data": {
      "text/plain": [
       "24072"
      ]
     },
     "execution_count": 38,
     "metadata": {},
     "output_type": "execute_result"
    }
   ],
   "source": [
    "lucas_df['FTJUDA2_'].isnull().sum()"
   ]
  },
  {
   "cell_type": "code",
   "execution_count": 39,
   "id": "68638bec-ae86-40cd-bb5c-23b305168ebe",
   "metadata": {},
   "outputs": [
    {
     "data": {
      "text/plain": [
       "count    390439.0\n",
       "mean         44.0\n",
       "std         364.0\n",
       "min           0.0\n",
       "25%           0.0\n",
       "50%           3.0\n",
       "75%          33.0\n",
       "max        9900.0\n",
       "Name: FTJUDA2_, dtype: float64"
      ]
     },
     "execution_count": 39,
     "metadata": {},
     "output_type": "execute_result"
    }
   ],
   "source": [
    "lucas_df['FTJUDA2_'].describe().round()"
   ]
  },
  {
   "cell_type": "markdown",
   "id": "25663278-9c21-42a4-82fa-b0ed71943e78",
   "metadata": {},
   "source": [
    "# FRUTDA2_\n",
    "Computed Fruit intake in times per day"
   ]
  },
  {
   "cell_type": "code",
   "execution_count": 40,
   "id": "dd2e0769-a762-4d92-9480-acb776636a21",
   "metadata": {},
   "outputs": [
    {
     "data": {
      "text/plain": [
       "23649"
      ]
     },
     "execution_count": 40,
     "metadata": {},
     "output_type": "execute_result"
    }
   ],
   "source": [
    "lucas_df['FRUTDA2_'].isnull().sum()"
   ]
  },
  {
   "cell_type": "code",
   "execution_count": 41,
   "id": "4bbf8345-69b0-4b69-ac0a-d7e8979134bc",
   "metadata": {},
   "outputs": [
    {
     "data": {
      "text/plain": [
       "count    390862.0\n",
       "mean        134.0\n",
       "std         499.0\n",
       "min           0.0\n",
       "25%          43.0\n",
       "50%         100.0\n",
       "75%         100.0\n",
       "max        9900.0\n",
       "Name: FRUTDA2_, dtype: float64"
      ]
     },
     "execution_count": 41,
     "metadata": {},
     "output_type": "execute_result"
    }
   ],
   "source": [
    "lucas_df['FRUTDA2_'].describe().round()"
   ]
  },
  {
   "cell_type": "markdown",
   "id": "48398ed1-1b09-46b7-83d6-d43e639a1cb8",
   "metadata": {},
   "source": [
    "# GRENDA1_\n",
    "Computed Dark Green Vegetable intake in times per day\n"
   ]
  },
  {
   "cell_type": "code",
   "execution_count": 42,
   "id": "ec25cf66-1896-4b5b-b95b-35756bd767e1",
   "metadata": {},
   "outputs": [
    {
     "data": {
      "text/plain": [
       "23943"
      ]
     },
     "execution_count": 42,
     "metadata": {},
     "output_type": "execute_result"
    }
   ],
   "source": [
    "lucas_df['GRENDA1_'].isnull().sum()"
   ]
  },
  {
   "cell_type": "code",
   "execution_count": 43,
   "id": "084f420e-901d-4d3b-a9ca-10661327f17b",
   "metadata": {},
   "outputs": [
    {
     "data": {
      "text/plain": [
       "count    390568.0\n",
       "mean         79.0\n",
       "std         464.0\n",
       "min           0.0\n",
       "25%          14.0\n",
       "50%          43.0\n",
       "75%          71.0\n",
       "max        9900.0\n",
       "Name: GRENDA1_, dtype: float64"
      ]
     },
     "execution_count": 43,
     "metadata": {},
     "output_type": "execute_result"
    }
   ],
   "source": [
    "lucas_df['GRENDA1_'].describe().round()"
   ]
  },
  {
   "cell_type": "markdown",
   "id": "4b31fbef-a0af-42ad-912e-8be8c86b4d94",
   "metadata": {},
   "source": [
    "# FRNCHDA_\n",
    "Computed French Fry intake in times per day\n"
   ]
  },
  {
   "cell_type": "code",
   "execution_count": 44,
   "id": "df1b72a8-bb97-4b59-8aba-e2bf0b6763cd",
   "metadata": {},
   "outputs": [
    {
     "data": {
      "text/plain": [
       "24471"
      ]
     },
     "execution_count": 44,
     "metadata": {},
     "output_type": "execute_result"
    }
   ],
   "source": [
    "lucas_df['FRNCHDA_'].isnull().sum()"
   ]
  },
  {
   "cell_type": "code",
   "execution_count": 45,
   "id": "91ff253a-6554-4927-a427-53db2e13ea89",
   "metadata": {},
   "outputs": [
    {
     "data": {
      "text/plain": [
       "count    390040.0\n",
       "mean         26.0\n",
       "std         174.0\n",
       "min           0.0\n",
       "25%           3.0\n",
       "50%          14.0\n",
       "75%          29.0\n",
       "max        9900.0\n",
       "Name: FRNCHDA_, dtype: float64"
      ]
     },
     "execution_count": 45,
     "metadata": {},
     "output_type": "execute_result"
    }
   ],
   "source": [
    "lucas_df['FRNCHDA_'].describe().round()"
   ]
  },
  {
   "cell_type": "markdown",
   "id": "c8acb427-678a-4d1c-96c4-8ac480b4a6ed",
   "metadata": {},
   "source": [
    "# POTADA1_\n",
    "Computed Potato Servings per day\n"
   ]
  },
  {
   "cell_type": "code",
   "execution_count": 46,
   "id": "1dfaad8d-e692-4851-9a2c-a807e3a45366",
   "metadata": {},
   "outputs": [
    {
     "data": {
      "text/plain": [
       "28095"
      ]
     },
     "execution_count": 46,
     "metadata": {},
     "output_type": "execute_result"
    }
   ],
   "source": [
    "lucas_df['POTADA1_'].isnull().sum()"
   ]
  },
  {
   "cell_type": "code",
   "execution_count": 47,
   "id": "c41a1245-bfd4-442a-b9b5-0b693a4a85ea",
   "metadata": {},
   "outputs": [
    {
     "data": {
      "text/plain": [
       "count    386416.0\n",
       "mean         28.0\n",
       "std         178.0\n",
       "min           0.0\n",
       "25%           7.0\n",
       "50%          14.0\n",
       "75%          29.0\n",
       "max        9900.0\n",
       "Name: POTADA1_, dtype: float64"
      ]
     },
     "execution_count": 47,
     "metadata": {},
     "output_type": "execute_result"
    }
   ],
   "source": [
    "lucas_df['POTADA1_'].describe().round()"
   ]
  },
  {
   "cell_type": "markdown",
   "id": "f5df531d-5941-4826-ae0e-c4ac9afcd271",
   "metadata": {},
   "source": [
    "# VEGEDA2_\n",
    "Computed Other Vegetable intake in times per day"
   ]
  },
  {
   "cell_type": "code",
   "execution_count": 48,
   "id": "50e16933-493a-4392-a91c-416f67fa06fd",
   "metadata": {},
   "outputs": [
    {
     "data": {
      "text/plain": [
       "28150"
      ]
     },
     "execution_count": 48,
     "metadata": {},
     "output_type": "execute_result"
    }
   ],
   "source": [
    "lucas_df['VEGEDA2_'].isnull().sum()"
   ]
  },
  {
   "cell_type": "code",
   "execution_count": 49,
   "id": "2113efec-de49-4d0f-8796-57ed994435ff",
   "metadata": {},
   "outputs": [
    {
     "data": {
      "text/plain": [
       "count    386361.0\n",
       "mean        140.0\n",
       "std         650.0\n",
       "min           0.0\n",
       "25%          43.0\n",
       "50%         100.0\n",
       "75%         100.0\n",
       "max        9900.0\n",
       "Name: VEGEDA2_, dtype: float64"
      ]
     },
     "execution_count": 49,
     "metadata": {},
     "output_type": "execute_result"
    }
   ],
   "source": [
    "lucas_df['VEGEDA2_'].describe().round()"
   ]
  },
  {
   "cell_type": "markdown",
   "id": "e6f61a33-3eb5-4a8e-ac3a-949d894d00e1",
   "metadata": {},
   "source": [
    "## 2.2 Group Two Columns"
   ]
  },
  {
   "cell_type": "code",
   "execution_count": 50,
   "id": "0fca47e5-0091-42fa-9158-ea1648863db8",
   "metadata": {},
   "outputs": [],
   "source": [
    "columns_mark = ['CHCCOPD3','CHCKDNY2','DIABETE4','_DRDXAR3','MARITAL','CHILDREN','_INCOMG1','EMPLOY1','HTM4','WTKG3','_BMI5','DECIDE','DIFFWALK','DIFFDRES','_STATE']\n",
    "df_mark = df_cleaning[columns_mark].copy()"
   ]
  },
  {
   "cell_type": "code",
   "execution_count": 51,
   "id": "1ee68705-4176-498b-807b-174f1f249e73",
   "metadata": {},
   "outputs": [],
   "source": [
    "columns_to_map = ['CHCCOPD3','CHCKDNY2','_DRDXAR3','DECIDE','DIFFWALK','DIFFDRES']\n",
    "columns_to_ask = ['DIABETE4']\n",
    "columns_to_map_seperately= ['MARITAL','CHILDREN','INCOMG1','EMPLOY1','HTM4','WTKG3','BMI5','_STATE']"
   ]
  },
  {
   "cell_type": "markdown",
   "id": "faf3742e-2e21-412f-8041-9cb77b70ad76",
   "metadata": {},
   "source": [
    "# MARITAL"
   ]
  },
  {
   "cell_type": "code",
   "execution_count": 52,
   "id": "1d3a9a93-0af6-4a7a-bc29-37cec3a9195e",
   "metadata": {},
   "outputs": [],
   "source": [
    "df_mark['MARITAL'] = df_mark['MARITAL'].apply(lambda x: 'married' if x == 1 else 'divorced' if x == 2 else 'widowed' if x == 3 else 'separated' if x == 4 else 'never_married' if x == 5 else 'member_unmarried' if x ==6 else 'refused' if x ==9 else 'unknown')"
   ]
  },
  {
   "cell_type": "code",
   "execution_count": 53,
   "id": "3febe5e0-aef1-4fba-82e9-2312a120c308",
   "metadata": {},
   "outputs": [
    {
     "data": {
      "text/plain": [
       "married             215707\n",
       "never_married        72928\n",
       "divorced             52734\n",
       "widowed              44502\n",
       "member_unmarried     16790\n",
       "separated             7861\n",
       "refused               3988\n",
       "unknown                  1\n",
       "Name: MARITAL, dtype: int64"
      ]
     },
     "execution_count": 53,
     "metadata": {},
     "output_type": "execute_result"
    }
   ],
   "source": [
    "df_mark['MARITAL'].value_counts()"
   ]
  },
  {
   "cell_type": "code",
   "execution_count": 54,
   "id": "8351ad7d-80d7-4b60-89dd-96ace4e56e3d",
   "metadata": {},
   "outputs": [
    {
     "data": {
      "text/plain": [
       "0"
      ]
     },
     "execution_count": 54,
     "metadata": {},
     "output_type": "execute_result"
    }
   ],
   "source": [
    "df_mark['MARITAL'].isnull().sum()"
   ]
  },
  {
   "cell_type": "markdown",
   "id": "1b3e7c47-fc03-419c-bc2d-9152f25da992",
   "metadata": {},
   "source": [
    "# CHILDREN"
   ]
  },
  {
   "cell_type": "code",
   "execution_count": 55,
   "id": "2f51307c-db34-441f-852c-a86b0f35fd42",
   "metadata": {},
   "outputs": [],
   "source": [
    "df_mark['CHILDREN']= df_mark['CHILDREN'].apply(lambda x: 0 if x == 88 else None if x ==99 else x)"
   ]
  },
  {
   "cell_type": "code",
   "execution_count": 56,
   "id": "c2b6819c-8c1e-4a0e-9f50-e67de9461ff2",
   "metadata": {},
   "outputs": [
    {
     "data": {
      "text/plain": [
       "0.0     304492\n",
       "1.0      44409\n",
       "2.0      37481\n",
       "3.0      15699\n",
       "4.0       5736\n",
       "NaN       3684\n",
       "5.0       1845\n",
       "6.0        688\n",
       "7.0        270\n",
       "8.0         99\n",
       "9.0         42\n",
       "10.0        29\n",
       "11.0         7\n",
       "12.0         7\n",
       "15.0         4\n",
       "13.0         3\n",
       "14.0         3\n",
       "83.0         3\n",
       "23.0         2\n",
       "82.0         1\n",
       "20.0         1\n",
       "21.0         1\n",
       "18.0         1\n",
       "16.0         1\n",
       "55.0         1\n",
       "17.0         1\n",
       "81.0         1\n",
       "Name: CHILDREN, dtype: int64"
      ]
     },
     "execution_count": 56,
     "metadata": {},
     "output_type": "execute_result"
    }
   ],
   "source": [
    "df_mark['CHILDREN'].value_counts(dropna = False)"
   ]
  },
  {
   "cell_type": "markdown",
   "id": "a08fd442-1125-4ef2-aa7e-90c4c8116325",
   "metadata": {},
   "source": [
    "# INCOMIG1"
   ]
  },
  {
   "cell_type": "code",
   "execution_count": 57,
   "id": "a38b240b-80e4-4764-9ba4-a9f4f0851d8a",
   "metadata": {},
   "outputs": [],
   "source": [
    "df_mark['_INCOMG1'] = df_mark['_INCOMG1'].apply(lambda x: 'less_15k' if x == 1 else '15k_25k' if x == 2 else '25k_35k' if x == 3 else '35k_50k' if x == 4 else '50k_100k' if x == 5 else '100k_200k' if x ==6 else 'greater_200k' if x ==7 else 'unknown')"
   ]
  },
  {
   "cell_type": "code",
   "execution_count": 58,
   "id": "d0ec3a0d-8588-4637-8e0a-4d1c812ef593",
   "metadata": {},
   "outputs": [
    {
     "data": {
      "text/plain": [
       "50k_100k        104831\n",
       "unknown          79581\n",
       "100k_200k        66109\n",
       "35k_50k          46934\n",
       "25k_35k          42336\n",
       "15k_25k          34613\n",
       "less_15k         21486\n",
       "greater_200k     18621\n",
       "Name: _INCOMG1, dtype: int64"
      ]
     },
     "execution_count": 58,
     "metadata": {},
     "output_type": "execute_result"
    }
   ],
   "source": [
    "df_mark['_INCOMG1'].value_counts()"
   ]
  },
  {
   "cell_type": "code",
   "execution_count": 59,
   "id": "01471b4a-78c0-4a91-b5e8-7e6b16fcae15",
   "metadata": {},
   "outputs": [
    {
     "data": {
      "text/plain": [
       "0"
      ]
     },
     "execution_count": 59,
     "metadata": {},
     "output_type": "execute_result"
    }
   ],
   "source": [
    "df_mark['_INCOMG1'].isnull().sum()"
   ]
  },
  {
   "cell_type": "markdown",
   "id": "94a109df-560a-430c-88b9-c148504dabe9",
   "metadata": {},
   "source": [
    "# EMPLOY1"
   ]
  },
  {
   "cell_type": "code",
   "execution_count": 60,
   "id": "96021f84-2e8a-4f46-a879-c84e3551a714",
   "metadata": {},
   "outputs": [],
   "source": [
    "df_mark['EMPLOY1'] = df_mark['EMPLOY1'].apply(lambda x: 'employed_for_wages' if x == 1 else 'self_employed' if x == 2 else 'out_of_work_more_than_1_year' if x == 3 else 'out_of_work_less_than_1_year' if x == 4 else 'homemaker' if x == 5 else 'student' if x ==6 else 'retired' if x ==7 else 'unable_to_work'if x == 8 else 'refused')"
   ]
  },
  {
   "cell_type": "code",
   "execution_count": 61,
   "id": "88272bb3-8338-4d73-a10e-83e950e7b27f",
   "metadata": {},
   "outputs": [
    {
     "data": {
      "text/plain": [
       "0"
      ]
     },
     "execution_count": 61,
     "metadata": {},
     "output_type": "execute_result"
    }
   ],
   "source": [
    "df_mark['EMPLOY1'].isnull().sum()"
   ]
  },
  {
   "cell_type": "code",
   "execution_count": 62,
   "id": "662b1d78-ffd7-4911-b6ea-43a1c55df5ad",
   "metadata": {},
   "outputs": [
    {
     "data": {
      "text/plain": [
       "employed_for_wages              177942\n",
       "retired                         125874\n",
       "self_employed                    35873\n",
       "unable_to_work                   24139\n",
       "homemaker                        16807\n",
       "out_of_work_more_than_1_year     10766\n",
       "student                          10234\n",
       "out_of_work_less_than_1_year      9226\n",
       "refused                           3650\n",
       "Name: EMPLOY1, dtype: int64"
      ]
     },
     "execution_count": 62,
     "metadata": {},
     "output_type": "execute_result"
    }
   ],
   "source": [
    "df_mark['EMPLOY1'].value_counts()"
   ]
  },
  {
   "cell_type": "markdown",
   "id": "839242e9-7460-4e47-bca3-1d20e45473dc",
   "metadata": {},
   "source": [
    "# DIABETE4"
   ]
  },
  {
   "cell_type": "code",
   "execution_count": 63,
   "id": "f0c6a937-19b3-4d0a-a8c6-5d53c09752ff",
   "metadata": {},
   "outputs": [],
   "source": [
    "df_mark['DIABETE4'] = df_mark['DIABETE4'].apply(lambda x: 'yes'if x == 1 else 'yes_told_during_pregnancy' if x ==2 else 'no' if x ==3 else 'no_pre_diabetes'if x ==4 else 'not_sure'if x ==7 else 'refused' if x == 9 else 'missing')"
   ]
  },
  {
   "cell_type": "code",
   "execution_count": 64,
   "id": "1ba87b7a-f87b-4021-b806-47336f13e048",
   "metadata": {},
   "outputs": [
    {
     "data": {
      "text/plain": [
       "no                           346408\n",
       "yes                           54461\n",
       "no_pre_diabetes                9408\n",
       "yes_told_during_pregnancy      3633\n",
       "not_sure                        502\n",
       "refused                          99\n",
       "Name: DIABETE4, dtype: int64"
      ]
     },
     "execution_count": 64,
     "metadata": {},
     "output_type": "execute_result"
    }
   ],
   "source": [
    "df_mark['DIABETE4'].value_counts(dropna = False)"
   ]
  },
  {
   "cell_type": "markdown",
   "id": "e698d08f-f5b2-4ff9-a32a-45c2f3807c4d",
   "metadata": {},
   "source": [
    "# HTM4"
   ]
  },
  {
   "cell_type": "code",
   "execution_count": 65,
   "id": "7f2e8be4-4bad-42f4-9697-70434d3fb395",
   "metadata": {},
   "outputs": [
    {
     "data": {
      "text/plain": [
       "0         150.0\n",
       "1         168.0\n",
       "2         165.0\n",
       "3         163.0\n",
       "4         180.0\n",
       "          ...  \n",
       "438688    157.0\n",
       "438689    157.0\n",
       "438690    180.0\n",
       "438691    183.0\n",
       "438692    160.0\n",
       "Name: HTM4, Length: 414511, dtype: float64"
      ]
     },
     "execution_count": 65,
     "metadata": {},
     "output_type": "execute_result"
    }
   ],
   "source": [
    "df_mark['HTM4'].fillna(np.nan)"
   ]
  },
  {
   "cell_type": "code",
   "execution_count": 66,
   "id": "35f0beab-8e34-4377-ae02-b18d61a6ab97",
   "metadata": {},
   "outputs": [
    {
     "data": {
      "text/plain": [
       "(241.0, 91.0)"
      ]
     },
     "execution_count": 66,
     "metadata": {},
     "output_type": "execute_result"
    }
   ],
   "source": [
    "df_mark['HTM4'].max(), df_mark['HTM4'].min()"
   ]
  },
  {
   "cell_type": "markdown",
   "id": "e7031d8f-198d-4cfc-ac76-5eee4be69aeb",
   "metadata": {},
   "source": [
    "# WTKG3"
   ]
  },
  {
   "cell_type": "code",
   "execution_count": 67,
   "id": "fa5f42bc-a995-4dfa-a560-2a7fc28125a9",
   "metadata": {},
   "outputs": [
    {
     "data": {
      "text/plain": [
       "0         3266.0\n",
       "1            NaN\n",
       "2         7711.0\n",
       "3         8845.0\n",
       "4         9344.0\n",
       "           ...  \n",
       "438688    6123.0\n",
       "438689       NaN\n",
       "438690    9979.0\n",
       "438691    7938.0\n",
       "438692    8119.0\n",
       "Name: WTKG3, Length: 414511, dtype: float64"
      ]
     },
     "execution_count": 67,
     "metadata": {},
     "output_type": "execute_result"
    }
   ],
   "source": [
    "df_mark['WTKG3'].fillna(np.nan)"
   ]
  },
  {
   "cell_type": "markdown",
   "id": "bb40051d-902f-4f82-a6cb-79eacb932284",
   "metadata": {},
   "source": [
    "# _BMI5"
   ]
  },
  {
   "cell_type": "code",
   "execution_count": 68,
   "id": "0e4a1f4b-044e-4bce-a041-c5185f8d4461",
   "metadata": {},
   "outputs": [
    {
     "data": {
      "text/plain": [
       "0         1454.0\n",
       "1            NaN\n",
       "2         2829.0\n",
       "3         3347.0\n",
       "4         2873.0\n",
       "           ...  \n",
       "438688    2469.0\n",
       "438689       NaN\n",
       "438690    3068.0\n",
       "438691    2373.0\n",
       "438692    3171.0\n",
       "Name: _BMI5, Length: 414511, dtype: float64"
      ]
     },
     "execution_count": 68,
     "metadata": {},
     "output_type": "execute_result"
    }
   ],
   "source": [
    "df_mark['_BMI5'].fillna(np.nan)"
   ]
  },
  {
   "cell_type": "markdown",
   "id": "47abe319-cdf7-4acf-a5b0-e3ee6d1e5c0e",
   "metadata": {},
   "source": [
    "# CHCCOPD3, CHCKDNY2, _DRDXAR3, DECIDE, DIFFWALK, DIFFDRES"
   ]
  },
  {
   "cell_type": "code",
   "execution_count": 69,
   "id": "533f4fa3-f06e-47db-9586-a0bf6a6ab786",
   "metadata": {},
   "outputs": [],
   "source": [
    "def number_converter(value):\n",
    "    if pd.isnull(value):\n",
    "        return 'not sure'\n",
    "    elif value == 1:\n",
    "        return 'yes'\n",
    "    elif value == 2:\n",
    "        return 'no'\n",
    "    elif value == 7:\n",
    "        return 'not sure'\n",
    "    elif value == 9:\n",
    "        return 'refused'\n",
    "    else:\n",
    "        return value"
   ]
  },
  {
   "cell_type": "code",
   "execution_count": 70,
   "id": "b2806163-7e8b-453e-98c8-bda72652fe97",
   "metadata": {},
   "outputs": [],
   "source": [
    "df_mark[columns_to_map] = df_mark[columns_to_map].applymap(number_converter)"
   ]
  },
  {
   "cell_type": "markdown",
   "id": "180f37ad-4572-48f4-87ac-2e60d290dc4b",
   "metadata": {},
   "source": [
    "# _STATE"
   ]
  },
  {
   "cell_type": "code",
   "execution_count": 71,
   "id": "ea7defdf-2171-4da7-8ca1-ab9d4f13d56b",
   "metadata": {},
   "outputs": [],
   "source": [
    "state_mapping = {\n",
    "    1: 'Alabama',\n",
    "     2: 'Alaska',\n",
    "     4: 'Arizona',\n",
    "     5: 'Arkansas',\n",
    "     6: 'California',\n",
    "     8: 'Colorado',\n",
    "     9: 'Connecticut',\n",
    "     10: 'Delaware',\n",
    "     11: 'District of Columbia',\n",
    "     13: 'Georgia',\n",
    "     15: 'Hawaii',\n",
    "     16: 'Idaho',\n",
    "     17: 'Illinois',\n",
    "     18: 'Indiana',\n",
    "     19: 'Iowa',\n",
    "     20: 'Kansas',\n",
    "     21: 'Kentucky',\n",
    "     22: 'Louisiana',\n",
    "     23: 'Maine',\n",
    "     24: 'Maryland',\n",
    "     25: 'Massachusetts',\n",
    "     26: 'Michigan',\n",
    "     27: 'Minnesota',\n",
    "     28: 'Mississippi',\n",
    "     29: 'Missouri',\n",
    "     30: 'Montana',\n",
    "     31: 'Nebraska',\n",
    "     32: 'Nevada',\n",
    "     33: 'New Hampshire',\n",
    "     34: 'New Jersey',\n",
    "     35: 'New Mexico',\n",
    "     36: 'New York',\n",
    "     37: 'North Carolina',\n",
    "     38: 'North Dakota',\n",
    "     39: 'Ohio',\n",
    "     40: 'Oklahoma',\n",
    "     41: 'Oregon',\n",
    "     42: 'Pennsylvania',\n",
    "     44: 'Rhode Island',\n",
    "     45: 'South Carolina',\n",
    "     46: 'South Dakota',\n",
    "     47: 'Tennessee',\n",
    "     48: 'Texas',\n",
    "     49: 'Utah',\n",
    "     50: 'Vermont',\n",
    "     51: 'Virginia',\n",
    "     53: 'Washington',\n",
    "     54: 'West Virginia',\n",
    "     55: 'Wisconsin',\n",
    "     56: 'Wyoming',\n",
    "     66: 'Guam',\n",
    "     72: 'Puerto Rico',\n",
    "     78: 'Virgin Islands'\n",
    "}"
   ]
  },
  {
   "cell_type": "code",
   "execution_count": 72,
   "id": "997d4b6e-5840-4776-8bfa-6b5915534cfc",
   "metadata": {},
   "outputs": [],
   "source": [
    "df_mark['_STATE'].replace(state_mapping, inplace = True)"
   ]
  },
  {
   "cell_type": "code",
   "execution_count": 73,
   "id": "40dfed05-a798-4129-a9b2-b1f36087bc1c",
   "metadata": {},
   "outputs": [
    {
     "data": {
      "text/html": [
       "<div>\n",
       "<style scoped>\n",
       "    .dataframe tbody tr th:only-of-type {\n",
       "        vertical-align: middle;\n",
       "    }\n",
       "\n",
       "    .dataframe tbody tr th {\n",
       "        vertical-align: top;\n",
       "    }\n",
       "\n",
       "    .dataframe thead th {\n",
       "        text-align: right;\n",
       "    }\n",
       "</style>\n",
       "<table border=\"1\" class=\"dataframe\">\n",
       "  <thead>\n",
       "    <tr style=\"text-align: right;\">\n",
       "      <th></th>\n",
       "      <th>CHCCOPD3</th>\n",
       "      <th>CHCKDNY2</th>\n",
       "      <th>DIABETE4</th>\n",
       "      <th>_DRDXAR3</th>\n",
       "      <th>MARITAL</th>\n",
       "      <th>CHILDREN</th>\n",
       "      <th>_INCOMG1</th>\n",
       "      <th>EMPLOY1</th>\n",
       "      <th>HTM4</th>\n",
       "      <th>WTKG3</th>\n",
       "      <th>_BMI5</th>\n",
       "      <th>DECIDE</th>\n",
       "      <th>DIFFWALK</th>\n",
       "      <th>DIFFDRES</th>\n",
       "      <th>_STATE</th>\n",
       "    </tr>\n",
       "  </thead>\n",
       "  <tbody>\n",
       "    <tr>\n",
       "      <th>0</th>\n",
       "      <td>yes</td>\n",
       "      <td>no</td>\n",
       "      <td>no</td>\n",
       "      <td>yes</td>\n",
       "      <td>married</td>\n",
       "      <td>0.0</td>\n",
       "      <td>25k_35k</td>\n",
       "      <td>retired</td>\n",
       "      <td>150.0</td>\n",
       "      <td>3266.0</td>\n",
       "      <td>1454.0</td>\n",
       "      <td>no</td>\n",
       "      <td>no</td>\n",
       "      <td>no</td>\n",
       "      <td>Alabama</td>\n",
       "    </tr>\n",
       "    <tr>\n",
       "      <th>1</th>\n",
       "      <td>no</td>\n",
       "      <td>yes</td>\n",
       "      <td>yes</td>\n",
       "      <td>yes</td>\n",
       "      <td>refused</td>\n",
       "      <td>0.0</td>\n",
       "      <td>unknown</td>\n",
       "      <td>unable_to_work</td>\n",
       "      <td>168.0</td>\n",
       "      <td>NaN</td>\n",
       "      <td>NaN</td>\n",
       "      <td>yes</td>\n",
       "      <td>yes</td>\n",
       "      <td>no</td>\n",
       "      <td>Alabama</td>\n",
       "    </tr>\n",
       "    <tr>\n",
       "      <th>2</th>\n",
       "      <td>no</td>\n",
       "      <td>no</td>\n",
       "      <td>yes</td>\n",
       "      <td>no</td>\n",
       "      <td>widowed</td>\n",
       "      <td>0.0</td>\n",
       "      <td>15k_25k</td>\n",
       "      <td>retired</td>\n",
       "      <td>165.0</td>\n",
       "      <td>7711.0</td>\n",
       "      <td>2829.0</td>\n",
       "      <td>no</td>\n",
       "      <td>no</td>\n",
       "      <td>no</td>\n",
       "      <td>Alabama</td>\n",
       "    </tr>\n",
       "    <tr>\n",
       "      <th>3</th>\n",
       "      <td>no</td>\n",
       "      <td>no</td>\n",
       "      <td>yes</td>\n",
       "      <td>no</td>\n",
       "      <td>married</td>\n",
       "      <td>0.0</td>\n",
       "      <td>50k_100k</td>\n",
       "      <td>retired</td>\n",
       "      <td>163.0</td>\n",
       "      <td>8845.0</td>\n",
       "      <td>3347.0</td>\n",
       "      <td>no</td>\n",
       "      <td>no</td>\n",
       "      <td>no</td>\n",
       "      <td>Alabama</td>\n",
       "    </tr>\n",
       "    <tr>\n",
       "      <th>4</th>\n",
       "      <td>no</td>\n",
       "      <td>no</td>\n",
       "      <td>yes</td>\n",
       "      <td>no</td>\n",
       "      <td>married</td>\n",
       "      <td>0.0</td>\n",
       "      <td>15k_25k</td>\n",
       "      <td>unable_to_work</td>\n",
       "      <td>180.0</td>\n",
       "      <td>9344.0</td>\n",
       "      <td>2873.0</td>\n",
       "      <td>no</td>\n",
       "      <td>yes</td>\n",
       "      <td>no</td>\n",
       "      <td>Alabama</td>\n",
       "    </tr>\n",
       "  </tbody>\n",
       "</table>\n",
       "</div>"
      ],
      "text/plain": [
       "  CHCCOPD3 CHCKDNY2 DIABETE4 _DRDXAR3  MARITAL  CHILDREN  _INCOMG1  \\\n",
       "0      yes       no       no      yes  married       0.0   25k_35k   \n",
       "1       no      yes      yes      yes  refused       0.0   unknown   \n",
       "2       no       no      yes       no  widowed       0.0   15k_25k   \n",
       "3       no       no      yes       no  married       0.0  50k_100k   \n",
       "4       no       no      yes       no  married       0.0   15k_25k   \n",
       "\n",
       "          EMPLOY1   HTM4   WTKG3   _BMI5 DECIDE DIFFWALK DIFFDRES   _STATE  \n",
       "0         retired  150.0  3266.0  1454.0     no       no       no  Alabama  \n",
       "1  unable_to_work  168.0     NaN     NaN    yes      yes       no  Alabama  \n",
       "2         retired  165.0  7711.0  2829.0     no       no       no  Alabama  \n",
       "3         retired  163.0  8845.0  3347.0     no       no       no  Alabama  \n",
       "4  unable_to_work  180.0  9344.0  2873.0     no      yes       no  Alabama  "
      ]
     },
     "execution_count": 73,
     "metadata": {},
     "output_type": "execute_result"
    }
   ],
   "source": [
    "df_mark.head()"
   ]
  },
  {
   "cell_type": "code",
   "execution_count": 74,
   "id": "66b75061-20cd-437a-91f2-6b9de713674b",
   "metadata": {},
   "outputs": [
    {
     "data": {
      "text/plain": [
       "CHCCOPD3        0\n",
       "CHCKDNY2        0\n",
       "DIABETE4        0\n",
       "_DRDXAR3        0\n",
       "MARITAL         0\n",
       "CHILDREN     3684\n",
       "_INCOMG1        0\n",
       "EMPLOY1         0\n",
       "HTM4         9849\n",
       "WTKG3       25486\n",
       "_BMI5       30786\n",
       "DECIDE          0\n",
       "DIFFWALK        0\n",
       "DIFFDRES        0\n",
       "_STATE          0\n",
       "dtype: int64"
      ]
     },
     "execution_count": 74,
     "metadata": {},
     "output_type": "execute_result"
    }
   ],
   "source": [
    "df_mark.isnull().sum()"
   ]
  },
  {
   "cell_type": "markdown",
   "id": "6e6aeb5e-6263-4079-960e-085a8c24151c",
   "metadata": {},
   "source": [
    "## 2.3 Group Three Columns"
   ]
  },
  {
   "cell_type": "code",
   "execution_count": 75,
   "id": "19ffa7ee-7f1d-4cb8-b241-8f59591614dd",
   "metadata": {},
   "outputs": [],
   "source": [
    "ran_columns = ['_MICHD', '_SEX', 'GENHLTH', 'PHYSHLTH', \n",
    "               'MENTHLTH', 'ADDEPEV3', 'CHECKUP1', \n",
    "               '_TOTINDA', '_RFHYPE6', 'CHOLMED3', '_RFCHOL3', \n",
    "               'CVDSTRK3', '_ASTHMS1', 'CHCSCNCR', 'CHCOCNCR']"
   ]
  },
  {
   "cell_type": "code",
   "execution_count": 76,
   "id": "2651be9c-e1d8-4815-a85c-7213c58c4cc0",
   "metadata": {},
   "outputs": [],
   "source": [
    "df_ran = df_cleaning[ran_columns].copy()"
   ]
  },
  {
   "cell_type": "code",
   "execution_count": 77,
   "id": "a6cea8b3-9b77-4a75-9152-85ce754042ac",
   "metadata": {},
   "outputs": [
    {
     "data": {
      "text/plain": [
       "_MICHD          0\n",
       "_SEX            0\n",
       "GENHLTH         3\n",
       "PHYSHLTH        2\n",
       "MENTHLTH        0\n",
       "ADDEPEV3        0\n",
       "CHECKUP1        0\n",
       "_TOTINDA        0\n",
       "_RFHYPE6        0\n",
       "CHOLMED3    56662\n",
       "_RFCHOL3    56248\n",
       "CVDSTRK3        0\n",
       "_ASTHMS1        0\n",
       "CHCSCNCR        0\n",
       "CHCOCNCR        0\n",
       "dtype: int64"
      ]
     },
     "execution_count": 77,
     "metadata": {},
     "output_type": "execute_result"
    }
   ],
   "source": [
    "df_ran.isnull().sum()"
   ]
  },
  {
   "cell_type": "code",
   "execution_count": 78,
   "id": "4ffe6a2f-0a6c-4991-8750-7cdf903416d3",
   "metadata": {},
   "outputs": [],
   "source": [
    "# The following are the mapping to change these columns into categorical\n",
    "_MICHD_mapping = {\n",
    "    1: 'Yes',\n",
    "    2: 'No'\n",
    "}\n",
    "\n",
    "_SEX_mapping ={\n",
    "    1: 'Male',\n",
    "    2: 'Female'\n",
    "}\n",
    "\n",
    "GENHLTH_mapping = {\n",
    "    1: 'Excellent',\n",
    "    2: 'Very good',\n",
    "    3: 'Good',\n",
    "    4: 'Fair',\n",
    "    5: 'Poor',\n",
    "    7: \"Don't know/Not sure\",\n",
    "    9: 'Refused'\n",
    "}\n",
    "\n",
    "ADDEPEV3_mapping = {\n",
    "    1: \"Yes\",\n",
    "    2: \"No\",\n",
    "    7: \"Don't know/Not sure\",\n",
    "    9: \"Refused\"\n",
    "}\n",
    "\n",
    "CHECKUP1_mapping = {\n",
    "    1: \"Within past year (anytime < 12 months ago)\",\n",
    "    2: \"Within past 2 years (1 year but < 2 years ago)\",\n",
    "    3: \"Within past 5 years (2 years but < 5 years ago)\",\n",
    "    4: \"5 or more years ago\",\n",
    "    7: \"Don’t know/Not sure\",\n",
    "    8: \"Never\",\n",
    "    9: \"Refused\"\n",
    "}\n",
    "\n",
    "_TOTINDA_mapping = {\n",
    "    1: \"Had physical activity or exercise\",\n",
    "    2: \"No physical activity or exercise in last 30 days\",\n",
    "    9: \"Don’t know/Refused/Missing\"\n",
    "}\n",
    "\n",
    "_RFHYPE6_mapping = {\n",
    "    1: \"No\",\n",
    "    2: \"Yes\",\n",
    "    9: \"Don’t know/Not Sure/Refused/Missing\"\n",
    "}\n",
    "\n",
    "CHOLMED3_mapping = {\n",
    "    1: \"Yes\",\n",
    "    2: \"No\",\n",
    "    7: \"Don’t know/Not Sure\",\n",
    "    9: \"Refused\"\n",
    "}\n",
    "\n",
    "_RFCHOL3_mapping = {\n",
    "    1: \"No\",\n",
    "    2: \"Yes\",\n",
    "    9: \"Don’t know/Not Sure/Refused/Missing\"\n",
    "}\n",
    "\n",
    "CVDSTRK3_mapping = {\n",
    "    1: \"Yes\",\n",
    "    2: \"No\",\n",
    "    7: \"Don’t know/Not Sure\",\n",
    "    9: \"Refused\"\n",
    "}\n",
    "\n",
    "_ASTHMS1_mapping = {\n",
    "    1: \"Current\",\n",
    "    2: \"Former\",\n",
    "    3: \"Never\",\n",
    "    9: \"Don’t know/Not Sure Or Refused/Missing\"\n",
    "}\n",
    "\n",
    "CHCSCNCR_mapping = {\n",
    "    1: \"Yes\",\n",
    "    2: \"No\",\n",
    "    7: \"Don’t know/Not Sure\",\n",
    "    9: \"Refused\"\n",
    "}\n",
    "\n",
    "CHCOCNCR_mapping = {\n",
    "    1: \"Yes\",\n",
    "    2: \"No\",\n",
    "    7: \"Don’t know/Not Sure\",\n",
    "    9: \"Refused\"\n",
    "}"
   ]
  },
  {
   "cell_type": "code",
   "execution_count": 79,
   "id": "12107826-06ee-406d-ad83-0f84506ac6ed",
   "metadata": {},
   "outputs": [],
   "source": [
    "column_mapping = {\n",
    "    '_MICHD': _MICHD_mapping,\n",
    "    '_SEX': _SEX_mapping,\n",
    "    'GENHLTH': GENHLTH_mapping,\n",
    "    'ADDEPEV3': ADDEPEV3_mapping,\n",
    "    'CHECKUP1': CHECKUP1_mapping,\n",
    "    '_TOTINDA': _TOTINDA_mapping,\n",
    "    '_RFHYPE6': _RFHYPE6_mapping,\n",
    "    'CHOLMED3': CHOLMED3_mapping,\n",
    "    '_RFCHOL3': _RFCHOL3_mapping,\n",
    "    'CVDSTRK3': CVDSTRK3_mapping,\n",
    "    '_ASTHMS1': _ASTHMS1_mapping,\n",
    "    'CHCSCNCR': CHCSCNCR_mapping,\n",
    "    'CHCOCNCR': CHCOCNCR_mapping\n",
    "}"
   ]
  },
  {
   "cell_type": "code",
   "execution_count": 80,
   "id": "322da55c-b7a5-4a5a-8c22-c74cf9e6e355",
   "metadata": {},
   "outputs": [],
   "source": [
    "for c in df_ran.columns:\n",
    "    if c in column_mapping:\n",
    "        df_ran[c].replace(column_mapping[c], inplace = True)"
   ]
  },
  {
   "cell_type": "code",
   "execution_count": 81,
   "id": "9ba927a6-4be2-422d-aa08-1de9de817cda",
   "metadata": {},
   "outputs": [
    {
     "data": {
      "text/plain": [
       "_MICHD          0\n",
       "_SEX            0\n",
       "GENHLTH         3\n",
       "PHYSHLTH        2\n",
       "MENTHLTH        0\n",
       "ADDEPEV3        0\n",
       "CHECKUP1        0\n",
       "_TOTINDA        0\n",
       "_RFHYPE6        0\n",
       "CHOLMED3    56662\n",
       "_RFCHOL3    56248\n",
       "CVDSTRK3        0\n",
       "_ASTHMS1        0\n",
       "CHCSCNCR        0\n",
       "CHCOCNCR        0\n",
       "dtype: int64"
      ]
     },
     "execution_count": 81,
     "metadata": {},
     "output_type": "execute_result"
    }
   ],
   "source": [
    "df_ran.isnull().sum()"
   ]
  },
  {
   "cell_type": "code",
   "execution_count": 82,
   "id": "66de9a99-9614-4758-8af6-6dd7a8ad1182",
   "metadata": {},
   "outputs": [],
   "source": [
    "# change missing value to \"Not asked or Missing\" category for 'CHOLMED3', 'GENHLTH' and '_RFCHOL3'\n",
    "for c in ['CHOLMED3', 'GENHLTH', '_RFCHOL3']:\n",
    "    df_ran[c].fillna(\"Not asked or Missing\", inplace=True)"
   ]
  },
  {
   "cell_type": "code",
   "execution_count": 83,
   "id": "8e604a51-866f-49d5-98a0-8a64988a1f79",
   "metadata": {},
   "outputs": [
    {
     "data": {
      "text/plain": [
       "_MICHD      0\n",
       "_SEX        0\n",
       "GENHLTH     0\n",
       "PHYSHLTH    2\n",
       "MENTHLTH    0\n",
       "ADDEPEV3    0\n",
       "CHECKUP1    0\n",
       "_TOTINDA    0\n",
       "_RFHYPE6    0\n",
       "CHOLMED3    0\n",
       "_RFCHOL3    0\n",
       "CVDSTRK3    0\n",
       "_ASTHMS1    0\n",
       "CHCSCNCR    0\n",
       "CHCOCNCR    0\n",
       "dtype: int64"
      ]
     },
     "execution_count": 83,
     "metadata": {},
     "output_type": "execute_result"
    }
   ],
   "source": [
    "df_ran.isnull().sum()"
   ]
  },
  {
   "cell_type": "code",
   "execution_count": 84,
   "id": "415c0eb5-8ec8-4e8f-b267-fee167d37bd9",
   "metadata": {},
   "outputs": [],
   "source": [
    "# Edit 88, 77 and 99 to specific values or np.nan according to documents\n",
    "for c in ['PHYSHLTH', 'MENTHLTH']:\n",
    "    df_ran[c].replace(88, 0, inplace = True)\n",
    "    df_ran[c].replace(77, np.nan, inplace = True)\n",
    "    df_ran[c].replace(99, np.nan, inplace = True)"
   ]
  },
  {
   "cell_type": "code",
   "execution_count": 85,
   "id": "38d91a6c-53ad-42aa-a8b1-05f3cb866d2c",
   "metadata": {},
   "outputs": [
    {
     "data": {
      "text/plain": [
       "_MICHD         0\n",
       "_SEX           0\n",
       "GENHLTH        0\n",
       "PHYSHLTH    8491\n",
       "MENTHLTH    7084\n",
       "ADDEPEV3       0\n",
       "CHECKUP1       0\n",
       "_TOTINDA       0\n",
       "_RFHYPE6       0\n",
       "CHOLMED3       0\n",
       "_RFCHOL3       0\n",
       "CVDSTRK3       0\n",
       "_ASTHMS1       0\n",
       "CHCSCNCR       0\n",
       "CHCOCNCR       0\n",
       "dtype: int64"
      ]
     },
     "execution_count": 85,
     "metadata": {},
     "output_type": "execute_result"
    }
   ],
   "source": [
    "df_ran.isnull().sum()"
   ]
  },
  {
   "cell_type": "code",
   "execution_count": null,
   "id": "560711a3-b83c-4be5-af4c-2bf6df6ecad8",
   "metadata": {},
   "outputs": [],
   "source": []
  },
  {
   "cell_type": "markdown",
   "id": "735ea4e4-3f47-42e2-8bbb-425ecb36864b",
   "metadata": {},
   "source": [
    "# Combine cleaning dataset together"
   ]
  },
  {
   "cell_type": "code",
   "execution_count": 86,
   "id": "35692536-06e2-4049-9565-43732d07278a",
   "metadata": {},
   "outputs": [],
   "source": [
    "final_cleaning_data = pd.concat([df_ran, df_mark, lucas_df], axis=1)"
   ]
  },
  {
   "cell_type": "code",
   "execution_count": 87,
   "id": "5874b9c5-4b0e-479d-9278-c4e7ac8452a6",
   "metadata": {},
   "outputs": [],
   "source": [
    "final_cleaning_data.columns = final_cleaning_data.columns.str.lower()"
   ]
  },
  {
   "cell_type": "code",
   "execution_count": 88,
   "id": "c5dfdfad-7ba6-4212-b391-22e7231cfef1",
   "metadata": {},
   "outputs": [
    {
     "data": {
      "text/plain": [
       "(414511, 44)"
      ]
     },
     "execution_count": 88,
     "metadata": {},
     "output_type": "execute_result"
    }
   ],
   "source": [
    "final_cleaning_data.shape"
   ]
  },
  {
   "cell_type": "code",
   "execution_count": 89,
   "id": "b8f8b7cc-bd4d-4fb4-a6f7-56199794734f",
   "metadata": {},
   "outputs": [
    {
     "data": {
      "text/html": [
       "<div>\n",
       "<style scoped>\n",
       "    .dataframe tbody tr th:only-of-type {\n",
       "        vertical-align: middle;\n",
       "    }\n",
       "\n",
       "    .dataframe tbody tr th {\n",
       "        vertical-align: top;\n",
       "    }\n",
       "\n",
       "    .dataframe thead th {\n",
       "        text-align: right;\n",
       "    }\n",
       "</style>\n",
       "<table border=\"1\" class=\"dataframe\">\n",
       "  <thead>\n",
       "    <tr style=\"text-align: right;\">\n",
       "      <th></th>\n",
       "      <th>_michd</th>\n",
       "      <th>_sex</th>\n",
       "      <th>genhlth</th>\n",
       "      <th>physhlth</th>\n",
       "      <th>menthlth</th>\n",
       "      <th>addepev3</th>\n",
       "      <th>checkup1</th>\n",
       "      <th>_totinda</th>\n",
       "      <th>_rfhype6</th>\n",
       "      <th>cholmed3</th>\n",
       "      <th>...</th>\n",
       "      <th>_metstat</th>\n",
       "      <th>_imprace</th>\n",
       "      <th>_age80</th>\n",
       "      <th>_educag</th>\n",
       "      <th>ftjuda2_</th>\n",
       "      <th>frutda2_</th>\n",
       "      <th>grenda1_</th>\n",
       "      <th>frnchda_</th>\n",
       "      <th>potada1_</th>\n",
       "      <th>vegeda2_</th>\n",
       "    </tr>\n",
       "  </thead>\n",
       "  <tbody>\n",
       "    <tr>\n",
       "      <th>0</th>\n",
       "      <td>No</td>\n",
       "      <td>Female</td>\n",
       "      <td>Poor</td>\n",
       "      <td>20.0</td>\n",
       "      <td>10.0</td>\n",
       "      <td>No</td>\n",
       "      <td>Within past 2 years (1 year but &lt; 2 years ago)</td>\n",
       "      <td>No physical activity or exercise in last 30 days</td>\n",
       "      <td>No</td>\n",
       "      <td>Yes</td>\n",
       "      <td>...</td>\n",
       "      <td>yes</td>\n",
       "      <td>white</td>\n",
       "      <td>70.0</td>\n",
       "      <td>highschool</td>\n",
       "      <td>5.397605e-79</td>\n",
       "      <td>100.0</td>\n",
       "      <td>5.700000e+01</td>\n",
       "      <td>4.300000e+01</td>\n",
       "      <td>14.0</td>\n",
       "      <td>100.0</td>\n",
       "    </tr>\n",
       "    <tr>\n",
       "      <th>1</th>\n",
       "      <td>Yes</td>\n",
       "      <td>Female</td>\n",
       "      <td>Good</td>\n",
       "      <td>0.0</td>\n",
       "      <td>0.0</td>\n",
       "      <td>No</td>\n",
       "      <td>Within past year (anytime &lt; 12 months ago)</td>\n",
       "      <td>Had physical activity or exercise</td>\n",
       "      <td>Yes</td>\n",
       "      <td>Yes</td>\n",
       "      <td>...</td>\n",
       "      <td>yes</td>\n",
       "      <td>black</td>\n",
       "      <td>67.0</td>\n",
       "      <td>graduated college</td>\n",
       "      <td>5.397605e-79</td>\n",
       "      <td>100.0</td>\n",
       "      <td>1.400000e+01</td>\n",
       "      <td>5.397605e-79</td>\n",
       "      <td>14.0</td>\n",
       "      <td>100.0</td>\n",
       "    </tr>\n",
       "    <tr>\n",
       "      <th>2</th>\n",
       "      <td>Yes</td>\n",
       "      <td>Female</td>\n",
       "      <td>Very good</td>\n",
       "      <td>0.0</td>\n",
       "      <td>0.0</td>\n",
       "      <td>No</td>\n",
       "      <td>Within past year (anytime &lt; 12 months ago)</td>\n",
       "      <td>No physical activity or exercise in last 30 days</td>\n",
       "      <td>Yes</td>\n",
       "      <td>No</td>\n",
       "      <td>...</td>\n",
       "      <td>yes</td>\n",
       "      <td>black</td>\n",
       "      <td>72.0</td>\n",
       "      <td>highschool</td>\n",
       "      <td>5.397605e-79</td>\n",
       "      <td>100.0</td>\n",
       "      <td>5.397605e-79</td>\n",
       "      <td>1.400000e+01</td>\n",
       "      <td>14.0</td>\n",
       "      <td>43.0</td>\n",
       "    </tr>\n",
       "    <tr>\n",
       "      <th>3</th>\n",
       "      <td>No</td>\n",
       "      <td>Female</td>\n",
       "      <td>Very good</td>\n",
       "      <td>0.0</td>\n",
       "      <td>10.0</td>\n",
       "      <td>No</td>\n",
       "      <td>Within past year (anytime &lt; 12 months ago)</td>\n",
       "      <td>Had physical activity or exercise</td>\n",
       "      <td>Yes</td>\n",
       "      <td>No</td>\n",
       "      <td>...</td>\n",
       "      <td>yes</td>\n",
       "      <td>white</td>\n",
       "      <td>62.0</td>\n",
       "      <td>highschool</td>\n",
       "      <td>7.100000e+01</td>\n",
       "      <td>43.0</td>\n",
       "      <td>1.000000e+01</td>\n",
       "      <td>5.700000e+01</td>\n",
       "      <td>27.0</td>\n",
       "      <td>71.0</td>\n",
       "    </tr>\n",
       "    <tr>\n",
       "      <th>4</th>\n",
       "      <td>Yes</td>\n",
       "      <td>Male</td>\n",
       "      <td>Poor</td>\n",
       "      <td>30.0</td>\n",
       "      <td>0.0</td>\n",
       "      <td>No</td>\n",
       "      <td>Within past year (anytime &lt; 12 months ago)</td>\n",
       "      <td>Had physical activity or exercise</td>\n",
       "      <td>No</td>\n",
       "      <td>Yes</td>\n",
       "      <td>...</td>\n",
       "      <td>no</td>\n",
       "      <td>other race</td>\n",
       "      <td>76.0</td>\n",
       "      <td>no highschool</td>\n",
       "      <td>5.397605e-79</td>\n",
       "      <td>100.0</td>\n",
       "      <td>1.000000e+02</td>\n",
       "      <td>2.900000e+01</td>\n",
       "      <td>29.0</td>\n",
       "      <td>100.0</td>\n",
       "    </tr>\n",
       "  </tbody>\n",
       "</table>\n",
       "<p>5 rows × 44 columns</p>\n",
       "</div>"
      ],
      "text/plain": [
       "  _michd    _sex    genhlth  physhlth  menthlth addepev3  \\\n",
       "0     No  Female       Poor      20.0      10.0       No   \n",
       "1    Yes  Female       Good       0.0       0.0       No   \n",
       "2    Yes  Female  Very good       0.0       0.0       No   \n",
       "3     No  Female  Very good       0.0      10.0       No   \n",
       "4    Yes    Male       Poor      30.0       0.0       No   \n",
       "\n",
       "                                         checkup1  \\\n",
       "0  Within past 2 years (1 year but < 2 years ago)   \n",
       "1      Within past year (anytime < 12 months ago)   \n",
       "2      Within past year (anytime < 12 months ago)   \n",
       "3      Within past year (anytime < 12 months ago)   \n",
       "4      Within past year (anytime < 12 months ago)   \n",
       "\n",
       "                                           _totinda _rfhype6 cholmed3  ...  \\\n",
       "0  No physical activity or exercise in last 30 days       No      Yes  ...   \n",
       "1                 Had physical activity or exercise      Yes      Yes  ...   \n",
       "2  No physical activity or exercise in last 30 days      Yes       No  ...   \n",
       "3                 Had physical activity or exercise      Yes       No  ...   \n",
       "4                 Had physical activity or exercise       No      Yes  ...   \n",
       "\n",
       "  _metstat    _imprace _age80            _educag      ftjuda2_ frutda2_  \\\n",
       "0      yes       white   70.0         highschool  5.397605e-79    100.0   \n",
       "1      yes       black   67.0  graduated college  5.397605e-79    100.0   \n",
       "2      yes       black   72.0         highschool  5.397605e-79    100.0   \n",
       "3      yes       white   62.0         highschool  7.100000e+01     43.0   \n",
       "4       no  other race   76.0      no highschool  5.397605e-79    100.0   \n",
       "\n",
       "       grenda1_      frnchda_ potada1_ vegeda2_  \n",
       "0  5.700000e+01  4.300000e+01     14.0    100.0  \n",
       "1  1.400000e+01  5.397605e-79     14.0    100.0  \n",
       "2  5.397605e-79  1.400000e+01     14.0     43.0  \n",
       "3  1.000000e+01  5.700000e+01     27.0     71.0  \n",
       "4  1.000000e+02  2.900000e+01     29.0    100.0  \n",
       "\n",
       "[5 rows x 44 columns]"
      ]
     },
     "execution_count": 89,
     "metadata": {},
     "output_type": "execute_result"
    }
   ],
   "source": [
    "final_cleaning_data.head()"
   ]
  },
  {
   "cell_type": "markdown",
   "id": "2d2bff6b-035a-4bf9-b643-d8ef99a3a133",
   "metadata": {},
   "source": [
    "# Export Cleaning Dataset"
   ]
  },
  {
   "cell_type": "code",
   "execution_count": 91,
   "id": "9132a370-7338-4112-b75b-9bed5b1f7e6f",
   "metadata": {},
   "outputs": [],
   "source": [
    "final_cleaning_data.to_csv('../data/cleaning_data_phase2.csv.zip', index = False)"
   ]
  },
  {
   "cell_type": "code",
   "execution_count": null,
   "id": "b9eaa7ff-5166-4f7e-9d50-1ba0053cc66e",
   "metadata": {},
   "outputs": [],
   "source": []
  }
 ],
 "metadata": {
  "kernelspec": {
   "display_name": "Python 3 (ipykernel)",
   "language": "python",
   "name": "python3"
  },
  "language_info": {
   "codemirror_mode": {
    "name": "ipython",
    "version": 3
   },
   "file_extension": ".py",
   "mimetype": "text/x-python",
   "name": "python",
   "nbconvert_exporter": "python",
   "pygments_lexer": "ipython3",
   "version": "3.9.13"
  }
 },
 "nbformat": 4,
 "nbformat_minor": 5
}
